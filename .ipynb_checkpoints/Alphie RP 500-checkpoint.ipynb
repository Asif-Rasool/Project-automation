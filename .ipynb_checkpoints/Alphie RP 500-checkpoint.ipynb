{
 "cells": [
  {
   "cell_type": "code",
   "execution_count": 1,
   "id": "d00bcd90-ab51-46fa-a7dd-2170e0d73d15",
   "metadata": {},
   "outputs": [
    {
     "name": "stdout",
     "output_type": "stream",
     "text": [
      "R_HOME: C:\\Program Files\\R\\R-4.3.2\n"
     ]
    },
    {
     "name": "stderr",
     "output_type": "stream",
     "text": [
      "C:\\Users\\asifr\\AppData\\Local\\anaconda3\\Lib\\site-packages\\rpy2\\robjects\\packages.py:367: UserWarning: The symbol 'quartz' is not in this R namespace/package.\n",
      "  warnings.warn(\n",
      "C:\\Users\\asifr\\AppData\\Local\\anaconda3\\Lib\\site-packages\\rpy2\\robjects\\lib\\ggplot2.py:70: UserWarning: This was designed againt ggplot2 versions starting with 3.3. but you have 3.4.4\n",
      "  warnings.warn(\n"
     ]
    }
   ],
   "source": [
    "######################################\n",
    "######### Python libraries ###########\n",
    "\n",
    "# !pip install selenium\n",
    "# !pip install webdriver_manager\n",
    "# !pip install pypiwin32\n",
    "# !pip install --upgrade holidays\n",
    "# !pip install tabula-py\n",
    "# !pip install jupyter_ai\n",
    "# !pip install openpyxl\n",
    "\n",
    "import tabula\n",
    "import getpass\n",
    "import time\n",
    "import os \n",
    "import datetime\n",
    "import win32com.client as win32\n",
    "import holidays\n",
    "import glob\n",
    "import datetime as dt\n",
    "import json\n",
    "import shutil\n",
    "import pandas as pd\n",
    "\n",
    "from datetime import datetime, timedelta\n",
    "from win32com.client import Dispatch\n",
    "from selenium import webdriver\n",
    "from selenium.webdriver.common.keys import Keys\n",
    "from selenium.webdriver.support.ui import WebDriverWait\n",
    "from selenium.webdriver.support import expected_conditions as EC\n",
    "from selenium.common.exceptions import TimeoutException\n",
    "from selenium.webdriver.common.by import By\n",
    "from selenium.webdriver.chrome.service import Service as ChromeService\n",
    "from webdriver_manager.chrome import ChromeDriverManager\n",
    "from win32com.shell import shell, shellcon\n",
    "from win32com.client import Dispatch\n",
    "from IPython import get_ipython\n",
    "from IPython.display import Image\n",
    "\n",
    "######################################\n",
    "\n",
    "options = webdriver.ChromeOptions()\n",
    "options.add_argument(\"--headless\")\n",
    "options.add_argument(\"--incognito\")\n",
    "\n",
    "appState = {\n",
    "     \"recentDestinations\": [\n",
    "         {\n",
    "             \"id\": \"Save as PDF\",\n",
    "             \"origin\": \"local\",\n",
    "             \"account\": \"\"\n",
    "         }\n",
    "     ],\n",
    "     \"selectedDestinationId\": \"Save as PDF\",\n",
    "     \"version\": 2\n",
    "}\n",
    "\n",
    "profile = {\n",
    "    'printing.print_preview_sticky_settings.appState': json.dumps(appState),\n",
    "    'savefile.default_directory': '//trdecomsrv/H/Alphie/Temp',\n",
    "    \"download.default_directory\": r'\\\\trdecomsrv\\H\\Alphie\\Temp'\n",
    "}\n",
    "\n",
    "chrome_options = webdriver.ChromeOptions() \n",
    "chrome_options.add_experimental_option('prefs', profile)\n",
    "chrome_options.add_argument('--kiosk-printing')\n",
    "\n",
    "browser = webdriver.Chrome(options=chrome_options)\n",
    "browser.maximize_window()\n",
    "browser.switch_to.window(browser.window_handles[0])\n",
    "browser.delete_all_cookies()\n",
    "\n",
    "######################################\n",
    "########### R libraries ##############\n",
    "\n",
    "# !pip install rpy2 --quiet\n",
    "\n",
    "os.environ['R_HOME'] = r'C:\\Program Files\\R\\R-4.3.2'\n",
    "r_home = os.environ.get(\"R_HOME\")\n",
    "print('R_HOME:', r_home)\n",
    "\n",
    "import rpy2\n",
    "import rpy2.robjects as ro\n",
    "import rpy2.rinterface as ri\n",
    "from rpy2.robjects import r\n",
    "\n",
    "from rpy2.robjects.packages import importr\n",
    "from rpy2.robjects import pandas2ri\n",
    "from rpy2.robjects.vectors import IntVector, FloatVector\n",
    "import rpy2.ipython.html\n",
    "import rpy2.robjects.lib.ggplot2 as gp\n",
    "from rpy2.ipython.ggplot import image_png\n",
    "import rpy2.rinterface as rinterface\n",
    "\n",
    "pandas2ri.activate()\n",
    "%load_ext rpy2.ipython\n",
    "\n",
    "######################################\n"
   ]
  },
  {
   "cell_type": "markdown",
   "id": "8b9f12d0-50e9-417e-a604-cb3117cba1c5",
   "metadata": {},
   "source": [
    "## Loading R packages"
   ]
  },
  {
   "cell_type": "code",
   "execution_count": 2,
   "id": "960ea7d7-09b3-4306-a9be-ac3941c9262c",
   "metadata": {
    "tags": []
   },
   "outputs": [
    {
     "data": {
      "text/plain": [
       "\n",
       "Attaching package: 'lubridate'\n",
       "\n",
       "The following objects are masked from 'package:base':\n",
       "\n",
       "    date, intersect, setdiff, union\n",
       "\n",
       "\n",
       "Attaching package: 'dplyr'\n",
       "\n",
       "The following objects are masked from 'package:stats':\n",
       "\n",
       "    filter, lag\n",
       "\n",
       "The following objects are masked from 'package:base':\n",
       "\n",
       "    intersect, setdiff, setequal, union\n",
       "\n",
       "\n",
       "Attaching package: 'plotly'\n",
       "\n",
       "The following object is masked from 'package:ggplot2':\n",
       "\n",
       "    last_plot\n",
       "\n",
       "The following object is masked from 'package:stats':\n",
       "\n",
       "    filter\n",
       "\n",
       "The following object is masked from 'package:graphics':\n",
       "\n",
       "    layout\n",
       "\n",
       "Registering Windows fonts with R\n"
      ]
     },
     "metadata": {},
     "output_type": "display_data"
    }
   ],
   "source": [
    "%%R\n",
    "\n",
    "library(readxl)\n",
    "library(writexl)\n",
    "library(openxlsx)\n",
    "library(readxl)\n",
    "library(readODS)\n",
    "library(lubridate)\n",
    "library(ggplot2)\n",
    "library(dplyr)\n",
    "library(plotly)\n",
    "library(hrbrthemes)"
   ]
  },
  {
   "cell_type": "markdown",
   "id": "0bb962ea-623c-432c-9bcb-88762a5ea067",
   "metadata": {},
   "source": [
    "# Creating output folder"
   ]
  },
  {
   "cell_type": "code",
   "execution_count": 3,
   "id": "6f4d8fb8-5d29-40c7-9661-11eeda507d50",
   "metadata": {},
   "outputs": [],
   "source": [
    "today = datetime.now()\n",
    "\n",
    "os.mkdir(\"//Trdecomsrv/H/Alphie/\" + today.strftime('%Y-%b-%d at %Hh-%Mm-%Ss') +' ' + 'by' + ' ' + os.getlogin())\n",
    "folder_path = \"//Trdecomsrv/H/Alphie/\"\n",
    "files_path = os.path.join(folder_path, '*')\n",
    "files = sorted(glob.iglob(files_path), key=os.path.getctime, reverse=True) \n",
    "destination_folder = (files[0])"
   ]
  },
  {
   "cell_type": "markdown",
   "id": "35d704b3-ae87-47a6-ae2b-2efb416a087b",
   "metadata": {},
   "source": [
    "# Providing login credentials"
   ]
  },
  {
   "cell_type": "code",
   "execution_count": 4,
   "id": "cffbd4fc-4224-4290-b641-0d77187e22ca",
   "metadata": {},
   "outputs": [
    {
     "name": "stdin",
     "output_type": "stream",
     "text": [
      "Please type your GenTax login id:\n",
      " ········\n"
     ]
    }
   ],
   "source": [
    "my_login = getpass.getpass(\"Please type your GenTax login id:\\n\")"
   ]
  },
  {
   "cell_type": "code",
   "execution_count": 5,
   "id": "8d1802ea-f02b-4468-99ea-50293568386d",
   "metadata": {},
   "outputs": [
    {
     "name": "stdin",
     "output_type": "stream",
     "text": [
      "Please type your GenTax password:\n",
      " ········\n"
     ]
    }
   ],
   "source": [
    "my_password = getpass.getpass(\"Please type your GenTax password:\\n\")"
   ]
  },
  {
   "cell_type": "code",
   "execution_count": 6,
   "id": "aca99f8c-258b-47f0-a7ed-ad38f536e7fd",
   "metadata": {},
   "outputs": [],
   "source": [
    "url = 'https://gentaxprod.trd.state.nm.us/GenTax/dPWmgh2N/#1'\n",
    "browser.get(url)\n",
    "browser.maximize_window()"
   ]
  },
  {
   "cell_type": "code",
   "execution_count": 7,
   "id": "e1c8b2f9-0e37-4bdb-9dbc-a2143f6726ac",
   "metadata": {},
   "outputs": [],
   "source": [
    "time.sleep(2)\n",
    "username_el = browser.find_element(\"name\", \"Dc-c\")\n",
    "username_el.send_keys(my_login)"
   ]
  },
  {
   "cell_type": "code",
   "execution_count": 8,
   "id": "26f01f09-d2ed-4bb1-b1d5-a34542e42fb2",
   "metadata": {},
   "outputs": [],
   "source": [
    "password_el = browser.find_element(\"name\", \"Dc-d\")\n",
    "password_el.send_keys(my_password)"
   ]
  },
  {
   "cell_type": "markdown",
   "id": "b7b437ab-2720-486b-b0f1-005e28bb748a",
   "metadata": {},
   "source": [
    "# Clicking the logon button"
   ]
  },
  {
   "cell_type": "code",
   "execution_count": 9,
   "id": "58076e92-26fa-49a7-81d0-781244c6f7e4",
   "metadata": {},
   "outputs": [],
   "source": [
    "time.sleep(1.5)\n",
    "submit_btn_el = browser.find_element(\"css selector\", \"[class='ButtonCaptionText']\")"
   ]
  },
  {
   "cell_type": "code",
   "execution_count": 10,
   "id": "d1d2248d-d061-4add-935f-193d1ee144ba",
   "metadata": {},
   "outputs": [],
   "source": [
    "submit_btn_el.click()"
   ]
  },
  {
   "cell_type": "markdown",
   "id": "c3d8cb66-6bbc-4771-8c9d-0477caa7b8d9",
   "metadata": {},
   "source": [
    "# Clicking the Report button"
   ]
  },
  {
   "cell_type": "code",
   "execution_count": 11,
   "id": "5a52ea5e-7c93-4fad-bd30-100d84f9b4d1",
   "metadata": {},
   "outputs": [],
   "source": [
    "time.sleep(1.5)\n",
    "Report_btn_el = browser.find_element(\"id\", \"l_Dd-1-16\")\n",
    "Report_btn_el.click()"
   ]
  },
  {
   "cell_type": "markdown",
   "id": "2dcdb275-89df-4ce8-9bf4-e857a070608e",
   "metadata": {},
   "source": [
    "# Clicking the Generate Report button"
   ]
  },
  {
   "cell_type": "code",
   "execution_count": 12,
   "id": "bde1ee63-6520-49bf-ba30-2840fef4c8fc",
   "metadata": {},
   "outputs": [],
   "source": [
    "time.sleep(1.5)\n",
    "Generate_Report_btn_el = browser.find_element(\"id\", \"l_Dc-1-4\")\n",
    "Generate_Report_btn_el.click()"
   ]
  },
  {
   "cell_type": "markdown",
   "id": "69a48a26-0a8a-4813-a787-014839d7ae2d",
   "metadata": {},
   "source": [
    "# Searching RP-500 - Distribution - GL"
   ]
  },
  {
   "cell_type": "code",
   "execution_count": 13,
   "id": "abe2287a-7be9-4b77-9146-26328e9b3612",
   "metadata": {},
   "outputs": [],
   "source": [
    "browser.switch_to.window(browser.window_handles[0])\n",
    "browser.implicitly_wait(1.5)\n",
    "input_field_el = browser.find_element(\"id\", \"Dc-h\")\n",
    "input_field_el.send_keys(\"RP-500 - Distribution - GL\")\n",
    "input_field_el.send_keys(Keys.ENTER) "
   ]
  },
  {
   "cell_type": "markdown",
   "id": "08199ec6-ca04-4f2d-be9d-328984a33a47",
   "metadata": {},
   "source": [
    "## Clicking thr Generate Report button"
   ]
  },
  {
   "cell_type": "code",
   "execution_count": 14,
   "id": "b77aa2e7-20cb-49e0-b10c-31bdda7c77ff",
   "metadata": {},
   "outputs": [],
   "source": [
    "time.sleep(1.5)\n",
    "Generate_btn_el = browser.find_element(\"id\", \"l_Dc-6-37\")\n",
    "Generate_btn_el.click()"
   ]
  },
  {
   "cell_type": "markdown",
   "id": "1658a904-ab7a-45d6-beca-ae8e5abdce64",
   "metadata": {},
   "source": [
    "## Selecting Gross Receipts"
   ]
  },
  {
   "cell_type": "code",
   "execution_count": 15,
   "id": "2cd59078-7159-4b47-acf9-8ee6aa4ddb19",
   "metadata": {},
   "outputs": [],
   "source": [
    "time.sleep(1.5)\n",
    "Revenue_Group_el = browser.find_element(\"name\", \"Dg-2\")\n",
    "Revenue_Group_el.send_keys(\"Gross Receipts\")\n",
    "Revenue_Group_el.send_keys(Keys.ENTER)"
   ]
  },
  {
   "cell_type": "markdown",
   "id": "552802d0-cb97-43ab-b9c7-86c1c80e7276",
   "metadata": {},
   "source": [
    "## Clicking the Generate button"
   ]
  },
  {
   "cell_type": "code",
   "execution_count": 16,
   "id": "3018548c-de00-414d-bfb9-7b9c6e6ee23a",
   "metadata": {},
   "outputs": [
    {
     "name": "stdout",
     "output_type": "stream",
     "text": [
      "Next page is loaded!\n"
     ]
    }
   ],
   "source": [
    "time.sleep(1.5)\n",
    "Generate_btn_el = browser.find_element(\"id\", \"caption2_Dc-7\")\n",
    "Generate_btn_el.click()\n",
    "\n",
    "# Set the delay in seconds\n",
    "delay = 180\n",
    "\n",
    "# Wait for the next page to be loaded\n",
    "try:\n",
    "    WebDriverWait(browser, delay).until(EC.url_changes(browser.current_url))\n",
    "    print(\"Next page is loaded!\")\n",
    "    time.sleep(30)\n",
    "except TimeoutException:\n",
    "    print(\"Loading the next page took too much time!\")"
   ]
  },
  {
   "cell_type": "markdown",
   "id": "b06e9b7e-4ffa-4111-a0ff-d83b6e361924",
   "metadata": {},
   "source": [
    "## Clicking Export to excel button"
   ]
  },
  {
   "cell_type": "code",
   "execution_count": 17,
   "id": "91b8223b-df48-499d-9c36-89224624420a",
   "metadata": {},
   "outputs": [
    {
     "name": "stdout",
     "output_type": "stream",
     "text": [
      "Page is ready!\n"
     ]
    }
   ],
   "source": [
    "delay = 180 # seconds\n",
    "try:\n",
    "    WebDriverWait(browser, delay).until(EC.presence_of_element_located((\"id\", 'Dc-9')))\n",
    "    print (\"Page is ready!\")\n",
    "    time.sleep(3)\n",
    "except TimeoutException:\n",
    "    print (\"Loading took too much time!\")\n",
    "    \n",
    "Export_to_excel_el = browser.find_element(\"id\", \"Dc-9\")\n",
    "Export_to_excel_el.click()\n"
   ]
  },
  {
   "cell_type": "code",
   "execution_count": 18,
   "id": "2c64fa1a-59c7-47d1-b5b3-aa81ca9f04c2",
   "metadata": {},
   "outputs": [],
   "source": [
    "time.sleep(3)\n",
    "folder_path = r'\\\\trdecomsrv\\H\\Alphie\\Temp'\n",
    "files_path = os.path.join(folder_path, '*')\n",
    "files = sorted(glob.iglob(files_path), key=os.path.getctime, reverse=True) \n",
    "last_file = (files[0]) #latest file \n",
    "# print (files[0],files[1])#latest two files"
   ]
  },
  {
   "cell_type": "code",
   "execution_count": 19,
   "id": "ec69b1a1-9161-41db-9a61-ba911738d569",
   "metadata": {},
   "outputs": [
    {
     "data": {
      "text/plain": [
       "'\\\\\\\\trdecomsrv\\\\H\\\\Alphie\\\\Temp\\\\1988139008.xls'"
      ]
     },
     "execution_count": 19,
     "metadata": {},
     "output_type": "execute_result"
    }
   ],
   "source": [
    "last_file"
   ]
  },
  {
   "cell_type": "code",
   "execution_count": 20,
   "id": "0ead8f28-d664-4814-9687-d2c9c61ec09c",
   "metadata": {},
   "outputs": [],
   "source": [
    "# file name with extension\n",
    "file_name = os.path.basename(last_file)\n",
    "\n",
    "# file name without extension\n",
    "file_name = (os.path.splitext(file_name)[0])"
   ]
  },
  {
   "cell_type": "code",
   "execution_count": 21,
   "id": "20b9be36-550b-4867-ac11-48e2bea5d0d0",
   "metadata": {},
   "outputs": [],
   "source": [
    "today = dt.date.today()\n",
    "first = today.replace(day=1)\n",
    "accrue_month_2 = first - dt.timedelta(days=32)"
   ]
  },
  {
   "cell_type": "code",
   "execution_count": 22,
   "id": "3e9039c2-4a6d-480e-8ab0-26f022e5103b",
   "metadata": {},
   "outputs": [
    {
     "name": "stdout",
     "output_type": "stream",
     "text": [
      "202310\n"
     ]
    }
   ],
   "source": [
    "print(accrue_month_2.strftime(\"%Y%m\"))"
   ]
  },
  {
   "cell_type": "code",
   "execution_count": 23,
   "id": "0e54c14f-8655-4ab6-85a5-fcf93c3ad83c",
   "metadata": {},
   "outputs": [
    {
     "name": "stdout",
     "output_type": "stream",
     "text": [
      "WARNING *** file size (860169) not 512 + multiple of sector size (512)\n",
      "WARNING *** OLE2 inconsistency: SSCS size is 0 but SSAT size is non-zero\n"
     ]
    }
   ],
   "source": [
    "old_file = os.path.join(r\"\\\\trdecomsrv\\H\\Alphie\\Temp\", (file_name + \".xls\"))\n",
    "df =  pd.read_excel(old_file)\n",
    "df.to_excel('//trdecomsrv/H/Alphie/Temp/R temp/RP500_distribution_input.xlsx', index=False)"
   ]
  },
  {
   "cell_type": "code",
   "execution_count": 24,
   "id": "ad5d3172-18e6-44d6-923e-a86d73b59923",
   "metadata": {},
   "outputs": [],
   "source": [
    "old_file = \"//trdecomsrv/H/Alphie/Temp/R temp/RP500_distribution_input.xlsx\"\n",
    "new_file = os.path.join(destination_folder, accrue_month_2.strftime(\"RP500-\" + (\"%Y%m\") + \".xlsx\"))\n",
    "try:\n",
    "  os.rename(old_file, new_file)\n",
    "except FileExistsError:\n",
    "  os.remove(new_file)\n",
    "  os.rename(old_file, new_file);"
   ]
  },
  {
   "cell_type": "code",
   "execution_count": 25,
   "id": "ce787ccf-7894-4980-b21f-9d496f399de0",
   "metadata": {},
   "outputs": [],
   "source": [
    "import pandas as pd\n",
    "\n",
    "# Read the Excel file\n",
    "excel_file = new_file\n",
    "df = pd.read_excel(excel_file)\n",
    "df\n",
    "# # Specify the column to delete\n",
    "column_to_delete = [\"Unnamed: 1\", \"Unnamed: 8\", \"Unnamed: 9\"]  # Replace \"ColumnName\" with the actual column name\n",
    "\n",
    "# # Delete the column\n",
    "df.drop(column_to_delete, axis=1, inplace=True)\n",
    "\n",
    "# # Save the modified DataFrame to Excel\n",
    "output_file = new_file\n",
    "df.to_excel(output_file, index=False)"
   ]
  },
  {
   "cell_type": "code",
   "execution_count": 26,
   "id": "9595abef-1721-4fe2-a02e-8bcd35086a11",
   "metadata": {},
   "outputs": [],
   "source": [
    "from openpyxl import load_workbook\n",
    "excel_file = new_file\n",
    "workbook = load_workbook(excel_file)"
   ]
  },
  {
   "cell_type": "code",
   "execution_count": 27,
   "id": "e3370f98-0b56-411d-820f-92bb055081a0",
   "metadata": {},
   "outputs": [],
   "source": [
    "# Define the cells to delete\n",
    "worksheet = workbook[\"Sheet1\"]\n",
    "cells_to_delete = [\"B1\", \"C1\", \"D1\", \"E1\", \"F1\", \"G1\", \"H1\", \"I1\", \"J1\", \"K1\"]  # Example: Cells A1, B2, and C3\n",
    "# Iterate over the cells and delete their values\n",
    "for cell_to_delete in cells_to_delete:\n",
    "    worksheet[cell_to_delete].value = None"
   ]
  },
  {
   "cell_type": "code",
   "execution_count": 28,
   "id": "2f6eb4c3-c9ff-49ff-8690-d3715933e12e",
   "metadata": {},
   "outputs": [],
   "source": [
    "# # Define the columns to delete\n",
    "# columns_to_delete = [\"B\", \"I\", \"J\"]  # Example: Columns B, D, and F\n",
    "\n",
    "# # Iterate over the columns and delete them\n",
    "# for column_to_delete in columns_to_delete:\n",
    "#     column_index = worksheet[column_to_delete + \"3\"].column\n",
    "#     worksheet.delete_cols(column_index, amount=1)"
   ]
  },
  {
   "cell_type": "code",
   "execution_count": 29,
   "id": "f74e2c8f-47aa-4ae5-b3c4-2521a83bb8c7",
   "metadata": {},
   "outputs": [],
   "source": [
    "# Save the modified Excel file\n",
    "output_file = new_file\n",
    "workbook.save(output_file)"
   ]
  },
  {
   "cell_type": "code",
   "execution_count": 30,
   "id": "63cc2763-bf01-4105-97c7-0240de544c2d",
   "metadata": {},
   "outputs": [
    {
     "data": {
      "text/plain": [
       "'//trdecomsrv/H/CRS Reports/RP-500 database/Unredacted/DistributionByAccrualMonth\\\\RP500-202310.xlsx'"
      ]
     },
     "execution_count": 30,
     "metadata": {},
     "output_type": "execute_result"
    }
   ],
   "source": [
    "shutil.copy2(new_file,'//trdecomsrv/H/CRS Reports/RP-500 database/Unredacted/DistributionByAccrualMonth')"
   ]
  },
  {
   "cell_type": "markdown",
   "id": "08d95300-85a3-44e7-b248-1678f9b6aa08",
   "metadata": {},
   "source": [
    "## Running the R file to generate monthly tracker"
   ]
  },
  {
   "cell_type": "code",
   "execution_count": 31,
   "id": "69d4306c-c65a-4b0a-bc02-bc2e32e02faa",
   "metadata": {},
   "outputs": [],
   "source": [
    "import subprocess\n",
    "r_script_path = '//trdecomsrv/H/Alphie/Temp/Alphie runs R scripts/RP500 Distributions for Alphie.R'\n",
    "\n",
    "# Run the R script using subprocess\n",
    "try:\n",
    "    result = subprocess.run(['C:/Program Files/R/R-4.3.1/bin/Rscript.exe', r_script_path], capture_output=True, text=True)\n",
    "except FileNotFoundError:\n",
    "    result = subprocess.run(['C:/Program Files/R/R-4.3.2/bin/Rscript.exe', r_script_path], capture_output=True, text=True)\n",
    "# Print the output and error messages, if any \n",
    "# print('Output:', result.stdout) \n",
    "# print('Error:', result.stderr)"
   ]
  },
  {
   "cell_type": "markdown",
   "id": "b3ea74e5-8b9f-4caf-8f2e-ce6a22866160",
   "metadata": {},
   "source": [
    "## Creating email attachment"
   ]
  },
  {
   "cell_type": "code",
   "execution_count": 32,
   "id": "291de82a-63a7-4beb-b48c-4983c396daa1",
   "metadata": {},
   "outputs": [],
   "source": [
    "RP500_compensating_email_item_1 = new_file"
   ]
  },
  {
   "cell_type": "markdown",
   "id": "e6b659db-2b9f-4c8b-9d19-925752c23d79",
   "metadata": {},
   "source": [
    "## Close the report"
   ]
  },
  {
   "cell_type": "code",
   "execution_count": 33,
   "id": "be27ba19-471b-4879-a23b-c87a8877f4eb",
   "metadata": {},
   "outputs": [],
   "source": [
    "time.sleep(5)\n",
    "close_button_el = browser.find_elements(By.XPATH, \"//button\")\n",
    "\n",
    "try:\n",
    "    for button in close_button_el:\n",
    "        if button.get_attribute('title') and 'Close Manager: RP-500 - Distribution - GL' in button.get_attribute('title'):\n",
    "            button.click();\n",
    "except ElementNotInteractableException:\n",
    "    time.sleep(5)\n",
    "    for button in close_button_el:\n",
    "        if button.get_attribute('title') and 'Close Manager: RP-500 - Distribution - GL' in button.get_attribute('title'):\n",
    "            button.click();        \n"
   ]
  },
  {
   "cell_type": "code",
   "execution_count": 34,
   "id": "d55e010d-f06e-4f83-b797-951486aa0c04",
   "metadata": {},
   "outputs": [],
   "source": [
    "browser.close()"
   ]
  },
  {
   "cell_type": "code",
   "execution_count": null,
   "id": "dfeefba6-c32a-4d35-9b70-48d0e9cb4e64",
   "metadata": {},
   "outputs": [],
   "source": []
  }
 ],
 "metadata": {
  "kernelspec": {
   "display_name": "Python 3 (ipykernel)",
   "language": "python",
   "name": "python3"
  },
  "language_info": {
   "codemirror_mode": {
    "name": "ipython",
    "version": 3
   },
   "file_extension": ".py",
   "mimetype": "text/x-python",
   "name": "python",
   "nbconvert_exporter": "python",
   "pygments_lexer": "ipython3",
   "version": "3.11.5"
  }
 },
 "nbformat": 4,
 "nbformat_minor": 5
}
