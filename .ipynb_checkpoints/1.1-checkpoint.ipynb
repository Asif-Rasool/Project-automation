{
 "cells": [
  {
   "cell_type": "code",
   "execution_count": 1,
   "id": "025a744f-9c8f-4717-8560-622010a1b3b4",
   "metadata": {},
   "outputs": [],
   "source": [
    "# !pip install selenium"
   ]
  },
  {
   "cell_type": "code",
   "execution_count": 2,
   "id": "5e012cb7-43cd-4f2d-b44c-6e2b9db3a72d",
   "metadata": {},
   "outputs": [
    {
     "data": {
      "text/plain": [
       "<selenium.webdriver.chrome.webdriver.WebDriver (session=\"5bab50c575fc7b772cc137dfdd2d5e5f\")>"
      ]
     },
     "execution_count": 2,
     "metadata": {},
     "output_type": "execute_result"
    }
   ],
   "source": [
    "import time\n",
    "from selenium import webdriver\n",
    "webdriver.Chrome()\n"
   ]
  },
  {
   "cell_type": "code",
   "execution_count": 3,
   "id": "a08f10bc-17ad-43ba-b19e-4875ad978f08",
   "metadata": {},
   "outputs": [],
   "source": [
    "# browser = webdriver.Chrome()\n",
    "from webdriver_manager.chrome import ChromeDriverManager\n",
    "from selenium.webdriver.chrome.service import Service as ChromeService\n",
    "options = webdriver.ChromeOptions()\n",
    "browser = webdriver.Chrome(service = ChromeService(ChromeDriverManager().install(), options = options))\n",
    "from selenium.webdriver.common.by import By\n",
    "from selenium.webdriver.common.print_page_options import PrintOptions\n"
   ]
  },
  {
   "cell_type": "code",
   "execution_count": 4,
   "id": "5695c1e8-7876-4288-af73-4f885f4748a3",
   "metadata": {},
   "outputs": [],
   "source": [
    "url = 'https://google.com'"
   ]
  },
  {
   "cell_type": "code",
   "execution_count": 5,
   "id": "c8569443-cada-4cdd-be34-0c612add9d3a",
   "metadata": {},
   "outputs": [],
   "source": [
    "browser.get(url)"
   ]
  },
  {
   "cell_type": "code",
   "execution_count": 6,
   "id": "70136244-bc36-4d9d-af59-e4afc39ec9a5",
   "metadata": {},
   "outputs": [
    {
     "name": "stdout",
     "output_type": "stream",
     "text": [
      "<selenium.webdriver.remote.webelement.WebElement (session=\"f92a92d8920df363e711869989eef4aa\", element=\"5D60C3EEB09AAE64A88DB4281B6035FF_element_3\")>\n"
     ]
    }
   ],
   "source": [
    "time.sleep(1)\n",
    "name = \"q\"\n",
    "search_el = browser.find_element(\"name\", \"q\")\n",
    "print(search_el)"
   ]
  },
  {
   "cell_type": "code",
   "execution_count": 7,
   "id": "ec21ed13-5d44-4922-bca0-7de948684e40",
   "metadata": {},
   "outputs": [],
   "source": [
    "search_el.send_keys(\"selenium python\")"
   ]
  },
  {
   "cell_type": "code",
   "execution_count": 8,
   "id": "49e94db4-2448-432c-bfb3-25009faaa14d",
   "metadata": {},
   "outputs": [
    {
     "name": "stdout",
     "output_type": "stream",
     "text": [
      "btnK\n"
     ]
    }
   ],
   "source": [
    "submit_btn_el = browser.find_element(\"css selector\", \"input[type='submit']\")\n",
    "print(submit_btn_el.get_attribute('name'))"
   ]
  },
  {
   "cell_type": "code",
   "execution_count": 9,
   "id": "b203dae5-2ae5-4659-84cf-4b8ca1373fdf",
   "metadata": {},
   "outputs": [],
   "source": [
    "time.sleep(2)\n",
    "submit_btn_el.click()"
   ]
  },
  {
   "cell_type": "code",
   "execution_count": 10,
   "id": "95f52d46-970c-43c3-bcfe-250cfe882b63",
   "metadata": {},
   "outputs": [],
   "source": [
    "from selenium.webdriver.common.keys import Keys\n",
    "from selenium.webdriver import ActionChains\n",
    "act = ActionChains(browser)\n",
    "act.key_down(Keys.CONTROL)\n",
    "act.send_keys(\"p\")\n",
    "time.sleep(3)\n",
    "act.key_up(Keys.CONTROL)\n",
    "act.send_keys(Keys.ENTER)\n",
    "time.sleep(3)\n",
    "act.send_keys(Keys.ENTER)\n",
    "act.perform()\n",
    "time.sleep(3)\n"
   ]
  },
  {
   "cell_type": "code",
   "execution_count": 11,
   "id": "9e23aba5-5cbb-4d29-8ebb-bfb9addf8f34",
   "metadata": {},
   "outputs": [],
   "source": [
    "\n",
    "# options.add_argument(\"--headless\")\n",
    "# width =1920\n",
    "# height = browser.execute_script('return Math.max(document.body.scrollHeight, document.body.offsetHeight, document.documentElement.clientHeight, document.documentElement.scrollHeight, document.documentElement.offsetHeight)')\n",
    "# browser.set_window_size(width, height)\n",
    "# page_body = browser.find_element(By.TAG_NAME, \"body\")\n",
    "# page_body.screenshot(\"full.png\")\n",
    "# page_body.print_page(\"tead.pdf\")"
   ]
  },
  {
   "cell_type": "code",
   "execution_count": 12,
   "id": "668392fb-5806-4909-bb3d-f9677b6e96ee",
   "metadata": {},
   "outputs": [],
   "source": [
    "# import base64\n",
    "\n",
    "# print_options = PrintOptions()\n",
    "# print_options.page_height = 10\n",
    "# print_options.page_width = 10\n",
    "# pdf = browser.print_page(print_options=print_options)\n",
    "# browser.close()\n",
    "\n",
    "# # save the output to a file.\n",
    "# with open('example.pdf', 'wb') as file:\n",
    "#     file.write(base64.b64decode(pdf))"
   ]
  },
  {
   "cell_type": "code",
   "execution_count": 13,
   "id": "96486222-289b-4dce-b188-6913f370b032",
   "metadata": {},
   "outputs": [],
   "source": [
    "# import json\n",
    "\n",
    "# settings = {\n",
    "#        \"recentDestinations\": [{\n",
    "#             \"id\": \"Save as PDF\",\n",
    "#             \"origin\": \"local\",\n",
    "#             \"account\": \"\",\n",
    "#         }],\n",
    "#         \"selectedDestinationId\": \"Save as PDF\",\n",
    "#         \"version\": 2\n",
    "#     }\n",
    "# prefs = {'printing.print_preview_sticky_settings.appState': json.dumps(settings), 'savefile.default_directory': r'C:\\Users\\asifr\\OneDrive - State of New Mexico\\Documents\\Project automation'}\n",
    "# options.add_experimental_option('prefs', prefs)\n",
    "# options.add_argument('--kiosk-printing')\n",
    "# # CHROMEDRIVER_PATH = '/usr/local/bin/chromedriver'\n",
    "# driver = webdriver.Chrome(options=options)\n",
    "# driver.get(\"https://gentaxprod.trd.state.nm.us/GenTax/YX6PmkSK/Retrieve/0/Dc/QCBVnyFLlDnx8q4IjpLkRw__?FILE__=868784128.pdf&PARAMS__=4418670799624986324\")\n",
    "# driver.execute_script('window.print();')\n",
    "# driver.quit()"
   ]
  },
  {
   "cell_type": "code",
   "execution_count": null,
   "id": "f72036d0-5b48-4c50-938f-287d90ce1ccb",
   "metadata": {},
   "outputs": [],
   "source": []
  }
 ],
 "metadata": {
  "kernelspec": {
   "display_name": "Python 3 (ipykernel)",
   "language": "python",
   "name": "python3"
  },
  "language_info": {
   "codemirror_mode": {
    "name": "ipython",
    "version": 3
   },
   "file_extension": ".py",
   "mimetype": "text/x-python",
   "name": "python",
   "nbconvert_exporter": "python",
   "pygments_lexer": "ipython3",
   "version": "3.11.5"
  }
 },
 "nbformat": 4,
 "nbformat_minor": 5
}
