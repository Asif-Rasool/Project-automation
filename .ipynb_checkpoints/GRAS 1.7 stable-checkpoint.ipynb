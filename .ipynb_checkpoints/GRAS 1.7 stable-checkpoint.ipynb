{
 "cells": [
  {
   "cell_type": "code",
   "execution_count": 1,
   "id": "71c67a4a-f3a5-47c1-a71c-7996246b01f0",
   "metadata": {},
   "outputs": [],
   "source": [
    "# !pip install selenium\n",
    "# !pip install webdriver_manager\n",
    "# !pip install -U pyautoit\n",
    "# !pip install pypiwin32\n",
    "# !pip install --upgrade holidays\n",
    "\n",
    "import autoit\n",
    "import getpass\n",
    "import time\n",
    "import os \n",
    "import datetime\n",
    "import win32com.client as win32\n",
    "import holidays\n",
    "import glob\n",
    "import datetime as dt\n",
    "\n",
    "# from datetime import datetime, timedelta\n",
    "from win32com.client import Dispatch\n",
    "from selenium import webdriver\n",
    "from selenium.webdriver.common.keys import Keys\n",
    "from selenium.webdriver.support.ui import WebDriverWait\n",
    "from selenium.webdriver.support import expected_conditions as EC\n",
    "from selenium.common.exceptions import TimeoutException\n",
    "from selenium.webdriver.common.by import By\n",
    "from selenium.webdriver.chrome.service import Service as ChromeService\n",
    "from webdriver_manager.chrome import ChromeDriverManager\n",
    "\n",
    "options = webdriver.ChromeOptions()\n",
    "\n",
    "options.add_argument(\"--headless\")\n",
    "browser =webdriver.Chrome()\n",
    "browser = webdriver.Chrome(service = ChromeService(ChromeDriverManager().install(), options = options))\n",
    "browser.maximize_window()\n",
    "browser.switch_to.window(browser.window_handles[0])"
   ]
  },
  {
   "cell_type": "markdown",
   "id": "e8dd62e2-d4c8-40bd-aee5-0db692516df3",
   "metadata": {},
   "source": [
    "# Providing login credentials"
   ]
  },
  {
   "cell_type": "code",
   "execution_count": 2,
   "id": "01aa0677-77e2-4668-a812-904c74012a3b",
   "metadata": {},
   "outputs": [
    {
     "name": "stdin",
     "output_type": "stream",
     "text": [
      "Please type your GenTax login id:\n",
      " ········\n"
     ]
    }
   ],
   "source": [
    "my_login = getpass.getpass(\"Please type your GenTax login id:\\n\")"
   ]
  },
  {
   "cell_type": "code",
   "execution_count": 3,
   "id": "ce696216-8bac-4a86-92bc-561977a45896",
   "metadata": {},
   "outputs": [
    {
     "name": "stdin",
     "output_type": "stream",
     "text": [
      "Please type your GenTax password:\n",
      " ········\n"
     ]
    }
   ],
   "source": [
    "my_password = getpass.getpass(\"Please type your GenTax password:\\n\")"
   ]
  },
  {
   "cell_type": "code",
   "execution_count": 4,
   "id": "18d44979-24bc-47c3-9478-269241abc24d",
   "metadata": {},
   "outputs": [],
   "source": [
    "url = 'https://gentaxprod.trd.state.nm.us/GenTax/dPWmgh2N/#1'\n",
    "browser.get(url)\n",
    "browser.maximize_window()"
   ]
  },
  {
   "cell_type": "code",
   "execution_count": 5,
   "id": "2a33a4ce-c391-4fa5-acdf-1511feb5e852",
   "metadata": {},
   "outputs": [],
   "source": [
    "time.sleep(2)\n",
    "username_el = browser.find_element(\"name\", \"Dc-c\")\n",
    "username_el.send_keys(my_login)"
   ]
  },
  {
   "cell_type": "code",
   "execution_count": 6,
   "id": "1a0869f2-a7de-415c-9a2d-5ae5cc1f8adc",
   "metadata": {},
   "outputs": [],
   "source": [
    "password_el = browser.find_element(\"name\", \"Dc-d\")\n",
    "password_el.send_keys(my_password)"
   ]
  },
  {
   "cell_type": "markdown",
   "id": "c4eeb5e8-2ed4-49fe-8617-7ff361c277f6",
   "metadata": {},
   "source": [
    "# Clicking the logon button"
   ]
  },
  {
   "cell_type": "code",
   "execution_count": 7,
   "id": "e92c7bfd-2045-41de-8f0a-38d3818647b9",
   "metadata": {},
   "outputs": [],
   "source": [
    "time.sleep(1.5)\n",
    "submit_btn_el = browser.find_element(\"css selector\", \"[class='ButtonCaptionText']\")"
   ]
  },
  {
   "cell_type": "code",
   "execution_count": 8,
   "id": "bbaffa67-322d-4978-83dd-32a331316212",
   "metadata": {},
   "outputs": [],
   "source": [
    "submit_btn_el.click()"
   ]
  },
  {
   "cell_type": "markdown",
   "id": "f80ad1e8-1ba6-4a25-b10f-de3e283fe814",
   "metadata": {},
   "source": [
    "# Clicking the Report button"
   ]
  },
  {
   "cell_type": "code",
   "execution_count": 9,
   "id": "152211b6-e2d9-404c-9499-713983dc1c22",
   "metadata": {},
   "outputs": [],
   "source": [
    "time.sleep(1.5)\n",
    "Report_btn_el = browser.find_element(\"id\", \"l_Dd-1-16\")\n",
    "Report_btn_el.click()"
   ]
  },
  {
   "cell_type": "markdown",
   "id": "0b681461-bb1c-424b-961a-028f1d407f9b",
   "metadata": {},
   "source": [
    "# Clicking thr Generate Report button"
   ]
  },
  {
   "cell_type": "code",
   "execution_count": 10,
   "id": "1e7a6ed5-ccbc-40ba-8194-6eb048564cfe",
   "metadata": {},
   "outputs": [],
   "source": [
    "time.sleep(1.5)\n",
    "Generate_Report_btn_el = browser.find_element(\"id\", \"l_Dc-1-4\")\n",
    "Generate_Report_btn_el.click()"
   ]
  },
  {
   "cell_type": "markdown",
   "id": "b563511b-605a-4307-a2c8-4d7116826c28",
   "metadata": {},
   "source": [
    "# Searching Fuel reports"
   ]
  },
  {
   "cell_type": "code",
   "execution_count": 11,
   "id": "15901a05-6fc5-46c5-b72d-e82f18e71956",
   "metadata": {},
   "outputs": [],
   "source": [
    "browser.switch_to.window(browser.window_handles[0])\n",
    "browser.implicitly_wait(1.5)\n",
    "\n",
    "input_field_el = browser.find_element(\"id\", \"Dc-h\")\n",
    "input_field_el.send_keys(\"Fuels report\")\n",
    "input_field_el.send_keys(Keys.ENTER)\n",
    "    "
   ]
  },
  {
   "cell_type": "markdown",
   "id": "538b98ab-3734-4533-8aca-9bc39cc04427",
   "metadata": {},
   "source": [
    "## Fuels Report (Ethanol Section)"
   ]
  },
  {
   "cell_type": "markdown",
   "id": "6a57c40f-0865-4848-afdc-0f6752a5cc9a",
   "metadata": {},
   "source": [
    "### Clicking thr Generate Report button"
   ]
  },
  {
   "cell_type": "code",
   "execution_count": 12,
   "id": "24d8e27a-91ad-450e-9861-661bb1497a33",
   "metadata": {},
   "outputs": [],
   "source": [
    "time.sleep(1.5)\n",
    "Generate_btn_el = browser.find_element(\"id\", \"l_Dc-6-73\")\n",
    "Generate_btn_el.click()"
   ]
  },
  {
   "cell_type": "markdown",
   "id": "e19463fd-35fc-48c0-9ab5-8a5f984b5bef",
   "metadata": {},
   "source": [
    "### Defining Begining_RA"
   ]
  },
  {
   "cell_type": "code",
   "execution_count": 13,
   "id": "155f7002-6eb6-4537-93ba-f230c7e68f59",
   "metadata": {},
   "outputs": [
    {
     "name": "stdout",
     "output_type": "stream",
     "text": [
      "2023-10-10 00:00:00\n",
      "11-Oct-2023\n"
     ]
    }
   ],
   "source": [
    "now = dt.datetime.now()\n",
    "\n",
    "begining_month_closing_day = 10\n",
    "begining_month = now.month -1\n",
    "year = now.year\n",
    "begining_month_closing = datetime.datetime (year, begining_month, begining_month_closing_day)\n",
    "print(begining_month_closing)\n",
    "\n",
    "ONE_DAY = datetime.timedelta(days=1)\n",
    "HOLIDAYS_US = holidays.US()\n",
    "\n",
    "def next_business_day():\n",
    "    next_day = begining_month_closing + ONE_DAY\n",
    "    while next_day.weekday() in holidays.WEEKEND or next_day in HOLIDAYS_US:\n",
    "        next_day += ONE_DAY\n",
    "    return next_day;\n",
    "\n",
    "Begin_RA = next_business_day()\n",
    "Begin_RA = Begin_RA.strftime(\"%d-%b-%Y\")\n",
    "print(Begin_RA)"
   ]
  },
  {
   "cell_type": "markdown",
   "id": "02ea3838-bdba-4487-b792-9d8ce966e6fa",
   "metadata": {},
   "source": [
    "### Defining End_RA"
   ]
  },
  {
   "cell_type": "code",
   "execution_count": 14,
   "id": "7795cb1b-f717-4c47-ae8d-8efcd84dcdf9",
   "metadata": {},
   "outputs": [
    {
     "name": "stdout",
     "output_type": "stream",
     "text": [
      "2023-11-10 00:00:00\n",
      "13-Nov-2023\n"
     ]
    }
   ],
   "source": [
    "ending_month_closing_day = 10\n",
    "ending_month = now.month \n",
    "\n",
    "ending_month_closing = datetime.datetime (year, ending_month, ending_month_closing_day)\n",
    "print(ending_month_closing)\n",
    "\n",
    "def next_business_day():\n",
    "    next_day = ending_month_closing + ONE_DAY\n",
    "    while next_day.weekday() in holidays.WEEKEND or next_day in HOLIDAYS_US:\n",
    "        next_day += ONE_DAY\n",
    "    return next_day;\n",
    "\n",
    "End_RA = next_business_day()\n",
    "End_RA = End_RA.strftime(\"%d-%b-%Y\")\n",
    "print(End_RA)"
   ]
  },
  {
   "cell_type": "markdown",
   "id": "baf3add1-b750-49a5-9dbf-1a65dec67c57",
   "metadata": {},
   "source": [
    "### Inputing dates"
   ]
  },
  {
   "cell_type": "code",
   "execution_count": 15,
   "id": "a2dd65c2-3182-47cb-81bb-ef2f74028984",
   "metadata": {},
   "outputs": [],
   "source": [
    "time.sleep(1)\n",
    "Begin_RA_el = browser.find_element(\"id\", \"Dg-2\")\n",
    "Begin_RA_el.send_keys(Begin_RA)\n",
    "Begin_RA_el.send_keys(Keys.ENTER)"
   ]
  },
  {
   "cell_type": "code",
   "execution_count": 16,
   "id": "957be06e-b162-4bba-9f03-a4350503fcd4",
   "metadata": {},
   "outputs": [],
   "source": [
    "time.sleep(1)\n",
    "End_RA_el = browser.find_element(\"id\", \"Dg-3\")\n",
    "End_RA_el.send_keys(End_RA)\n",
    "End_RA_el.send_keys(Keys.ENTER)"
   ]
  },
  {
   "cell_type": "markdown",
   "id": "466922ad-3bf2-4575-8fff-3db635f579a5",
   "metadata": {},
   "source": [
    "### Clicking Generate button"
   ]
  },
  {
   "cell_type": "code",
   "execution_count": 17,
   "id": "beb184db-a753-4fb5-8957-5d75a59aef2f",
   "metadata": {},
   "outputs": [],
   "source": [
    "Generate_btn_el = browser.find_element(\"id\", \"caption2_Dc-7\")\n",
    "Generate_btn_el.click()\n",
    "time.sleep(5)"
   ]
  },
  {
   "cell_type": "markdown",
   "id": "657d4043-973c-482a-b7d9-26c9730326dc",
   "metadata": {},
   "source": [
    "### Clicking Export to excel button"
   ]
  },
  {
   "cell_type": "code",
   "execution_count": 18,
   "id": "759d4e34-05f8-4749-8d2d-d0904ef29edc",
   "metadata": {},
   "outputs": [],
   "source": [
    "Export_to_excel_el = browser.find_element(\"id\", \"Dc-9\")\n",
    "Export_to_excel_el.click()\n",
    "time.sleep(5)"
   ]
  },
  {
   "cell_type": "code",
   "execution_count": 19,
   "id": "3b0b94dc-769e-4efb-bd19-0cbcd6738716",
   "metadata": {},
   "outputs": [],
   "source": [
    "folder_path = \"C:/Users/asifr/Downloads\"\n",
    "files_path = os.path.join(folder_path, '*')\n",
    "files = sorted(glob.iglob(files_path), key=os.path.getctime, reverse=True) \n",
    "last_file = (files[0]) #latest file \n",
    "# print (files[0],files[1])#latest two files"
   ]
  },
  {
   "cell_type": "code",
   "execution_count": 20,
   "id": "304aacd6-dc3d-47ad-93d6-3bae4a92d5b3",
   "metadata": {},
   "outputs": [],
   "source": [
    "# file name with extension\n",
    "file_name = os.path.basename(last_file)\n",
    "\n",
    "# file name without extension\n",
    "file_name = (os.path.splitext(file_name)[0])"
   ]
  },
  {
   "cell_type": "code",
   "execution_count": 21,
   "id": "bf4e8e12-6eb7-447c-bc55-3aed81345d27",
   "metadata": {},
   "outputs": [
    {
     "data": {
      "text/plain": [
       "'375199744'"
      ]
     },
     "execution_count": 21,
     "metadata": {},
     "output_type": "execute_result"
    }
   ],
   "source": [
    "file_name"
   ]
  },
  {
   "cell_type": "code",
   "execution_count": 22,
   "id": "2c904e5f-db63-4060-85be-febd00958d35",
   "metadata": {},
   "outputs": [],
   "source": [
    "old_file = os.path.join(r\"C:\\Users\\asifr\\Downloads\", (file_name + \".xls\"))\n",
    "new_file = os.path.join(r\"C:\\Users\\asifr\\OneDrive - State of New Mexico\\Desktop\\temp\", (\"eth\" + \" \" +Begin_RA + \" \" + \"to\" + \" \" + End_RA + \".xls\"))\n",
    "try:\n",
    "  os.rename(old_file, new_file)\n",
    "except FileExistsError:\n",
    "  os.remove(new_file)\n",
    "  os.rename(old_file, new_file);\n"
   ]
  },
  {
   "cell_type": "markdown",
   "id": "36743b2a-4c93-4557-8a60-ee7618d4348a",
   "metadata": {},
   "source": [
    "### Creating email attachment"
   ]
  },
  {
   "cell_type": "code",
   "execution_count": 23,
   "id": "5554388f-7c13-4b74-8da7-db7619f7547b",
   "metadata": {},
   "outputs": [],
   "source": [
    "fuel_reprt_email_item_1 = new_file"
   ]
  },
  {
   "cell_type": "markdown",
   "id": "2d4816b8-5420-49ec-a558-abca56610880",
   "metadata": {},
   "source": [
    "### Close the report"
   ]
  },
  {
   "cell_type": "code",
   "execution_count": 24,
   "id": "c22d1d8d-13c7-4df8-a077-62fdf1b06cfc",
   "metadata": {},
   "outputs": [],
   "source": [
    "browser.switch_to.window(browser.window_handles[0])\n",
    "browser.implicitly_wait(1.5)\n",
    "\n",
    "close_button_el = browser.find_elements(By.XPATH, \"//button\")\n",
    "\n",
    "\n",
    "for button in close_button_el:\n",
    "    if button.get_attribute('title') and 'Close Manager: Fuels Report (Ethanol Section)' in button.get_attribute('title'):\n",
    "        button.click();\n",
    "        "
   ]
  },
  {
   "cell_type": "markdown",
   "id": "33f25c40-ac68-4bd6-9823-71c29d53ccac",
   "metadata": {},
   "source": [
    "## Fuels Report (Gasoline Section)"
   ]
  },
  {
   "cell_type": "markdown",
   "id": "cf39cab7-12cb-40de-8b53-e3f52560775e",
   "metadata": {},
   "source": [
    "### Clicking thr Generate Report button"
   ]
  },
  {
   "cell_type": "code",
   "execution_count": 25,
   "id": "2467f84a-ab2f-4525-be3e-1e1c4d4ce6a7",
   "metadata": {},
   "outputs": [],
   "source": [
    "time.sleep(1.5)\n",
    "Generate_btn_el = browser.find_element(\"id\", \"l_Dc-6-36\")\n",
    "Generate_btn_el.click()"
   ]
  },
  {
   "cell_type": "markdown",
   "id": "54db2403-4140-4c12-a5d4-4fd7f7e9dd27",
   "metadata": {},
   "source": [
    "### Inputing dates"
   ]
  },
  {
   "cell_type": "code",
   "execution_count": 26,
   "id": "06e21922-6132-41e6-b9eb-4a76fda41c97",
   "metadata": {},
   "outputs": [],
   "source": [
    "time.sleep(1)\n",
    "Begin_RA_el = browser.find_element(\"id\", \"Dg-2\")\n",
    "Begin_RA_el.send_keys(Begin_RA)\n",
    "Begin_RA_el.send_keys(Keys.ENTER)"
   ]
  },
  {
   "cell_type": "code",
   "execution_count": 27,
   "id": "7187a3ee-5573-47a9-b706-25043402f8be",
   "metadata": {},
   "outputs": [],
   "source": [
    "time.sleep(1)\n",
    "End_RA_el = browser.find_element(\"id\", \"Dg-3\")\n",
    "End_RA_el.send_keys(End_RA)\n",
    "End_RA_el.send_keys(Keys.ENTER)"
   ]
  },
  {
   "cell_type": "markdown",
   "id": "689b72f6-7f7f-4442-82d3-50d7accbf930",
   "metadata": {},
   "source": [
    "### Clicking Generate button"
   ]
  },
  {
   "cell_type": "code",
   "execution_count": 28,
   "id": "a6fa44cd-635c-413a-bc0e-9f77aa37162d",
   "metadata": {},
   "outputs": [],
   "source": [
    "Generate_btn_el = browser.find_element(\"id\", \"caption2_Dc-7\")\n",
    "Generate_btn_el.click()\n",
    "time.sleep(5)"
   ]
  },
  {
   "cell_type": "markdown",
   "id": "cf3cbff0-a003-4617-8dee-15c84a22b57c",
   "metadata": {},
   "source": [
    "### Clicking Export to excel button"
   ]
  },
  {
   "cell_type": "code",
   "execution_count": 29,
   "id": "c8f50cd9-8138-46ca-8d9e-b73ea40713f5",
   "metadata": {},
   "outputs": [],
   "source": [
    "Export_to_excel_el = browser.find_element(\"id\", \"Dc-9\")\n",
    "Export_to_excel_el.click()\n",
    "time.sleep(5)"
   ]
  },
  {
   "cell_type": "code",
   "execution_count": 30,
   "id": "2ff7f173-1837-44a1-b9be-4426d759c95a",
   "metadata": {},
   "outputs": [],
   "source": [
    "folder_path = \"C:/Users/asifr/Downloads\"\n",
    "files_path = os.path.join(folder_path, '*')\n",
    "files = sorted(glob.iglob(files_path), key=os.path.getctime, reverse=True) \n",
    "last_file = (files[0]) #latest file \n",
    "# print (files[0],files[1])#latest two files"
   ]
  },
  {
   "cell_type": "code",
   "execution_count": 31,
   "id": "7276b0c0-4f51-4c74-8833-f5a93826a968",
   "metadata": {},
   "outputs": [],
   "source": [
    "# file name with extension\n",
    "file_name = os.path.basename(last_file)\n",
    "\n",
    "# file name without extension\n",
    "file_name = (os.path.splitext(file_name)[0])"
   ]
  },
  {
   "cell_type": "code",
   "execution_count": 32,
   "id": "6e71c873-6bdf-49e3-b8fa-d73a657c5e1d",
   "metadata": {},
   "outputs": [
    {
     "data": {
      "text/plain": [
       "'1448941568'"
      ]
     },
     "execution_count": 32,
     "metadata": {},
     "output_type": "execute_result"
    }
   ],
   "source": [
    "file_name"
   ]
  },
  {
   "cell_type": "code",
   "execution_count": 33,
   "id": "0665defd-7d94-4f96-af6d-90405b1cd9ea",
   "metadata": {},
   "outputs": [],
   "source": [
    "old_file = os.path.join(r\"C:\\Users\\asifr\\Downloads\", (file_name + \".xls\"))\n",
    "new_file = os.path.join(r\"C:\\Users\\asifr\\OneDrive - State of New Mexico\\Desktop\\temp\", (\"gas\" + \" \" +Begin_RA + \" \" + \"to\" + \" \" + End_RA + \".xls\"))\n",
    "try:\n",
    "  os.rename(old_file, new_file)\n",
    "except FileExistsError:\n",
    "  os.remove(new_file)\n",
    "  os.rename(old_file, new_file);\n"
   ]
  },
  {
   "cell_type": "markdown",
   "id": "a9ef7434-c552-459b-84dd-020f4910247b",
   "metadata": {},
   "source": [
    "### Creating email attachment"
   ]
  },
  {
   "cell_type": "code",
   "execution_count": 34,
   "id": "5bca4c9a-9eb3-4d42-ae55-54348a638fca",
   "metadata": {},
   "outputs": [],
   "source": [
    "fuel_reprt_email_item_2 = new_file"
   ]
  },
  {
   "cell_type": "markdown",
   "id": "2abbd954-768d-4257-ae60-536b32dd5922",
   "metadata": {},
   "source": [
    "### Close the report"
   ]
  },
  {
   "cell_type": "code",
   "execution_count": 35,
   "id": "0c058c9d-1ed4-4658-b9a4-c7f7304436ee",
   "metadata": {},
   "outputs": [],
   "source": [
    "browser.switch_to.window(browser.window_handles[0])\n",
    "browser.implicitly_wait(1.5)\n",
    "\n",
    "close_button_el = browser.find_elements(By.XPATH, \"//button\")\n",
    "\n",
    "\n",
    "for button in close_button_el:\n",
    "    if button.get_attribute('title') and 'Close Manager: Fuels Report (Gasoline Section)' in button.get_attribute('title'):\n",
    "        button.click();\n",
    "        "
   ]
  },
  {
   "cell_type": "markdown",
   "id": "fcff00f2-f30c-4258-b4ae-28f142e7cd61",
   "metadata": {},
   "source": [
    "## Fuels Report (Diesel Section)"
   ]
  },
  {
   "cell_type": "markdown",
   "id": "780880b1-6cf9-4f84-8266-181b7af2c57d",
   "metadata": {},
   "source": [
    "### Clicking thr Generate Report button"
   ]
  },
  {
   "cell_type": "code",
   "execution_count": 36,
   "id": "029becea-703e-4dac-821d-508f65f70b9c",
   "metadata": {},
   "outputs": [],
   "source": [
    "time.sleep(1.5)\n",
    "Generate_btn_el = browser.find_element(\"id\", \"l_Dc-6-156\")\n",
    "Generate_btn_el.click()"
   ]
  },
  {
   "cell_type": "markdown",
   "id": "f1b00770-fe71-48bc-979f-53b4b9d87ad1",
   "metadata": {},
   "source": [
    "### Inputing dates"
   ]
  },
  {
   "cell_type": "code",
   "execution_count": 37,
   "id": "a110afb5-4be7-40f9-8aa3-0a9be105f890",
   "metadata": {},
   "outputs": [],
   "source": [
    "time.sleep(1)\n",
    "Begin_RA_el = browser.find_element(\"id\", \"Dg-2\")\n",
    "Begin_RA_el.send_keys(Begin_RA)\n",
    "Begin_RA_el.send_keys(Keys.ENTER)"
   ]
  },
  {
   "cell_type": "code",
   "execution_count": 38,
   "id": "6404fddd-2a05-4dc3-a72f-d0375992e9c6",
   "metadata": {},
   "outputs": [],
   "source": [
    "time.sleep(1)\n",
    "End_RA_el = browser.find_element(\"id\", \"Dg-3\")\n",
    "End_RA_el.send_keys(End_RA)\n",
    "End_RA_el.send_keys(Keys.ENTER)"
   ]
  },
  {
   "cell_type": "markdown",
   "id": "d624ded5-1201-47eb-a2d1-65942ec05c6b",
   "metadata": {},
   "source": [
    "### Clicking Generate button"
   ]
  },
  {
   "cell_type": "code",
   "execution_count": 39,
   "id": "59854276-6541-4ecc-a844-6bd8ab8eb61f",
   "metadata": {},
   "outputs": [],
   "source": [
    "Generate_btn_el = browser.find_element(\"id\", \"caption2_Dc-7\")\n",
    "Generate_btn_el.click()\n",
    "time.sleep(5)"
   ]
  },
  {
   "cell_type": "markdown",
   "id": "076aade7-22c1-4c39-b434-5d0d53581125",
   "metadata": {},
   "source": [
    "### Clicking Export to excel button"
   ]
  },
  {
   "cell_type": "code",
   "execution_count": 40,
   "id": "2e5038b8-1422-42c8-a10a-2eb41dbf2e8b",
   "metadata": {},
   "outputs": [],
   "source": [
    "Export_to_excel_el = browser.find_element(\"id\", \"Dc-9\")\n",
    "Export_to_excel_el.click()\n",
    "time.sleep(5)"
   ]
  },
  {
   "cell_type": "code",
   "execution_count": 41,
   "id": "197493c9-cb11-4869-9c54-497bfe9bee46",
   "metadata": {},
   "outputs": [],
   "source": [
    "folder_path = \"C:/Users/asifr/Downloads\"\n",
    "files_path = os.path.join(folder_path, '*')\n",
    "files = sorted(glob.iglob(files_path), key=os.path.getctime, reverse=True) \n",
    "last_file = (files[0]) #latest file \n",
    "# print (files[0],files[1])#latest two files"
   ]
  },
  {
   "cell_type": "code",
   "execution_count": 42,
   "id": "81898dac-82ca-4eab-aa3a-ed00494b6d84",
   "metadata": {},
   "outputs": [],
   "source": [
    "# file name with extension\n",
    "file_name = os.path.basename(last_file)\n",
    "\n",
    "# file name without extension\n",
    "file_name = (os.path.splitext(file_name)[0])"
   ]
  },
  {
   "cell_type": "code",
   "execution_count": 43,
   "id": "6d3d7a9e-07b2-47fe-a49f-2e9c1723fc7c",
   "metadata": {},
   "outputs": [
    {
     "data": {
      "text/plain": [
       "'1370068992'"
      ]
     },
     "execution_count": 43,
     "metadata": {},
     "output_type": "execute_result"
    }
   ],
   "source": [
    "file_name"
   ]
  },
  {
   "cell_type": "code",
   "execution_count": 44,
   "id": "2988388f-babd-40ca-b8bf-9a57d1443c14",
   "metadata": {},
   "outputs": [],
   "source": [
    "old_file = os.path.join(r\"C:\\Users\\asifr\\Downloads\", (file_name + \".xls\"))\n",
    "new_file = os.path.join(r\"C:\\Users\\asifr\\OneDrive - State of New Mexico\\Desktop\\temp\", (\"spf\" + \" \" +Begin_RA + \" \" + \"to\" + \" \" + End_RA + \".xls\"))\n",
    "try:\n",
    "  os.rename(old_file, new_file)\n",
    "except FileExistsError:\n",
    "  os.remove(new_file)\n",
    "  os.rename(old_file, new_file);\n"
   ]
  },
  {
   "cell_type": "markdown",
   "id": "1daeb198-3d16-4a17-8e36-973cb5bb5f9e",
   "metadata": {},
   "source": [
    "### Creating email attachment"
   ]
  },
  {
   "cell_type": "code",
   "execution_count": 45,
   "id": "80031607-edbf-472d-b048-2e2072a5a7a6",
   "metadata": {},
   "outputs": [],
   "source": [
    "fuel_reprt_email_item_3 = new_file"
   ]
  },
  {
   "cell_type": "markdown",
   "id": "0db54141-79c7-412f-9311-f1c4f4eb0141",
   "metadata": {},
   "source": [
    "### Close the report"
   ]
  },
  {
   "cell_type": "code",
   "execution_count": 46,
   "id": "bbf2ac0c-8b7c-4b31-a3f1-8fa1a02342ff",
   "metadata": {},
   "outputs": [],
   "source": [
    "browser.switch_to.window(browser.window_handles[0])\n",
    "browser.implicitly_wait(1.5)\n",
    "\n",
    "close_button_el = browser.find_elements(By.XPATH, \"//button\")\n",
    "\n",
    "\n",
    "for button in close_button_el:\n",
    "    if button.get_attribute('title') and 'Close Manager: Fuels Report (Diesel Section)' in button.get_attribute('title'):\n",
    "        button.click();\n",
    "        "
   ]
  },
  {
   "cell_type": "markdown",
   "id": "30e55215-3bf0-49c8-8f84-14461be458e4",
   "metadata": {},
   "source": [
    "## Fuels Report _CFT & I"
   ]
  },
  {
   "cell_type": "markdown",
   "id": "688cbc52-a7e3-4d6d-8892-a786fcd49070",
   "metadata": {},
   "source": [
    "### Clicking thr Generate Report button"
   ]
  },
  {
   "cell_type": "code",
   "execution_count": 47,
   "id": "e29b1523-d844-4a6e-92f3-9951f240bb80",
   "metadata": {},
   "outputs": [],
   "source": [
    "time.sleep(1.5)\n",
    "Generate_btn_el = browser.find_element(\"id\", \"l_Dc-6-99\")\n",
    "Generate_btn_el.click()"
   ]
  },
  {
   "cell_type": "markdown",
   "id": "102663ef-8af1-4619-88f0-52d3f4995f9f",
   "metadata": {},
   "source": [
    "### Inputing dates"
   ]
  },
  {
   "cell_type": "code",
   "execution_count": 48,
   "id": "892e5082-12e3-4aa3-b7a5-275450ec73d4",
   "metadata": {},
   "outputs": [],
   "source": [
    "time.sleep(1)\n",
    "Begin_RA_el = browser.find_element(\"id\", \"Dg-2\")\n",
    "Begin_RA_el.send_keys(Begin_RA)\n",
    "Begin_RA_el.send_keys(Keys.ENTER)"
   ]
  },
  {
   "cell_type": "code",
   "execution_count": 49,
   "id": "63bcac79-42f1-4724-a61a-065a7af8119c",
   "metadata": {},
   "outputs": [],
   "source": [
    "time.sleep(1)\n",
    "End_RA_el = browser.find_element(\"id\", \"Dg-3\")\n",
    "End_RA_el.send_keys(End_RA)\n",
    "End_RA_el.send_keys(Keys.ENTER)"
   ]
  },
  {
   "cell_type": "markdown",
   "id": "b407d49d-8072-4d1d-ac98-39cfdc4b25bf",
   "metadata": {},
   "source": [
    "### Clicking Generate button"
   ]
  },
  {
   "cell_type": "code",
   "execution_count": 50,
   "id": "11f33800-16e7-4bd4-9244-2580873f8e8c",
   "metadata": {},
   "outputs": [],
   "source": [
    "Generate_btn_el = browser.find_element(\"id\", \"caption2_Dc-7\")\n",
    "Generate_btn_el.click()\n",
    "time.sleep(20)"
   ]
  },
  {
   "cell_type": "markdown",
   "id": "8398daf3-217a-4e14-a69c-e3a4ad74ce9a",
   "metadata": {},
   "source": [
    "### Clicking Export to excel button"
   ]
  },
  {
   "cell_type": "code",
   "execution_count": 51,
   "id": "b23e3ad1-c854-43ba-b8ff-2e812f1b94ae",
   "metadata": {},
   "outputs": [],
   "source": [
    "Export_to_excel_el = browser.find_element(\"id\", \"Dc-9\")\n",
    "Export_to_excel_el.click()\n",
    "time.sleep(5)"
   ]
  },
  {
   "cell_type": "code",
   "execution_count": 52,
   "id": "79c00573-0404-4130-a5cd-7aabadc8b768",
   "metadata": {},
   "outputs": [],
   "source": [
    "folder_path = \"C:/Users/asifr/Downloads\"\n",
    "files_path = os.path.join(folder_path, '*')\n",
    "files = sorted(glob.iglob(files_path), key=os.path.getctime, reverse=True) \n",
    "last_file = (files[0]) #latest file \n",
    "# print (files[0],files[1])#latest two files"
   ]
  },
  {
   "cell_type": "code",
   "execution_count": 53,
   "id": "628e7e61-7ca4-4d9f-bd74-aa21e61ade9a",
   "metadata": {},
   "outputs": [],
   "source": [
    "# file name with extension\n",
    "file_name = os.path.basename(last_file)\n",
    "\n",
    "# file name without extension\n",
    "file_name = (os.path.splitext(file_name)[0])"
   ]
  },
  {
   "cell_type": "code",
   "execution_count": 54,
   "id": "a0f1c570-d21b-4600-9a02-991d85e3c682",
   "metadata": {},
   "outputs": [
    {
     "data": {
      "text/plain": [
       "'808491008'"
      ]
     },
     "execution_count": 54,
     "metadata": {},
     "output_type": "execute_result"
    }
   ],
   "source": [
    "file_name"
   ]
  },
  {
   "cell_type": "code",
   "execution_count": 55,
   "id": "38508cf9-8000-4361-8fe7-92d579539650",
   "metadata": {},
   "outputs": [],
   "source": [
    "old_file = os.path.join(r\"C:\\Users\\asifr\\Downloads\", (file_name + \".xls\"))\n",
    "new_file = os.path.join(r\"C:\\Users\\asifr\\OneDrive - State of New Mexico\\Desktop\\temp\", (\"pi\" + \" \" +Begin_RA + \" \" + \"to\" + \" \" + End_RA + \".xls\"))\n",
    "try:\n",
    "  os.rename(old_file, new_file)\n",
    "except FileExistsError:\n",
    "  os.remove(new_file)\n",
    "  os.rename(old_file, new_file);\n"
   ]
  },
  {
   "cell_type": "markdown",
   "id": "9113fd38-feab-44e7-9b23-2bb263a8e423",
   "metadata": {},
   "source": [
    "### Creating email attachment"
   ]
  },
  {
   "cell_type": "code",
   "execution_count": 56,
   "id": "5081ef12-6048-484c-9f04-4d67adec4ad9",
   "metadata": {},
   "outputs": [],
   "source": [
    "fuel_reprt_email_item_4 = new_file"
   ]
  },
  {
   "cell_type": "markdown",
   "id": "c9305229-7365-4908-9599-530698869df7",
   "metadata": {},
   "source": [
    "### Close the report"
   ]
  },
  {
   "cell_type": "code",
   "execution_count": 57,
   "id": "b05dc366-a149-40c8-889a-3cbd889e2d2f",
   "metadata": {},
   "outputs": [],
   "source": [
    "browser.switch_to.window(browser.window_handles[0])\n",
    "browser.implicitly_wait(1.5)\n",
    "\n",
    "close_button_el = browser.find_elements(By.XPATH, \"//button\")\n",
    "\n",
    "\n",
    "for button in close_button_el:\n",
    "    if button.get_attribute('title') and 'Close Manager: Fuels Report _CFT P &amp;  I' in button.get_attribute('title'):\n",
    "        button.click();\n",
    "        "
   ]
  },
  {
   "cell_type": "markdown",
   "id": "40f98aaa-3e27-45d9-b863-8e9b7a74636f",
   "metadata": {},
   "source": [
    "# Searching Alternative Fuel Volumes reports"
   ]
  },
  {
   "cell_type": "code",
   "execution_count": 58,
   "id": "fa0c9130-3b7b-4099-b823-475374114bb3",
   "metadata": {},
   "outputs": [],
   "source": [
    "time.sleep(5)\n",
    "browser.switch_to.window(browser.window_handles[0])\n",
    "browser.implicitly_wait(5)\n",
    "\n",
    "input_field_el = browser.find_element(\"id\", \"Dc-h\")\n",
    "input_field_el.send_keys(\"Alternative Fuel Volumes\")\n",
    "input_field_el.send_keys(Keys.ENTER)\n",
    "    "
   ]
  },
  {
   "cell_type": "markdown",
   "id": "bf12ac82-30dc-412d-b556-a966c96d01f7",
   "metadata": {},
   "source": [
    "## Clicking Generate button"
   ]
  },
  {
   "cell_type": "code",
   "execution_count": 59,
   "id": "e1cd9a28-1da6-4c56-b0fb-ebee24349488",
   "metadata": {},
   "outputs": [],
   "source": [
    "time.sleep(1.5)\n",
    "Generate_btn_el = browser.find_element(\"id\", \"l_Dc-6-52\")\n",
    "Generate_btn_el.click()"
   ]
  },
  {
   "cell_type": "markdown",
   "id": "21eadbc8-0e8b-43d1-aaa8-0c9d59af042d",
   "metadata": {},
   "source": [
    "## Inputing dates"
   ]
  },
  {
   "cell_type": "code",
   "execution_count": 60,
   "id": "3c0cd3a6-1f96-4898-848b-aa02fa60fc33",
   "metadata": {},
   "outputs": [],
   "source": [
    "time.sleep(1)\n",
    "Begin_RA_el = browser.find_element(\"id\", \"Dg-2\")\n",
    "Begin_RA_el.send_keys(Begin_RA)\n",
    "Begin_RA_el.send_keys(Keys.ENTER)"
   ]
  },
  {
   "cell_type": "code",
   "execution_count": 61,
   "id": "c6cc9a35-6f6e-49ff-a909-b73dbf116ec6",
   "metadata": {},
   "outputs": [],
   "source": [
    "time.sleep(1)\n",
    "End_RA_el = browser.find_element(\"id\", \"Dg-3\")\n",
    "End_RA_el.send_keys(End_RA)\n",
    "End_RA_el.send_keys(Keys.ENTER)"
   ]
  },
  {
   "cell_type": "markdown",
   "id": "2bfc0b8a-6ecc-4600-a88d-698faa24049d",
   "metadata": {},
   "source": [
    "## Clicking Generate button"
   ]
  },
  {
   "cell_type": "code",
   "execution_count": 62,
   "id": "48907322-fbc9-4033-bdb1-26b83bfeee78",
   "metadata": {},
   "outputs": [],
   "source": [
    "Generate_btn_el = browser.find_element(\"id\", \"caption2_Dc-7\")\n",
    "Generate_btn_el.click()\n",
    "time.sleep(10)"
   ]
  },
  {
   "cell_type": "markdown",
   "id": "2dd08eb7-83b3-4063-b06f-ef8126255e19",
   "metadata": {},
   "source": [
    "## Clicking Export to excel button"
   ]
  },
  {
   "cell_type": "code",
   "execution_count": 63,
   "id": "96a2895b-31cf-4f30-a9c4-1c2b4ef16114",
   "metadata": {},
   "outputs": [],
   "source": [
    "Export_to_excel_el = browser.find_element(\"id\", \"Dc-9\")\n",
    "Export_to_excel_el.click()\n",
    "time.sleep(5)"
   ]
  },
  {
   "cell_type": "code",
   "execution_count": 64,
   "id": "a7830530-02c7-47b4-b6f1-8a6d69049a59",
   "metadata": {},
   "outputs": [],
   "source": [
    "folder_path = \"C:/Users/asifr/Downloads\"\n",
    "files_path = os.path.join(folder_path, '*')\n",
    "files = sorted(glob.iglob(files_path), key=os.path.getctime, reverse=True) \n",
    "last_file = (files[0]) #latest file \n",
    "# print (files[0],files[1])#latest two files"
   ]
  },
  {
   "cell_type": "code",
   "execution_count": 65,
   "id": "5c81a078-2a75-4129-b3c1-d8eaf6bee7a0",
   "metadata": {},
   "outputs": [],
   "source": [
    "# file name with extension\n",
    "file_name = os.path.basename(last_file)\n",
    "\n",
    "# file name without extension\n",
    "file_name = (os.path.splitext(file_name)[0])"
   ]
  },
  {
   "cell_type": "code",
   "execution_count": 66,
   "id": "1bdf0f35-5414-465e-8074-335073a43fb7",
   "metadata": {},
   "outputs": [
    {
     "data": {
      "text/plain": [
       "'833198080'"
      ]
     },
     "execution_count": 66,
     "metadata": {},
     "output_type": "execute_result"
    }
   ],
   "source": [
    "file_name"
   ]
  },
  {
   "cell_type": "code",
   "execution_count": 67,
   "id": "59c7905e-2a43-4d21-89e2-8b90cfeb4b51",
   "metadata": {},
   "outputs": [],
   "source": [
    "old_file = os.path.join(r\"C:\\Users\\asifr\\Downloads\", (file_name + \".xls\"))\n",
    "new_file = os.path.join(r\"C:\\Users\\asifr\\OneDrive - State of New Mexico\\Desktop\\temp\", (\"alt\" + \" \" +Begin_RA + \" \" + \"to\" + \" \" + End_RA + \".xls\"))\n",
    "try:\n",
    "  os.rename(old_file, new_file)\n",
    "except FileExistsError:\n",
    "  os.remove(new_file)\n",
    "  os.rename(old_file, new_file);\n"
   ]
  },
  {
   "cell_type": "markdown",
   "id": "eb341758-438c-41da-a16b-6e0134ceb2a4",
   "metadata": {},
   "source": [
    "## Creating email attachment"
   ]
  },
  {
   "cell_type": "code",
   "execution_count": 68,
   "id": "a90cfba4-4904-4b1a-a368-9b898b543ae3",
   "metadata": {},
   "outputs": [],
   "source": [
    "fuel_reprt_email_item_5 = new_file"
   ]
  },
  {
   "cell_type": "markdown",
   "id": "e075b284-6959-4615-bbf6-b0c7dcf05bee",
   "metadata": {},
   "source": [
    "## Close the report"
   ]
  },
  {
   "cell_type": "code",
   "execution_count": 69,
   "id": "680d8506-06bb-4f74-a878-1e2c86745135",
   "metadata": {},
   "outputs": [],
   "source": [
    "browser.switch_to.window(browser.window_handles[0])\n",
    "time.sleep(2)\n",
    "\n",
    "close_button_el = browser.find_elements(By.XPATH, \"//button\")\n",
    "\n",
    "\n",
    "for button in close_button_el:\n",
    "    if button.get_attribute('title') and 'Alternative Fuel Volumes' in button.get_attribute('title'):\n",
    "        button.click();\n",
    "\n",
    "\n",
    "\n",
    "\n",
    "\n",
    "        "
   ]
  },
  {
   "cell_type": "code",
   "execution_count": 70,
   "id": "9d95e28b-10a4-414f-9c30-2123188d6736",
   "metadata": {},
   "outputs": [],
   "source": [
    "time.sleep(1.5)\n",
    "close_button_el = browser.find_elements(By.XPATH, \"//button\")\n",
    "\n",
    "for button in close_button_el:\n",
    "    if button.get_attribute('title') and 'Close Group: Generate Report' in button.get_attribute('title'):\n",
    "        button.click();\n",
    "\n",
    "time.sleep(1.5)\n",
    "Generate_Report_btn_el = browser.find_element(\"id\", \"l_Dc-1-4\")\n",
    "Generate_Report_btn_el.click()"
   ]
  },
  {
   "cell_type": "markdown",
   "id": "a11f3cf7-2320-4c70-b766-3f9b33893706",
   "metadata": {},
   "source": [
    "# Searching CFT Locations reports"
   ]
  },
  {
   "cell_type": "code",
   "execution_count": 71,
   "id": "7e338ad8-a288-4d4b-ace8-e4645736c3de",
   "metadata": {},
   "outputs": [],
   "source": [
    "browser.switch_to.window(browser.window_handles[0])\n",
    "browser.implicitly_wait(10)\n",
    "\n",
    "input_field_el = browser.find_element(\"id\", \"Dc-h\")\n",
    "input_field_el.send_keys(\"CFT Locations\")\n",
    "input_field_el.send_keys(Keys.ENTER)\n"
   ]
  },
  {
   "cell_type": "markdown",
   "id": "78328045-59da-42f0-b048-0a6420a278ba",
   "metadata": {},
   "source": [
    "## Clicking Generate button"
   ]
  },
  {
   "cell_type": "code",
   "execution_count": 72,
   "id": "565d9a24-e52e-4410-8e96-0ab1fd64a862",
   "metadata": {},
   "outputs": [],
   "source": [
    "time.sleep(1.5)\n",
    "Generate_btn_el = browser.find_element(\"id\", \"l_Dc-6-366\")\n",
    "Generate_btn_el.click()"
   ]
  },
  {
   "cell_type": "markdown",
   "id": "439d05ca-c3d5-4949-b2d2-ba956dc5ff93",
   "metadata": {},
   "source": [
    "## Defining Begining_RA"
   ]
  },
  {
   "cell_type": "code",
   "execution_count": 73,
   "id": "7a94cda6-7fe6-426a-897a-48a5292ef8eb",
   "metadata": {},
   "outputs": [
    {
     "name": "stdout",
     "output_type": "stream",
     "text": [
      "01-Sep-2023\n"
     ]
    }
   ],
   "source": [
    "now = dt.datetime.now()\n",
    "\n",
    "begining_month_closing_day = 1\n",
    "begining_month = now.month -2\n",
    "year = now.year\n",
    "begining_month_closing = dt.datetime (year, begining_month, begining_month_closing_day)\n",
    "\n",
    "Begin_RA = begining_month_closing.strftime(\"%d-%b-%Y\")\n",
    "print(Begin_RA)"
   ]
  },
  {
   "cell_type": "markdown",
   "id": "d244e6d5-889d-4c0f-8c32-53d354743637",
   "metadata": {},
   "source": [
    "## Defining End_RA"
   ]
  },
  {
   "cell_type": "code",
   "execution_count": 74,
   "id": "099965cd-b737-4fb4-9381-2b83e3d9c1dd",
   "metadata": {},
   "outputs": [
    {
     "name": "stdout",
     "output_type": "stream",
     "text": [
      "The original date is: 2023-11-21\n",
      "30-Sep-2023\n"
     ]
    }
   ],
   "source": [
    "input_dt = dt.datetime.now()\n",
    "print(\"The original date is:\", input_dt.date())\n",
    "\n",
    "from datetime import datetime, timedelta\n",
    "\n",
    "last_month = input_dt.replace(day=28) - timedelta(days=32)\n",
    "res = last_month - timedelta(days=last_month.day)\n",
    "End_RA = res.strftime(\"%d-%b-%Y\")\n",
    "print(End_RA)"
   ]
  },
  {
   "cell_type": "markdown",
   "id": "d2033820-06af-4c4c-bec6-f7fe295330b4",
   "metadata": {},
   "source": [
    "## Inputing dates"
   ]
  },
  {
   "cell_type": "code",
   "execution_count": 75,
   "id": "52a4a943-3218-47d4-acc6-9f4e0b5e4a43",
   "metadata": {},
   "outputs": [],
   "source": [
    "time.sleep(1)\n",
    "Begin_RA_el = browser.find_element(\"id\", \"Dk-7\")\n",
    "Begin_RA_el.send_keys(Begin_RA)\n",
    "Begin_RA_el.send_keys(Keys.ENTER)"
   ]
  },
  {
   "cell_type": "code",
   "execution_count": 76,
   "id": "4e1d08b9-636e-4851-adc5-68f81b0e4639",
   "metadata": {},
   "outputs": [],
   "source": [
    "time.sleep(1)\n",
    "End_RA_el = browser.find_element(\"id\", \"Dk-8\")\n",
    "End_RA_el.send_keys(End_RA)\n",
    "End_RA_el.send_keys(Keys.ENTER)\n",
    "time.sleep(1)"
   ]
  },
  {
   "cell_type": "code",
   "execution_count": 77,
   "id": "04aa0c69-28cd-48ca-b431-faf152af6228",
   "metadata": {},
   "outputs": [],
   "source": [
    "browser.switch_to.window(browser.window_handles[0])\n",
    "browser.implicitly_wait(1.5)\n",
    "\n",
    "close_button_el = browser.find_elements(By.XPATH, \"//button\")\n",
    "for button in close_button_el:\n",
    "    if button.get_attribute('class') and 'FastMessageBoxButtonYes ui-button ui-corner-all ui-widget' in button.get_attribute('class'):\n",
    "        button.click();"
   ]
  },
  {
   "cell_type": "markdown",
   "id": "9d60bb24-8a7f-4dbf-a853-6dfddf540f76",
   "metadata": {},
   "source": [
    "## Clicking Cube button"
   ]
  },
  {
   "cell_type": "code",
   "execution_count": 78,
   "id": "bbae24cc-387c-4822-a0ee-482779d27a62",
   "metadata": {},
   "outputs": [],
   "source": [
    "browser.switch_to.window(browser.window_handles[0])\n",
    "browser.implicitly_wait(5)\n",
    "\n",
    "Cube_btn_el = browser.find_element(\"id\", \"cl_Dh-a\")\n",
    "Cube_btn_el.click()\n"
   ]
  },
  {
   "cell_type": "markdown",
   "id": "99c1f311-84cf-4926-9fc6-3ec69df312a3",
   "metadata": {},
   "source": [
    "## Clicking radio button"
   ]
  },
  {
   "cell_type": "code",
   "execution_count": 79,
   "id": "b4d5bf28-4ee5-40db-81c2-418961981c82",
   "metadata": {},
   "outputs": [],
   "source": [
    "browser.implicitly_wait(5)\n",
    "\n",
    "radio_btn_el = browser.find_element(\"id\", \"cl_Df-g\")\n",
    "radio_btn_el.click();"
   ]
  },
  {
   "cell_type": "markdown",
   "id": "fd132ca6-5864-443e-86d8-34751754eb02",
   "metadata": {},
   "source": [
    "## Clicking Spreadsheet button"
   ]
  },
  {
   "cell_type": "code",
   "execution_count": 80,
   "id": "3d9d5374-ad4c-40fe-b5af-f200e301e9ad",
   "metadata": {},
   "outputs": [],
   "source": [
    "time.sleep(3)\n",
    "\n",
    "Spreadsheet_btn_el = browser.find_element(\"id\", \"l_Df_1-l-3\")\n",
    "Spreadsheet_btn_el.click()"
   ]
  },
  {
   "cell_type": "code",
   "execution_count": null,
   "id": "f4e50fe8-de45-4140-98d6-9c318ca72962",
   "metadata": {},
   "outputs": [],
   "source": []
  },
  {
   "cell_type": "code",
   "execution_count": 81,
   "id": "28b9fab6-f92c-43f0-99d1-84de802047f4",
   "metadata": {},
   "outputs": [],
   "source": [
    "folder_path = \"C:/Users/asifr/Downloads\"\n",
    "files_path = os.path.join(folder_path, '*')\n",
    "files = sorted(glob.iglob(files_path), key=os.path.getctime, reverse=True) \n",
    "last_file = (files[0]) #latest file \n",
    "# print (files[0],files[1])#latest two files"
   ]
  },
  {
   "cell_type": "code",
   "execution_count": 82,
   "id": "d2693da7-1505-47f7-8758-648e716d1118",
   "metadata": {},
   "outputs": [],
   "source": [
    "# file name with extension\n",
    "file_name = os.path.basename(last_file)\n",
    "\n",
    "# file name without extension\n",
    "file_name = (os.path.splitext(file_name)[0])"
   ]
  },
  {
   "cell_type": "code",
   "execution_count": 83,
   "id": "618e0422-6613-4356-b549-3d8bc3f9cd18",
   "metadata": {},
   "outputs": [
    {
     "data": {
      "text/plain": [
       "'Exported 202311211528'"
      ]
     },
     "execution_count": 83,
     "metadata": {},
     "output_type": "execute_result"
    }
   ],
   "source": [
    "file_name"
   ]
  },
  {
   "cell_type": "code",
   "execution_count": 84,
   "id": "d64b6769-db03-49b9-bce4-7eae28a58bf0",
   "metadata": {},
   "outputs": [],
   "source": [
    "browser.implicitly_wait(3)\n",
    "old_file = os.path.join(r\"C:\\Users\\asifr\\Downloads\", (file_name + \".ods\"))\n",
    "new_file = os.path.join(r\"C:\\Users\\asifr\\OneDrive - State of New Mexico\\Desktop\\temp\", (\"Gasoline Gallons by Locations\" + \" \" + End_RA + \".xls\"))\n",
    "try:\n",
    "  os.rename(old_file, new_file)\n",
    "except FileExistsError:\n",
    "  os.remove(new_file)\n",
    "  os.rename(old_file, new_file);\n"
   ]
  },
  {
   "cell_type": "markdown",
   "id": "c5062276-96f4-4010-9602-043bd76a19b2",
   "metadata": {},
   "source": [
    "## Creating email attachment"
   ]
  },
  {
   "cell_type": "code",
   "execution_count": 85,
   "id": "33e26c79-e754-4a12-b385-906e701067ec",
   "metadata": {},
   "outputs": [],
   "source": [
    "fuel_reprt_email_item_6 = new_file"
   ]
  },
  {
   "cell_type": "markdown",
   "id": "7682c808-f7e1-4d2b-bf89-963b66f30933",
   "metadata": {},
   "source": [
    "## Close the report"
   ]
  },
  {
   "cell_type": "code",
   "execution_count": 86,
   "id": "143941d3-400f-47c8-8b51-1576814d9c09",
   "metadata": {},
   "outputs": [],
   "source": [
    "browser.switch_to.window(browser.window_handles[0])\n",
    "time.sleep(2)\n",
    "\n",
    "close_button_el = browser.find_elements(By.XPATH, \"//button\")\n",
    "\n",
    "\n",
    "for button in close_button_el:\n",
    "    if button.get_attribute('title') and 'Close Manager: CFT Locations' in button.get_attribute('title'):\n",
    "        button.click();\n",
    "\n",
    "\n",
    "\n",
    "\n",
    "\n",
    "        "
   ]
  },
  {
   "cell_type": "code",
   "execution_count": null,
   "id": "a308a300-45ef-47c1-bc46-f971360e7916",
   "metadata": {},
   "outputs": [],
   "source": []
  }
 ],
 "metadata": {
  "kernelspec": {
   "display_name": "Python 3 (ipykernel)",
   "language": "python",
   "name": "python3"
  },
  "language_info": {
   "codemirror_mode": {
    "name": "ipython",
    "version": 3
   },
   "file_extension": ".py",
   "mimetype": "text/x-python",
   "name": "python",
   "nbconvert_exporter": "python",
   "pygments_lexer": "ipython3",
   "version": "3.11.5"
  }
 },
 "nbformat": 4,
 "nbformat_minor": 5
}
