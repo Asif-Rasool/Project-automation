{
 "cells": [
  {
   "cell_type": "code",
   "execution_count": 1,
   "id": "8421da82-0e6a-4bd6-9613-8ecfe3302206",
   "metadata": {},
   "outputs": [
    {
     "name": "stdout",
     "output_type": "stream",
     "text": [
      "2023-Oct\n",
      "2023-Sep\n"
     ]
    }
   ],
   "source": [
    "import os \n",
    "import time\n",
    "import datetime\n",
    "\n",
    "# today = datetime.date.today()\n",
    "# first = today.replace(day=1)\n",
    "# acrue_month = first - datetime.timedelta(days=32)\n",
    "# print(acrue_month.strftime(\"%Y-%b\"))\n",
    "\n",
    "# old_file = os.path.join(r\"C:\\Users\\asifr\\OneDrive - State of New Mexico\\Desktop\", \"cit.pdf\")\n",
    "# new_file = os.path.join(r\"C:\\Users\\asifr\\OneDrive - State of New Mexico\\Desktop\\test\", acrue_month.strftime(\"test cit %b %Y.pdf\"))\n",
    "# os.rename(old_file, new_file)\n",
    "\n",
    "\n",
    "\n",
    "today = datetime.date.today()\n",
    "first = today.replace(day=1)\n",
    "accrue_month_1 = first - datetime.timedelta(days=25)\n",
    "accrue_month_2 = first - datetime.timedelta(days=32)\n",
    "print(accrue_month_1.strftime(\"%Y-%b\"))\n",
    "print(accrue_month_2.strftime(\"%Y-%b\"))"
   ]
  },
  {
   "cell_type": "code",
   "execution_count": 2,
   "id": "0bd513ec-c8c4-495c-aa1f-a59038cf52ee",
   "metadata": {},
   "outputs": [],
   "source": [
    "old_file = os.path.join(r\"C:\\Users\\asifr\\OneDrive - State of New Mexico\\Desktop\", \"cit.pdf\")\n",
    "new_file = os.path.join(r\"C:\\Users\\asifr\\OneDrive - State of New Mexico\\Desktop\\test\", accrue_month_1.strftime(\"CIT-Prelim. %b %Y Reporting Generic Distribution Report.pdf\"))\n",
    "try:\n",
    "  os.rename(old_file, new_file)\n",
    "except FileExistsError:\n",
    "  os.remove(new_file)\n",
    "  os.rename(old_file, new_file)\n",
    "\n",
    "# old_file = os.path.join(r\"C:\\Users\\asifr\\OneDrive - State of New Mexico\\Desktop\\test\", \"CIT-Prelim. __ __ Reporting Generic Distribution Report (Sep 2023 Accrual).pdf\")\n",
    "# new_file = os.path.join(r\"C:\\Users\\asifr\\OneDrive - State of New Mexico\\Desktop\\test\", accrue_month_1.strftime(\"CIT-Prelim. %b %Y Reporting Generic Distribution Report (%b %Y Accrual).pdf\"))\n",
    "# try:\n",
    "#   os.rename(old_file, new_file)\n",
    "# except FileExistsError:\n",
    "#   os.remove(new_file)\n",
    "#   os.rename(old_file, new_file)"
   ]
  },
  {
   "cell_type": "code",
   "execution_count": 3,
   "id": "2d6d2c1c-f889-41b0-9988-2a560a953caf",
   "metadata": {},
   "outputs": [],
   "source": [
    "# file name with extension\n",
    "file_name = os.path.basename(new_file)\n",
    "\n",
    "# file name without extension\n",
    "file_name = (os.path.splitext(file_name)[0])"
   ]
  },
  {
   "cell_type": "code",
   "execution_count": 4,
   "id": "374a8a9c-5dbd-486e-bc09-ad18c9208338",
   "metadata": {},
   "outputs": [],
   "source": [
    "old_file = os.path.join(r\"C:\\Users\\asifr\\OneDrive - State of New Mexico\\Desktop\\test\", new_file)\n",
    "new_file = os.path.join(r\"C:\\Users\\asifr\\OneDrive - State of New Mexico\\Desktop\\test\", accrue_month_2.strftime(file_name + ' ' + \"(%b %Y Accrual).pdf\"))\n",
    "try:\n",
    "  os.rename(old_file, new_file)\n",
    "except FileExistsError:\n",
    "  os.remove(new_file)\n",
    "  os.rename(old_file, new_file)"
   ]
  },
  {
   "cell_type": "code",
   "execution_count": 5,
   "id": "baed35f6-2d84-40af-b21a-8512407c2edf",
   "metadata": {},
   "outputs": [],
   "source": [
    "# old_file = os.path.join(r\"C:\\Users\\asifr\\OneDrive - State of New Mexico\\Desktop\\test\", file_name)"
   ]
  },
  {
   "cell_type": "code",
   "execution_count": 6,
   "id": "6721da48-9c90-4b64-b710-5ccc2b6fd08d",
   "metadata": {},
   "outputs": [],
   "source": [
    "# old_file"
   ]
  },
  {
   "cell_type": "code",
   "execution_count": 7,
   "id": "12247b35-3f97-4c32-a478-c07ddf2040c8",
   "metadata": {},
   "outputs": [
    {
     "data": {
      "text/plain": [
       "'CIT-Prelim. Oct 2023 Reporting Generic Distribution Report'"
      ]
     },
     "execution_count": 7,
     "metadata": {},
     "output_type": "execute_result"
    }
   ],
   "source": [
    "file_name"
   ]
  },
  {
   "cell_type": "code",
   "execution_count": null,
   "id": "9e828691-c407-4059-a50f-f7e5982ea8cd",
   "metadata": {},
   "outputs": [],
   "source": []
  }
 ],
 "metadata": {
  "kernelspec": {
   "display_name": "Python 3 (ipykernel)",
   "language": "python",
   "name": "python3"
  },
  "language_info": {
   "codemirror_mode": {
    "name": "ipython",
    "version": 3
   },
   "file_extension": ".py",
   "mimetype": "text/x-python",
   "name": "python",
   "nbconvert_exporter": "python",
   "pygments_lexer": "ipython3",
   "version": "3.11.5"
  }
 },
 "nbformat": 4,
 "nbformat_minor": 5
}
