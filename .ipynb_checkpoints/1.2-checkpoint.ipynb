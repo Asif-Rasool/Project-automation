{
 "cells": [
  {
   "cell_type": "markdown",
   "id": "a58451b8-a792-4dbb-928d-0881a1eb78ae",
   "metadata": {},
   "source": [
    "# Importaning packages, and opening GenTax"
   ]
  },
  {
   "cell_type": "code",
   "execution_count": 1,
   "id": "de36a659-8199-47c8-b57b-4a171f2c8ec0",
   "metadata": {},
   "outputs": [],
   "source": [
    "# !pip install selenium\n",
    "# !pip install webdriver_manager\n",
    "\n",
    "import getpass\n",
    "import time\n",
    "import requests\n",
    "import base64\n",
    "from selenium import webdriver\n",
    "from selenium.webdriver.common.keys import Keys\n",
    "from selenium.webdriver.support.ui import WebDriverWait\n",
    "from selenium.webdriver.support import expected_conditions as EC\n",
    "from selenium.common.exceptions import TimeoutException\n",
    "from selenium.webdriver.common.by import By\n",
    "from selenium.webdriver.chrome.service import Service as ChromeService\n",
    "from webdriver_manager.chrome import ChromeDriverManager\n",
    "\n",
    "from pathlib import Path\n",
    "\n",
    "options = webdriver.ChromeOptions()\n",
    "options.add_argument(\"--headless\")\n",
    "browser =webdriver.Chrome()\n",
    "browser = webdriver.Chrome(service = ChromeService(ChromeDriverManager().install(), options = options))\n",
    "url = 'https://gentaxprod.trd.state.nm.us/GenTax/dPWmgh2N/#1'\n",
    "browser.get(url)\n",
    "\n",
    "browser.maximize_window()\n"
   ]
  },
  {
   "cell_type": "markdown",
   "id": "d60d34e7-b1af-4f4a-9374-c21faf0fbe76",
   "metadata": {},
   "source": [
    "# Providing login credentials"
   ]
  },
  {
   "cell_type": "code",
   "execution_count": 2,
   "id": "2a06f310-8915-4408-adb7-ace32c32f226",
   "metadata": {},
   "outputs": [
    {
     "name": "stdin",
     "output_type": "stream",
     "text": [
      "Please type your login id:\n",
      " ········\n"
     ]
    }
   ],
   "source": [
    "my_login = getpass.getpass(\"Please type your login id:\\n\")"
   ]
  },
  {
   "cell_type": "code",
   "execution_count": 3,
   "id": "c8d944b8-3abd-4603-afb9-0d5bad5b7d67",
   "metadata": {},
   "outputs": [
    {
     "name": "stdin",
     "output_type": "stream",
     "text": [
      "Please type your password:\n",
      " ········\n"
     ]
    }
   ],
   "source": [
    "my_password = getpass.getpass(\"Please type your password:\\n\")"
   ]
  },
  {
   "cell_type": "code",
   "execution_count": 4,
   "id": "a91c46a6-e047-499c-bcf8-de78a2c30702",
   "metadata": {},
   "outputs": [],
   "source": [
    "time.sleep(2)\n",
    "username_el = browser.find_element(\"name\", \"Dc-c\")\n",
    "username_el.send_keys(my_login)"
   ]
  },
  {
   "cell_type": "code",
   "execution_count": 5,
   "id": "67b8322d-0f0b-457a-bddf-7a5f8d842910",
   "metadata": {},
   "outputs": [],
   "source": [
    "password_el = browser.find_element(\"name\", \"Dc-d\")\n",
    "password_el.send_keys(my_password)"
   ]
  },
  {
   "cell_type": "markdown",
   "id": "61f706c7-d857-4522-b4f9-c93d27805a4f",
   "metadata": {},
   "source": [
    "# Clicking the logon button"
   ]
  },
  {
   "cell_type": "code",
   "execution_count": 6,
   "id": "c489436b-dc1c-4546-955b-a60029c69b39",
   "metadata": {},
   "outputs": [],
   "source": [
    "time.sleep(1.5)\n",
    "submit_btn_el = browser.find_element(\"css selector\", \"[class='ButtonCaptionText']\")"
   ]
  },
  {
   "cell_type": "code",
   "execution_count": 7,
   "id": "568047e7-b643-4eae-a94c-86b5e49610d9",
   "metadata": {},
   "outputs": [],
   "source": [
    "submit_btn_el.click()"
   ]
  },
  {
   "cell_type": "markdown",
   "id": "a7750ae1-0b47-4bf9-9581-606a8e0f1e98",
   "metadata": {},
   "source": [
    "# Clicking the Report button"
   ]
  },
  {
   "cell_type": "code",
   "execution_count": 8,
   "id": "4b97dac6-2c00-414d-af17-617f6a5cde6b",
   "metadata": {},
   "outputs": [],
   "source": [
    "time.sleep(1.5)\n",
    "report_btn_el = browser.find_element(\"id\", \"l_Dd-1-16\")\n",
    "report_btn_el.click()"
   ]
  },
  {
   "cell_type": "markdown",
   "id": "962f41d2-bae5-4a8d-8e84-e4167c7f172e",
   "metadata": {},
   "source": [
    "# Clicking the My Subscriptions button"
   ]
  },
  {
   "cell_type": "code",
   "execution_count": 9,
   "id": "952e0454-365d-4f9b-85eb-10fb4ce21075",
   "metadata": {},
   "outputs": [],
   "source": [
    "time.sleep(1.5)\n",
    "my_subscriptions_btn_el = browser.find_element(\"id\", \"l_Dc-1-5\")\n",
    "my_subscriptions_btn_el.click()"
   ]
  },
  {
   "cell_type": "markdown",
   "id": "0a40e956-f897-4916-b0d6-dd561019ec1d",
   "metadata": {},
   "source": [
    "# Working on GL Backend RA - Main report"
   ]
  },
  {
   "cell_type": "markdown",
   "id": "6540b8a3-adf5-45f9-aedc-a4dad9defa57",
   "metadata": {},
   "source": [
    "## Clicking the Generate button"
   ]
  },
  {
   "cell_type": "code",
   "execution_count": 10,
   "id": "50b7420b-eba0-45fa-93a3-c9f2908c2c47",
   "metadata": {},
   "outputs": [],
   "source": [
    "time.sleep(1.5)\n",
    "GL_Backend_RA_Main_Generate_btn_el = browser.find_element(\"id\", \"l_Dc-5-17\")\n",
    "GL_Backend_RA_Main_Generate_btn_el.click()"
   ]
  },
  {
   "cell_type": "markdown",
   "id": "2961f907-afd4-4ac2-b50d-f59d314d4a9c",
   "metadata": {},
   "source": [
    "## Selecting CIT"
   ]
  },
  {
   "cell_type": "code",
   "execution_count": 11,
   "id": "cac107b8-a4e1-4872-89d9-13569f39ed85",
   "metadata": {},
   "outputs": [],
   "source": [
    "time.sleep(1.5)\n",
    "Revenue_Group_el = browser.find_element(\"name\", \"Dg-2\")\n",
    "Revenue_Group_el.send_keys(\"CIT\")\n",
    "Revenue_Group_el.send_keys(Keys.ENTER)"
   ]
  },
  {
   "cell_type": "markdown",
   "id": "0c570cc1-35d5-4359-a2f4-219396f5218d",
   "metadata": {},
   "source": [
    "## Clicking the Generate button"
   ]
  },
  {
   "cell_type": "code",
   "execution_count": 12,
   "id": "e5488c0c-6de7-408c-b519-d2626f1b5bfd",
   "metadata": {},
   "outputs": [],
   "source": [
    "time.sleep(1.5)\n",
    "Generate_btn_el = browser.find_element(\"id\", \"caption2_Dc-7\")\n",
    "Generate_btn_el.click()\n"
   ]
  },
  {
   "cell_type": "markdown",
   "id": "eed5be3f-b73c-4efa-9af4-25516543d04d",
   "metadata": {},
   "source": [
    "## Clicking the Generate button"
   ]
  },
  {
   "cell_type": "code",
   "execution_count": 13,
   "id": "35ff8227-ebc2-462c-ade1-653b0225894f",
   "metadata": {},
   "outputs": [
    {
     "name": "stdout",
     "output_type": "stream",
     "text": [
      "Loading took too much time!\n"
     ]
    }
   ],
   "source": [
    "delay = 30 # seconds\n",
    "try:\n",
    "    myElem = WebDriverWait(browser, delay).until(EC.presence_of_element_located((By.ID, 'View Report')))\n",
    "    print (\"Page is ready!\")\n",
    "except TimeoutException:\n",
    "    print (\"Loading took too much time!\")\n",
    "    \n",
    "\n",
    "\n",
    "time.sleep(1.5)\n",
    "View_Report_el = browser.find_element(\"id\", \"Dc-8\")\n",
    "\n",
    "# options = webdriver.ChromeOptions()\n",
    "# options.add_experimental_option('prefs', {\n",
    "#     \"download.default_directory\": \"C:/Users/asifr/OneDrive - State of New Mexico/Documents/Project automation/Reports\",\n",
    "#     \"download.prompt_for_download\": False,\n",
    "#     \"plugins.always_open_pdf_externally\": True})\n",
    "# browser = webdriver.Chrome(service = ChromeService(ChromeDriverManager().install(), options = options))\n",
    "\n",
    "View_Report_el.click()\n",
    "time.sleep(1.5)\n"
   ]
  },
  {
   "cell_type": "code",
   "execution_count": 22,
   "id": "79f19c56-74b6-4e77-a55c-660e6839ad98",
   "metadata": {},
   "outputs": [
    {
     "data": {
      "text/plain": [
       "True"
      ]
     },
     "execution_count": 22,
     "metadata": {},
     "output_type": "execute_result"
    }
   ],
   "source": [
    "browser.switch_to.window(browser.window_handles[1])\n",
    "\n",
    "# import base64\n",
    "# from selenium.webdriver.common.print_page_options import PrintOptions\n",
    "# print_options = PrintOptions()\n",
    "# print_options.page_height = 10\n",
    "# print_options.page_width = 10\n",
    "# pdf = browser.print_page(print_options=print_options)\n",
    "# browser.close()\n",
    "\n",
    "# # save the output to a file.\n",
    "# with open('example.pdf', 'wb') as file:\n",
    "#     file.write(base64.b64decode(pdf))\n",
    "\n",
    "browser.get_screenshot_as_file(\".\\\\test.png\")"
   ]
  },
  {
   "cell_type": "code",
   "execution_count": 15,
   "id": "94477280-2218-46ad-acc2-f33c3e0a9e1d",
   "metadata": {},
   "outputs": [],
   "source": [
    "# options.add_argument(\"--headless\")\n",
    "# width =1920\n",
    "# # height = browser.execute_script('return Math.max(document.body.scrollHeight, document.body.offsetHeight, document.documentElement.clientHeight, document.documentElement.scrollHeight, document.documentElement.offsetHeight)')\n",
    "# browser.set_window_size(width, 1080*5)\n",
    "# page_body = browser.find_element(By.TAG_NAME, \"body\")\n",
    "# page_body.screenshot(\"full.png\")"
   ]
  },
  {
   "cell_type": "code",
   "execution_count": 16,
   "id": "3e455b28-52e1-4072-bbae-cbad02c9f655",
   "metadata": {},
   "outputs": [],
   "source": [
    "# time.sleep(3)\n",
    "# browser.switch_to.window(browser.window_handles[1])\n",
    "# CIT_url = browser.current_url\n",
    "# # # browser.close()"
   ]
  },
  {
   "cell_type": "code",
   "execution_count": 17,
   "id": "12562f68-da6f-4aa3-9a43-ce8e64552b5d",
   "metadata": {},
   "outputs": [],
   "source": [
    "\n",
    "# filename = Path(r'C:\\Users\\asifr\\OneDrive - State of New Mexico\\Documents\\Project automation\\Reports\\CIT-Prelim. Oct 2023 Reporting Generic Distribution Report (Sep 2023 Accrual).pdf')\n",
    "# response = requests.get(browser.current_url)\n",
    "# filename.write_bytes(response.content)"
   ]
  },
  {
   "cell_type": "code",
   "execution_count": 18,
   "id": "31807e96-d421-4312-b4a3-11b019642cc6",
   "metadata": {},
   "outputs": [],
   "source": [
    "# !pip install pyhtml2pdf"
   ]
  },
  {
   "cell_type": "code",
   "execution_count": 19,
   "id": "8a3f585c-73a5-4a11-ae0b-e84b1de72fb5",
   "metadata": {},
   "outputs": [],
   "source": [
    "# from pyhtml2pdf import converter"
   ]
  },
  {
   "cell_type": "code",
   "execution_count": 20,
   "id": "e1653e9f-ef94-4f6a-abeb-ae33365e66ac",
   "metadata": {},
   "outputs": [],
   "source": [
    "# converter.convert(CIT_url, 'sample.pdf')"
   ]
  },
  {
   "cell_type": "code",
   "execution_count": 21,
   "id": "20d41677-8133-4f75-8082-86964f102ed6",
   "metadata": {},
   "outputs": [],
   "source": [
    "# import json\n",
    "\n",
    "# settings = {\n",
    "#        \"recentDestinations\": [{\n",
    "#             \"id\": \"Save as PDF\",\n",
    "#             \"origin\": \"local\",\n",
    "#             \"account\": \"\",\n",
    "#         }],\n",
    "#         \"selectedDestinationId\": \"Save as PDF\",\n",
    "#         \"version\": 2\n",
    "#     }\n",
    "# prefs = {'printing.print_preview_sticky_settings.appState': json.dumps(settings), 'savefile.default_directory': r'C:\\Users\\asifr\\OneDrive - State of New Mexico\\Documents\\Project automation'}\n",
    "# options.add_experimental_option('prefs', prefs)\n",
    "# options.add_argument('--kiosk-printing')\n",
    "# # CHROMEDRIVER_PATH = '/usr/local/bin/chromedriver'\n",
    "# driver = webdriver.Chrome(options=options)\n",
    "# driver.get(CIT_url)\n",
    "# driver.execute_script('window.print();')\n",
    "# driver.quit()"
   ]
  },
  {
   "cell_type": "code",
   "execution_count": null,
   "id": "9301a171-68ea-4c45-a1cc-c962d936d45e",
   "metadata": {},
   "outputs": [],
   "source": []
  }
 ],
 "metadata": {
  "kernelspec": {
   "display_name": "Python 3 (ipykernel)",
   "language": "python",
   "name": "python3"
  },
  "language_info": {
   "codemirror_mode": {
    "name": "ipython",
    "version": 3
   },
   "file_extension": ".py",
   "mimetype": "text/x-python",
   "name": "python",
   "nbconvert_exporter": "python",
   "pygments_lexer": "ipython3",
   "version": "3.11.5"
  }
 },
 "nbformat": 4,
 "nbformat_minor": 5
}
