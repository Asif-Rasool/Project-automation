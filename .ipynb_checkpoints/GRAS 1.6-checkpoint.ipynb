{
 "cells": [
  {
   "cell_type": "markdown",
   "id": "1558ace5-cb6b-4dac-9ec2-cb8988b84fe7",
   "metadata": {},
   "source": [
    "**<h1><p style=\"text-align: center;\">GenTax Report Automation Script: GRAS ver. 1.6</p>**"
   ]
  },
  {
   "cell_type": "markdown",
   "id": "a58451b8-a792-4dbb-928d-0881a1eb78ae",
   "metadata": {},
   "source": [
    "# Importaning packages, and opening GenTax"
   ]
  },
  {
   "cell_type": "code",
   "execution_count": 1,
   "id": "de36a659-8199-47c8-b57b-4a171f2c8ec0",
   "metadata": {},
   "outputs": [],
   "source": [
    "# !pip install selenium\n",
    "# !pip install webdriver_manager\n",
    "# !pip install -U pyautoit\n",
    "# !pip install pypiwin32\n",
    "\n",
    "import autoit\n",
    "import getpass\n",
    "import time\n",
    "import os \n",
    "import datetime\n",
    "import win32com.client as win32\n",
    "\n",
    "from win32com.client import Dispatch\n",
    "from selenium import webdriver\n",
    "from selenium.webdriver.common.keys import Keys\n",
    "from selenium.webdriver.support.ui import WebDriverWait\n",
    "from selenium.webdriver.support import expected_conditions as EC\n",
    "from selenium.common.exceptions import TimeoutException\n",
    "from selenium.webdriver.common.by import By\n",
    "from selenium.webdriver.chrome.service import Service as ChromeService\n",
    "from webdriver_manager.chrome import ChromeDriverManager\n",
    "\n",
    "options = webdriver.ChromeOptions()\n",
    "\n",
    "options.add_argument(\"--headless\")\n",
    "browser =webdriver.Chrome()\n",
    "browser = webdriver.Chrome(service = ChromeService(ChromeDriverManager().install(), options = options))"
   ]
  },
  {
   "cell_type": "markdown",
   "id": "d60d34e7-b1af-4f4a-9374-c21faf0fbe76",
   "metadata": {},
   "source": [
    "# Providing login credentials"
   ]
  },
  {
   "cell_type": "code",
   "execution_count": 5,
   "id": "2a06f310-8915-4408-adb7-ace32c32f226",
   "metadata": {},
   "outputs": [
    {
     "name": "stdin",
     "output_type": "stream",
     "text": [
      "Please type your GenTax login id:\n",
      " ········\n"
     ]
    }
   ],
   "source": [
    "my_login = getpass.getpass(\"Please type your GenTax login id:\\n\")"
   ]
  },
  {
   "cell_type": "code",
   "execution_count": 6,
   "id": "c8d944b8-3abd-4603-afb9-0d5bad5b7d67",
   "metadata": {},
   "outputs": [
    {
     "name": "stdin",
     "output_type": "stream",
     "text": [
      "Please type your GenTax password:\n",
      " ········\n"
     ]
    }
   ],
   "source": [
    "my_password = getpass.getpass(\"Please type your GenTax password:\\n\")"
   ]
  },
  {
   "cell_type": "code",
   "execution_count": 7,
   "id": "9275b624-1acb-4b22-b93f-afb8bd3254f9",
   "metadata": {},
   "outputs": [],
   "source": [
    "url = 'https://gentaxprod.trd.state.nm.us/GenTax/dPWmgh2N/#1'\n",
    "browser.get(url)\n",
    "browser.maximize_window()"
   ]
  },
  {
   "cell_type": "code",
   "execution_count": 8,
   "id": "a91c46a6-e047-499c-bcf8-de78a2c30702",
   "metadata": {},
   "outputs": [],
   "source": [
    "time.sleep(2)\n",
    "username_el = browser.find_element(\"name\", \"Dc-c\")\n",
    "username_el.send_keys(my_login)"
   ]
  },
  {
   "cell_type": "code",
   "execution_count": 9,
   "id": "67b8322d-0f0b-457a-bddf-7a5f8d842910",
   "metadata": {},
   "outputs": [],
   "source": [
    "password_el = browser.find_element(\"name\", \"Dc-d\")\n",
    "password_el.send_keys(my_password)"
   ]
  },
  {
   "cell_type": "markdown",
   "id": "61f706c7-d857-4522-b4f9-c93d27805a4f",
   "metadata": {},
   "source": [
    "# Clicking the logon button"
   ]
  },
  {
   "cell_type": "code",
   "execution_count": 10,
   "id": "c489436b-dc1c-4546-955b-a60029c69b39",
   "metadata": {},
   "outputs": [],
   "source": [
    "time.sleep(1.5)\n",
    "submit_btn_el = browser.find_element(\"css selector\", \"[class='ButtonCaptionText']\")"
   ]
  },
  {
   "cell_type": "code",
   "execution_count": 11,
   "id": "568047e7-b643-4eae-a94c-86b5e49610d9",
   "metadata": {},
   "outputs": [],
   "source": [
    "submit_btn_el.click()"
   ]
  },
  {
   "cell_type": "markdown",
   "id": "a7750ae1-0b47-4bf9-9581-606a8e0f1e98",
   "metadata": {},
   "source": [
    "# Clicking the Report button"
   ]
  },
  {
   "cell_type": "code",
   "execution_count": 12,
   "id": "4b97dac6-2c00-414d-af17-617f6a5cde6b",
   "metadata": {},
   "outputs": [],
   "source": [
    "time.sleep(1.5)\n",
    "report_btn_el = browser.find_element(\"id\", \"l_Dd-1-16\")\n",
    "report_btn_el.click()"
   ]
  },
  {
   "cell_type": "markdown",
   "id": "962f41d2-bae5-4a8d-8e84-e4167c7f172e",
   "metadata": {},
   "source": [
    "# Clicking the My Subscriptions button"
   ]
  },
  {
   "cell_type": "code",
   "execution_count": 13,
   "id": "952e0454-365d-4f9b-85eb-10fb4ce21075",
   "metadata": {},
   "outputs": [],
   "source": [
    "time.sleep(1.5)\n",
    "my_subscriptions_btn_el = browser.find_element(\"id\", \"l_Dc-1-5\")\n",
    "my_subscriptions_btn_el.click()"
   ]
  },
  {
   "cell_type": "markdown",
   "id": "0a40e956-f897-4916-b0d6-dd561019ec1d",
   "metadata": {},
   "source": [
    "# Working on GL Backend RA - Main report"
   ]
  },
  {
   "cell_type": "markdown",
   "id": "68503792-59b9-4c0e-8a83-7a89c1ce9529",
   "metadata": {},
   "source": [
    "## CIT"
   ]
  },
  {
   "cell_type": "markdown",
   "id": "6540b8a3-adf5-45f9-aedc-a4dad9defa57",
   "metadata": {},
   "source": [
    "### Clicking the Generate button"
   ]
  },
  {
   "cell_type": "code",
   "execution_count": 14,
   "id": "50b7420b-eba0-45fa-93a3-c9f2908c2c47",
   "metadata": {},
   "outputs": [],
   "source": [
    "time.sleep(3)\n",
    "GL_Backend_RA_Main_Generate_btn_el = browser.find_element(\"id\", \"l_Dc-5-17\")\n",
    "GL_Backend_RA_Main_Generate_btn_el.click()"
   ]
  },
  {
   "cell_type": "markdown",
   "id": "2961f907-afd4-4ac2-b50d-f59d314d4a9c",
   "metadata": {},
   "source": [
    "### Selecting CIT"
   ]
  },
  {
   "cell_type": "code",
   "execution_count": 15,
   "id": "cac107b8-a4e1-4872-89d9-13569f39ed85",
   "metadata": {},
   "outputs": [],
   "source": [
    "time.sleep(1.5)\n",
    "Revenue_Group_el = browser.find_element(\"name\", \"Dg-2\")\n",
    "Revenue_Group_el.send_keys(\"CIT\")\n",
    "Revenue_Group_el.send_keys(Keys.ENTER)"
   ]
  },
  {
   "cell_type": "markdown",
   "id": "0c570cc1-35d5-4359-a2f4-219396f5218d",
   "metadata": {},
   "source": [
    "### Clicking the Generate button"
   ]
  },
  {
   "cell_type": "code",
   "execution_count": 16,
   "id": "e5488c0c-6de7-408c-b519-d2626f1b5bfd",
   "metadata": {},
   "outputs": [],
   "source": [
    "time.sleep(1.5)\n",
    "Generate_btn_el = browser.find_element(\"id\", \"caption2_Dc-7\")\n",
    "Generate_btn_el.click()\n"
   ]
  },
  {
   "cell_type": "markdown",
   "id": "eed5be3f-b73c-4efa-9af4-25516543d04d",
   "metadata": {},
   "source": [
    "### Clicking the View Report button"
   ]
  },
  {
   "cell_type": "code",
   "execution_count": 17,
   "id": "35ff8227-ebc2-462c-ade1-653b0225894f",
   "metadata": {},
   "outputs": [
    {
     "name": "stdout",
     "output_type": "stream",
     "text": [
      "Loading took too much time!\n"
     ]
    }
   ],
   "source": [
    "delay = 10 # seconds\n",
    "try:\n",
    "    myElem = WebDriverWait(browser, delay).until(EC.presence_of_element_located((By.ID, 'IC_Dc-8')))\n",
    "    print (\"Page is ready!\")\n",
    "except TimeoutException:\n",
    "    print (\"Loading took too much time!\")\n",
    "     \n",
    "View_Report_el = browser.find_element(\"id\", \"Dc-8\")\n",
    "\n",
    "View_Report_el.click()\n",
    "time.sleep(1.5)"
   ]
  },
  {
   "cell_type": "markdown",
   "id": "12a6a74b-d725-47b2-89f2-b2e1ce7c049b",
   "metadata": {},
   "source": [
    "### Printing report"
   ]
  },
  {
   "cell_type": "code",
   "execution_count": 18,
   "id": "37d2326b-b7df-4c30-8d2d-52c3fbb6c323",
   "metadata": {},
   "outputs": [],
   "source": [
    "browser.switch_to.window(browser.window_handles[1])\n",
    "time.sleep(3)\n",
    "autoit.send(\"^p\")\n",
    "time.sleep(3) # Pause to allow the PDF printer to load\n",
    "autoit.send(\"{Enter}\")\n",
    "time.sleep(3) # Pause to allow the printer to print.\n",
    "autoit.send(\"cit\")\n",
    "autoit.send(\"{Enter}\")\n",
    "time.sleep(5)\n",
    "autoit.send(\"!{F4}\")\n",
    "time.sleep(3)\n",
    "browser.close()\n",
    "\n",
    "\n"
   ]
  },
  {
   "cell_type": "markdown",
   "id": "50b66770-7c0c-4513-99aa-b6218e24e2a1",
   "metadata": {},
   "source": [
    "### Close the report"
   ]
  },
  {
   "cell_type": "code",
   "execution_count": 19,
   "id": "15c84d57-f059-48ba-8084-c49038766aa0",
   "metadata": {},
   "outputs": [],
   "source": [
    "browser.switch_to.window(browser.window_handles[0])\n",
    "browser.implicitly_wait(1.5)\n",
    "\n",
    "close_button_el = browser.find_elements(By.XPATH, \"//button\")\n",
    "\n",
    "\n",
    "for button in close_button_el:\n",
    "    if button.get_attribute('title') and 'Close Manager: GL Backend RA - Main' in button.get_attribute('title'):\n",
    "        button.click();\n",
    "        \n",
    "    "
   ]
  },
  {
   "cell_type": "markdown",
   "id": "e44690c4-2c1a-4b27-bbbc-3036b1719375",
   "metadata": {},
   "source": [
    "### Renaming and moving the report"
   ]
  },
  {
   "cell_type": "code",
   "execution_count": 20,
   "id": "ec23134d-ef7f-41c4-b43d-0bb852f60a3b",
   "metadata": {},
   "outputs": [
    {
     "name": "stdout",
     "output_type": "stream",
     "text": [
      "2023-Oct\n",
      "2023-Sep\n"
     ]
    }
   ],
   "source": [
    "today = datetime.date.today()\n",
    "first = today.replace(day=1)\n",
    "accrue_month_1 = first - datetime.timedelta(days=25)\n",
    "accrue_month_2 = first - datetime.timedelta(days=32)\n",
    "print(accrue_month_1.strftime(\"%Y-%b\"))\n",
    "print(accrue_month_2.strftime(\"%Y-%b\"))"
   ]
  },
  {
   "cell_type": "code",
   "execution_count": 21,
   "id": "aa5123c6-b8bb-4ec3-9e53-dd4e289e9485",
   "metadata": {},
   "outputs": [],
   "source": [
    "Desktop = os.path.join(os.path.join(os.environ['USERPROFILE']), 'Desktop')"
   ]
  },
  {
   "cell_type": "code",
   "execution_count": 18,
   "id": "44d82232-205e-45d7-8e26-cf37c54aedcc",
   "metadata": {},
   "outputs": [],
   "source": [
    "old_file = os.path.join(Desktop, \"cit.pdf\")\n",
    "new_file = os.path.join(Desktop, accrue_month_1.strftime(\"CIT-Prelim. %b %Y Reporting Generic Distribution Report.pdf\"))\n",
    "try:\n",
    "  os.rename(old_file, new_file)\n",
    "except FileExistsError:\n",
    "  os.remove(new_file)\n",
    "  os.rename(old_file, new_file)"
   ]
  },
  {
   "cell_type": "code",
   "execution_count": 19,
   "id": "596b69bb-e883-4fee-9162-4850c2ddae70",
   "metadata": {},
   "outputs": [],
   "source": [
    "# file name with extension\n",
    "file_name = os.path.basename(new_file)\n",
    "\n",
    "# file name without extension\n",
    "file_name = (os.path.splitext(file_name)[0])"
   ]
  },
  {
   "cell_type": "code",
   "execution_count": 20,
   "id": "aae0086a-44de-4833-b95a-ce2f19dff7b5",
   "metadata": {},
   "outputs": [],
   "source": [
    "old_file = os.path.join(Desktop, new_file)\n",
    "new_file = os.path.join(Desktop, accrue_month_2.strftime(file_name + ' ' + \"(%b %Y Accrual).pdf\"))\n",
    "try:\n",
    "  os.rename(old_file, new_file)\n",
    "except FileExistsError:\n",
    "  os.remove(new_file)\n",
    "  os.rename(old_file, new_file)"
   ]
  },
  {
   "cell_type": "markdown",
   "id": "ad6d1f1b-ecee-4850-af0d-5cb1a8b8031f",
   "metadata": {},
   "source": [
    "## OGP-R"
   ]
  },
  {
   "cell_type": "markdown",
   "id": "eb07ec1b-4d23-4fac-a1db-dcd01217fbe3",
   "metadata": {},
   "source": [
    "### Clicking the Generate button"
   ]
  },
  {
   "cell_type": "code",
   "execution_count": 21,
   "id": "abd0f1fb-de09-4785-9899-b15a428cdfb6",
   "metadata": {},
   "outputs": [],
   "source": [
    "time.sleep(1.5)\n",
    "GL_Backend_RA_Main_Generate_btn_el = browser.find_element(\"id\", \"l_Dc-5-17\")\n",
    "GL_Backend_RA_Main_Generate_btn_el.click();"
   ]
  },
  {
   "cell_type": "markdown",
   "id": "6a6efbe6-352c-4db9-b139-e28bbbd4408f",
   "metadata": {},
   "source": [
    "### Selecting OGP-R"
   ]
  },
  {
   "cell_type": "code",
   "execution_count": 22,
   "id": "f4c53aaa-be38-4ed1-8a59-19576c157acc",
   "metadata": {},
   "outputs": [],
   "source": [
    "time.sleep(3)\n",
    "Revenue_Group_el = browser.find_element(\"name\", \"Dg-2\")\n",
    "Revenue_Group_el.send_keys(\"OGP-R\")\n",
    "Revenue_Group_el.send_keys(Keys.ENTER)"
   ]
  },
  {
   "cell_type": "markdown",
   "id": "f49d5a55-54f7-40d5-a228-1a7e25ab6772",
   "metadata": {},
   "source": [
    "### Clicking the Generate button"
   ]
  },
  {
   "cell_type": "code",
   "execution_count": 23,
   "id": "eff8f651-9fc6-41eb-88b3-a3d54de84d8d",
   "metadata": {},
   "outputs": [],
   "source": [
    "Generate_btn_el = browser.find_element(\"id\", \"caption2_Dc-7\")\n",
    "Generate_btn_el.click()"
   ]
  },
  {
   "cell_type": "markdown",
   "id": "72f42a33-9fce-40d9-8325-25706b67383b",
   "metadata": {},
   "source": [
    "### Clicking the View Report button"
   ]
  },
  {
   "cell_type": "code",
   "execution_count": 24,
   "id": "7f307002-c83b-4b9a-8850-282db8541054",
   "metadata": {},
   "outputs": [
    {
     "name": "stdout",
     "output_type": "stream",
     "text": [
      "Page is ready!\n"
     ]
    }
   ],
   "source": [
    "delay = 3 # seconds\n",
    "try:\n",
    "    myElem = WebDriverWait(browser, delay).until(EC.presence_of_element_located((By.ID, 'Dc-8')))\n",
    "    print (\"Page is ready!\")\n",
    "except TimeoutException:\n",
    "    print (\"Loading took too much time!\")\n",
    "time.sleep(10)     \n",
    "View_Report_el = browser.find_element(\"id\", \"Dc-8\")\n",
    "\n",
    "View_Report_el.click()\n",
    "time.sleep(1.5)"
   ]
  },
  {
   "cell_type": "markdown",
   "id": "89dec4a5-3a56-4cd8-9567-37fed9f104f3",
   "metadata": {},
   "source": [
    "### Printing report"
   ]
  },
  {
   "cell_type": "code",
   "execution_count": 25,
   "id": "07599ffc-1fdb-4e8f-b038-504aacb405a0",
   "metadata": {},
   "outputs": [],
   "source": [
    "browser.switch_to.window(browser.window_handles[1])\n",
    "time.sleep(3)\n",
    "autoit.send(\"^p\")\n",
    "time.sleep(3) # Pause to allow the PDF printer to load\n",
    "autoit.send(\"{Enter}\")\n",
    "time.sleep(3) # Pause to allow the printer to print.\n",
    "autoit.send(\"ogp-r\")\n",
    "autoit.send(\"{Enter}\")\n",
    "time.sleep(3)\n",
    "autoit.send(\"!{F4}\")\n",
    "time.sleep(3)\n",
    "browser.close()"
   ]
  },
  {
   "cell_type": "markdown",
   "id": "6777a86e-b5a9-4d8d-93ec-483989fddcad",
   "metadata": {},
   "source": [
    "### Close the report"
   ]
  },
  {
   "cell_type": "code",
   "execution_count": 26,
   "id": "d2ea111b-9bc7-46de-a9e6-d6bef8df3bdc",
   "metadata": {},
   "outputs": [],
   "source": [
    "browser.switch_to.window(browser.window_handles[0])\n",
    "browser.implicitly_wait(1.5)\n",
    "\n",
    "close_button_el = browser.find_elements(By.XPATH, \"//button\")\n",
    "\n",
    "for button in close_button_el:\n",
    "    if button.get_attribute('title') and 'Close Manager: GL Backend RA - Main' in button.get_attribute('title'):\n",
    "        button.click();\n",
    "        "
   ]
  },
  {
   "cell_type": "markdown",
   "id": "a632aa2c-01e7-44c7-aad3-1b12bb4b049e",
   "metadata": {},
   "source": [
    "### Renaming and moving the report"
   ]
  },
  {
   "cell_type": "code",
   "execution_count": 27,
   "id": "090af256-f295-47e1-b462-0a33cd1597b9",
   "metadata": {},
   "outputs": [],
   "source": [
    "old_file = os.path.join(Desktop, \"ogp-r.pdf\")\n",
    "new_file = os.path.join(Desktop, accrue_month_1.strftime(\"OGP-R-Prelim. %b %Y Reporting Generic Distribution Report.pdf\"))\n",
    "try:\n",
    "  os.rename(old_file, new_file)\n",
    "except FileExistsError:\n",
    "  os.remove(new_file)\n",
    "  os.rename(old_file, new_file)"
   ]
  },
  {
   "cell_type": "code",
   "execution_count": 28,
   "id": "e982a20e-796d-4a71-afc1-02198add7591",
   "metadata": {},
   "outputs": [],
   "source": [
    "# file name with extension\n",
    "file_name = os.path.basename(new_file)\n",
    "\n",
    "# file name without extension\n",
    "file_name = (os.path.splitext(file_name)[0])"
   ]
  },
  {
   "cell_type": "code",
   "execution_count": 29,
   "id": "98d0e94f-9f1f-4104-87e6-cef8a8917834",
   "metadata": {},
   "outputs": [],
   "source": [
    "old_file = os.path.join(Desktop, new_file)\n",
    "new_file = os.path.join(Desktop, accrue_month_2.strftime(file_name + ' ' + \"(%b %Y Accrual).pdf\"))\n",
    "try:\n",
    "  os.rename(old_file, new_file)\n",
    "except FileExistsError:\n",
    "  os.remove(new_file)\n",
    "  os.rename(old_file, new_file)"
   ]
  },
  {
   "cell_type": "markdown",
   "id": "c732778b-5b9c-42af-92af-bf9d503aba7f",
   "metadata": {},
   "source": [
    "## PIT"
   ]
  },
  {
   "cell_type": "markdown",
   "id": "1e033f3a-2602-46d1-9009-0033a9348e27",
   "metadata": {},
   "source": [
    "### Clicking the Generate button"
   ]
  },
  {
   "cell_type": "code",
   "execution_count": 30,
   "id": "e70cd140-3c4e-4684-aaba-e13bcb74c26f",
   "metadata": {},
   "outputs": [],
   "source": [
    "time.sleep(1.5)\n",
    "GL_Backend_RA_Main_Generate_btn_el = browser.find_element(\"id\", \"l_Dc-5-17\")\n",
    "GL_Backend_RA_Main_Generate_btn_el.click();"
   ]
  },
  {
   "cell_type": "markdown",
   "id": "dc02c6c1-88a6-4408-a590-4df9a31dbd89",
   "metadata": {},
   "source": [
    "### Selecting PIT"
   ]
  },
  {
   "cell_type": "code",
   "execution_count": 31,
   "id": "7adc5513-6955-40e2-b10e-ff730ae55b95",
   "metadata": {},
   "outputs": [],
   "source": [
    "time.sleep(3)\n",
    "Revenue_Group_el = browser.find_element(\"name\", \"Dg-2\")\n",
    "Revenue_Group_el.send_keys(\"PIT\")\n",
    "Revenue_Group_el.send_keys(Keys.ENTER)"
   ]
  },
  {
   "cell_type": "markdown",
   "id": "d1b35822-3e60-47a8-b2bb-3d20ac1940b4",
   "metadata": {},
   "source": [
    "### Clicking the Generate button"
   ]
  },
  {
   "cell_type": "code",
   "execution_count": 32,
   "id": "a0ada25d-42e2-4c98-a253-db79cc5117a3",
   "metadata": {},
   "outputs": [],
   "source": [
    "Generate_btn_el = browser.find_element(\"id\", \"caption2_Dc-7\")\n",
    "Generate_btn_el.click()"
   ]
  },
  {
   "cell_type": "markdown",
   "id": "7734a58c-6c78-489d-9a1f-41dbd3572074",
   "metadata": {},
   "source": [
    "### Clicking the View Report button"
   ]
  },
  {
   "cell_type": "code",
   "execution_count": 33,
   "id": "db42cc63-83e4-4ee2-8381-580400e730fe",
   "metadata": {},
   "outputs": [
    {
     "name": "stdout",
     "output_type": "stream",
     "text": [
      "Page is ready!\n"
     ]
    }
   ],
   "source": [
    "delay = 3 # seconds\n",
    "try:\n",
    "    myElem = WebDriverWait(browser, delay).until(EC.presence_of_element_located((By.ID, 'Dc-8')))\n",
    "    print (\"Page is ready!\")\n",
    "except TimeoutException:\n",
    "    print (\"Loading took too much time!\")\n",
    "time.sleep(10)     \n",
    "View_Report_el = browser.find_element(\"id\", \"Dc-8\")\n",
    "\n",
    "View_Report_el.click()\n",
    "time.sleep(1.5)"
   ]
  },
  {
   "cell_type": "markdown",
   "id": "2bd26294-a158-4982-b9e8-0a7ad37b25f1",
   "metadata": {},
   "source": [
    "### Printing report"
   ]
  },
  {
   "cell_type": "code",
   "execution_count": 34,
   "id": "1b9a3a3a-42b8-4015-8a3b-660ae9a86b78",
   "metadata": {},
   "outputs": [],
   "source": [
    "browser.switch_to.window(browser.window_handles[1])\n",
    "time.sleep(3)\n",
    "autoit.send(\"^p\")\n",
    "time.sleep(3) # Pause to allow the PDF printer to load\n",
    "autoit.send(\"{Enter}\")\n",
    "time.sleep(3) # Pause to allow the printer to print.\n",
    "autoit.send(\"pit\")\n",
    "autoit.send(\"{Enter}\")\n",
    "time.sleep(3)\n",
    "autoit.send(\"!{F4}\")\n",
    "time.sleep(3)\n",
    "browser.close()"
   ]
  },
  {
   "cell_type": "markdown",
   "id": "8f0be3a2-ad43-4088-aa33-332a1bdfe2be",
   "metadata": {},
   "source": [
    "### Close the report"
   ]
  },
  {
   "cell_type": "code",
   "execution_count": 35,
   "id": "25cabd3f-0c22-473f-b16c-fbad5cac4e2a",
   "metadata": {},
   "outputs": [],
   "source": [
    "browser.switch_to.window(browser.window_handles[0])\n",
    "browser.implicitly_wait(1.5)\n",
    "\n",
    "close_button_el = browser.find_elements(By.XPATH, \"//button\")\n",
    "\n",
    "for button in close_button_el:\n",
    "    if button.get_attribute('title') and 'Close Manager: GL Backend RA - Main' in button.get_attribute('title'):\n",
    "        button.click();\n",
    "        "
   ]
  },
  {
   "cell_type": "markdown",
   "id": "ec92d611-135a-48ca-8713-a117b6b22844",
   "metadata": {},
   "source": [
    "### Renaming and moving the report"
   ]
  },
  {
   "cell_type": "code",
   "execution_count": 36,
   "id": "ccf49eca-1362-4bfa-b380-c971041cbba8",
   "metadata": {},
   "outputs": [],
   "source": [
    "old_file = os.path.join(Desktop, \"pit.pdf\")\n",
    "new_file = os.path.join(Desktop, accrue_month_1.strftime(\"PIT-Prelim. %b %Y Reporting Generic Distribution Report.pdf\"))\n",
    "try:\n",
    "  os.rename(old_file, new_file)\n",
    "except FileExistsError:\n",
    "  os.remove(new_file)\n",
    "  os.rename(old_file, new_file)"
   ]
  },
  {
   "cell_type": "code",
   "execution_count": 37,
   "id": "c26b899b-de49-481f-bb1e-66d845992a4f",
   "metadata": {},
   "outputs": [],
   "source": [
    "# file name with extension\n",
    "file_name = os.path.basename(new_file)\n",
    "\n",
    "# file name without extension\n",
    "file_name = (os.path.splitext(file_name)[0])"
   ]
  },
  {
   "cell_type": "code",
   "execution_count": 38,
   "id": "ed3499ea-56ba-421a-ad7e-dcb6305d7951",
   "metadata": {},
   "outputs": [],
   "source": [
    "old_file = os.path.join(Desktop, new_file)\n",
    "new_file = os.path.join(Desktop, accrue_month_2.strftime(file_name + ' ' + \"(%b %Y Accrual).pdf\"))\n",
    "try:\n",
    "  os.rename(old_file, new_file)\n",
    "except FileExistsError:\n",
    "  os.remove(new_file)\n",
    "  os.rename(old_file, new_file)"
   ]
  },
  {
   "cell_type": "markdown",
   "id": "453cb313-9820-470a-aded-48d4d91c0ca5",
   "metadata": {},
   "source": [
    "## PTW-O"
   ]
  },
  {
   "cell_type": "markdown",
   "id": "67da8d0d-3027-417d-9b0c-6013a583cff3",
   "metadata": {},
   "source": [
    "### Clicking the Generate button"
   ]
  },
  {
   "cell_type": "code",
   "execution_count": 39,
   "id": "c9944ddb-c731-463d-a582-5a8b22c74699",
   "metadata": {},
   "outputs": [],
   "source": [
    "time.sleep(1.5)\n",
    "GL_Backend_RA_Main_Generate_btn_el = browser.find_element(\"id\", \"l_Dc-5-17\")\n",
    "GL_Backend_RA_Main_Generate_btn_el.click();"
   ]
  },
  {
   "cell_type": "markdown",
   "id": "da50378e-221a-45e1-b367-97bff8e1226f",
   "metadata": {},
   "source": [
    "### Selecting PTW-O"
   ]
  },
  {
   "cell_type": "code",
   "execution_count": 40,
   "id": "bb2c17cf-2d9d-46cf-a789-a4dba39a512f",
   "metadata": {},
   "outputs": [],
   "source": [
    "time.sleep(3)\n",
    "Revenue_Group_el = browser.find_element(\"name\", \"Dg-2\")\n",
    "Revenue_Group_el.send_keys(\"PTW-O\")\n",
    "Revenue_Group_el.send_keys(Keys.ENTER)"
   ]
  },
  {
   "cell_type": "markdown",
   "id": "8a1fc71f-e4ec-44be-8336-f438fbf234b5",
   "metadata": {},
   "source": [
    "### Clicking the Generate button"
   ]
  },
  {
   "cell_type": "code",
   "execution_count": 41,
   "id": "ccdbc14b-4b3c-4fcf-a83d-bebc3a561a0a",
   "metadata": {},
   "outputs": [],
   "source": [
    "Generate_btn_el = browser.find_element(\"id\", \"caption2_Dc-7\")\n",
    "Generate_btn_el.click()"
   ]
  },
  {
   "cell_type": "markdown",
   "id": "a73de20d-a7dd-4287-9b8c-91d4170782b2",
   "metadata": {},
   "source": [
    "### Clicking the View Report button"
   ]
  },
  {
   "cell_type": "code",
   "execution_count": 42,
   "id": "083b3b07-f7c2-49e9-8aab-6547ddf442d7",
   "metadata": {},
   "outputs": [
    {
     "name": "stdout",
     "output_type": "stream",
     "text": [
      "Page is ready!\n"
     ]
    }
   ],
   "source": [
    "delay = 10 # seconds\n",
    "try:\n",
    "    myElem = WebDriverWait(browser, delay).until(EC.presence_of_element_located((By.ID, 'Dc-8')))\n",
    "    print (\"Page is ready!\")\n",
    "except TimeoutException:\n",
    "    print (\"Loading took too much time!\")\n",
    "time.sleep(10)     \n",
    "View_Report_el = browser.find_element(\"id\", \"Dc-8\")\n",
    "\n",
    "View_Report_el.click()\n",
    "time.sleep(1.5)"
   ]
  },
  {
   "cell_type": "markdown",
   "id": "1217b962-442e-4531-aab5-73c1fe832913",
   "metadata": {},
   "source": [
    "### Printing report"
   ]
  },
  {
   "cell_type": "code",
   "execution_count": 43,
   "id": "ca568dfb-f174-4aa7-8bf4-a16b4ccb41df",
   "metadata": {},
   "outputs": [],
   "source": [
    "browser.switch_to.window(browser.window_handles[1])\n",
    "time.sleep(3)\n",
    "autoit.send(\"^p\")\n",
    "time.sleep(3) # Pause to allow the PDF printer to load\n",
    "autoit.send(\"{Enter}\")\n",
    "time.sleep(3) # Pause to allow the printer to print.\n",
    "autoit.send(\"ptw-o\")\n",
    "autoit.send(\"{Enter}\")\n",
    "time.sleep(3)\n",
    "autoit.send(\"!{F4}\")\n",
    "time.sleep(3)\n",
    "browser.close()"
   ]
  },
  {
   "cell_type": "markdown",
   "id": "bf3a408c-e3b2-4c0b-a4c2-36c30243606a",
   "metadata": {},
   "source": [
    "### Close the report"
   ]
  },
  {
   "cell_type": "code",
   "execution_count": 44,
   "id": "3c1af8c7-ec7a-4cfb-8cda-5f8f92941f62",
   "metadata": {},
   "outputs": [],
   "source": [
    "browser.switch_to.window(browser.window_handles[0])\n",
    "browser.implicitly_wait(1.5)\n",
    "\n",
    "close_button_el = browser.find_elements(By.XPATH, \"//button\")\n",
    "\n",
    "for button in close_button_el:\n",
    "    if button.get_attribute('title') and 'Close Manager: GL Backend RA - Main' in button.get_attribute('title'):\n",
    "        button.click();\n",
    "        "
   ]
  },
  {
   "cell_type": "markdown",
   "id": "65bf9bfc-36fd-4e09-b0d8-8a6f203bb8d4",
   "metadata": {},
   "source": [
    "### Renaming and moving the report"
   ]
  },
  {
   "cell_type": "code",
   "execution_count": 45,
   "id": "0b2f3bed-55c7-4ecb-9294-29518f03144d",
   "metadata": {},
   "outputs": [],
   "source": [
    "old_file = os.path.join(Desktop, \"ptw-o.pdf\")\n",
    "new_file = os.path.join(Desktop, accrue_month_1.strftime(\"PTW-O-Prelim. %b %Y Reporting Generic Distribution Report.pdf\"))\n",
    "try:\n",
    "  os.rename(old_file, new_file)\n",
    "except FileExistsError:\n",
    "  os.remove(new_file)\n",
    "  os.rename(old_file, new_file)"
   ]
  },
  {
   "cell_type": "code",
   "execution_count": 46,
   "id": "be3db994-c950-4410-b910-bc018ede49f4",
   "metadata": {},
   "outputs": [],
   "source": [
    "# file name with extension\n",
    "file_name = os.path.basename(new_file)\n",
    "\n",
    "# file name without extension\n",
    "file_name = (os.path.splitext(file_name)[0])"
   ]
  },
  {
   "cell_type": "code",
   "execution_count": 47,
   "id": "10f442b7-db47-480b-b1b5-d2a8e1cb7f39",
   "metadata": {},
   "outputs": [],
   "source": [
    "old_file = os.path.join(Desktop, new_file)\n",
    "new_file = os.path.join(Desktop, accrue_month_2.strftime(file_name + ' ' + \"(%b %Y Accrual).pdf\"))\n",
    "try:\n",
    "  os.rename(old_file, new_file)\n",
    "except FileExistsError:\n",
    "  os.remove(new_file)\n",
    "  os.rename(old_file, new_file)"
   ]
  },
  {
   "cell_type": "markdown",
   "id": "fcc772c0-85d9-48fc-8371-4982c88c70eb",
   "metadata": {},
   "source": [
    "## PTW-R"
   ]
  },
  {
   "cell_type": "markdown",
   "id": "b1d55fb6-2caa-4711-b6da-1f261dd31e2c",
   "metadata": {},
   "source": [
    "### Clicking the Generate button"
   ]
  },
  {
   "cell_type": "code",
   "execution_count": 48,
   "id": "14058c1f-4d71-4509-bea9-6e48e2d71d6e",
   "metadata": {},
   "outputs": [],
   "source": [
    "time.sleep(1.5)\n",
    "GL_Backend_RA_Main_Generate_btn_el = browser.find_element(\"id\", \"l_Dc-5-17\")\n",
    "GL_Backend_RA_Main_Generate_btn_el.click();"
   ]
  },
  {
   "cell_type": "markdown",
   "id": "1be1c5b5-7b5d-4b68-9188-2896b74f69d2",
   "metadata": {},
   "source": [
    "### Selecting PTW-R"
   ]
  },
  {
   "cell_type": "code",
   "execution_count": 49,
   "id": "74287613-27cf-4739-b409-303c9542554d",
   "metadata": {},
   "outputs": [],
   "source": [
    "time.sleep(3)\n",
    "Revenue_Group_el = browser.find_element(\"name\", \"Dg-2\")\n",
    "Revenue_Group_el.send_keys(\"PTW-R\")\n",
    "Revenue_Group_el.send_keys(Keys.ENTER)"
   ]
  },
  {
   "cell_type": "markdown",
   "id": "8c510793-303f-400b-b99c-9e23c1046592",
   "metadata": {},
   "source": [
    "### Clicking the Generate button"
   ]
  },
  {
   "cell_type": "code",
   "execution_count": 50,
   "id": "27d67f2d-c2e5-4a03-95bb-50ddc2bc9436",
   "metadata": {},
   "outputs": [],
   "source": [
    "Generate_btn_el = browser.find_element(\"id\", \"caption2_Dc-7\")\n",
    "Generate_btn_el.click()"
   ]
  },
  {
   "cell_type": "markdown",
   "id": "06d74262-df7f-49f9-bd80-4d1e9b9c04d3",
   "metadata": {},
   "source": [
    "### Clicking the View Report button"
   ]
  },
  {
   "cell_type": "code",
   "execution_count": 51,
   "id": "290c6a71-ebbd-457f-a58f-bd183aaf37ae",
   "metadata": {},
   "outputs": [
    {
     "name": "stdout",
     "output_type": "stream",
     "text": [
      "Page is ready!\n"
     ]
    }
   ],
   "source": [
    "delay = 3 # seconds\n",
    "try:\n",
    "    myElem = WebDriverWait(browser, delay).until(EC.presence_of_element_located((By.ID, 'Dc-8')))\n",
    "    print (\"Page is ready!\")\n",
    "except TimeoutException:\n",
    "    print (\"Loading took too much time!\")\n",
    "time.sleep(10)     \n",
    "View_Report_el = browser.find_element(\"id\", \"Dc-8\")\n",
    "\n",
    "View_Report_el.click()\n",
    "time.sleep(1.5)"
   ]
  },
  {
   "cell_type": "markdown",
   "id": "46bc0a63-24c1-4f54-9264-11ab31b6ea84",
   "metadata": {},
   "source": [
    "### Printing report"
   ]
  },
  {
   "cell_type": "code",
   "execution_count": 52,
   "id": "e713c498-243a-4a95-9586-f04ab6365c21",
   "metadata": {},
   "outputs": [],
   "source": [
    "browser.switch_to.window(browser.window_handles[1])\n",
    "time.sleep(3)\n",
    "autoit.send(\"^p\")\n",
    "time.sleep(3) # Pause to allow the PDF printer to load\n",
    "autoit.send(\"{Enter}\")\n",
    "time.sleep(3) # Pause to allow the printer to print.\n",
    "autoit.send(\"ptw-r\")\n",
    "autoit.send(\"{Enter}\")\n",
    "time.sleep(3)\n",
    "autoit.send(\"!{F4}\")\n",
    "time.sleep(3)\n",
    "browser.close()"
   ]
  },
  {
   "cell_type": "markdown",
   "id": "cec7485b-5dbe-4fa7-9f91-a2321d6bc2e5",
   "metadata": {},
   "source": [
    "### Close the report"
   ]
  },
  {
   "cell_type": "code",
   "execution_count": 53,
   "id": "545f6735-3d04-4367-b33f-e137713fe7d7",
   "metadata": {},
   "outputs": [],
   "source": [
    "browser.switch_to.window(browser.window_handles[0])\n",
    "browser.implicitly_wait(1.5)\n",
    "\n",
    "close_button_el = browser.find_elements(By.XPATH, \"//button\")\n",
    "\n",
    "for button in close_button_el:\n",
    "    if button.get_attribute('title') and 'Close Manager: GL Backend RA - Main' in button.get_attribute('title'):\n",
    "        button.click();\n",
    "        "
   ]
  },
  {
   "cell_type": "markdown",
   "id": "ce25b54a-b95b-44fb-b1bb-fd93b0223ff4",
   "metadata": {},
   "source": [
    "### Renaming and moving the report"
   ]
  },
  {
   "cell_type": "code",
   "execution_count": 54,
   "id": "1de34539-667d-42e6-8789-2de87182bb13",
   "metadata": {},
   "outputs": [],
   "source": [
    "old_file = os.path.join(Desktop, \"ptw-r.pdf\")\n",
    "new_file = os.path.join(Desktop, accrue_month_1.strftime(\"PTW-R-Prelim. %b %Y Reporting Generic Distribution Report.pdf\"))\n",
    "try:\n",
    "  os.rename(old_file, new_file)\n",
    "except FileExistsError:\n",
    "  os.remove(new_file)\n",
    "  os.rename(old_file, new_file)"
   ]
  },
  {
   "cell_type": "code",
   "execution_count": 55,
   "id": "d04d4ce2-03a8-46f1-a409-9c21b2b9d978",
   "metadata": {},
   "outputs": [],
   "source": [
    "# file name with extension\n",
    "file_name = os.path.basename(new_file)\n",
    "\n",
    "# file name without extension\n",
    "file_name = (os.path.splitext(file_name)[0])"
   ]
  },
  {
   "cell_type": "code",
   "execution_count": 56,
   "id": "a2c7b56c-e07e-4c2f-b1bc-e0a753689dc5",
   "metadata": {},
   "outputs": [],
   "source": [
    "old_file = os.path.join(Desktop, new_file)\n",
    "new_file = os.path.join(Desktop, accrue_month_2.strftime(file_name + ' ' + \"(%b %Y Accrual).pdf\"))\n",
    "try:\n",
    "  os.rename(old_file, new_file)\n",
    "except FileExistsError:\n",
    "  os.remove(new_file)\n",
    "  os.rename(old_file, new_file)"
   ]
  },
  {
   "cell_type": "markdown",
   "id": "068fb5db-0dc2-454a-a656-77fb3204ee49",
   "metadata": {},
   "source": [
    "## WWT"
   ]
  },
  {
   "cell_type": "markdown",
   "id": "ace47e65-7784-4f20-9168-004e1621ab95",
   "metadata": {},
   "source": [
    "### Clicking the Generate button"
   ]
  },
  {
   "cell_type": "code",
   "execution_count": 57,
   "id": "3e1abe55-1ca3-4614-a4a4-26723f740115",
   "metadata": {},
   "outputs": [],
   "source": [
    "time.sleep(1.5)\n",
    "GL_Backend_RA_Main_Generate_btn_el = browser.find_element(\"id\", \"l_Dc-5-17\")\n",
    "GL_Backend_RA_Main_Generate_btn_el.click();"
   ]
  },
  {
   "cell_type": "markdown",
   "id": "344e8284-a23b-4425-af81-88081e22edd9",
   "metadata": {},
   "source": [
    "### Selecting WWT"
   ]
  },
  {
   "cell_type": "code",
   "execution_count": 58,
   "id": "9a03cef7-0c17-4238-9b94-75d5b31fdd7f",
   "metadata": {},
   "outputs": [],
   "source": [
    "time.sleep(5)\n",
    "Revenue_Group_el = browser.find_element(\"name\", \"Dg-2\")\n",
    "Revenue_Group_el.send_keys(\"WWT\")\n",
    "Revenue_Group_el.send_keys(Keys.ENTER)"
   ]
  },
  {
   "cell_type": "markdown",
   "id": "02935c07-dc47-486c-8db7-b3a769f72f00",
   "metadata": {},
   "source": [
    "### Clicking the Generate button"
   ]
  },
  {
   "cell_type": "code",
   "execution_count": 59,
   "id": "ce84f953-76b0-4624-a1dc-1f20d8a426c5",
   "metadata": {},
   "outputs": [],
   "source": [
    "Generate_btn_el = browser.find_element(\"id\", \"caption2_Dc-7\")\n",
    "Generate_btn_el.click()"
   ]
  },
  {
   "cell_type": "markdown",
   "id": "b5895a8b-4a59-46a8-b188-c7e07cd7bc7a",
   "metadata": {},
   "source": [
    "### Clicking the View Report button"
   ]
  },
  {
   "cell_type": "code",
   "execution_count": 60,
   "id": "d1068086-2276-4941-b915-255ff6998894",
   "metadata": {},
   "outputs": [
    {
     "name": "stdout",
     "output_type": "stream",
     "text": [
      "Page is ready!\n"
     ]
    }
   ],
   "source": [
    "delay = 10 # seconds\n",
    "try:\n",
    "    myElem = WebDriverWait(browser, delay).until(EC.presence_of_element_located((By.ID, 'Dc-8')))\n",
    "    print (\"Page is ready!\")\n",
    "except TimeoutException:\n",
    "    print (\"Loading took too much time!\")\n",
    "time.sleep(10)     \n",
    "View_Report_el = browser.find_element(\"id\", \"Dc-8\")\n",
    "\n",
    "View_Report_el.click()\n",
    "time.sleep(1.5)"
   ]
  },
  {
   "cell_type": "markdown",
   "id": "fb4c3d03-0db8-41bf-97e5-78909f2a8bfd",
   "metadata": {},
   "source": [
    "### Printing report"
   ]
  },
  {
   "cell_type": "code",
   "execution_count": 61,
   "id": "c31f07e9-4ea8-43ef-ba22-ca31e16bf18d",
   "metadata": {},
   "outputs": [],
   "source": [
    "browser.switch_to.window(browser.window_handles[1])\n",
    "time.sleep(3)\n",
    "autoit.send(\"^p\")\n",
    "time.sleep(3) # Pause to allow the PDF printer to load\n",
    "autoit.send(\"{Enter}\")\n",
    "time.sleep(3) # Pause to allow the printer to print.\n",
    "autoit.send(\"wwt\")\n",
    "autoit.send(\"{Enter}\")\n",
    "time.sleep(3)\n",
    "autoit.send(\"!{F4}\")\n",
    "time.sleep(3)\n",
    "browser.close()"
   ]
  },
  {
   "cell_type": "markdown",
   "id": "f1786c4c-379e-4fd0-9d39-f2e5ae1ad22c",
   "metadata": {},
   "source": [
    "### Close the report"
   ]
  },
  {
   "cell_type": "code",
   "execution_count": 62,
   "id": "c9b5ff78-ee74-4499-a680-09d5ea718d64",
   "metadata": {},
   "outputs": [],
   "source": [
    "browser.switch_to.window(browser.window_handles[0])\n",
    "browser.implicitly_wait(1.5)\n",
    "\n",
    "close_button_el = browser.find_elements(By.XPATH, \"//button\")\n",
    "\n",
    "for button in close_button_el:\n",
    "    if button.get_attribute('title') and 'Close Manager: GL Backend RA - Main' in button.get_attribute('title'):\n",
    "        button.click();\n",
    "        "
   ]
  },
  {
   "cell_type": "markdown",
   "id": "92c8dc16-88da-45d5-b95f-0d3d745755b6",
   "metadata": {},
   "source": [
    "### Renaming and moving the report"
   ]
  },
  {
   "cell_type": "code",
   "execution_count": 63,
   "id": "de7a2004-b74d-4517-ba91-8ecba0db3db4",
   "metadata": {},
   "outputs": [],
   "source": [
    "old_file = os.path.join(Desktop, \"wwt.pdf\")\n",
    "new_file = os.path.join(Desktop, accrue_month_1.strftime(\"WWT-Prelim. %b %Y Reporting Generic Distribution Report.pdf\"))\n",
    "try:\n",
    "  os.rename(old_file, new_file)\n",
    "except FileExistsError:\n",
    "  os.remove(new_file)\n",
    "  os.rename(old_file, new_file)"
   ]
  },
  {
   "cell_type": "code",
   "execution_count": 64,
   "id": "d81ce666-1bec-4534-9216-6020b56a6340",
   "metadata": {},
   "outputs": [],
   "source": [
    "# file name with extension\n",
    "file_name = os.path.basename(new_file)\n",
    "\n",
    "# file name without extension\n",
    "file_name = (os.path.splitext(file_name)[0])"
   ]
  },
  {
   "cell_type": "code",
   "execution_count": 65,
   "id": "a1bceec7-bef1-486d-8bc8-18f74feb8e96",
   "metadata": {},
   "outputs": [],
   "source": [
    "old_file = os.path.join(Desktop, new_file)\n",
    "new_file = os.path.join(Desktop, accrue_month_2.strftime(file_name + ' ' + \"(%b %Y Accrual).pdf\"))\n",
    "try:\n",
    "  os.rename(old_file, new_file)\n",
    "except FileExistsError:\n",
    "  os.remove(new_file)\n",
    "  os.rename(old_file, new_file)"
   ]
  },
  {
   "cell_type": "markdown",
   "id": "782428a6-908d-4c97-af36-5d72756dfc7c",
   "metadata": {},
   "source": [
    "## FID"
   ]
  },
  {
   "cell_type": "markdown",
   "id": "ef7fd1a1-e5b5-42b8-9a22-c5a666b654ea",
   "metadata": {},
   "source": [
    "### Clicking the Generate button"
   ]
  },
  {
   "cell_type": "code",
   "execution_count": 66,
   "id": "b02d99e5-acce-4dfd-b359-bc1335521c70",
   "metadata": {},
   "outputs": [],
   "source": [
    "time.sleep(1.5)\n",
    "GL_Backend_RA_Main_Generate_btn_el = browser.find_element(\"id\", \"l_Dc-5-17\")\n",
    "GL_Backend_RA_Main_Generate_btn_el.click();"
   ]
  },
  {
   "cell_type": "markdown",
   "id": "115b93b5-8ee8-4591-bba1-2b7445f7da4f",
   "metadata": {},
   "source": [
    "### Selecting FID"
   ]
  },
  {
   "cell_type": "code",
   "execution_count": 67,
   "id": "83459931-42f2-4197-b4a3-776aece043e4",
   "metadata": {},
   "outputs": [],
   "source": [
    "time.sleep(5)\n",
    "Revenue_Group_el = browser.find_element(\"name\", \"Dg-2\")\n",
    "Revenue_Group_el.send_keys(\"FID\")\n",
    "Revenue_Group_el.send_keys(Keys.ENTER)"
   ]
  },
  {
   "cell_type": "markdown",
   "id": "b8466cb2-2002-4ee0-8480-6a3e9a0e55e0",
   "metadata": {},
   "source": [
    "### Clicking the Generate button"
   ]
  },
  {
   "cell_type": "code",
   "execution_count": 68,
   "id": "aa79b47f-7902-4a79-aa73-64c0a8024e01",
   "metadata": {},
   "outputs": [],
   "source": [
    "Generate_btn_el = browser.find_element(\"id\", \"caption2_Dc-7\")\n",
    "Generate_btn_el.click()"
   ]
  },
  {
   "cell_type": "markdown",
   "id": "687bab20-bef2-443e-a3e2-a13dec67fa34",
   "metadata": {},
   "source": [
    "### Clicking the View Report button"
   ]
  },
  {
   "cell_type": "code",
   "execution_count": 69,
   "id": "432a7d64-34ce-494c-a4f1-4a5589c01f11",
   "metadata": {},
   "outputs": [
    {
     "name": "stdout",
     "output_type": "stream",
     "text": [
      "Page is ready!\n"
     ]
    }
   ],
   "source": [
    "delay = 10 # seconds\n",
    "try:\n",
    "    myElem = WebDriverWait(browser, delay).until(EC.presence_of_element_located((By.ID, 'Dc-8')))\n",
    "    print (\"Page is ready!\")\n",
    "except TimeoutException:\n",
    "    print (\"Loading took too much time!\")\n",
    "time.sleep(10)     \n",
    "View_Report_el = browser.find_element(\"id\", \"Dc-8\")\n",
    "\n",
    "View_Report_el.click()\n",
    "time.sleep(1.5)"
   ]
  },
  {
   "cell_type": "markdown",
   "id": "8f4b7ae3-056f-414b-8810-8b68d4d720c3",
   "metadata": {},
   "source": [
    "### Printing report"
   ]
  },
  {
   "cell_type": "code",
   "execution_count": 70,
   "id": "cf4f4ee4-61e3-48ce-a086-5dfae1ab874a",
   "metadata": {},
   "outputs": [],
   "source": [
    "browser.switch_to.window(browser.window_handles[1])\n",
    "time.sleep(3)\n",
    "autoit.send(\"^p\")\n",
    "time.sleep(3) # Pause to allow the PDF printer to load\n",
    "autoit.send(\"{Enter}\")\n",
    "time.sleep(3) # Pause to allow the printer to print.\n",
    "autoit.send(\"fid\")\n",
    "autoit.send(\"{Enter}\")\n",
    "time.sleep(3)\n",
    "autoit.send(\"!{F4}\")\n",
    "time.sleep(3)\n",
    "browser.close()"
   ]
  },
  {
   "cell_type": "markdown",
   "id": "e338ff99-d739-4ff6-84b5-8b66932196a0",
   "metadata": {},
   "source": [
    "### Close the report"
   ]
  },
  {
   "cell_type": "code",
   "execution_count": 71,
   "id": "7ba5b899-48f0-485a-b75b-ce24395f6bdd",
   "metadata": {},
   "outputs": [],
   "source": [
    "browser.switch_to.window(browser.window_handles[0])\n",
    "browser.implicitly_wait(1.5)\n",
    "\n",
    "close_button_el = browser.find_elements(By.XPATH, \"//button\")\n",
    "\n",
    "for button in close_button_el:\n",
    "    if button.get_attribute('title') and 'Close Manager: GL Backend RA - Main' in button.get_attribute('title'):\n",
    "        button.click();\n",
    "        "
   ]
  },
  {
   "cell_type": "markdown",
   "id": "d14d312c-7e83-40e0-8143-861a5f65ae9b",
   "metadata": {},
   "source": [
    "### Renaming and moving the report"
   ]
  },
  {
   "cell_type": "code",
   "execution_count": 72,
   "id": "3533d123-c949-410e-93cd-7d3875dd06ed",
   "metadata": {},
   "outputs": [],
   "source": [
    "old_file = os.path.join(Desktop, \"fid.pdf\")\n",
    "new_file = os.path.join(Desktop, accrue_month_1.strftime(\"FID-Prelim. %b %Y Reporting Generic Distribution Report.pdf\"))\n",
    "try:\n",
    "  os.rename(old_file, new_file)\n",
    "except FileExistsError:\n",
    "  os.remove(new_file)\n",
    "  os.rename(old_file, new_file)"
   ]
  },
  {
   "cell_type": "code",
   "execution_count": 73,
   "id": "4c899f12-055e-4e47-81b4-b7e3f977876d",
   "metadata": {},
   "outputs": [],
   "source": [
    "# file name with extension\n",
    "file_name = os.path.basename(new_file)\n",
    "\n",
    "# file name without extension\n",
    "file_name = (os.path.splitext(file_name)[0])"
   ]
  },
  {
   "cell_type": "code",
   "execution_count": 74,
   "id": "ac54b43a-fa8b-4c5a-a2ab-17565c0a5345",
   "metadata": {},
   "outputs": [],
   "source": [
    "old_file = os.path.join(Desktop, new_file)\n",
    "new_file = os.path.join(Desktop, accrue_month_2.strftime(file_name + ' ' + \"(%b %Y Accrual).pdf\"))\n",
    "try:\n",
    "  os.rename(old_file, new_file)\n",
    "except FileExistsError:\n",
    "  os.remove(new_file)\n",
    "  os.rename(old_file, new_file)"
   ]
  },
  {
   "cell_type": "markdown",
   "id": "16ab6639-68cb-4113-881a-cbc50987d4df",
   "metadata": {},
   "source": [
    "## NWT"
   ]
  },
  {
   "cell_type": "markdown",
   "id": "24cb98d5-79de-4894-ac3b-2b4da5fa403b",
   "metadata": {},
   "source": [
    "### Clicking the Generate button"
   ]
  },
  {
   "cell_type": "code",
   "execution_count": 75,
   "id": "752d367d-e28c-4547-a2a5-251bfe546ab4",
   "metadata": {},
   "outputs": [],
   "source": [
    "time.sleep(1.5)\n",
    "GL_Backend_RA_Main_Generate_btn_el = browser.find_element(\"id\", \"l_Dc-5-17\")\n",
    "GL_Backend_RA_Main_Generate_btn_el.click();"
   ]
  },
  {
   "cell_type": "markdown",
   "id": "9d3fac65-e085-4367-b205-cebdd927fed1",
   "metadata": {},
   "source": [
    "### Selecting NWT"
   ]
  },
  {
   "cell_type": "code",
   "execution_count": 76,
   "id": "9c405501-e950-44bf-a98d-41ae4157af42",
   "metadata": {},
   "outputs": [],
   "source": [
    "time.sleep(5)\n",
    "Revenue_Group_el = browser.find_element(\"name\", \"Dg-2\")\n",
    "Revenue_Group_el.send_keys(\"NWT\")\n",
    "Revenue_Group_el.send_keys(Keys.ENTER)"
   ]
  },
  {
   "cell_type": "markdown",
   "id": "7e2080ed-65da-4a38-a2f4-cbcc255b7f28",
   "metadata": {},
   "source": [
    "### Clicking the Generate button"
   ]
  },
  {
   "cell_type": "code",
   "execution_count": 77,
   "id": "fd5fe80d-e971-4c97-9050-743d5f4db480",
   "metadata": {},
   "outputs": [],
   "source": [
    "Generate_btn_el = browser.find_element(\"id\", \"caption2_Dc-7\")\n",
    "Generate_btn_el.click()"
   ]
  },
  {
   "cell_type": "markdown",
   "id": "d45bcdf2-ddac-41e4-9581-88edfee0a465",
   "metadata": {},
   "source": [
    "### Clicking the View Report button"
   ]
  },
  {
   "cell_type": "code",
   "execution_count": 78,
   "id": "b3f73d4c-6e03-43dc-8ec1-263259ed121b",
   "metadata": {},
   "outputs": [
    {
     "name": "stdout",
     "output_type": "stream",
     "text": [
      "Page is ready!\n"
     ]
    }
   ],
   "source": [
    "delay = 10 # seconds\n",
    "try:\n",
    "    myElem = WebDriverWait(browser, delay).until(EC.presence_of_element_located((By.ID, 'Dc-8')))\n",
    "    print (\"Page is ready!\")\n",
    "except TimeoutException:\n",
    "    print (\"Loading took too much time!\")\n",
    "time.sleep(10)     \n",
    "View_Report_el = browser.find_element(\"id\", \"Dc-8\")\n",
    "\n",
    "View_Report_el.click()\n",
    "time.sleep(1.5)"
   ]
  },
  {
   "cell_type": "markdown",
   "id": "fe768ad1-db6c-4851-a768-5c35bcbc4340",
   "metadata": {},
   "source": [
    "### Printing report"
   ]
  },
  {
   "cell_type": "code",
   "execution_count": 79,
   "id": "bbc027fe-fbbb-4ad8-a5cb-cb02a50f68e6",
   "metadata": {},
   "outputs": [],
   "source": [
    "browser.switch_to.window(browser.window_handles[1])\n",
    "time.sleep(3)\n",
    "autoit.send(\"^p\")\n",
    "time.sleep(3) # Pause to allow the PDF printer to load\n",
    "autoit.send(\"{Enter}\")\n",
    "time.sleep(3) # Pause to allow the printer to print.\n",
    "autoit.send(\"nwt\")\n",
    "autoit.send(\"{Enter}\")\n",
    "time.sleep(3)\n",
    "autoit.send(\"!{F4}\")\n",
    "time.sleep(3)\n",
    "browser.close()"
   ]
  },
  {
   "cell_type": "markdown",
   "id": "4230ab9f-edd1-489c-8cc3-a901e69971c5",
   "metadata": {},
   "source": [
    "### Close the report"
   ]
  },
  {
   "cell_type": "code",
   "execution_count": 80,
   "id": "2f8b5048-b7bf-4887-9335-f84e2dcf828d",
   "metadata": {},
   "outputs": [],
   "source": [
    "browser.switch_to.window(browser.window_handles[0])\n",
    "browser.implicitly_wait(1.5)\n",
    "\n",
    "close_button_el = browser.find_elements(By.XPATH, \"//button\")\n",
    "\n",
    "for button in close_button_el:\n",
    "    if button.get_attribute('title') and 'Close Manager: GL Backend RA - Main' in button.get_attribute('title'):\n",
    "        button.click();\n",
    "        "
   ]
  },
  {
   "cell_type": "markdown",
   "id": "127b0faf-6728-48d8-ac33-bda8b6b22d40",
   "metadata": {},
   "source": [
    "### Renaming and moving the report"
   ]
  },
  {
   "cell_type": "code",
   "execution_count": 81,
   "id": "db4e5f25-d430-47f0-a9af-7285acd9aaf6",
   "metadata": {},
   "outputs": [],
   "source": [
    "old_file = os.path.join(Desktop, \"nwt.pdf\")\n",
    "new_file = os.path.join(Desktop, accrue_month_1.strftime(\"NWT-Prelim. %b %Y Reporting Generic Distribution Report.pdf\"))\n",
    "try:\n",
    "  os.rename(old_file, new_file)\n",
    "except FileExistsError:\n",
    "  os.remove(new_file)\n",
    "  os.rename(old_file, new_file)"
   ]
  },
  {
   "cell_type": "code",
   "execution_count": 82,
   "id": "a3c44eba-d2cc-495a-a734-26354aa69fae",
   "metadata": {},
   "outputs": [],
   "source": [
    "# file name with extension\n",
    "file_name = os.path.basename(new_file)\n",
    "\n",
    "# file name without extension\n",
    "file_name = (os.path.splitext(file_name)[0])"
   ]
  },
  {
   "cell_type": "code",
   "execution_count": 83,
   "id": "44046836-a6a9-46bf-baa3-81902d563dec",
   "metadata": {},
   "outputs": [],
   "source": [
    "old_file = os.path.join(Desktop, new_file)\n",
    "new_file = os.path.join(Desktop, accrue_month_2.strftime(file_name + ' ' + \"(%b %Y Accrual).pdf\"))\n",
    "try:\n",
    "  os.rename(old_file, new_file)\n",
    "except FileExistsError:\n",
    "  os.remove(new_file)\n",
    "  os.rename(old_file, new_file)"
   ]
  },
  {
   "cell_type": "markdown",
   "id": "6fcbc21f-aafc-48d8-872e-5396eb5ef1d5",
   "metadata": {},
   "source": [
    "## OGP"
   ]
  },
  {
   "cell_type": "markdown",
   "id": "75f1ea2a-6aae-48ab-af54-52ceb9829a3b",
   "metadata": {},
   "source": [
    "### Clicking the Generate button"
   ]
  },
  {
   "cell_type": "code",
   "execution_count": 84,
   "id": "bee03fbd-fcd2-4626-93d5-46a410805025",
   "metadata": {},
   "outputs": [],
   "source": [
    "time.sleep(1.5)\n",
    "GL_Backend_RA_Main_Generate_btn_el = browser.find_element(\"id\", \"l_Dc-5-17\")\n",
    "GL_Backend_RA_Main_Generate_btn_el.click();"
   ]
  },
  {
   "cell_type": "markdown",
   "id": "f39ed884-585c-4de4-814e-9d2c2e699dad",
   "metadata": {},
   "source": [
    "### Selecting OGP"
   ]
  },
  {
   "cell_type": "code",
   "execution_count": 85,
   "id": "174bb4c3-37a1-444f-9160-a51b74e13aa3",
   "metadata": {},
   "outputs": [],
   "source": [
    "time.sleep(5)\n",
    "Revenue_Group_el = browser.find_element(\"name\", \"Dg-2\")\n",
    "Revenue_Group_el.send_keys(\"OGP\")\n",
    "Revenue_Group_el.send_keys(Keys.ENTER)"
   ]
  },
  {
   "cell_type": "markdown",
   "id": "33155af2-deab-4be0-8b0f-b3d45caff5db",
   "metadata": {},
   "source": [
    "### Clicking the Generate button"
   ]
  },
  {
   "cell_type": "code",
   "execution_count": 86,
   "id": "10fed26b-d85d-471a-bb9d-f182da284055",
   "metadata": {},
   "outputs": [],
   "source": [
    "Generate_btn_el = browser.find_element(\"id\", \"caption2_Dc-7\")\n",
    "Generate_btn_el.click()"
   ]
  },
  {
   "cell_type": "markdown",
   "id": "bbc38224-1a23-4a3b-9fe5-9beb69130051",
   "metadata": {},
   "source": [
    "### Clicking the View Report button"
   ]
  },
  {
   "cell_type": "code",
   "execution_count": 87,
   "id": "e81d2e6c-02f1-44d1-b37b-8afe9988a695",
   "metadata": {},
   "outputs": [
    {
     "name": "stdout",
     "output_type": "stream",
     "text": [
      "Page is ready!\n"
     ]
    }
   ],
   "source": [
    "delay = 10 # seconds\n",
    "try:\n",
    "    myElem = WebDriverWait(browser, delay).until(EC.presence_of_element_located((By.ID, 'Dc-8')))\n",
    "    print (\"Page is ready!\")\n",
    "except TimeoutException:\n",
    "    print (\"Loading took too much time!\")\n",
    "time.sleep(10)     \n",
    "View_Report_el = browser.find_element(\"id\", \"Dc-8\")\n",
    "\n",
    "View_Report_el.click()\n",
    "time.sleep(1.5)"
   ]
  },
  {
   "cell_type": "markdown",
   "id": "84bfc8b3-8944-4f1f-b8ed-942b6e5d88fc",
   "metadata": {},
   "source": [
    "### Printing report"
   ]
  },
  {
   "cell_type": "code",
   "execution_count": 88,
   "id": "a3efda1b-f408-4c44-9c63-c3b851fd55a9",
   "metadata": {},
   "outputs": [],
   "source": [
    "browser.switch_to.window(browser.window_handles[1])\n",
    "time.sleep(3)\n",
    "autoit.send(\"^p\")\n",
    "time.sleep(3) # Pause to allow the PDF printer to load\n",
    "autoit.send(\"{Enter}\")\n",
    "time.sleep(3) # Pause to allow the printer to print.\n",
    "autoit.send(\"ogp\")\n",
    "autoit.send(\"{Enter}\")\n",
    "time.sleep(3)\n",
    "autoit.send(\"!{F4}\")\n",
    "time.sleep(3)\n",
    "browser.close()"
   ]
  },
  {
   "cell_type": "markdown",
   "id": "c9c3d6a4-282a-471a-a0ee-2e40332aa800",
   "metadata": {},
   "source": [
    "### Close the report"
   ]
  },
  {
   "cell_type": "code",
   "execution_count": 89,
   "id": "f2b26337-69fb-488f-88fb-e1c2edf70e18",
   "metadata": {},
   "outputs": [],
   "source": [
    "browser.switch_to.window(browser.window_handles[0])\n",
    "browser.implicitly_wait(1.5)\n",
    "\n",
    "close_button_el = browser.find_elements(By.XPATH, \"//button\")\n",
    "\n",
    "for button in close_button_el:\n",
    "    if button.get_attribute('title') and 'Close Manager: GL Backend RA - Main' in button.get_attribute('title'):\n",
    "        button.click();\n",
    "        "
   ]
  },
  {
   "cell_type": "markdown",
   "id": "5f58c650-f8f1-49d3-b05b-83352851149a",
   "metadata": {},
   "source": [
    "### Renaming and moving the report"
   ]
  },
  {
   "cell_type": "code",
   "execution_count": 90,
   "id": "90711e3d-1025-445c-a47c-efa3d6ca5713",
   "metadata": {},
   "outputs": [],
   "source": [
    "old_file = os.path.join(Desktop, \"ogp.pdf\")\n",
    "new_file = os.path.join(Desktop, accrue_month_1.strftime(\"OGP-Prelim. %b %Y Reporting Generic Distribution Report.pdf\"))\n",
    "try:\n",
    "  os.rename(old_file, new_file)\n",
    "except FileExistsError:\n",
    "  os.remove(new_file)\n",
    "  os.rename(old_file, new_file)"
   ]
  },
  {
   "cell_type": "code",
   "execution_count": 91,
   "id": "22190a71-4e53-4d73-8350-3bb8fa2ffe0b",
   "metadata": {},
   "outputs": [],
   "source": [
    "# file name with extension\n",
    "file_name = os.path.basename(new_file)\n",
    "\n",
    "# file name without extension\n",
    "file_name = (os.path.splitext(file_name)[0])"
   ]
  },
  {
   "cell_type": "code",
   "execution_count": 92,
   "id": "2ea6dad6-e2a7-47da-ac9c-252b59f66d8c",
   "metadata": {},
   "outputs": [],
   "source": [
    "old_file = os.path.join(Desktop, new_file)\n",
    "new_file = os.path.join(Desktop, accrue_month_2.strftime(file_name + ' ' + \"(%b %Y Accrual).pdf\"))\n",
    "try:\n",
    "  os.rename(old_file, new_file)\n",
    "except FileExistsError:\n",
    "  os.remove(new_file)\n",
    "  os.rename(old_file, new_file)"
   ]
  },
  {
   "cell_type": "code",
   "execution_count": null,
   "id": "be6c7f68-f33f-4853-a518-2c907f523530",
   "metadata": {},
   "outputs": [],
   "source": []
  },
  {
   "cell_type": "markdown",
   "id": "1e6ece30-00fe-40fb-a49b-6553494be901",
   "metadata": {},
   "source": [
    "## OGP-O"
   ]
  },
  {
   "cell_type": "markdown",
   "id": "c327caa4-7c65-4d04-a3f4-cefd227c75ac",
   "metadata": {},
   "source": [
    "### Clicking the Generate button"
   ]
  },
  {
   "cell_type": "code",
   "execution_count": 93,
   "id": "c5b1478d-6dcd-49e6-9bd0-4aa8408daf09",
   "metadata": {},
   "outputs": [],
   "source": [
    "time.sleep(1.5)\n",
    "GL_Backend_RA_Main_Generate_btn_el = browser.find_element(\"id\", \"l_Dc-5-17\")\n",
    "GL_Backend_RA_Main_Generate_btn_el.click();"
   ]
  },
  {
   "cell_type": "markdown",
   "id": "7a05c310-8fbd-4a97-a372-3521524c7f10",
   "metadata": {},
   "source": [
    "### Selecting OGP-O"
   ]
  },
  {
   "cell_type": "code",
   "execution_count": 94,
   "id": "64e86b69-9bf4-43da-ba37-2ceb8b104d3c",
   "metadata": {},
   "outputs": [],
   "source": [
    "time.sleep(5)\n",
    "Revenue_Group_el = browser.find_element(\"name\", \"Dg-2\")\n",
    "Revenue_Group_el.send_keys(\"OGP-O\")\n",
    "Revenue_Group_el.send_keys(Keys.ENTER)"
   ]
  },
  {
   "cell_type": "markdown",
   "id": "c8b1b3f7-8f3b-4385-8c8b-d8411e5480ac",
   "metadata": {},
   "source": [
    "### Clicking the Generate button"
   ]
  },
  {
   "cell_type": "code",
   "execution_count": 95,
   "id": "85b20f85-7c7b-4db9-95f4-de2625631719",
   "metadata": {},
   "outputs": [],
   "source": [
    "Generate_btn_el = browser.find_element(\"id\", \"caption2_Dc-7\")\n",
    "Generate_btn_el.click()"
   ]
  },
  {
   "cell_type": "markdown",
   "id": "4558ac20-08fe-4ef3-8726-7aea361dacfd",
   "metadata": {},
   "source": [
    "### Clicking the View Report button"
   ]
  },
  {
   "cell_type": "code",
   "execution_count": 96,
   "id": "b4ce0284-6909-4bde-9adb-45518f2875c4",
   "metadata": {},
   "outputs": [
    {
     "name": "stdout",
     "output_type": "stream",
     "text": [
      "Page is ready!\n"
     ]
    }
   ],
   "source": [
    "delay = 10 # seconds\n",
    "try:\n",
    "    myElem = WebDriverWait(browser, delay).until(EC.presence_of_element_located((By.ID, 'Dc-8')))\n",
    "    print (\"Page is ready!\")\n",
    "except TimeoutException:\n",
    "    print (\"Loading took too much time!\")\n",
    "time.sleep(10)     \n",
    "View_Report_el = browser.find_element(\"id\", \"Dc-8\")\n",
    "\n",
    "View_Report_el.click()\n",
    "time.sleep(1.5)"
   ]
  },
  {
   "cell_type": "markdown",
   "id": "46cd54d4-d753-45fd-9ed0-ab2d413fd7e5",
   "metadata": {},
   "source": [
    "### Printing report"
   ]
  },
  {
   "cell_type": "code",
   "execution_count": 97,
   "id": "a2784c43-34de-49ea-b927-684c124b8b9f",
   "metadata": {},
   "outputs": [],
   "source": [
    "browser.switch_to.window(browser.window_handles[1])\n",
    "time.sleep(3)\n",
    "autoit.send(\"^p\")\n",
    "time.sleep(3) # Pause to allow the PDF printer to load\n",
    "autoit.send(\"{Enter}\")\n",
    "time.sleep(3) # Pause to allow the printer to print.\n",
    "autoit.send(\"ogp-o\")\n",
    "autoit.send(\"{Enter}\")\n",
    "time.sleep(3)\n",
    "autoit.send(\"!{F4}\")\n",
    "time.sleep(3)\n",
    "browser.close()"
   ]
  },
  {
   "cell_type": "markdown",
   "id": "7d9412e3-404b-4625-9b57-9eaf7ed98dfd",
   "metadata": {},
   "source": [
    "### Close the report"
   ]
  },
  {
   "cell_type": "code",
   "execution_count": 98,
   "id": "06bd543a-a99c-475c-86a1-550f0e5894d7",
   "metadata": {},
   "outputs": [],
   "source": [
    "browser.switch_to.window(browser.window_handles[0])\n",
    "browser.implicitly_wait(1.5)\n",
    "\n",
    "close_button_el = browser.find_elements(By.XPATH, \"//button\")\n",
    "\n",
    "for button in close_button_el:\n",
    "    if button.get_attribute('title') and 'Close Manager: GL Backend RA - Main' in button.get_attribute('title'):\n",
    "        button.click();\n",
    "        "
   ]
  },
  {
   "cell_type": "markdown",
   "id": "0aae863b-ac0a-4af4-b962-1c0a7f7112b3",
   "metadata": {},
   "source": [
    "### Renaming and moving the report"
   ]
  },
  {
   "cell_type": "code",
   "execution_count": 99,
   "id": "c219429a-c3fc-4d49-a6b2-521949212d5e",
   "metadata": {},
   "outputs": [],
   "source": [
    "old_file = os.path.join(Desktop, \"ogp-o.pdf\")\n",
    "new_file = os.path.join(Desktop, accrue_month_1.strftime(\"OGP-O-Prelim. %b %Y Reporting Generic Distribution Report.pdf\"))\n",
    "try:\n",
    "  os.rename(old_file, new_file)\n",
    "except FileExistsError:\n",
    "  os.remove(new_file)\n",
    "  os.rename(old_file, new_file)"
   ]
  },
  {
   "cell_type": "code",
   "execution_count": 100,
   "id": "df89f18f-c8ca-4d94-82eb-2352cb6f02ae",
   "metadata": {},
   "outputs": [],
   "source": [
    "# file name with extension\n",
    "file_name = os.path.basename(new_file)\n",
    "\n",
    "# file name without extension\n",
    "file_name = (os.path.splitext(file_name)[0])"
   ]
  },
  {
   "cell_type": "code",
   "execution_count": 101,
   "id": "13686a79-eb46-4f29-872e-56d237a12096",
   "metadata": {},
   "outputs": [],
   "source": [
    "old_file = os.path.join(Desktop, new_file)\n",
    "new_file = os.path.join(Desktop, accrue_month_2.strftime(file_name + ' ' + \"(%b %Y Accrual).pdf\"))\n",
    "try:\n",
    "  os.rename(old_file, new_file)\n",
    "except FileExistsError:\n",
    "  os.remove(new_file)\n",
    "  os.rename(old_file, new_file)"
   ]
  },
  {
   "cell_type": "markdown",
   "id": "5bcabe02-08e2-4050-b84d-d1c27386f0cf",
   "metadata": {},
   "source": [
    "## CAN"
   ]
  },
  {
   "cell_type": "markdown",
   "id": "91f31c87-1235-4b16-932d-27ead5b1a2a3",
   "metadata": {},
   "source": [
    "### Clicking the Generate button"
   ]
  },
  {
   "cell_type": "code",
   "execution_count": 102,
   "id": "612358e6-58f6-451d-8880-e6fd9b652a62",
   "metadata": {},
   "outputs": [],
   "source": [
    "time.sleep(1.5)\n",
    "GL_Backend_RA_Main_Generate_btn_el = browser.find_element(\"id\", \"l_Dc-5-17\")\n",
    "GL_Backend_RA_Main_Generate_btn_el.click();"
   ]
  },
  {
   "cell_type": "markdown",
   "id": "937c8497-7d0c-43e0-9512-ecce078898ac",
   "metadata": {},
   "source": [
    "### Selecting CAN"
   ]
  },
  {
   "cell_type": "code",
   "execution_count": 103,
   "id": "24441200-5d38-44e8-a17f-399b8a642b02",
   "metadata": {},
   "outputs": [],
   "source": [
    "time.sleep(5)\n",
    "Revenue_Group_el = browser.find_element(\"name\", \"Dg-2\")\n",
    "Revenue_Group_el.send_keys(\"CAN\")\n",
    "Revenue_Group_el.send_keys(Keys.ENTER)"
   ]
  },
  {
   "cell_type": "markdown",
   "id": "a69e4811-5567-4733-8b32-e298da59be68",
   "metadata": {},
   "source": [
    "### Clicking the Generate button"
   ]
  },
  {
   "cell_type": "code",
   "execution_count": 104,
   "id": "d1b3ece0-6ab1-4ff9-b511-729dbd1e519f",
   "metadata": {},
   "outputs": [],
   "source": [
    "Generate_btn_el = browser.find_element(\"id\", \"caption2_Dc-7\")\n",
    "Generate_btn_el.click()"
   ]
  },
  {
   "cell_type": "markdown",
   "id": "0f5de381-ee02-4865-91b1-bcb74449039c",
   "metadata": {},
   "source": [
    "### Clicking the View Report button"
   ]
  },
  {
   "cell_type": "code",
   "execution_count": 105,
   "id": "d32e87a1-3973-4d8f-a0bb-423af2a962c6",
   "metadata": {},
   "outputs": [
    {
     "name": "stdout",
     "output_type": "stream",
     "text": [
      "Page is ready!\n"
     ]
    }
   ],
   "source": [
    "delay = 10 # seconds\n",
    "try:\n",
    "    myElem = WebDriverWait(browser, delay).until(EC.presence_of_element_located((By.ID, 'Dc-8')))\n",
    "    print (\"Page is ready!\")\n",
    "except TimeoutException:\n",
    "    print (\"Loading took too much time!\")\n",
    "time.sleep(10)     \n",
    "View_Report_el = browser.find_element(\"id\", \"Dc-8\")\n",
    "\n",
    "View_Report_el.click()\n",
    "time.sleep(1.5)"
   ]
  },
  {
   "cell_type": "markdown",
   "id": "120882a1-ef19-4441-80de-48d01e01a538",
   "metadata": {},
   "source": [
    "### Printing report"
   ]
  },
  {
   "cell_type": "code",
   "execution_count": 106,
   "id": "b1380589-94f6-4ada-9389-b024614efacc",
   "metadata": {},
   "outputs": [],
   "source": [
    "browser.switch_to.window(browser.window_handles[1])\n",
    "time.sleep(3)\n",
    "autoit.send(\"^p\")\n",
    "time.sleep(3) # Pause to allow the PDF printer to load\n",
    "autoit.send(\"{Enter}\")\n",
    "time.sleep(3) # Pause to allow the printer to print.\n",
    "autoit.send(\"can\")\n",
    "autoit.send(\"{Enter}\")\n",
    "time.sleep(3)\n",
    "autoit.send(\"!{F4}\")\n",
    "time.sleep(3)\n",
    "browser.close()"
   ]
  },
  {
   "cell_type": "markdown",
   "id": "65dc83e5-dff9-41fc-a317-f04ff8f19159",
   "metadata": {},
   "source": [
    "### Close the report"
   ]
  },
  {
   "cell_type": "code",
   "execution_count": 107,
   "id": "43257410-9f89-4352-92f1-04e9d843398e",
   "metadata": {},
   "outputs": [],
   "source": [
    "browser.switch_to.window(browser.window_handles[0])\n",
    "browser.implicitly_wait(1.5)\n",
    "\n",
    "close_button_el = browser.find_elements(By.XPATH, \"//button\")\n",
    "\n",
    "for button in close_button_el:\n",
    "    if button.get_attribute('title') and 'Close Manager: GL Backend RA - Main' in button.get_attribute('title'):\n",
    "        button.click();\n",
    "        "
   ]
  },
  {
   "cell_type": "markdown",
   "id": "1de15253-ea43-43c7-97db-47b972cd7398",
   "metadata": {},
   "source": [
    "### Renaming and moving the report"
   ]
  },
  {
   "cell_type": "code",
   "execution_count": 108,
   "id": "3a0bc53b-8831-44b5-8abc-45d135d0a3c6",
   "metadata": {},
   "outputs": [],
   "source": [
    "old_file = os.path.join(Desktop, \"can.pdf\")\n",
    "new_file = os.path.join(Desktop, accrue_month_1.strftime(\"CAN-Prelim. %b %Y Reporting Generic Distribution Report.pdf\"))\n",
    "try:\n",
    "  os.rename(old_file, new_file)\n",
    "except FileExistsError:\n",
    "  os.remove(new_file)\n",
    "  os.rename(old_file, new_file)"
   ]
  },
  {
   "cell_type": "code",
   "execution_count": 109,
   "id": "dc1b4034-ab9d-41ee-9df5-d76fd6783c5d",
   "metadata": {},
   "outputs": [],
   "source": [
    "# file name with extension\n",
    "file_name = os.path.basename(new_file)\n",
    "\n",
    "# file name without extension\n",
    "file_name = (os.path.splitext(file_name)[0])"
   ]
  },
  {
   "cell_type": "code",
   "execution_count": 110,
   "id": "8804f97f-3805-4f9f-ac00-1e4f76927bd8",
   "metadata": {},
   "outputs": [],
   "source": [
    "old_file = os.path.join(Desktop, new_file)\n",
    "new_file = os.path.join(Desktop, accrue_month_2.strftime(file_name + ' ' + \"(%b %Y Accrual).pdf\"))\n",
    "try:\n",
    "  os.rename(old_file, new_file)\n",
    "except FileExistsError:\n",
    "  os.remove(new_file)\n",
    "  os.rename(old_file, new_file)"
   ]
  },
  {
   "cell_type": "markdown",
   "id": "3eed25a6-3875-4978-aa2f-d6330efa4e89",
   "metadata": {},
   "source": [
    "## GRT"
   ]
  },
  {
   "cell_type": "markdown",
   "id": "0eb6145b-44ee-4e40-a600-5181b0217fe6",
   "metadata": {},
   "source": [
    "### Clicking the Generate button"
   ]
  },
  {
   "cell_type": "code",
   "execution_count": 111,
   "id": "0ca2375f-3816-44e3-9bec-5b5d363bd49d",
   "metadata": {},
   "outputs": [],
   "source": [
    "time.sleep(1.5)\n",
    "GL_Backend_RA_Main_Generate_btn_el = browser.find_element(\"id\", \"l_Dc-5-17\")\n",
    "GL_Backend_RA_Main_Generate_btn_el.click();"
   ]
  },
  {
   "cell_type": "markdown",
   "id": "da95662a-9bf4-4cc0-85b3-c3ec6da3a545",
   "metadata": {},
   "source": [
    "### Selecting GRT"
   ]
  },
  {
   "cell_type": "code",
   "execution_count": 112,
   "id": "2908103b-a53e-4781-876f-f58ba469f313",
   "metadata": {},
   "outputs": [],
   "source": [
    "time.sleep(5)\n",
    "Revenue_Group_el = browser.find_element(\"name\", \"Dg-2\")\n",
    "Revenue_Group_el.send_keys(\"GRT\")\n",
    "Revenue_Group_el.send_keys(Keys.ENTER)"
   ]
  },
  {
   "cell_type": "markdown",
   "id": "49e26a0a-dab9-4d1f-90a4-52bfcd72f8fd",
   "metadata": {},
   "source": [
    "### Clicking the Generate button"
   ]
  },
  {
   "cell_type": "code",
   "execution_count": 113,
   "id": "b8fe6d08-1379-49a7-b2a9-1d86ac4964a2",
   "metadata": {},
   "outputs": [],
   "source": [
    "Generate_btn_el = browser.find_element(\"id\", \"caption2_Dc-7\")\n",
    "Generate_btn_el.click()"
   ]
  },
  {
   "cell_type": "markdown",
   "id": "22daf6b0-1110-4e5a-9e81-da5f28929752",
   "metadata": {},
   "source": [
    "### Clicking the View Report button"
   ]
  },
  {
   "cell_type": "code",
   "execution_count": 114,
   "id": "451964a5-6381-4eaa-aec8-c6588757f7bc",
   "metadata": {},
   "outputs": [
    {
     "name": "stdout",
     "output_type": "stream",
     "text": [
      "Page is ready!\n"
     ]
    }
   ],
   "source": [
    "delay = 10 # seconds\n",
    "try:\n",
    "    myElem = WebDriverWait(browser, delay).until(EC.presence_of_element_located((By.ID, 'Dc-8')))\n",
    "    print (\"Page is ready!\")\n",
    "except TimeoutException:\n",
    "    print (\"Loading took too much time!\")\n",
    "time.sleep(10)     \n",
    "View_Report_el = browser.find_element(\"id\", \"Dc-8\")\n",
    "\n",
    "View_Report_el.click()\n",
    "time.sleep(1.5)"
   ]
  },
  {
   "cell_type": "markdown",
   "id": "5a7e4ba3-186d-4112-88db-dc0bdd924a71",
   "metadata": {},
   "source": [
    "### Printing report"
   ]
  },
  {
   "cell_type": "code",
   "execution_count": 115,
   "id": "2a1a8f66-5dfa-42aa-a880-7f3505de316a",
   "metadata": {},
   "outputs": [],
   "source": [
    "browser.switch_to.window(browser.window_handles[1])\n",
    "time.sleep(3)\n",
    "autoit.send(\"^p\")\n",
    "time.sleep(3) # Pause to allow the PDF printer to load\n",
    "autoit.send(\"{Enter}\")\n",
    "time.sleep(3) # Pause to allow the printer to print.\n",
    "autoit.send(\"grt\")\n",
    "autoit.send(\"{Enter}\")\n",
    "time.sleep(3)\n",
    "autoit.send(\"!{F4}\")\n",
    "time.sleep(3)\n",
    "browser.close()"
   ]
  },
  {
   "cell_type": "markdown",
   "id": "9ba8bd0a-27f3-42da-b883-fde9b83f9dc0",
   "metadata": {},
   "source": [
    "### Close the report"
   ]
  },
  {
   "cell_type": "code",
   "execution_count": 116,
   "id": "85e4a3a5-4721-41b6-8476-2f71d1d3a767",
   "metadata": {},
   "outputs": [],
   "source": [
    "browser.switch_to.window(browser.window_handles[0])\n",
    "browser.implicitly_wait(1.5)\n",
    "\n",
    "close_button_el = browser.find_elements(By.XPATH, \"//button\")\n",
    "\n",
    "for button in close_button_el:\n",
    "    if button.get_attribute('title') and 'Close Manager: GL Backend RA - Main' in button.get_attribute('title'):\n",
    "        button.click();\n",
    "        "
   ]
  },
  {
   "cell_type": "markdown",
   "id": "ce8ab126-fb23-4333-8f88-6b55e29f4c58",
   "metadata": {},
   "source": [
    "### Renaming and moving the report"
   ]
  },
  {
   "cell_type": "code",
   "execution_count": 117,
   "id": "b7eec0bf-b7e4-41f3-baf9-5598c06cbc08",
   "metadata": {},
   "outputs": [],
   "source": [
    "old_file = os.path.join(Desktop, \"grt.pdf\")\n",
    "new_file = os.path.join(Desktop, accrue_month_1.strftime(\"GRT-Prelim. %b %Y Reporting Generic Distribution Report.pdf\"))\n",
    "try:\n",
    "  os.rename(old_file, new_file)\n",
    "except FileExistsError:\n",
    "  os.remove(new_file)\n",
    "  os.rename(old_file, new_file)"
   ]
  },
  {
   "cell_type": "code",
   "execution_count": 118,
   "id": "f29df01b-d836-489a-ac04-ec668eaa24b2",
   "metadata": {},
   "outputs": [],
   "source": [
    "# file name with extension\n",
    "file_name = os.path.basename(new_file)\n",
    "\n",
    "# file name without extension\n",
    "file_name = (os.path.splitext(file_name)[0])"
   ]
  },
  {
   "cell_type": "code",
   "execution_count": 119,
   "id": "b8d726d9-c47b-46b4-9229-5a81d090ae52",
   "metadata": {},
   "outputs": [],
   "source": [
    "old_file = os.path.join(Desktop, new_file)\n",
    "new_file = os.path.join(Desktop, accrue_month_2.strftime(file_name + ' ' + \"(%b %Y Accrual).pdf\"))\n",
    "try:\n",
    "  os.rename(old_file, new_file)\n",
    "except FileExistsError:\n",
    "  os.remove(new_file)\n",
    "  os.rename(old_file, new_file)"
   ]
  },
  {
   "cell_type": "markdown",
   "id": "4107fec0-1a62-4e76-9e7f-c2272ba054be",
   "metadata": {},
   "source": [
    "## CMP"
   ]
  },
  {
   "cell_type": "markdown",
   "id": "258dd3f1-1ff0-44e9-924b-19b472df8601",
   "metadata": {},
   "source": [
    "### Clicking the Generate button"
   ]
  },
  {
   "cell_type": "code",
   "execution_count": 120,
   "id": "6d19414f-ded1-4fa1-acd6-e8d652ccb524",
   "metadata": {},
   "outputs": [],
   "source": [
    "time.sleep(1.5)\n",
    "GL_Backend_RA_Main_Generate_btn_el = browser.find_element(\"id\", \"l_Dc-5-17\")\n",
    "GL_Backend_RA_Main_Generate_btn_el.click();"
   ]
  },
  {
   "cell_type": "markdown",
   "id": "2bcee13c-e4ac-4704-b664-2ee0cf71bc35",
   "metadata": {},
   "source": [
    "### Selecting CMP"
   ]
  },
  {
   "cell_type": "code",
   "execution_count": 121,
   "id": "168be43b-d412-4135-b968-dd668e5604d6",
   "metadata": {},
   "outputs": [],
   "source": [
    "time.sleep(5)\n",
    "Revenue_Group_el = browser.find_element(\"name\", \"Dg-2\")\n",
    "Revenue_Group_el.send_keys(\"CMP\")\n",
    "Revenue_Group_el.send_keys(Keys.ENTER)"
   ]
  },
  {
   "cell_type": "markdown",
   "id": "f0de90b3-d055-40a4-bf4c-8c68f2313e54",
   "metadata": {},
   "source": [
    "### Clicking the Generate button"
   ]
  },
  {
   "cell_type": "code",
   "execution_count": 122,
   "id": "a932685f-df41-4c99-be5c-46be8f941b3b",
   "metadata": {},
   "outputs": [],
   "source": [
    "Generate_btn_el = browser.find_element(\"id\", \"caption2_Dc-7\")\n",
    "Generate_btn_el.click()"
   ]
  },
  {
   "cell_type": "markdown",
   "id": "8acd16ec-d800-4fa2-95ba-cacdb837f8ca",
   "metadata": {},
   "source": [
    "### Clicking the View Report button"
   ]
  },
  {
   "cell_type": "code",
   "execution_count": 123,
   "id": "9ba6fb38-d7b5-40b4-97df-05d7565d81e1",
   "metadata": {},
   "outputs": [
    {
     "name": "stdout",
     "output_type": "stream",
     "text": [
      "Page is ready!\n"
     ]
    }
   ],
   "source": [
    "delay = 10 # seconds\n",
    "try:\n",
    "    myElem = WebDriverWait(browser, delay).until(EC.presence_of_element_located((By.ID, 'Dc-8')))\n",
    "    print (\"Page is ready!\")\n",
    "except TimeoutException:\n",
    "    print (\"Loading took too much time!\")\n",
    "time.sleep(10)     \n",
    "View_Report_el = browser.find_element(\"id\", \"Dc-8\")\n",
    "\n",
    "View_Report_el.click()\n",
    "time.sleep(1.5)"
   ]
  },
  {
   "cell_type": "markdown",
   "id": "b69765d2-8f5c-439b-afc0-6e85403d90a0",
   "metadata": {},
   "source": [
    "### Printing report"
   ]
  },
  {
   "cell_type": "code",
   "execution_count": 124,
   "id": "43b35bf7-8ec2-4f4e-bb97-4a0dcd164fd6",
   "metadata": {},
   "outputs": [],
   "source": [
    "browser.switch_to.window(browser.window_handles[1])\n",
    "time.sleep(3)\n",
    "autoit.send(\"^p\")\n",
    "time.sleep(3) # Pause to allow the PDF printer to load\n",
    "autoit.send(\"{Enter}\")\n",
    "time.sleep(3) # Pause to allow the printer to print.\n",
    "autoit.send(\"cmp\")\n",
    "autoit.send(\"{Enter}\")\n",
    "time.sleep(3)\n",
    "autoit.send(\"!{F4}\")\n",
    "time.sleep(3)\n",
    "browser.close()"
   ]
  },
  {
   "cell_type": "markdown",
   "id": "ce1148c1-b46a-4fdf-9c14-6d9f60904fc7",
   "metadata": {},
   "source": [
    "### Close the report"
   ]
  },
  {
   "cell_type": "code",
   "execution_count": 125,
   "id": "52134422-fbf7-42bf-bda4-2740fcf3320c",
   "metadata": {},
   "outputs": [],
   "source": [
    "browser.switch_to.window(browser.window_handles[0])\n",
    "browser.implicitly_wait(1.5)\n",
    "\n",
    "close_button_el = browser.find_elements(By.XPATH, \"//button\")\n",
    "\n",
    "for button in close_button_el:\n",
    "    if button.get_attribute('title') and 'Close Manager: GL Backend RA - Main' in button.get_attribute('title'):\n",
    "        button.click();\n",
    "        "
   ]
  },
  {
   "cell_type": "markdown",
   "id": "b884f4f4-6a0b-4c12-aa66-ce9fff3bf170",
   "metadata": {},
   "source": [
    "### Renaming and moving the report"
   ]
  },
  {
   "cell_type": "code",
   "execution_count": 126,
   "id": "9914a3e1-1c60-404b-a2ec-d650bfbd78ce",
   "metadata": {},
   "outputs": [],
   "source": [
    "old_file = os.path.join(Desktop, \"cmp.pdf\")\n",
    "new_file = os.path.join(Desktop, accrue_month_1.strftime(\"CMP-Prelim. %b %Y Reporting Generic Distribution Report.pdf\"))\n",
    "try:\n",
    "  os.rename(old_file, new_file)\n",
    "except FileExistsError:\n",
    "  os.remove(new_file)\n",
    "  os.rename(old_file, new_file)"
   ]
  },
  {
   "cell_type": "code",
   "execution_count": 127,
   "id": "cd79a4c2-a9bc-4cfd-ba8e-c8750d6c30bc",
   "metadata": {},
   "outputs": [],
   "source": [
    "# file name with extension\n",
    "file_name = os.path.basename(new_file)\n",
    "\n",
    "# file name without extension\n",
    "file_name = (os.path.splitext(file_name)[0])"
   ]
  },
  {
   "cell_type": "code",
   "execution_count": 128,
   "id": "6fcca0e4-8208-4279-8c33-bbd658c40249",
   "metadata": {},
   "outputs": [],
   "source": [
    "old_file = os.path.join(Desktop, new_file)\n",
    "new_file = os.path.join(Desktop, accrue_month_2.strftime(file_name + ' ' + \"(%b %Y Accrual).pdf\"))\n",
    "try:\n",
    "  os.rename(old_file, new_file)\n",
    "except FileExistsError:\n",
    "  os.remove(new_file)\n",
    "  os.rename(old_file, new_file)"
   ]
  },
  {
   "cell_type": "markdown",
   "id": "e1850cec-1f50-4f29-a76d-e14c3d497639",
   "metadata": {},
   "source": [
    "## ISI"
   ]
  },
  {
   "cell_type": "markdown",
   "id": "89cd79f9-5681-453d-8bd7-2ca748b11c2c",
   "metadata": {},
   "source": [
    "### Clicking the Generate button"
   ]
  },
  {
   "cell_type": "code",
   "execution_count": 129,
   "id": "2b91ffef-117a-4d78-aa48-4b1dbb7de087",
   "metadata": {},
   "outputs": [],
   "source": [
    "time.sleep(1.5)\n",
    "GL_Backend_RA_Main_Generate_btn_el = browser.find_element(\"id\", \"l_Dc-5-17\")\n",
    "GL_Backend_RA_Main_Generate_btn_el.click();"
   ]
  },
  {
   "cell_type": "markdown",
   "id": "702042c5-c003-4935-8954-4a2bc595ca6d",
   "metadata": {},
   "source": [
    "### Selecting ISI"
   ]
  },
  {
   "cell_type": "code",
   "execution_count": 130,
   "id": "d3e58470-68db-4bdb-9a2d-32236b6ab1cb",
   "metadata": {},
   "outputs": [],
   "source": [
    "time.sleep(5)\n",
    "Revenue_Group_el = browser.find_element(\"name\", \"Dg-2\")\n",
    "Revenue_Group_el.send_keys(\"ISI\")\n",
    "Revenue_Group_el.send_keys(Keys.ENTER)"
   ]
  },
  {
   "cell_type": "markdown",
   "id": "8d04fc78-5db4-4f1d-bb7d-b1e5403d0a7e",
   "metadata": {},
   "source": [
    "### Clicking the Generate button"
   ]
  },
  {
   "cell_type": "code",
   "execution_count": 131,
   "id": "1ba0a680-d24a-4483-ab2a-07a8d5d68951",
   "metadata": {},
   "outputs": [],
   "source": [
    "Generate_btn_el = browser.find_element(\"id\", \"caption2_Dc-7\")\n",
    "Generate_btn_el.click()"
   ]
  },
  {
   "cell_type": "markdown",
   "id": "198c39c2-9b02-4ca1-96fd-9609661b909e",
   "metadata": {},
   "source": [
    "### Clicking the View Report button"
   ]
  },
  {
   "cell_type": "code",
   "execution_count": 132,
   "id": "67a99845-e787-43bf-aeab-212af0fdaab8",
   "metadata": {},
   "outputs": [
    {
     "name": "stdout",
     "output_type": "stream",
     "text": [
      "Page is ready!\n"
     ]
    }
   ],
   "source": [
    "delay = 10 # seconds\n",
    "try:\n",
    "    myElem = WebDriverWait(browser, delay).until(EC.presence_of_element_located((By.ID, 'Dc-8')))\n",
    "    print (\"Page is ready!\")\n",
    "except TimeoutException:\n",
    "    print (\"Loading took too much time!\")\n",
    "time.sleep(10)     \n",
    "View_Report_el = browser.find_element(\"id\", \"Dc-8\")\n",
    "\n",
    "View_Report_el.click()\n",
    "time.sleep(1.5)"
   ]
  },
  {
   "cell_type": "markdown",
   "id": "9b8434e0-75a0-49fa-9715-92427feb5552",
   "metadata": {},
   "source": [
    "### Printing report"
   ]
  },
  {
   "cell_type": "code",
   "execution_count": 133,
   "id": "0683bbd6-ba06-4fae-be5f-0986cbc985ae",
   "metadata": {},
   "outputs": [],
   "source": [
    "browser.switch_to.window(browser.window_handles[1])\n",
    "time.sleep(3)\n",
    "autoit.send(\"^p\")\n",
    "time.sleep(3) # Pause to allow the PDF printer to load\n",
    "autoit.send(\"{Enter}\")\n",
    "time.sleep(3) # Pause to allow the printer to print.\n",
    "autoit.send(\"isi\")\n",
    "autoit.send(\"{Enter}\")\n",
    "time.sleep(3)\n",
    "autoit.send(\"!{F4}\")\n",
    "time.sleep(3)\n",
    "browser.close()"
   ]
  },
  {
   "cell_type": "markdown",
   "id": "3f57979b-f643-4cb8-89dd-8bd021e190aa",
   "metadata": {},
   "source": [
    "### Close the report"
   ]
  },
  {
   "cell_type": "code",
   "execution_count": 134,
   "id": "c0a4f0af-ea21-40a0-b7d4-cee936f0be63",
   "metadata": {},
   "outputs": [],
   "source": [
    "browser.switch_to.window(browser.window_handles[0])\n",
    "browser.implicitly_wait(1.5)\n",
    "\n",
    "close_button_el = browser.find_elements(By.XPATH, \"//button\")\n",
    "\n",
    "for button in close_button_el:\n",
    "    if button.get_attribute('title') and 'Close Manager: GL Backend RA - Main' in button.get_attribute('title'):\n",
    "        button.click();\n",
    "        "
   ]
  },
  {
   "cell_type": "markdown",
   "id": "6965d42f-e04a-443c-9773-229b49086a6b",
   "metadata": {},
   "source": [
    "### Renaming and moving the report"
   ]
  },
  {
   "cell_type": "code",
   "execution_count": 135,
   "id": "5dfc3a3f-bdd7-4d0b-bd16-acefbeeca467",
   "metadata": {},
   "outputs": [],
   "source": [
    "old_file = os.path.join(Desktop, \"isi.pdf\")\n",
    "new_file = os.path.join(Desktop, accrue_month_1.strftime(\"ISI-Prelim. %b %Y Reporting Generic Distribution Report.pdf\"))\n",
    "try:\n",
    "  os.rename(old_file, new_file)\n",
    "except FileExistsError:\n",
    "  os.remove(new_file)\n",
    "  os.rename(old_file, new_file)"
   ]
  },
  {
   "cell_type": "code",
   "execution_count": 136,
   "id": "accbc1d4-30a8-4eaf-997a-3b7a6da20db9",
   "metadata": {},
   "outputs": [],
   "source": [
    "# file name with extension\n",
    "file_name = os.path.basename(new_file)\n",
    "\n",
    "# file name without extension\n",
    "file_name = (os.path.splitext(file_name)[0])"
   ]
  },
  {
   "cell_type": "code",
   "execution_count": 137,
   "id": "63f1ee1e-6da9-4636-b74d-c9c095aa5fa8",
   "metadata": {},
   "outputs": [],
   "source": [
    "old_file = os.path.join(Desktop, new_file)\n",
    "new_file = os.path.join(Desktop, accrue_month_2.strftime(file_name + ' ' + \"(%b %Y Accrual).pdf\"))\n",
    "try:\n",
    "  os.rename(old_file, new_file)\n",
    "except FileExistsError:\n",
    "  os.remove(new_file)\n",
    "  os.rename(old_file, new_file)"
   ]
  },
  {
   "cell_type": "markdown",
   "id": "0c779bd6-9713-4c0a-bbef-ef019f60880c",
   "metadata": {},
   "source": [
    "## IPP"
   ]
  },
  {
   "cell_type": "markdown",
   "id": "a0fc597d-c0fb-45fa-b65d-83f87636fb5c",
   "metadata": {},
   "source": [
    "### Clicking the Generate button"
   ]
  },
  {
   "cell_type": "code",
   "execution_count": 138,
   "id": "976b5869-a409-479a-8bcc-9eb1855edbc0",
   "metadata": {},
   "outputs": [],
   "source": [
    "time.sleep(1.5)\n",
    "GL_Backend_RA_Main_Generate_btn_el = browser.find_element(\"id\", \"l_Dc-5-17\")\n",
    "GL_Backend_RA_Main_Generate_btn_el.click();"
   ]
  },
  {
   "cell_type": "markdown",
   "id": "4654207d-e994-4586-b62e-e58d0c7277bd",
   "metadata": {},
   "source": [
    "### Selecting IPP"
   ]
  },
  {
   "cell_type": "code",
   "execution_count": 139,
   "id": "b7186279-c7d0-4943-822a-5b90c61c2251",
   "metadata": {},
   "outputs": [],
   "source": [
    "time.sleep(5)\n",
    "Revenue_Group_el = browser.find_element(\"name\", \"Dg-2\")\n",
    "Revenue_Group_el.send_keys(\"IPP\")\n",
    "Revenue_Group_el.send_keys(Keys.ENTER)"
   ]
  },
  {
   "cell_type": "markdown",
   "id": "aa13a257-3743-4894-ae10-8ce05965f70a",
   "metadata": {},
   "source": [
    "### Clicking the Generate button"
   ]
  },
  {
   "cell_type": "code",
   "execution_count": 140,
   "id": "e81f3b75-f881-46dd-9cfd-8ba7e9efdfb7",
   "metadata": {},
   "outputs": [],
   "source": [
    "Generate_btn_el = browser.find_element(\"id\", \"caption2_Dc-7\")\n",
    "Generate_btn_el.click()"
   ]
  },
  {
   "cell_type": "markdown",
   "id": "144cb0c4-99a1-421e-9724-60476fa4d6e1",
   "metadata": {},
   "source": [
    "### Clicking the View Report button"
   ]
  },
  {
   "cell_type": "code",
   "execution_count": 141,
   "id": "70176079-d415-4ff8-94c3-d9581e20c355",
   "metadata": {},
   "outputs": [
    {
     "name": "stdout",
     "output_type": "stream",
     "text": [
      "Page is ready!\n"
     ]
    }
   ],
   "source": [
    "delay = 10 # seconds\n",
    "try:\n",
    "    myElem = WebDriverWait(browser, delay).until(EC.presence_of_element_located((By.ID, 'Dc-8')))\n",
    "    print (\"Page is ready!\")\n",
    "except TimeoutException:\n",
    "    print (\"Loading took too much time!\")\n",
    "time.sleep(10)     \n",
    "View_Report_el = browser.find_element(\"id\", \"Dc-8\")\n",
    "\n",
    "View_Report_el.click()\n",
    "time.sleep(1.5)"
   ]
  },
  {
   "cell_type": "markdown",
   "id": "7f321ce4-e131-441a-8681-9ddfb88ea635",
   "metadata": {},
   "source": [
    "### Printing report"
   ]
  },
  {
   "cell_type": "code",
   "execution_count": 142,
   "id": "62d6303e-9c7e-47e5-8453-839667939d08",
   "metadata": {},
   "outputs": [],
   "source": [
    "browser.switch_to.window(browser.window_handles[1])\n",
    "time.sleep(3)\n",
    "autoit.send(\"^p\")\n",
    "time.sleep(3) # Pause to allow the PDF printer to load\n",
    "autoit.send(\"{Enter}\")\n",
    "time.sleep(3) # Pause to allow the printer to print.\n",
    "autoit.send(\"ipp\")\n",
    "autoit.send(\"{Enter}\")\n",
    "time.sleep(3)\n",
    "autoit.send(\"!{F4}\")\n",
    "time.sleep(3)\n",
    "browser.close()"
   ]
  },
  {
   "cell_type": "markdown",
   "id": "523c584f-60c5-465c-be1a-3de88f344bcb",
   "metadata": {},
   "source": [
    "### Close the report"
   ]
  },
  {
   "cell_type": "code",
   "execution_count": 143,
   "id": "f56c522f-f5ba-423a-9a77-c4036f4f2788",
   "metadata": {},
   "outputs": [],
   "source": [
    "browser.switch_to.window(browser.window_handles[0])\n",
    "browser.implicitly_wait(1.5)\n",
    "\n",
    "close_button_el = browser.find_elements(By.XPATH, \"//button\")\n",
    "\n",
    "for button in close_button_el:\n",
    "    if button.get_attribute('title') and 'Close Manager: GL Backend RA - Main' in button.get_attribute('title'):\n",
    "        button.click();\n",
    "        "
   ]
  },
  {
   "cell_type": "markdown",
   "id": "70482a67-900a-4fa6-beaa-18234702cc84",
   "metadata": {},
   "source": [
    "### Renaming and moving the report"
   ]
  },
  {
   "cell_type": "code",
   "execution_count": 144,
   "id": "48c85d01-396a-4c03-9d9e-16eed12580cf",
   "metadata": {},
   "outputs": [],
   "source": [
    "old_file = os.path.join(Desktop, \"ipp.pdf\")\n",
    "new_file = os.path.join(Desktop, accrue_month_1.strftime(\"IPP-Prelim. %b %Y Reporting Generic Distribution Report.pdf\"))\n",
    "try:\n",
    "  os.rename(old_file, new_file)\n",
    "except FileExistsError:\n",
    "  os.remove(new_file)\n",
    "  os.rename(old_file, new_file)"
   ]
  },
  {
   "cell_type": "code",
   "execution_count": 145,
   "id": "42e8a123-bdfa-4d81-97a7-3330053132b8",
   "metadata": {},
   "outputs": [],
   "source": [
    "# file name with extension\n",
    "file_name = os.path.basename(new_file)\n",
    "\n",
    "# file name without extension\n",
    "file_name = (os.path.splitext(file_name)[0])"
   ]
  },
  {
   "cell_type": "code",
   "execution_count": 146,
   "id": "9657f48f-25e2-421b-b26b-60aeb0f9f60b",
   "metadata": {},
   "outputs": [],
   "source": [
    "old_file = os.path.join(Desktop, new_file)\n",
    "new_file = os.path.join(Desktop, accrue_month_2.strftime(file_name + ' ' + \"(%b %Y Accrual).pdf\"))\n",
    "try:\n",
    "  os.rename(old_file, new_file)\n",
    "except FileExistsError:\n",
    "  os.remove(new_file)\n",
    "  os.rename(old_file, new_file)"
   ]
  },
  {
   "cell_type": "markdown",
   "id": "00f72f7c-ed7f-426d-a554-85bb7cc03695",
   "metadata": {},
   "source": [
    "## IPS"
   ]
  },
  {
   "cell_type": "markdown",
   "id": "67892ba6-af61-4ad5-89ce-efcfc4c77a62",
   "metadata": {},
   "source": [
    "### Clicking the Generate button"
   ]
  },
  {
   "cell_type": "code",
   "execution_count": 147,
   "id": "b6209240-6e61-437f-aec4-fc7fe5df70dd",
   "metadata": {},
   "outputs": [],
   "source": [
    "time.sleep(1.5)\n",
    "GL_Backend_RA_Main_Generate_btn_el = browser.find_element(\"id\", \"l_Dc-5-17\")\n",
    "GL_Backend_RA_Main_Generate_btn_el.click();"
   ]
  },
  {
   "cell_type": "markdown",
   "id": "d6dba7e7-b3c2-4c12-8ba0-a8a3102609ab",
   "metadata": {},
   "source": [
    "### Selecting IPS"
   ]
  },
  {
   "cell_type": "code",
   "execution_count": 148,
   "id": "54b6edf6-efc3-4694-9fed-dc081d431beb",
   "metadata": {},
   "outputs": [],
   "source": [
    "time.sleep(5)\n",
    "Revenue_Group_el = browser.find_element(\"name\", \"Dg-2\")\n",
    "Revenue_Group_el.send_keys(\"IPS\")\n",
    "Revenue_Group_el.send_keys(Keys.ENTER)"
   ]
  },
  {
   "cell_type": "markdown",
   "id": "c8ac2ddf-eed9-4df7-b8a4-521a58df824f",
   "metadata": {},
   "source": [
    "### Clicking the Generate button"
   ]
  },
  {
   "cell_type": "code",
   "execution_count": 149,
   "id": "4ed9b032-37ac-4c2c-b809-33532c3f5302",
   "metadata": {},
   "outputs": [],
   "source": [
    "Generate_btn_el = browser.find_element(\"id\", \"caption2_Dc-7\")\n",
    "Generate_btn_el.click()"
   ]
  },
  {
   "cell_type": "markdown",
   "id": "e187a617-0021-4bd9-9ab2-761e4b9b9ea0",
   "metadata": {},
   "source": [
    "### Clicking the View Report button"
   ]
  },
  {
   "cell_type": "code",
   "execution_count": 150,
   "id": "c98c4791-82af-4fa9-b7ab-c78b5ba12b2b",
   "metadata": {},
   "outputs": [
    {
     "name": "stdout",
     "output_type": "stream",
     "text": [
      "Page is ready!\n"
     ]
    }
   ],
   "source": [
    "delay = 10 # seconds\n",
    "try:\n",
    "    myElem = WebDriverWait(browser, delay).until(EC.presence_of_element_located((By.ID, 'Dc-8')))\n",
    "    print (\"Page is ready!\")\n",
    "except TimeoutException:\n",
    "    print (\"Loading took too much time!\")\n",
    "time.sleep(10)     \n",
    "View_Report_el = browser.find_element(\"id\", \"Dc-8\")\n",
    "\n",
    "View_Report_el.click()\n",
    "time.sleep(1.5)"
   ]
  },
  {
   "cell_type": "markdown",
   "id": "a222efe2-1a85-41da-a714-df03b6b647f2",
   "metadata": {},
   "source": [
    "### Printing report"
   ]
  },
  {
   "cell_type": "code",
   "execution_count": 151,
   "id": "232a1e2d-cc83-4dba-86cc-05f4a89250bb",
   "metadata": {},
   "outputs": [],
   "source": [
    "browser.switch_to.window(browser.window_handles[1])\n",
    "time.sleep(3)\n",
    "autoit.send(\"^p\")\n",
    "time.sleep(3) # Pause to allow the PDF printer to load\n",
    "autoit.send(\"{Enter}\")\n",
    "time.sleep(3) # Pause to allow the printer to print.\n",
    "autoit.send(\"ips\")\n",
    "autoit.send(\"{Enter}\")\n",
    "time.sleep(3)\n",
    "autoit.send(\"!{F4}\")\n",
    "time.sleep(3)\n",
    "browser.close()"
   ]
  },
  {
   "cell_type": "markdown",
   "id": "cd5962e5-b656-460f-913a-1b002bf4ae63",
   "metadata": {},
   "source": [
    "### Close the report"
   ]
  },
  {
   "cell_type": "code",
   "execution_count": 152,
   "id": "eea6a82b-6c3b-4c07-b55a-be21b882cf18",
   "metadata": {},
   "outputs": [],
   "source": [
    "browser.switch_to.window(browser.window_handles[0])\n",
    "browser.implicitly_wait(1.5)\n",
    "\n",
    "close_button_el = browser.find_elements(By.XPATH, \"//button\")\n",
    "\n",
    "for button in close_button_el:\n",
    "    if button.get_attribute('title') and 'Close Manager: GL Backend RA - Main' in button.get_attribute('title'):\n",
    "        button.click();\n",
    "        "
   ]
  },
  {
   "cell_type": "markdown",
   "id": "23d285e3-4c9a-4353-afb8-e1d1d8f5f8fe",
   "metadata": {},
   "source": [
    "### Renaming and moving the report"
   ]
  },
  {
   "cell_type": "code",
   "execution_count": 153,
   "id": "354a7e6c-ef8e-4732-ade8-9bcd499823be",
   "metadata": {},
   "outputs": [],
   "source": [
    "old_file = os.path.join(Desktop, \"ips.pdf\")\n",
    "new_file = os.path.join(Desktop, accrue_month_1.strftime(\"IPS-Prelim. %b %Y Reporting Generic Distribution Report.pdf\"))\n",
    "try:\n",
    "  os.rename(old_file, new_file)\n",
    "except FileExistsError:\n",
    "  os.remove(new_file)\n",
    "  os.rename(old_file, new_file)"
   ]
  },
  {
   "cell_type": "code",
   "execution_count": 154,
   "id": "c21ce088-9b34-475e-b250-d445a7dbfdac",
   "metadata": {},
   "outputs": [],
   "source": [
    "# file name with extension\n",
    "file_name = os.path.basename(new_file)\n",
    "\n",
    "# file name without extension\n",
    "file_name = (os.path.splitext(file_name)[0])"
   ]
  },
  {
   "cell_type": "code",
   "execution_count": 155,
   "id": "e4d0f4fa-c80b-404b-bebc-af9d8801f4b4",
   "metadata": {},
   "outputs": [],
   "source": [
    "old_file = os.path.join(Desktop, new_file)\n",
    "new_file = os.path.join(Desktop, accrue_month_2.strftime(file_name + ' ' + \"(%b %Y Accrual).pdf\"))\n",
    "try:\n",
    "  os.rename(old_file, new_file)\n",
    "except FileExistsError:\n",
    "  os.remove(new_file)\n",
    "  os.rename(old_file, new_file)"
   ]
  },
  {
   "cell_type": "markdown",
   "id": "ba673e6b-0138-4fe3-a184-a6e786ba3d8e",
   "metadata": {},
   "source": [
    "## IPH"
   ]
  },
  {
   "cell_type": "markdown",
   "id": "5bdaeabd-f922-4e37-b602-89400c43b36d",
   "metadata": {},
   "source": [
    "### Clicking the Generate button"
   ]
  },
  {
   "cell_type": "code",
   "execution_count": 156,
   "id": "4f0554d1-a6d2-4c5c-b9b1-f45dc2bf9c96",
   "metadata": {},
   "outputs": [],
   "source": [
    "time.sleep(1.5)\n",
    "GL_Backend_RA_Main_Generate_btn_el = browser.find_element(\"id\", \"l_Dc-5-17\")\n",
    "GL_Backend_RA_Main_Generate_btn_el.click();"
   ]
  },
  {
   "cell_type": "markdown",
   "id": "d68c2431-3afa-4e14-8afc-cc405e0736e1",
   "metadata": {},
   "source": [
    "### Selecting IPH"
   ]
  },
  {
   "cell_type": "code",
   "execution_count": 157,
   "id": "0c429b4c-3f1a-456f-a63d-6ada77e7304f",
   "metadata": {},
   "outputs": [],
   "source": [
    "time.sleep(5)\n",
    "Revenue_Group_el = browser.find_element(\"name\", \"Dg-2\")\n",
    "Revenue_Group_el.send_keys(\"IPH\")\n",
    "Revenue_Group_el.send_keys(Keys.ENTER)"
   ]
  },
  {
   "cell_type": "markdown",
   "id": "0fdc4b5f-2fab-4aa8-81a2-bd1043611cc6",
   "metadata": {},
   "source": [
    "### Clicking the Generate button"
   ]
  },
  {
   "cell_type": "code",
   "execution_count": 158,
   "id": "31a469e8-6c19-4bd2-878b-61ef88d20807",
   "metadata": {},
   "outputs": [],
   "source": [
    "Generate_btn_el = browser.find_element(\"id\", \"caption2_Dc-7\")\n",
    "Generate_btn_el.click()"
   ]
  },
  {
   "cell_type": "markdown",
   "id": "07601a8b-decf-4f64-a908-fc407ef976df",
   "metadata": {},
   "source": [
    "### Clicking the View Report button"
   ]
  },
  {
   "cell_type": "code",
   "execution_count": 159,
   "id": "9834f1c7-096a-44ec-8b37-099ca1af8c99",
   "metadata": {},
   "outputs": [
    {
     "name": "stdout",
     "output_type": "stream",
     "text": [
      "Page is ready!\n"
     ]
    }
   ],
   "source": [
    "delay = 10 # seconds\n",
    "try:\n",
    "    myElem = WebDriverWait(browser, delay).until(EC.presence_of_element_located((By.ID, 'Dc-8')))\n",
    "    print (\"Page is ready!\")\n",
    "except TimeoutException:\n",
    "    print (\"Loading took too much time!\")\n",
    "time.sleep(10)     \n",
    "View_Report_el = browser.find_element(\"id\", \"Dc-8\")\n",
    "\n",
    "View_Report_el.click()\n",
    "time.sleep(1.5)"
   ]
  },
  {
   "cell_type": "markdown",
   "id": "d328d046-02f3-4124-8620-db6c3f8bf0ca",
   "metadata": {},
   "source": [
    "### Printing report"
   ]
  },
  {
   "cell_type": "code",
   "execution_count": 160,
   "id": "317d4f4e-e8ad-4d83-a696-70f0cfc98d53",
   "metadata": {},
   "outputs": [],
   "source": [
    "browser.switch_to.window(browser.window_handles[1])\n",
    "time.sleep(3)\n",
    "autoit.send(\"^p\")\n",
    "time.sleep(3) # Pause to allow the PDF printer to load\n",
    "autoit.send(\"{Enter}\")\n",
    "time.sleep(3) # Pause to allow the printer to print.\n",
    "autoit.send(\"iph\")\n",
    "autoit.send(\"{Enter}\")\n",
    "time.sleep(3)\n",
    "autoit.send(\"!{F4}\")\n",
    "time.sleep(3)\n",
    "browser.close()"
   ]
  },
  {
   "cell_type": "markdown",
   "id": "beb7c575-2b05-4e4f-b911-13e3e9b3808c",
   "metadata": {},
   "source": [
    "### Close the report"
   ]
  },
  {
   "cell_type": "code",
   "execution_count": 161,
   "id": "46b05396-e9e2-4c72-8f27-5981f2608f19",
   "metadata": {},
   "outputs": [],
   "source": [
    "browser.switch_to.window(browser.window_handles[0])\n",
    "browser.implicitly_wait(1.5)\n",
    "\n",
    "close_button_el = browser.find_elements(By.XPATH, \"//button\")\n",
    "\n",
    "for button in close_button_el:\n",
    "    if button.get_attribute('title') and 'Close Manager: GL Backend RA - Main' in button.get_attribute('title'):\n",
    "        button.click();\n",
    "        "
   ]
  },
  {
   "cell_type": "markdown",
   "id": "909eb2a5-f59b-4ba6-b1b3-0db37b626b37",
   "metadata": {},
   "source": [
    "### Renaming and moving the report"
   ]
  },
  {
   "cell_type": "code",
   "execution_count": 162,
   "id": "43d4637f-fd7d-4104-a57d-537e501dd0c0",
   "metadata": {},
   "outputs": [],
   "source": [
    "old_file = os.path.join(Desktop, \"iph.pdf\")\n",
    "new_file = os.path.join(Desktop, accrue_month_1.strftime(\"IPH-Prelim. %b %Y Reporting Generic Distribution Report.pdf\"))\n",
    "try:\n",
    "  os.rename(old_file, new_file)\n",
    "except FileExistsError:\n",
    "  os.remove(new_file)\n",
    "  os.rename(old_file, new_file)"
   ]
  },
  {
   "cell_type": "code",
   "execution_count": 163,
   "id": "b2d71a45-63c7-44d2-8068-8fcc3930a565",
   "metadata": {},
   "outputs": [],
   "source": [
    "# file name with extension\n",
    "file_name = os.path.basename(new_file)\n",
    "\n",
    "# file name without extension\n",
    "file_name = (os.path.splitext(file_name)[0])"
   ]
  },
  {
   "cell_type": "code",
   "execution_count": 164,
   "id": "3365b596-6f2b-4003-b082-3316b0e2ad4a",
   "metadata": {},
   "outputs": [],
   "source": [
    "old_file = os.path.join(Desktop, new_file)\n",
    "new_file = os.path.join(Desktop, accrue_month_2.strftime(file_name + ' ' + \"(%b %Y Accrual).pdf\"))\n",
    "try:\n",
    "  os.rename(old_file, new_file)\n",
    "except FileExistsError:\n",
    "  os.remove(new_file)\n",
    "  os.rename(old_file, new_file)"
   ]
  },
  {
   "cell_type": "code",
   "execution_count": 165,
   "id": "681bd10d-b254-47a1-8cf8-dfe991bf565b",
   "metadata": {},
   "outputs": [],
   "source": [
    "browser.close()"
   ]
  },
  {
   "cell_type": "markdown",
   "id": "69707a65-ced7-40fc-b44d-97f301e24de6",
   "metadata": {},
   "source": [
    "# Emailing the reports"
   ]
  },
  {
   "cell_type": "markdown",
   "id": "fd51c2a5-ec7a-47a7-8b61-476c0fbac416",
   "metadata": {},
   "source": [
    "## Sending CIT"
   ]
  },
  {
   "cell_type": "markdown",
   "id": "dcee851e-7180-4e7f-82ef-2f467651a210",
   "metadata": {},
   "source": [
    "### Constructing Outlook application instance"
   ]
  },
  {
   "cell_type": "code",
   "execution_count": 166,
   "id": "8f7f93c7-0cba-4ffd-bc36-473b7c9bd035",
   "metadata": {},
   "outputs": [],
   "source": [
    "olApp = win32.Dispatch('Outlook.Application.16')\n",
    "olNS = olApp.GetNameSpace('MAPI')"
   ]
  },
  {
   "cell_type": "markdown",
   "id": "e360dbc4-f7c3-466d-b350-819adc20c922",
   "metadata": {},
   "source": [
    "### Writing the email"
   ]
  },
  {
   "cell_type": "code",
   "execution_count": 167,
   "id": "e364da13-5511-4e81-aef7-4c0813733006",
   "metadata": {},
   "outputs": [],
   "source": [
    "mailItem = olApp.CreateItem(0)\n",
    "mailItem.Subject = accrue_month_1.strftime('Test Email: CIT Generic Distribution %b %Y')\n",
    "mailItem.To = 'asif.rasool@tax.nm.gov'\n",
    "mailItem.CC = 'azr496@psu.edu'\n",
    "\n",
    "mailItem.BodyFormat = 1\n",
    "\n",
    "mailItem.Body = accrue_month_1.strftime(\"Dear all,\\nPlease find the CIT Generic Distribution Report for %b %Y attached to this email.\\n\\n Sincerely,\\n Asif Rasool \\n\\n Senior Economist \\n Tax Analysis, Research & Statistics \\n Office of the Secretary \\n New Mexico Taxation & Revenue Department \\n Phone: 505 490 0904\")\n",
    "                \n",
    "\n",
    " \n",
    "# Attachments\n",
    "mailItem.Attachments.Add(os.path.join(Desktop, 'CIT-Prelim. Oct 2023 Reporting Generic Distribution Report (Sep 2023 Accrual).pdf'))\n",
    "\n",
    "\n",
    "# mailItem.Display()\n",
    "\n",
    "mailItem.Save()\n",
    "mailItem.Send()"
   ]
  },
  {
   "cell_type": "code",
   "execution_count": null,
   "id": "b62360a5-8e1b-4b3b-9ce2-331db177b1b7",
   "metadata": {},
   "outputs": [],
   "source": []
  }
 ],
 "metadata": {
  "kernelspec": {
   "display_name": "Python 3 (ipykernel)",
   "language": "python",
   "name": "python3"
  },
  "language_info": {
   "codemirror_mode": {
    "name": "ipython",
    "version": 3
   },
   "file_extension": ".py",
   "mimetype": "text/x-python",
   "name": "python",
   "nbconvert_exporter": "python",
   "pygments_lexer": "ipython3",
   "version": "3.11.5"
  }
 },
 "nbformat": 4,
 "nbformat_minor": 5
}
