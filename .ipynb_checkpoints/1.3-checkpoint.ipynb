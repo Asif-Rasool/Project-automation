{
 "cells": [
  {
   "cell_type": "markdown",
   "id": "a58451b8-a792-4dbb-928d-0881a1eb78ae",
   "metadata": {},
   "source": [
    "# Importaning packages, and opening GenTax"
   ]
  },
  {
   "cell_type": "code",
   "execution_count": 1,
   "id": "de36a659-8199-47c8-b57b-4a171f2c8ec0",
   "metadata": {},
   "outputs": [],
   "source": [
    "# !pip install selenium\n",
    "# !pip install webdriver_manager\n",
    "# !pip install -U pyautoit\n",
    "import autoit\n",
    "import getpass\n",
    "import time\n",
    "\n",
    "from selenium import webdriver\n",
    "from selenium.webdriver.common.keys import Keys\n",
    "from selenium.webdriver.support.ui import WebDriverWait\n",
    "from selenium.webdriver.support import expected_conditions as EC\n",
    "from selenium.common.exceptions import TimeoutException\n",
    "from selenium.webdriver.common.by import By\n",
    "from selenium.webdriver.chrome.service import Service as ChromeService\n",
    "from webdriver_manager.chrome import ChromeDriverManager\n",
    "\n",
    "options = webdriver.ChromeOptions()\n",
    "\n",
    "options = webdriver.ChromeOptions()\n",
    "\n",
    "options.add_argument(\"--headless\")\n",
    "browser =webdriver.Chrome()\n",
    "browser = webdriver.Chrome(service = ChromeService(ChromeDriverManager().install(), options = options))\n",
    "\n"
   ]
  },
  {
   "cell_type": "markdown",
   "id": "d60d34e7-b1af-4f4a-9374-c21faf0fbe76",
   "metadata": {},
   "source": [
    "# Providing login credentials"
   ]
  },
  {
   "cell_type": "code",
   "execution_count": 2,
   "id": "2a06f310-8915-4408-adb7-ace32c32f226",
   "metadata": {},
   "outputs": [
    {
     "name": "stdin",
     "output_type": "stream",
     "text": [
      "Please type your GenTax login id:\n",
      " ········\n"
     ]
    }
   ],
   "source": [
    "my_login = getpass.getpass(\"Please type your GenTax login id:\\n\")"
   ]
  },
  {
   "cell_type": "code",
   "execution_count": 3,
   "id": "c8d944b8-3abd-4603-afb9-0d5bad5b7d67",
   "metadata": {},
   "outputs": [
    {
     "name": "stdin",
     "output_type": "stream",
     "text": [
      "Please type your GenTax password:\n",
      " ········\n"
     ]
    }
   ],
   "source": [
    "my_password = getpass.getpass(\"Please type your GenTax password:\\n\")"
   ]
  },
  {
   "cell_type": "code",
   "execution_count": 4,
   "id": "9275b624-1acb-4b22-b93f-afb8bd3254f9",
   "metadata": {},
   "outputs": [],
   "source": [
    "url = 'https://gentaxprod.trd.state.nm.us/GenTax/dPWmgh2N/#1'\n",
    "browser.get(url)\n",
    "browser.maximize_window()"
   ]
  },
  {
   "cell_type": "code",
   "execution_count": 5,
   "id": "a91c46a6-e047-499c-bcf8-de78a2c30702",
   "metadata": {},
   "outputs": [],
   "source": [
    "time.sleep(2)\n",
    "username_el = browser.find_element(\"name\", \"Dc-c\")\n",
    "username_el.send_keys(my_login)"
   ]
  },
  {
   "cell_type": "code",
   "execution_count": 6,
   "id": "67b8322d-0f0b-457a-bddf-7a5f8d842910",
   "metadata": {},
   "outputs": [],
   "source": [
    "password_el = browser.find_element(\"name\", \"Dc-d\")\n",
    "password_el.send_keys(my_password)"
   ]
  },
  {
   "cell_type": "markdown",
   "id": "61f706c7-d857-4522-b4f9-c93d27805a4f",
   "metadata": {},
   "source": [
    "# Clicking the logon button"
   ]
  },
  {
   "cell_type": "code",
   "execution_count": 7,
   "id": "c489436b-dc1c-4546-955b-a60029c69b39",
   "metadata": {},
   "outputs": [],
   "source": [
    "time.sleep(1.5)\n",
    "submit_btn_el = browser.find_element(\"css selector\", \"[class='ButtonCaptionText']\")"
   ]
  },
  {
   "cell_type": "code",
   "execution_count": 8,
   "id": "568047e7-b643-4eae-a94c-86b5e49610d9",
   "metadata": {},
   "outputs": [],
   "source": [
    "submit_btn_el.click()"
   ]
  },
  {
   "cell_type": "markdown",
   "id": "a7750ae1-0b47-4bf9-9581-606a8e0f1e98",
   "metadata": {},
   "source": [
    "# Clicking the Report button"
   ]
  },
  {
   "cell_type": "code",
   "execution_count": 9,
   "id": "4b97dac6-2c00-414d-af17-617f6a5cde6b",
   "metadata": {},
   "outputs": [],
   "source": [
    "time.sleep(1.5)\n",
    "report_btn_el = browser.find_element(\"id\", \"l_Dd-1-16\")\n",
    "report_btn_el.click()"
   ]
  },
  {
   "cell_type": "markdown",
   "id": "962f41d2-bae5-4a8d-8e84-e4167c7f172e",
   "metadata": {},
   "source": [
    "# Clicking the My Subscriptions button"
   ]
  },
  {
   "cell_type": "code",
   "execution_count": 10,
   "id": "952e0454-365d-4f9b-85eb-10fb4ce21075",
   "metadata": {},
   "outputs": [],
   "source": [
    "time.sleep(1.5)\n",
    "my_subscriptions_btn_el = browser.find_element(\"id\", \"l_Dc-1-5\")\n",
    "my_subscriptions_btn_el.click()"
   ]
  },
  {
   "cell_type": "markdown",
   "id": "0a40e956-f897-4916-b0d6-dd561019ec1d",
   "metadata": {},
   "source": [
    "# Working on GL Backend RA - Main report"
   ]
  },
  {
   "cell_type": "markdown",
   "id": "68503792-59b9-4c0e-8a83-7a89c1ce9529",
   "metadata": {},
   "source": [
    "## CIT"
   ]
  },
  {
   "cell_type": "markdown",
   "id": "6540b8a3-adf5-45f9-aedc-a4dad9defa57",
   "metadata": {},
   "source": [
    "### Clicking the Generate button"
   ]
  },
  {
   "cell_type": "code",
   "execution_count": 11,
   "id": "50b7420b-eba0-45fa-93a3-c9f2908c2c47",
   "metadata": {},
   "outputs": [],
   "source": [
    "time.sleep(3)\n",
    "GL_Backend_RA_Main_Generate_btn_el = browser.find_element(\"id\", \"l_Dc-5-17\")\n",
    "GL_Backend_RA_Main_Generate_btn_el.click()"
   ]
  },
  {
   "cell_type": "markdown",
   "id": "2961f907-afd4-4ac2-b50d-f59d314d4a9c",
   "metadata": {},
   "source": [
    "### Selecting CIT"
   ]
  },
  {
   "cell_type": "code",
   "execution_count": 12,
   "id": "cac107b8-a4e1-4872-89d9-13569f39ed85",
   "metadata": {},
   "outputs": [],
   "source": [
    "time.sleep(1.5)\n",
    "Revenue_Group_el = browser.find_element(\"name\", \"Dg-2\")\n",
    "Revenue_Group_el.send_keys(\"CIT\")\n",
    "Revenue_Group_el.send_keys(Keys.ENTER)"
   ]
  },
  {
   "cell_type": "markdown",
   "id": "0c570cc1-35d5-4359-a2f4-219396f5218d",
   "metadata": {},
   "source": [
    "### Clicking the Generate button"
   ]
  },
  {
   "cell_type": "code",
   "execution_count": 13,
   "id": "e5488c0c-6de7-408c-b519-d2626f1b5bfd",
   "metadata": {},
   "outputs": [],
   "source": [
    "time.sleep(1.5)\n",
    "Generate_btn_el = browser.find_element(\"id\", \"caption2_Dc-7\")\n",
    "Generate_btn_el.click()\n"
   ]
  },
  {
   "cell_type": "markdown",
   "id": "eed5be3f-b73c-4efa-9af4-25516543d04d",
   "metadata": {},
   "source": [
    "### Clicking the View Report button"
   ]
  },
  {
   "cell_type": "code",
   "execution_count": 14,
   "id": "35ff8227-ebc2-462c-ade1-653b0225894f",
   "metadata": {},
   "outputs": [
    {
     "name": "stdout",
     "output_type": "stream",
     "text": [
      "Loading took too much time!\n"
     ]
    }
   ],
   "source": [
    "delay = 10 # seconds\n",
    "try:\n",
    "    myElem = WebDriverWait(browser, delay).until(EC.presence_of_element_located((By.ID, 'IC_Dc-8')))\n",
    "    print (\"Page is ready!\")\n",
    "except TimeoutException:\n",
    "    print (\"Loading took too much time!\")\n",
    "     \n",
    "View_Report_el = browser.find_element(\"id\", \"Dc-8\")\n",
    "\n",
    "View_Report_el.click()\n",
    "time.sleep(1.5)"
   ]
  },
  {
   "cell_type": "markdown",
   "id": "12a6a74b-d725-47b2-89f2-b2e1ce7c049b",
   "metadata": {},
   "source": [
    "### Printing report"
   ]
  },
  {
   "cell_type": "code",
   "execution_count": 15,
   "id": "37d2326b-b7df-4c30-8d2d-52c3fbb6c323",
   "metadata": {},
   "outputs": [],
   "source": [
    "browser.switch_to.window(browser.window_handles[1])\n",
    "time.sleep(3)\n",
    "# autoit.send(\"^p\")\n",
    "# time.sleep(3) # Pause to allow the PDF printer to load\n",
    "# autoit.send(\"{Enter}\")\n",
    "# time.sleep(3) # Pause to allow the printer to print.\n",
    "# autoit.send(\"cit\")\n",
    "# autoit.send(\"{Enter}\")\n",
    "# time.sleep(5)\n",
    "# autoit.send(\"!{F4}\")\n",
    "# time.sleep(3)\n",
    "browser.close()\n",
    "\n",
    "\n"
   ]
  },
  {
   "cell_type": "markdown",
   "id": "50b66770-7c0c-4513-99aa-b6218e24e2a1",
   "metadata": {},
   "source": [
    "### Close the report"
   ]
  },
  {
   "cell_type": "code",
   "execution_count": 16,
   "id": "15c84d57-f059-48ba-8084-c49038766aa0",
   "metadata": {},
   "outputs": [],
   "source": [
    "browser.switch_to.window(browser.window_handles[0])\n",
    "browser.implicitly_wait(1.5)\n",
    "\n",
    "close_button_el = browser.find_elements(By.XPATH, \"//button\")\n",
    "\n",
    "\n",
    "for button in close_button_el:\n",
    "    if button.get_attribute('title') and 'Close Manager: GL Backend RA - Main' in button.get_attribute('title'):\n",
    "        button.click();\n",
    "        \n",
    "    "
   ]
  },
  {
   "cell_type": "code",
   "execution_count": 17,
   "id": "7b6f1489-875e-421c-9977-628a318eeda0",
   "metadata": {},
   "outputs": [],
   "source": [
    "# time.sleep(10)\n",
    "# browser.switch_to.window(browser.window_handles[0])\n",
    "\n",
    "# close_button_el = browser.find_elements(By.XPATH, \"//button\")\n",
    "# for button in close_button_el:\n",
    "#     if button.get_attribute('title') and 'Close Group: My Subscriptions' in button.get_attribute('title'):\n",
    "#         button.click();\n",
    "\n",
    "    "
   ]
  },
  {
   "cell_type": "markdown",
   "id": "ad6d1f1b-ecee-4850-af0d-5cb1a8b8031f",
   "metadata": {},
   "source": [
    "## OGP-R"
   ]
  },
  {
   "cell_type": "markdown",
   "id": "eb07ec1b-4d23-4fac-a1db-dcd01217fbe3",
   "metadata": {},
   "source": [
    "### Clicking the Generate button"
   ]
  },
  {
   "cell_type": "code",
   "execution_count": 18,
   "id": "e6921fdb-356d-43a7-ae84-e841062d6a9b",
   "metadata": {},
   "outputs": [],
   "source": [
    "# time.sleep(1.5)\n",
    "# my_subscriptions_btn_el = browser.find_element(\"id\", \"l_Dc-1-5\")\n",
    "# my_subscriptions_btn_el.click();"
   ]
  },
  {
   "cell_type": "code",
   "execution_count": 19,
   "id": "abd0f1fb-de09-4785-9899-b15a428cdfb6",
   "metadata": {},
   "outputs": [],
   "source": [
    "time.sleep(1.5)\n",
    "GL_Backend_RA_Main_Generate_btn_el = browser.find_element(\"id\", \"l_Dc-5-17\")\n",
    "GL_Backend_RA_Main_Generate_btn_el.click();"
   ]
  },
  {
   "cell_type": "markdown",
   "id": "6a6efbe6-352c-4db9-b139-e28bbbd4408f",
   "metadata": {},
   "source": [
    "### Selecting OGP-R"
   ]
  },
  {
   "cell_type": "code",
   "execution_count": 20,
   "id": "f4c53aaa-be38-4ed1-8a59-19576c157acc",
   "metadata": {},
   "outputs": [],
   "source": [
    "time.sleep(3)\n",
    "Revenue_Group_el = browser.find_element(\"name\", \"Dg-2\")\n",
    "Revenue_Group_el.send_keys(\"OGP-R\")\n",
    "Revenue_Group_el.send_keys(Keys.ENTER)"
   ]
  },
  {
   "cell_type": "markdown",
   "id": "f49d5a55-54f7-40d5-a228-1a7e25ab6772",
   "metadata": {},
   "source": [
    "### Clicking the Generate button"
   ]
  },
  {
   "cell_type": "code",
   "execution_count": 21,
   "id": "eff8f651-9fc6-41eb-88b3-a3d54de84d8d",
   "metadata": {},
   "outputs": [],
   "source": [
    "Generate_btn_el = browser.find_element(\"id\", \"caption2_Dc-7\")\n",
    "Generate_btn_el.click()"
   ]
  },
  {
   "cell_type": "markdown",
   "id": "72f42a33-9fce-40d9-8325-25706b67383b",
   "metadata": {},
   "source": [
    "### Clicking the View Report button"
   ]
  },
  {
   "cell_type": "code",
   "execution_count": 22,
   "id": "7f307002-c83b-4b9a-8850-282db8541054",
   "metadata": {},
   "outputs": [
    {
     "name": "stdout",
     "output_type": "stream",
     "text": [
      "Page is ready!\n"
     ]
    }
   ],
   "source": [
    "delay = 3 # seconds\n",
    "try:\n",
    "    myElem = WebDriverWait(browser, delay).until(EC.presence_of_element_located((By.ID, 'Dc-8')))\n",
    "    print (\"Page is ready!\")\n",
    "except TimeoutException:\n",
    "    print (\"Loading took too much time!\")\n",
    "time.sleep(3)     \n",
    "View_Report_el = browser.find_element(\"id\", \"Dc-8\")\n",
    "\n",
    "View_Report_el.click()\n",
    "time.sleep(1.5)"
   ]
  },
  {
   "cell_type": "markdown",
   "id": "89dec4a5-3a56-4cd8-9567-37fed9f104f3",
   "metadata": {},
   "source": [
    "### Printing report"
   ]
  },
  {
   "cell_type": "code",
   "execution_count": 23,
   "id": "07599ffc-1fdb-4e8f-b038-504aacb405a0",
   "metadata": {},
   "outputs": [],
   "source": [
    "browser.switch_to.window(browser.window_handles[1])\n",
    "time.sleep(3)\n",
    "autoit.send(\"^p\")\n",
    "time.sleep(3) # Pause to allow the PDF printer to load\n",
    "autoit.send(\"{Enter}\")\n",
    "time.sleep(3) # Pause to allow the printer to print.\n",
    "autoit.send(\"ogp-r\")\n",
    "autoit.send(\"{Enter}\")\n",
    "time.sleep(5)\n",
    "autoit.send(\"!{F4}\")\n",
    "time.sleep(3)\n",
    "browser.close()\n",
    "# download_button = browser.find_element(By.XPATH, '//cr-icon-button[@id=\"download\"]')\n",
    "# download_button.click()\n",
    "\n"
   ]
  },
  {
   "cell_type": "markdown",
   "id": "6777a86e-b5a9-4d8d-93ec-483989fddcad",
   "metadata": {},
   "source": [
    "### Close the report"
   ]
  },
  {
   "cell_type": "code",
   "execution_count": 24,
   "id": "d2ea111b-9bc7-46de-a9e6-d6bef8df3bdc",
   "metadata": {},
   "outputs": [],
   "source": [
    "browser.switch_to.window(browser.window_handles[0])\n",
    "browser.implicitly_wait(1.5)\n",
    "\n",
    "close_button_el = browser.find_elements(By.XPATH, \"//button\")\n",
    "\n",
    "for button in close_button_el:\n",
    "    if button.get_attribute('title') and 'Close Manager: GL Backend RA - Main' in button.get_attribute('title'):\n",
    "        button.click()\n",
    "        browser.implicitly_wait(1)"
   ]
  }
 ],
 "metadata": {
  "kernelspec": {
   "display_name": "Python 3 (ipykernel)",
   "language": "python",
   "name": "python3"
  },
  "language_info": {
   "codemirror_mode": {
    "name": "ipython",
    "version": 3
   },
   "file_extension": ".py",
   "mimetype": "text/x-python",
   "name": "python",
   "nbconvert_exporter": "python",
   "pygments_lexer": "ipython3",
   "version": "3.11.5"
  }
 },
 "nbformat": 4,
 "nbformat_minor": 5
}
