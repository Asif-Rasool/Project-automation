{
 "cells": [
  {
   "attachments": {
    "6395d056-2ebd-4209-a3cb-2e506c93246d.png": {
     "image/png": "[encoded data removed]"
    },
    "a54aa4c5-f333-4fa0-8181-fb1602c13f3d.jpg": {
     "image/jpeg": "[encoded data removed]"
    }
   },
   "cell_type": "markdown",
   "id": "3026b0c7-f230-4d08-8fc6-60529fb7b119",
   "metadata": {},
   "source": [
    "![trdlogo.jpg](attachment:a54aa4c5-f333-4fa0-8181-fb1602c13f3d.jpg)![alphie 1.01.png align=\"right\"](attachment:6395d056-2ebd-4209-a3cb-2e506c93246d.png )\n",
    "**<h1><p style=\"text-align: center;\">Alphie 2.07</p>**\n",
    "\n",
    "\n",
    "<h11><p style=\"text-align: right;\">\n",
    "Written & maintained by:<br>\n",
    "Asif Rasool<br><br>\n",
    "Senior Economist<br>\n",
    "Tax Analysis, Research & Statistics<br>\n",
    "Office of the Secretary<br>\n",
    "New Mexico Taxation & Revenue Department<br>\n",
    "Phone: 505 490 0904<br>\n",
    "Email: asif.rasool@tax.nm.gov<br>\n",
    "Last updated on 12-12-2023</p>\n"
   ]
  },
  {
   "cell_type": "markdown",
   "id": "c8827bf1-f524-4d76-a6a3-1b9e4cdabaa8",
   "metadata": {},
   "source": [
    "# Installing and loading required packages"
   ]
  },
  {
   "cell_type": "code",
   "execution_count": 1,
   "id": "6f2d94fb-b4b3-434f-814c-d6b2685595f3",
   "metadata": {
    "tags": []
   },
   "outputs": [
    {
     "name": "stdout",
     "output_type": "stream",
     "text": [
      "R_HOME: C:\\Program Files\\R\\R-4.3.2\n"
     ]
    },
    {
     "name": "stderr",
     "output_type": "stream",
     "text": [
      "C:\\Users\\asifr\\AppData\\Local\\anaconda3\\Lib\\site-packages\\rpy2\\robjects\\packages.py:367: UserWarning: The symbol 'quartz' is not in this R namespace/package.\n",
      "  warnings.warn(\n",
      "C:\\Users\\asifr\\AppData\\Local\\anaconda3\\Lib\\site-packages\\rpy2\\robjects\\lib\\ggplot2.py:70: UserWarning: This was designed againt ggplot2 versions starting with 3.3. but you have 3.4.4\n",
      "  warnings.warn(\n"
     ]
    }
   ],
   "source": [
    "######################################\n",
    "######### Python libraries ###########\n",
    "\n",
    "# !pip install selenium\n",
    "# !pip install webdriver_manager\n",
    "# !pip install pypiwin32\n",
    "# !pip install --upgrade holidays\n",
    "# !pip install tabula-py\n",
    "# !pip install jupyter_ai\n",
    "# !pip install openpyxl\n",
    "\n",
    "import tabula\n",
    "import getpass\n",
    "import time\n",
    "import os \n",
    "import datetime\n",
    "import win32com.client as win32\n",
    "import holidays\n",
    "import glob\n",
    "import datetime as dt\n",
    "import json\n",
    "import shutil\n",
    "import pandas as pd\n",
    "\n",
    "from datetime import datetime, timedelta\n",
    "from win32com.client import Dispatch\n",
    "from selenium import webdriver\n",
    "from selenium.webdriver.common.keys import Keys\n",
    "from selenium.webdriver.support.ui import WebDriverWait\n",
    "from selenium.webdriver.support import expected_conditions as EC\n",
    "from selenium.common.exceptions import TimeoutException\n",
    "from selenium.webdriver.common.by import By\n",
    "from selenium.webdriver.chrome.service import Service as ChromeService\n",
    "from webdriver_manager.chrome import ChromeDriverManager\n",
    "from win32com.shell import shell, shellcon\n",
    "from win32com.client import Dispatch\n",
    "from IPython import get_ipython\n",
    "from IPython.display import Image\n",
    "\n",
    "######################################\n",
    "\n",
    "options = webdriver.ChromeOptions()\n",
    "options.add_argument(\"--headless\")\n",
    "options.add_argument(\"--incognito\")\n",
    "\n",
    "appState = {\n",
    "     \"recentDestinations\": [\n",
    "         {\n",
    "             \"id\": \"Save as PDF\",\n",
    "             \"origin\": \"local\",\n",
    "             \"account\": \"\"\n",
    "         }\n",
    "     ],\n",
    "     \"selectedDestinationId\": \"Save as PDF\",\n",
    "     \"version\": 2\n",
    "}\n",
    "\n",
    "profile = {\n",
    "    'printing.print_preview_sticky_settings.appState': json.dumps(appState),\n",
    "    'savefile.default_directory': '//trdecomsrv/H/Alphie/Temp',\n",
    "    \"download.default_directory\": r'\\\\trdecomsrv\\H\\Alphie\\Temp'\n",
    "}\n",
    "\n",
    "chrome_options = webdriver.ChromeOptions() \n",
    "chrome_options.add_experimental_option('prefs', profile)\n",
    "chrome_options.add_argument('--kiosk-printing')\n",
    "\n",
    "browser = webdriver.Chrome(options=chrome_options)\n",
    "browser.maximize_window()\n",
    "browser.switch_to.window(browser.window_handles[0])\n",
    "browser.delete_all_cookies()\n",
    "\n",
    "######################################\n",
    "########### R libraries ##############\n",
    "\n",
    "# !pip install rpy2 --quiet\n",
    "\n",
    "os.environ['R_HOME'] = r'C:\\Program Files\\R\\R-4.3.2'\n",
    "r_home = os.environ.get(\"R_HOME\")\n",
    "print('R_HOME:', r_home)\n",
    "\n",
    "import rpy2\n",
    "import rpy2.robjects as ro\n",
    "import rpy2.rinterface as ri\n",
    "from rpy2.robjects import r\n",
    "\n",
    "from rpy2.robjects.packages import importr\n",
    "from rpy2.robjects import pandas2ri\n",
    "from rpy2.robjects.vectors import IntVector, FloatVector\n",
    "import rpy2.ipython.html\n",
    "import rpy2.robjects.lib.ggplot2 as gp\n",
    "from rpy2.ipython.ggplot import image_png\n",
    "import rpy2.rinterface as rinterface\n",
    "\n",
    "pandas2ri.activate()\n",
    "%load_ext rpy2.ipython\n",
    "\n",
    "######################################\n"
   ]
  },
  {
   "cell_type": "markdown",
   "id": "4f639b21-0756-403b-8d31-7f8e8af1a9cf",
   "metadata": {},
   "source": [
    "## Loading R packages"
   ]
  },
  {
   "cell_type": "code",
   "execution_count": 2,
   "id": "a2f28017-c2cd-4c99-bc04-83b1cd105ae6",
   "metadata": {
    "tags": []
   },
   "outputs": [
    {
     "data": {
      "text/plain": [
       "\n",
       "Attaching package: 'lubridate'\n",
       "\n",
       "The following objects are masked from 'package:base':\n",
       "\n",
       "    date, intersect, setdiff, union\n",
       "\n",
       "\n",
       "Attaching package: 'dplyr'\n",
       "\n",
       "The following objects are masked from 'package:stats':\n",
       "\n",
       "    filter, lag\n",
       "\n",
       "The following objects are masked from 'package:base':\n",
       "\n",
       "    intersect, setdiff, setequal, union\n",
       "\n",
       "\n",
       "Attaching package: 'plotly'\n",
       "\n",
       "The following object is masked from 'package:ggplot2':\n",
       "\n",
       "    last_plot\n",
       "\n",
       "The following object is masked from 'package:stats':\n",
       "\n",
       "    filter\n",
       "\n",
       "The following object is masked from 'package:graphics':\n",
       "\n",
       "    layout\n",
       "\n",
       "Registering Windows fonts with R\n"
      ]
     },
     "metadata": {},
     "output_type": "display_data"
    }
   ],
   "source": [
    "%%R\n",
    "# install.packages(\"readODS\")\n",
    "library(readODS)\n",
    "library(readxl)\n",
    "library(writexl)\n",
    "library(openxlsx)\n",
    "library(readxl)\n",
    "library(readODS)\n",
    "library(lubridate)\n",
    "library(ggplot2)\n",
    "library(dplyr)\n",
    "library(plotly)\n",
    "library(hrbrthemes)"
   ]
  },
  {
   "cell_type": "markdown",
   "id": "8429452c-1ed1-42f5-9d6c-18b83782ec6b",
   "metadata": {},
   "source": [
    "# Creating output folder"
   ]
  },
  {
   "cell_type": "code",
   "execution_count": 3,
   "id": "46b92f9c-9676-4bac-8d77-904dc3133109",
   "metadata": {},
   "outputs": [],
   "source": [
    "today = datetime.now()\n",
    "\n",
    "os.mkdir(\"//Trdecomsrv/H/Alphie/\" + today.strftime('%Y-%b-%d at %Hh-%Mm-%Ss') +' ' + 'by' + ' ' + os.getlogin())\n",
    "folder_path = \"//Trdecomsrv/H/Alphie/\"\n",
    "files_path = os.path.join(folder_path, '*')\n",
    "files = sorted(glob.iglob(files_path), key=os.path.getctime, reverse=True) \n",
    "destination_folder = (files[0])"
   ]
  },
  {
   "cell_type": "markdown",
   "id": "e8dd62e2-d4c8-40bd-aee5-0db692516df3",
   "metadata": {},
   "source": [
    "# Providing login credentials"
   ]
  },
  {
   "cell_type": "code",
   "execution_count": 4,
   "id": "01aa0677-77e2-4668-a812-904c74012a3b",
   "metadata": {},
   "outputs": [
    {
     "name": "stdin",
     "output_type": "stream",
     "text": [
      "Please type your GenTax login id:\n",
      " ········\n"
     ]
    }
   ],
   "source": [
    "my_login = getpass.getpass(\"Please type your GenTax login id:\\n\")"
   ]
  },
  {
   "cell_type": "code",
   "execution_count": 5,
   "id": "56f1fb31-5b7a-4979-bb7a-464791a1786a",
   "metadata": {},
   "outputs": [
    {
     "name": "stdin",
     "output_type": "stream",
     "text": [
      "Please type your GenTax password:\n",
      " ········\n"
     ]
    }
   ],
   "source": [
    "my_password = getpass.getpass(\"Please type your GenTax password:\\n\")"
   ]
  },
  {
   "cell_type": "code",
   "execution_count": 6,
   "id": "18d44979-24bc-47c3-9478-269241abc24d",
   "metadata": {},
   "outputs": [],
   "source": [
    "url = 'https://gentaxprod.trd.state.nm.us/GenTax/dPWmgh2N/#1'\n",
    "browser.get(url)\n",
    "browser.maximize_window()"
   ]
  },
  {
   "cell_type": "code",
   "execution_count": 7,
   "id": "2a33a4ce-c391-4fa5-acdf-1511feb5e852",
   "metadata": {},
   "outputs": [],
   "source": [
    "time.sleep(2)\n",
    "username_el = browser.find_element(\"name\", \"Dc-c\")\n",
    "username_el.send_keys(my_login)"
   ]
  },
  {
   "cell_type": "code",
   "execution_count": 8,
   "id": "1a0869f2-a7de-415c-9a2d-5ae5cc1f8adc",
   "metadata": {},
   "outputs": [],
   "source": [
    "password_el = browser.find_element(\"name\", \"Dc-d\")\n",
    "password_el.send_keys(my_password)"
   ]
  },
  {
   "cell_type": "markdown",
   "id": "c4eeb5e8-2ed4-49fe-8617-7ff361c277f6",
   "metadata": {},
   "source": [
    "# Clicking the logon button"
   ]
  },
  {
   "cell_type": "code",
   "execution_count": 9,
   "id": "e92c7bfd-2045-41de-8f0a-38d3818647b9",
   "metadata": {},
   "outputs": [],
   "source": [
    "time.sleep(1.5)\n",
    "submit_btn_el = browser.find_element(\"css selector\", \"[class='ButtonCaptionText']\")"
   ]
  },
  {
   "cell_type": "code",
   "execution_count": 10,
   "id": "bbaffa67-322d-4978-83dd-32a331316212",
   "metadata": {},
   "outputs": [],
   "source": [
    "submit_btn_el.click()"
   ]
  },
  {
   "cell_type": "markdown",
   "id": "f80ad1e8-1ba6-4a25-b10f-de3e283fe814",
   "metadata": {},
   "source": [
    "# Clicking the Report button"
   ]
  },
  {
   "cell_type": "code",
   "execution_count": 11,
   "id": "152211b6-e2d9-404c-9499-713983dc1c22",
   "metadata": {},
   "outputs": [],
   "source": [
    "time.sleep(1.5)\n",
    "Report_btn_el = browser.find_element(\"id\", \"l_Dd-1-16\")\n",
    "Report_btn_el.click()"
   ]
  },
  {
   "cell_type": "markdown",
   "id": "0b681461-bb1c-424b-961a-028f1d407f9b",
   "metadata": {},
   "source": [
    "# Clicking the Generate Report button"
   ]
  },
  {
   "cell_type": "code",
   "execution_count": 12,
   "id": "1e7a6ed5-ccbc-40ba-8194-6eb048564cfe",
   "metadata": {},
   "outputs": [],
   "source": [
    "time.sleep(1.5)\n",
    "Generate_Report_btn_el = browser.find_element(\"id\", \"l_Dc-1-4\")\n",
    "Generate_Report_btn_el.click()"
   ]
  },
  {
   "cell_type": "markdown",
   "id": "7f366a26-4eb7-40af-bc86-c06005f707e3",
   "metadata": {},
   "source": [
    "# Searching CFT Special Fuels - Agr Dept"
   ]
  },
  {
   "cell_type": "code",
   "execution_count": 13,
   "id": "fbf04956-0e95-4696-965e-7252caf99605",
   "metadata": {},
   "outputs": [],
   "source": [
    "browser.switch_to.window(browser.window_handles[0])\n",
    "browser.implicitly_wait(1.5)\n",
    "input_field_el = browser.find_element(\"id\", \"Dc-h\")\n",
    "input_field_el.send_keys(\"CFT Special Fuels - Agr Dept\")\n",
    "input_field_el.send_keys(Keys.ENTER) "
   ]
  },
  {
   "cell_type": "markdown",
   "id": "12111ae4-eec8-421f-85c9-3978d1502df5",
   "metadata": {},
   "source": [
    "## Clicking thr Generate Report button"
   ]
  },
  {
   "cell_type": "code",
   "execution_count": 14,
   "id": "6c994387-da7b-45d1-bb6e-40c983fa5577",
   "metadata": {},
   "outputs": [],
   "source": [
    "time.sleep(1.5)\n",
    "Generate_btn_el = browser.find_element(\"id\", \"l_Dc-6-135\")\n",
    "Generate_btn_el.click()"
   ]
  },
  {
   "cell_type": "markdown",
   "id": "b7f3b143-10b5-4f42-8e1b-8cff3acb9bef",
   "metadata": {},
   "source": [
    "## Defining the FilingPeriodForm"
   ]
  },
  {
   "cell_type": "code",
   "execution_count": 15,
   "id": "faa31753-edc9-41ed-aff1-7b1ba49b26f1",
   "metadata": {},
   "outputs": [
    {
     "name": "stdout",
     "output_type": "stream",
     "text": [
      "Tenth day of the current quarter: 2023-10-10\n"
     ]
    }
   ],
   "source": [
    "\n",
    "# Get the current date\n",
    "current_date = dt.date.today()\n",
    "\n",
    "# Get the current quarter\n",
    "current_quarter = (current_date.month - 1) // 3 + 1\n",
    "\n",
    "# Calculate the start month of the current quarter\n",
    "start_month = (current_quarter - 1) * 3 + 1\n",
    "\n",
    "# Calculate the first day of the current quarter\n",
    "first_day_of_quarter = dt.date(current_date.year, start_month, 1)\n",
    "tenth_day_of_quarter = dt.date(current_date.year, start_month, 10)\n",
    "# Print the first day of the current quarter\n",
    "print(\"Tenth day of the current quarter:\", tenth_day_of_quarter)"
   ]
  },
  {
   "cell_type": "code",
   "execution_count": 16,
   "id": "bf382501-91ac-401c-9ae5-7bf75494aff1",
   "metadata": {},
   "outputs": [
    {
     "name": "stdout",
     "output_type": "stream",
     "text": [
      "11-Oct-2023\n"
     ]
    }
   ],
   "source": [
    "ONE_DAY = dt.timedelta(days=1)\n",
    "\n",
    "HOLIDAYS_US = holidays.US()\n",
    "\n",
    "def next_business_day():\n",
    "    next_day = tenth_day_of_quarter + ONE_DAY\n",
    "    while next_day.weekday() in holidays.WEEKEND or next_day in HOLIDAYS_US:\n",
    "        next_day += ONE_DAY\n",
    "    return next_day;\n",
    "\n",
    "FiliningPeriodForm = next_business_day()\n",
    "FiliningPeriodForm = FiliningPeriodForm.strftime(\"%d-%b-%Y\")\n",
    "print(FiliningPeriodForm)"
   ]
  },
  {
   "cell_type": "markdown",
   "id": "194aa1f4-2266-4760-be7c-2b672454eb47",
   "metadata": {},
   "source": [
    "## Defining the FilingPeriodTo"
   ]
  },
  {
   "cell_type": "code",
   "execution_count": 17,
   "id": "e3cbd9b2-35ac-4049-a849-b9c0cc56e464",
   "metadata": {},
   "outputs": [
    {
     "data": {
      "text/plain": [
       "'14-Dec-2023'"
      ]
     },
     "execution_count": 17,
     "metadata": {},
     "output_type": "execute_result"
    }
   ],
   "source": [
    "current_date = dt.date.today()\n",
    "\n",
    "FiliningPeriodTo = current_date.strftime(\"%d-%b-%Y\")\n",
    "FiliningPeriodTo"
   ]
  },
  {
   "cell_type": "markdown",
   "id": "2e25f609-7990-4155-8439-9f023baab40b",
   "metadata": {},
   "source": [
    "## Inputing the dates"
   ]
  },
  {
   "cell_type": "code",
   "execution_count": 18,
   "id": "5aa50d94-dc95-408d-a09f-3133d9a0e9d9",
   "metadata": {},
   "outputs": [],
   "source": [
    "time.sleep(1)\n",
    "FiliningPeriodForm_el = browser.find_element(\"id\", \"Dg-2\")\n",
    "FiliningPeriodForm_el.send_keys(FiliningPeriodForm)\n",
    "FiliningPeriodForm_el.send_keys(Keys.ENTER)"
   ]
  },
  {
   "cell_type": "code",
   "execution_count": 19,
   "id": "cfb0a738-237d-4e45-9dc4-ad0bc294ff42",
   "metadata": {},
   "outputs": [],
   "source": [
    "time.sleep(1)\n",
    "FiliningPeriodTo_el = browser.find_element(\"id\", \"Dg-3\")\n",
    "FiliningPeriodTo_el.send_keys(FiliningPeriodTo)\n",
    "FiliningPeriodTo_el.send_keys(Keys.ENTER)"
   ]
  },
  {
   "cell_type": "markdown",
   "id": "1cff97be-4c0f-4016-9c16-916cfeeaaed6",
   "metadata": {},
   "source": [
    "## Clicking Generate button"
   ]
  },
  {
   "cell_type": "code",
   "execution_count": 20,
   "id": "8cc35b7d-b3e4-4d2e-bf48-7ab61e602350",
   "metadata": {},
   "outputs": [
    {
     "name": "stdout",
     "output_type": "stream",
     "text": [
      "Next page is loaded!\n"
     ]
    }
   ],
   "source": [
    "Generate_btn_el = browser.find_element(\"id\", \"caption2_Dc-7\")\n",
    "Generate_btn_el.click()\n",
    "\n",
    "# Set the delay in seconds\n",
    "delay = 60\n",
    "\n",
    "# Wait for the next page to be loaded\n",
    "try:\n",
    "    WebDriverWait(browser, delay).until(EC.url_changes(browser.current_url))\n",
    "    print(\"Next page is loaded!\")\n",
    "except TimeoutException:\n",
    "    print(\"Loading the next page took too much time!\")"
   ]
  },
  {
   "cell_type": "markdown",
   "id": "7e113744-4fd4-4d99-b44c-befc86bfc1e1",
   "metadata": {},
   "source": [
    "## Clicking the View Report button"
   ]
  },
  {
   "cell_type": "code",
   "execution_count": 21,
   "id": "e684a135-02d4-4069-81da-9bc6ad53e06e",
   "metadata": {},
   "outputs": [
    {
     "name": "stdout",
     "output_type": "stream",
     "text": [
      "Page is ready!\n",
      "Next page is loaded!\n"
     ]
    }
   ],
   "source": [
    "delay = 60 # seconds\n",
    "try:\n",
    "    WebDriverWait(browser, delay).until(EC.presence_of_element_located((By.TAG_NAME, 'body')))\n",
    "    print (\"Page is ready!\")\n",
    "except TimeoutException:\n",
    "    print (\"Loading took too much time!\")\n",
    "     \n",
    "time.sleep(1.5)\n",
    "View_Report_el = browser.find_element(\"id\", \"Dc-8\")\n",
    "View_Report_el.click()\n",
    "\n",
    "# Wait for the next page to be loaded\n",
    "try:\n",
    "    WebDriverWait(browser, delay).until(EC.url_changes(browser.current_url))\n",
    "    print(\"Next page is loaded!\")\n",
    "except TimeoutException:\n",
    "    print(\"Loading the next page took too much time!\")\n",
    "    View_Report_el = browser.find_element(\"id\", \"ic_Dc-8\")\n",
    "    View_Report_el.click()\n",
    "\n",
    "time.sleep(1.5)\n",
    "browser.switch_to.window(browser.window_handles[1])\n",
    "\n",
    "browser.execute_script('window.print();')\n",
    "time.sleep(3)\n",
    "browser.close()"
   ]
  },
  {
   "cell_type": "markdown",
   "id": "f2956159-3ccc-4ebd-93f4-856ffe7e71c5",
   "metadata": {},
   "source": [
    "## Renaming and moving the report"
   ]
  },
  {
   "cell_type": "code",
   "execution_count": 22,
   "id": "742a5f25-eba0-49f0-a4db-38be45a6aebe",
   "metadata": {},
   "outputs": [
    {
     "name": "stdout",
     "output_type": "stream",
     "text": [
      "Current quarter: 4\n"
     ]
    }
   ],
   "source": [
    "# Get the current date\n",
    "current_date = dt.date.today()\n",
    "\n",
    "# Calculate the current quarter\n",
    "current_quarter = (current_date.month - 1) // 3 + 1\n",
    "\n",
    "# Print the current quarter\n",
    "print(\"Current quarter:\", current_quarter)"
   ]
  },
  {
   "cell_type": "code",
   "execution_count": 23,
   "id": "2795334d-ce4f-4f84-9753-276011ff8f0f",
   "metadata": {},
   "outputs": [],
   "source": [
    "folder_path = r'\\\\trdecomsrv\\H\\Alphie\\Temp'\n",
    "files_path = os.path.join(folder_path, '*')\n",
    "files = sorted(glob.iglob(files_path), key=os.path.getctime, reverse=True) \n",
    "last_file = (files[0]) #latest file \n",
    "# print (files[0],files[1])#latest two files"
   ]
  },
  {
   "cell_type": "code",
   "execution_count": 24,
   "id": "2e712422-7132-4ebb-85f3-a34630d0e13c",
   "metadata": {},
   "outputs": [
    {
     "data": {
      "text/plain": [
       "'fYX1Cug5m1N6_5qo2Vk3uw__'"
      ]
     },
     "execution_count": 24,
     "metadata": {},
     "output_type": "execute_result"
    }
   ],
   "source": [
    "# file name with extension\n",
    "file_name = os.path.basename(last_file)\n",
    "\n",
    "# file name without extension\n",
    "file_name = (os.path.splitext(file_name)[0])\n",
    "file_name"
   ]
  },
  {
   "cell_type": "code",
   "execution_count": 25,
   "id": "b8fb5028-bac8-4b1f-90d0-4a38f7174786",
   "metadata": {},
   "outputs": [],
   "source": [
    "old_file = os.path.join(r\"\\\\trdecomsrv\\H\\Alphie\\Temp\", (file_name + \".pdf\"))\n",
    "old_file = shutil.move(old_file, destination_folder)\n",
    "new_file = os.path.join(destination_folder, current_date.strftime(\"%Y\") + \" \" + \"Q\" + str(current_quarter) + \".pdf\")\n",
    "try:\n",
    "  os.rename(old_file, new_file)\n",
    "except FileExistsError:\n",
    "  os.remove(new_file)\n",
    "  os.rename(old_file, new_file)"
   ]
  },
  {
   "cell_type": "markdown",
   "id": "481f1999-cfbb-4889-ac59-7041a7796be0",
   "metadata": {},
   "source": [
    "## Creating Email attachment"
   ]
  },
  {
   "cell_type": "code",
   "execution_count": 26,
   "id": "5debc423-0209-41c6-962b-11abd071bbbd",
   "metadata": {},
   "outputs": [],
   "source": [
    "biodiesel_email_item_1 = new_file"
   ]
  },
  {
   "cell_type": "markdown",
   "id": "dfc716a7-64e8-4547-8f2c-6e6511f7ec29",
   "metadata": {},
   "source": [
    "## Closing the report"
   ]
  },
  {
   "cell_type": "code",
   "execution_count": 27,
   "id": "c035c02c-c430-46ae-a977-fdec65488af3",
   "metadata": {},
   "outputs": [],
   "source": [
    "browser.switch_to.window(browser.window_handles[0])\n",
    "browser.implicitly_wait(1.5)\n",
    "\n",
    "close_button_el = browser.find_elements(By.XPATH, \"//button\")\n",
    "\n",
    "for button in close_button_el:\n",
    "    if button.get_attribute('title') and 'Close Manager: CFT Special Fuels - Agr Dept' in button.get_attribute('title'):\n",
    "        button.click();"
   ]
  },
  {
   "cell_type": "markdown",
   "id": "524dcce0-e64a-4fda-b0b5-2195d8d20e51",
   "metadata": {},
   "source": [
    "# Searching CFT Biodiesel Monthly -Agr Dpt"
   ]
  },
  {
   "cell_type": "code",
   "execution_count": 28,
   "id": "68a87cd6-5de7-4967-92c5-b18aed3ecf97",
   "metadata": {},
   "outputs": [],
   "source": [
    "browser.switch_to.window(browser.window_handles[0])\n",
    "time.sleep(3)\n",
    "input_field_el = browser.find_element(\"id\", \"Dc-h\")\n",
    "input_field_el.send_keys(\"CFT Biodiesel Monthly -Agr Dpt\")\n",
    "input_field_el.send_keys(Keys.ENTER)  "
   ]
  },
  {
   "cell_type": "markdown",
   "id": "a75f776c-64f4-4b13-93e0-8c60e45afd74",
   "metadata": {},
   "source": [
    "## Clicking thr Generate Report button"
   ]
  },
  {
   "cell_type": "code",
   "execution_count": 29,
   "id": "33685971-3a26-4e43-b693-99e8b2992c45",
   "metadata": {},
   "outputs": [],
   "source": [
    "time.sleep(1.5)\n",
    "Generate_btn_el = browser.find_element(\"id\", \"l_Dc-6-11\")\n",
    "Generate_btn_el.click()"
   ]
  },
  {
   "cell_type": "markdown",
   "id": "1766fcf3-7bc4-4d91-87bb-03fa75b24c70",
   "metadata": {},
   "source": [
    "## Defining filing period for this report"
   ]
  },
  {
   "cell_type": "code",
   "execution_count": 30,
   "id": "571018f6-f53a-471b-aeb7-b7e4028fe4d3",
   "metadata": {},
   "outputs": [
    {
     "data": {
      "text/plain": [
       "'31-Oct-2023'"
      ]
     },
     "execution_count": 30,
     "metadata": {},
     "output_type": "execute_result"
    }
   ],
   "source": [
    "# Get the current date\n",
    "current_date = dt.datetime.now()\n",
    "\n",
    "# Calculate the month before the current month\n",
    "last_month = current_date.month - 2\n",
    "\n",
    "# If the current month is January, set last_month to December of the previous year\n",
    "if last_month == 0:\n",
    "    last_month = 12\n",
    "\n",
    "# Calculate the year of the last month\n",
    "last_month_year = current_date.year\n",
    "if last_month == 12:\n",
    "    last_month_year -= 1\n",
    "\n",
    "# Get the last day of the last month\n",
    "last_day_of_last_month = dt.date(last_month_year, last_month + 1, 1) - dt.timedelta(days=1)\n",
    "\n",
    "# Print the last day of the last month\n",
    "# print(\"The last day of the month before last month is:\", last_day_of_last_month)\n",
    "\n",
    "filing_period = last_day_of_last_month.strftime(\"%d-%b-%Y\") \n",
    "filing_period"
   ]
  },
  {
   "cell_type": "markdown",
   "id": "8b936190-192b-40b5-b391-c167a5ce4967",
   "metadata": {},
   "source": [
    "## Inputing filing period"
   ]
  },
  {
   "cell_type": "code",
   "execution_count": 31,
   "id": "2385ceaf-37a1-498a-a97e-544a22730010",
   "metadata": {},
   "outputs": [],
   "source": [
    "time.sleep(1)\n",
    "FilingPeriod_el = browser.find_element(\"id\", \"Dg-2\")\n",
    "FilingPeriod_el.send_keys(filing_period)\n",
    "FilingPeriod_el.send_keys(Keys.ENTER)"
   ]
  },
  {
   "cell_type": "markdown",
   "id": "965d0a41-a973-404e-8061-8b248c89d1d6",
   "metadata": {},
   "source": [
    "## Clicking Generate button"
   ]
  },
  {
   "cell_type": "code",
   "execution_count": 32,
   "id": "22faae72-c3fb-4e77-b304-c76aa41db135",
   "metadata": {},
   "outputs": [
    {
     "name": "stdout",
     "output_type": "stream",
     "text": [
      "Next page is loaded!\n"
     ]
    }
   ],
   "source": [
    "Generate_btn_el = browser.find_element(\"id\", \"caption2_Dc-7\")\n",
    "Generate_btn_el.click()\n",
    "\n",
    "# Set the delay in seconds\n",
    "delay = 60\n",
    "\n",
    "# Wait for the next page to be loaded\n",
    "try:\n",
    "    WebDriverWait(browser, delay).until(EC.url_changes(browser.current_url))\n",
    "    print(\"Next page is loaded!\")\n",
    "except TimeoutException:\n",
    "    print(\"Loading the next page took too much time!\")"
   ]
  },
  {
   "cell_type": "markdown",
   "id": "8d672db3-6576-4bc2-9603-2afc893fd342",
   "metadata": {},
   "source": [
    "## Clicking the View Report button"
   ]
  },
  {
   "cell_type": "code",
   "execution_count": 33,
   "id": "440bf72c-0fe9-4a01-a5dc-80f03c2a7e91",
   "metadata": {},
   "outputs": [
    {
     "name": "stdout",
     "output_type": "stream",
     "text": [
      "Page is ready!\n",
      "Next page is loaded!\n"
     ]
    }
   ],
   "source": [
    "delay = 60 # seconds\n",
    "try:\n",
    "    WebDriverWait(browser, delay).until(EC.presence_of_element_located((By.TAG_NAME, 'body')))\n",
    "    print (\"Page is ready!\")\n",
    "except TimeoutException:\n",
    "    print (\"Loading took too much time!\")\n",
    "     \n",
    "time.sleep(1.5)\n",
    "View_Report_el = browser.find_element(\"id\", \"Dc-8\")\n",
    "View_Report_el.click()\n",
    "\n",
    "# Wait for the next page to be loaded\n",
    "try:\n",
    "    WebDriverWait(browser, delay).until(EC.url_changes(browser.current_url))\n",
    "    print(\"Next page is loaded!\")\n",
    "except TimeoutException:\n",
    "    print(\"Loading the next page took too much time!\")\n",
    "    View_Report_el = browser.find_element(\"id\", \"ic_Dc-8\")\n",
    "    View_Report_el.click()\n",
    "\n",
    "time.sleep(1.5)\n",
    "browser.switch_to.window(browser.window_handles[1])\n",
    "\n",
    "browser.execute_script('window.print();')\n",
    "time.sleep(3)\n",
    "browser.close()"
   ]
  },
  {
   "cell_type": "markdown",
   "id": "586922ba-e514-4890-ad06-b69f48c0789a",
   "metadata": {},
   "source": [
    "## Renaming and moving the report"
   ]
  },
  {
   "cell_type": "code",
   "execution_count": 34,
   "id": "c9cd750d-e47c-43ce-a6ec-49fc24caef15",
   "metadata": {},
   "outputs": [
    {
     "name": "stdout",
     "output_type": "stream",
     "text": [
      "2023-Nov\n",
      "2023-Oct\n"
     ]
    }
   ],
   "source": [
    "today = dt.date.today()\n",
    "first = today.replace(day=1)\n",
    "accrue_month_1 = first - dt.timedelta(days=25)\n",
    "accrue_month_2 = first - dt.timedelta(days=32)\n",
    "print(accrue_month_1.strftime(\"%Y-%b\"))\n",
    "print(accrue_month_2.strftime(\"%Y-%b\"))"
   ]
  },
  {
   "cell_type": "code",
   "execution_count": 35,
   "id": "ef4f104e-aded-467e-b32c-7279159fc621",
   "metadata": {},
   "outputs": [],
   "source": [
    "folder_path = r'\\\\trdecomsrv\\H\\Alphie\\Temp'\n",
    "files_path = os.path.join(folder_path, '*')\n",
    "files = sorted(glob.iglob(files_path), key=os.path.getctime, reverse=True) \n",
    "last_file = (files[0]) #latest file \n",
    "# print (files[0],files[1])#latest two files"
   ]
  },
  {
   "cell_type": "code",
   "execution_count": 36,
   "id": "31063ca5-2fed-4cfd-9d4a-b69af362f843",
   "metadata": {},
   "outputs": [
    {
     "data": {
      "text/plain": [
       "'1IgmkKHUrig9DAVi9a_fAw__'"
      ]
     },
     "execution_count": 36,
     "metadata": {},
     "output_type": "execute_result"
    }
   ],
   "source": [
    "# file name with extension\n",
    "file_name = os.path.basename(last_file)\n",
    "\n",
    "# file name without extension\n",
    "file_name = (os.path.splitext(file_name)[0])\n",
    "file_name"
   ]
  },
  {
   "cell_type": "code",
   "execution_count": 37,
   "id": "cce51994-4e35-4818-b52c-dad7cd5ca414",
   "metadata": {},
   "outputs": [],
   "source": [
    "old_file = os.path.join(r\"\\\\trdecomsrv\\H\\Alphie\\Temp\", (file_name + \".pdf\"))\n",
    "old_file = shutil.move(old_file, destination_folder)\n",
    "new_file = os.path.join(destination_folder, accrue_month_2.strftime(\"%Y %m.pdf\"))\n",
    "try:\n",
    "  os.rename(old_file, new_file)\n",
    "except FileExistsError:\n",
    "  os.remove(new_file)\n",
    "  os.rename(old_file, new_file)"
   ]
  },
  {
   "cell_type": "markdown",
   "id": "2142d094-eafd-4486-b063-81a555d8a396",
   "metadata": {},
   "source": [
    "## Creating Email attachment"
   ]
  },
  {
   "cell_type": "code",
   "execution_count": 38,
   "id": "76df17ef-0fe2-4121-ba0d-05c35f1c7fdf",
   "metadata": {},
   "outputs": [],
   "source": [
    "biodiesel_email_item_2 = new_file"
   ]
  },
  {
   "cell_type": "markdown",
   "id": "a339107b-7131-4df1-9d4e-38677d143c02",
   "metadata": {},
   "source": [
    "## Closing the report"
   ]
  },
  {
   "cell_type": "code",
   "execution_count": 39,
   "id": "cfbcc488-dc11-4c18-a8e2-cf123168cf1f",
   "metadata": {},
   "outputs": [],
   "source": [
    "browser.switch_to.window(browser.window_handles[0])\n",
    "browser.implicitly_wait(1.5)\n",
    "\n",
    "close_button_el = browser.find_elements(By.XPATH, \"//button\")\n",
    "\n",
    "for button in close_button_el:\n",
    "    if button.get_attribute('title') and 'Close Manager: CFT Biodiesel Monthly -Agr Dpt' in button.get_attribute('title'):\n",
    "        button.click();"
   ]
  },
  {
   "cell_type": "markdown",
   "id": "b563511b-605a-4307-a2c8-4d7116826c28",
   "metadata": {},
   "source": [
    "# Searching Fuel reports"
   ]
  },
  {
   "cell_type": "code",
   "execution_count": 40,
   "id": "15901a05-6fc5-46c5-b72d-e82f18e71956",
   "metadata": {},
   "outputs": [],
   "source": [
    "time.sleep(3)\n",
    "browser.switch_to.window(browser.window_handles[0])\n",
    "browser.implicitly_wait(1.5)\n",
    "input_field_el = browser.find_element(\"id\", \"Dc-h\")\n",
    "input_field_el.send_keys(\"Fuels report\")\n",
    "input_field_el.send_keys(Keys.ENTER)    "
   ]
  },
  {
   "cell_type": "markdown",
   "id": "538b98ab-3734-4533-8aca-9bc39cc04427",
   "metadata": {},
   "source": [
    "## Fuels Report (Ethanol Section)"
   ]
  },
  {
   "cell_type": "markdown",
   "id": "6a57c40f-0865-4848-afdc-0f6752a5cc9a",
   "metadata": {},
   "source": [
    "### Clicking thr Generate Report button"
   ]
  },
  {
   "cell_type": "code",
   "execution_count": 41,
   "id": "24d8e27a-91ad-450e-9861-661bb1497a33",
   "metadata": {},
   "outputs": [],
   "source": [
    "time.sleep(1.5)\n",
    "Generate_btn_el = browser.find_element(\"id\", \"l_Dc-6-73\")\n",
    "Generate_btn_el.click()"
   ]
  },
  {
   "cell_type": "markdown",
   "id": "e19463fd-35fc-48c0-9ab5-8a5f984b5bef",
   "metadata": {},
   "source": [
    "### Defining Begining_RA"
   ]
  },
  {
   "cell_type": "code",
   "execution_count": 42,
   "id": "155f7002-6eb6-4537-93ba-f230c7e68f59",
   "metadata": {},
   "outputs": [
    {
     "name": "stdout",
     "output_type": "stream",
     "text": [
      "2023-11-10 00:00:00\n",
      "14-Nov-2023\n"
     ]
    }
   ],
   "source": [
    "now = dt.datetime.now()\n",
    "\n",
    "begining_month_closing_day = 10\n",
    "begining_month = now.month -1\n",
    "year = now.year\n",
    "begining_month_closing = dt.datetime (year, begining_month, begining_month_closing_day)\n",
    "print(begining_month_closing)\n",
    "\n",
    "ONE_DAY = dt.timedelta(days=1)\n",
    "\n",
    "TWO_DAY = dt.timedelta(days=2)\n",
    "HOLIDAYS_US = holidays.US()\n",
    "\n",
    "def next_business_day():\n",
    "    next_day = begining_month_closing + TWO_DAY\n",
    "    while next_day.weekday() in holidays.WEEKEND or next_day in HOLIDAYS_US:\n",
    "        next_day += TWO_DAY\n",
    "    return next_day;\n",
    "\n",
    "Begin_RA = next_business_day()\n",
    "Begin_RA = Begin_RA.strftime(\"%d-%b-%Y\")\n",
    "print(Begin_RA)"
   ]
  },
  {
   "cell_type": "markdown",
   "id": "02ea3838-bdba-4487-b792-9d8ce966e6fa",
   "metadata": {},
   "source": [
    "### Defining End_RA"
   ]
  },
  {
   "cell_type": "code",
   "execution_count": 43,
   "id": "7795cb1b-f717-4c47-ae8d-8efcd84dcdf9",
   "metadata": {},
   "outputs": [
    {
     "name": "stdout",
     "output_type": "stream",
     "text": [
      "2023-12-10 00:00:00\n",
      "11-Dec-2023\n"
     ]
    }
   ],
   "source": [
    "ending_month_closing_day = 10\n",
    "ending_month = now.month \n",
    "\n",
    "ending_month_closing = dt.datetime (year, ending_month, ending_month_closing_day)\n",
    "print(ending_month_closing)\n",
    "\n",
    "def next_business_day():\n",
    "    next_day = ending_month_closing + ONE_DAY\n",
    "    while next_day.weekday() in holidays.WEEKEND or next_day in HOLIDAYS_US:\n",
    "        next_day += ONE_DAY\n",
    "    return next_day;\n",
    "\n",
    "End_RA = next_business_day()\n",
    "End_RA = End_RA.strftime(\"%d-%b-%Y\")\n",
    "print(End_RA)"
   ]
  },
  {
   "cell_type": "markdown",
   "id": "baf3add1-b750-49a5-9dbf-1a65dec67c57",
   "metadata": {},
   "source": [
    "### Inputing dates"
   ]
  },
  {
   "cell_type": "code",
   "execution_count": 44,
   "id": "a2dd65c2-3182-47cb-81bb-ef2f74028984",
   "metadata": {},
   "outputs": [],
   "source": [
    "time.sleep(1)\n",
    "Begin_RA_el = browser.find_element(\"id\", \"Dg-2\")\n",
    "Begin_RA_el.send_keys(Begin_RA)\n",
    "Begin_RA_el.send_keys(Keys.ENTER)"
   ]
  },
  {
   "cell_type": "code",
   "execution_count": 45,
   "id": "957be06e-b162-4bba-9f03-a4350503fcd4",
   "metadata": {},
   "outputs": [],
   "source": [
    "time.sleep(1)\n",
    "End_RA_el = browser.find_element(\"id\", \"Dg-3\")\n",
    "End_RA_el.send_keys(End_RA)\n",
    "End_RA_el.send_keys(Keys.ENTER)"
   ]
  },
  {
   "cell_type": "markdown",
   "id": "466922ad-3bf2-4575-8fff-3db635f579a5",
   "metadata": {},
   "source": [
    "### Clicking Generate button"
   ]
  },
  {
   "cell_type": "code",
   "execution_count": 46,
   "id": "beb184db-a753-4fb5-8957-5d75a59aef2f",
   "metadata": {},
   "outputs": [
    {
     "name": "stdout",
     "output_type": "stream",
     "text": [
      "Next page is loaded!\n"
     ]
    }
   ],
   "source": [
    "Generate_btn_el = browser.find_element(\"id\", \"caption2_Dc-7\")\n",
    "Generate_btn_el.click()\n",
    "\n",
    "# Set the delay in seconds\n",
    "delay = 60\n",
    "\n",
    "# Wait for the next page to be loaded\n",
    "try:\n",
    "    WebDriverWait(browser, delay).until(EC.url_changes(browser.current_url))\n",
    "    print(\"Next page is loaded!\")\n",
    "except TimeoutException:\n",
    "    print(\"Loading the next page took too much time!\")"
   ]
  },
  {
   "cell_type": "markdown",
   "id": "657d4043-973c-482a-b7d9-26c9730326dc",
   "metadata": {},
   "source": [
    "### Clicking Export to excel button"
   ]
  },
  {
   "cell_type": "code",
   "execution_count": 47,
   "id": "759d4e34-05f8-4749-8d2d-d0904ef29edc",
   "metadata": {},
   "outputs": [
    {
     "name": "stdout",
     "output_type": "stream",
     "text": [
      "Page is ready!\n"
     ]
    }
   ],
   "source": [
    "delay = 60 # seconds\n",
    "try:\n",
    "    WebDriverWait(browser, delay).until(EC.presence_of_element_located((By.TAG_NAME, 'body')))\n",
    "    print (\"Page is ready!\")\n",
    "    time.sleep(1.5)\n",
    "except TimeoutException:\n",
    "    print (\"Loading took too much time!\")\n",
    "    \n",
    "time.sleep(1.5)\n",
    "Export_to_excel_el = browser.find_element(\"id\", \"ic_Dc-9\")\n",
    "Export_to_excel_el.click()"
   ]
  },
  {
   "cell_type": "code",
   "execution_count": 48,
   "id": "3b0b94dc-769e-4efb-bd19-0cbcd6738716",
   "metadata": {},
   "outputs": [],
   "source": [
    "time.sleep(3)\n",
    "folder_path = r'\\\\trdecomsrv\\H\\Alphie\\Temp'\n",
    "files_path = os.path.join(folder_path, '*')\n",
    "files = sorted(glob.iglob(files_path), key=os.path.getctime, reverse=True) \n",
    "last_file = (files[0]) #latest file \n",
    "# print (files[0],files[1])#latest two files"
   ]
  },
  {
   "cell_type": "code",
   "execution_count": 49,
   "id": "f931be6f-cfb4-4d84-9f9d-c7bd9650b9a6",
   "metadata": {},
   "outputs": [
    {
     "data": {
      "text/plain": [
       "'\\\\\\\\trdecomsrv\\\\H\\\\Alphie\\\\Temp\\\\1799985152.xls'"
      ]
     },
     "execution_count": 49,
     "metadata": {},
     "output_type": "execute_result"
    }
   ],
   "source": [
    "last_file"
   ]
  },
  {
   "cell_type": "code",
   "execution_count": 50,
   "id": "304aacd6-dc3d-47ad-93d6-3bae4a92d5b3",
   "metadata": {},
   "outputs": [],
   "source": [
    "# file name with extension\n",
    "file_name = os.path.basename(last_file)\n",
    "\n",
    "# file name without extension\n",
    "file_name = (os.path.splitext(file_name)[0])"
   ]
  },
  {
   "cell_type": "code",
   "execution_count": 51,
   "id": "2c904e5f-db63-4060-85be-febd00958d35",
   "metadata": {},
   "outputs": [],
   "source": [
    "old_file = os.path.join(r\"\\\\trdecomsrv\\H\\Alphie\\Temp\", (file_name + \".xls\"))\n",
    "old_file = shutil.move(old_file, destination_folder)\n",
    "new_file = os.path.join(destination_folder, (\"eth\" + \" \" +Begin_RA + \" \" + \"to\" + \" \" + End_RA + \".xls\"))\n",
    "\n",
    "try:\n",
    "  os.rename(old_file, new_file)\n",
    "except FileExistsError:\n",
    "  os.remove(new_file)\n",
    "  os.rename(old_file, new_file);"
   ]
  },
  {
   "cell_type": "markdown",
   "id": "36743b2a-4c93-4557-8a60-ee7618d4348a",
   "metadata": {},
   "source": [
    "### Creating email attachment"
   ]
  },
  {
   "cell_type": "code",
   "execution_count": 52,
   "id": "5554388f-7c13-4b74-8da7-db7619f7547b",
   "metadata": {},
   "outputs": [],
   "source": [
    "fuel_reprt_email_item_1 = new_file"
   ]
  },
  {
   "cell_type": "markdown",
   "id": "2d4816b8-5420-49ec-a558-abca56610880",
   "metadata": {},
   "source": [
    "### Close the report"
   ]
  },
  {
   "cell_type": "code",
   "execution_count": 53,
   "id": "c22d1d8d-13c7-4df8-a077-62fdf1b06cfc",
   "metadata": {},
   "outputs": [],
   "source": [
    "time.sleep(5)\n",
    "close_button_el = browser.find_elements(By.XPATH, \"//button\")\n",
    "\n",
    "try:\n",
    "    for button in close_button_el:\n",
    "        if button.get_attribute('title') and 'Close Manager: Fuels Report (Ethanol Section)' in button.get_attribute('title'):\n",
    "            button.click();\n",
    "except ElementNotInteractableException:\n",
    "    time.sleep(5)\n",
    "    for button in close_button_el:\n",
    "        if button.get_attribute('title') and 'Close Manager: Fuels Report (Ethanol Section)' in button.get_attribute('title'):\n",
    "            button.click();        "
   ]
  },
  {
   "cell_type": "markdown",
   "id": "33f25c40-ac68-4bd6-9823-71c29d53ccac",
   "metadata": {},
   "source": [
    "## Fuels Report (Gasoline Section)"
   ]
  },
  {
   "cell_type": "markdown",
   "id": "cf39cab7-12cb-40de-8b53-e3f52560775e",
   "metadata": {},
   "source": [
    "### Clicking thr Generate Report button"
   ]
  },
  {
   "cell_type": "code",
   "execution_count": 54,
   "id": "2467f84a-ab2f-4525-be3e-1e1c4d4ce6a7",
   "metadata": {},
   "outputs": [],
   "source": [
    "options.add_experimental_option(\"prefs\", {\n",
    "  \"download.default_directory\": r'\\\\trdecomsrv\\H\\Alphie\\Temp'\n",
    "  })\n",
    "\n",
    "time.sleep(1.5)\n",
    "Generate_btn_el = browser.find_element(\"id\", \"l_Dc-6-36\")\n",
    "Generate_btn_el.click()"
   ]
  },
  {
   "cell_type": "markdown",
   "id": "54db2403-4140-4c12-a5d4-4fd7f7e9dd27",
   "metadata": {},
   "source": [
    "### Inputing dates"
   ]
  },
  {
   "cell_type": "code",
   "execution_count": 55,
   "id": "06e21922-6132-41e6-b9eb-4a76fda41c97",
   "metadata": {},
   "outputs": [],
   "source": [
    "time.sleep(1)\n",
    "Begin_RA_el = browser.find_element(\"id\", \"Dg-2\")\n",
    "Begin_RA_el.send_keys(Begin_RA)\n",
    "Begin_RA_el.send_keys(Keys.ENTER)"
   ]
  },
  {
   "cell_type": "code",
   "execution_count": 56,
   "id": "7187a3ee-5573-47a9-b706-25043402f8be",
   "metadata": {},
   "outputs": [],
   "source": [
    "time.sleep(1)\n",
    "End_RA_el = browser.find_element(\"id\", \"Dg-3\")\n",
    "End_RA_el.send_keys(End_RA)\n",
    "End_RA_el.send_keys(Keys.ENTER)"
   ]
  },
  {
   "cell_type": "markdown",
   "id": "689b72f6-7f7f-4442-82d3-50d7accbf930",
   "metadata": {},
   "source": [
    "### Clicking Generate button"
   ]
  },
  {
   "cell_type": "code",
   "execution_count": 57,
   "id": "a6fa44cd-635c-413a-bc0e-9f77aa37162d",
   "metadata": {},
   "outputs": [
    {
     "name": "stdout",
     "output_type": "stream",
     "text": [
      "Next page is loaded!\n"
     ]
    }
   ],
   "source": [
    "Generate_btn_el = browser.find_element(\"id\", \"caption2_Dc-7\")\n",
    "Generate_btn_el.click()\n",
    "\n",
    "# Set the delay in seconds\n",
    "delay = 60\n",
    "\n",
    "# Wait for the next page to be loaded\n",
    "try:\n",
    "    WebDriverWait(browser, delay).until(EC.url_changes(browser.current_url))\n",
    "    print(\"Next page is loaded!\")\n",
    "except TimeoutException:\n",
    "    print(\"Loading the next page took too much time!\")"
   ]
  },
  {
   "cell_type": "markdown",
   "id": "cf3cbff0-a003-4617-8dee-15c84a22b57c",
   "metadata": {},
   "source": [
    "### Clicking Export to excel button"
   ]
  },
  {
   "cell_type": "code",
   "execution_count": 58,
   "id": "c8f50cd9-8138-46ca-8d9e-b73ea40713f5",
   "metadata": {},
   "outputs": [
    {
     "name": "stdout",
     "output_type": "stream",
     "text": [
      "Page is ready!\n"
     ]
    }
   ],
   "source": [
    "delay = 60 # seconds\n",
    "try:\n",
    "    WebDriverWait(browser, delay).until(EC.presence_of_element_located((By.TAG_NAME, 'body')))\n",
    "    print (\"Page is ready!\")\n",
    "except TimeoutException:\n",
    "    print (\"Loading took too much time!\")\n",
    "time.sleep(1.5)\n",
    "Export_to_excel_el = browser.find_element(\"id\", \"ic_Dc-9\")\n",
    "Export_to_excel_el.click()"
   ]
  },
  {
   "cell_type": "code",
   "execution_count": 59,
   "id": "2ff7f173-1837-44a1-b9be-4426d759c95a",
   "metadata": {},
   "outputs": [],
   "source": [
    "time.sleep(2)\n",
    "folder_path = r'\\\\trdecomsrv\\H\\Alphie\\Temp'\n",
    "files_path = os.path.join(folder_path, '*')\n",
    "files = sorted(glob.iglob(files_path), key=os.path.getctime, reverse=True) \n",
    "last_file = (files[0]) #latest file \n",
    "# print (files[0],files[1])#latest two files"
   ]
  },
  {
   "cell_type": "code",
   "execution_count": 60,
   "id": "7276b0c0-4f51-4c74-8833-f5a93826a968",
   "metadata": {},
   "outputs": [],
   "source": [
    "# file name with extension\n",
    "file_name = os.path.basename(last_file)\n",
    "\n",
    "# file name without extension\n",
    "file_name = (os.path.splitext(file_name)[0])"
   ]
  },
  {
   "cell_type": "code",
   "execution_count": 61,
   "id": "0665defd-7d94-4f96-af6d-90405b1cd9ea",
   "metadata": {},
   "outputs": [],
   "source": [
    "old_file = os.path.join(r\"\\\\trdecomsrv\\H\\Alphie\\Temp\", (file_name + \".xls\"))\n",
    "old_file = shutil.move(old_file, destination_folder)\n",
    "new_file = os.path.join(destination_folder, (\"gas\" + \" \" +Begin_RA + \" \" + \"to\" + \" \" + End_RA + \".xls\"))\n",
    "try:\n",
    "  os.rename(old_file, new_file)\n",
    "except FileExistsError:\n",
    "  os.remove(new_file)\n",
    "  os.rename(old_file, new_file);"
   ]
  },
  {
   "cell_type": "markdown",
   "id": "a9ef7434-c552-459b-84dd-020f4910247b",
   "metadata": {},
   "source": [
    "### Creating email attachment"
   ]
  },
  {
   "cell_type": "code",
   "execution_count": 62,
   "id": "5bca4c9a-9eb3-4d42-ae55-54348a638fca",
   "metadata": {},
   "outputs": [],
   "source": [
    "fuel_reprt_email_item_2 = new_file"
   ]
  },
  {
   "cell_type": "markdown",
   "id": "2abbd954-768d-4257-ae60-536b32dd5922",
   "metadata": {},
   "source": [
    "### Close the report"
   ]
  },
  {
   "cell_type": "code",
   "execution_count": 63,
   "id": "0c058c9d-1ed4-4658-b9a4-c7f7304436ee",
   "metadata": {},
   "outputs": [],
   "source": [
    "browser.switch_to.window(browser.window_handles[0])\n",
    "browser.implicitly_wait(1.5)\n",
    "\n",
    "close_button_el = browser.find_elements(By.XPATH, \"//button\")\n",
    "\n",
    "for button in close_button_el:\n",
    "    if button.get_attribute('title') and 'Close Manager: Fuels Report (Gasoline Section)' in button.get_attribute('title'):\n",
    "        button.click();        "
   ]
  },
  {
   "cell_type": "markdown",
   "id": "fcff00f2-f30c-4258-b4ae-28f142e7cd61",
   "metadata": {},
   "source": [
    "## Fuels Report (Diesel Section)"
   ]
  },
  {
   "cell_type": "markdown",
   "id": "780880b1-6cf9-4f84-8266-181b7af2c57d",
   "metadata": {},
   "source": [
    "### Clicking thr Generate Report button"
   ]
  },
  {
   "cell_type": "code",
   "execution_count": 64,
   "id": "029becea-703e-4dac-821d-508f65f70b9c",
   "metadata": {},
   "outputs": [],
   "source": [
    "time.sleep(1.5)\n",
    "Generate_btn_el = browser.find_element(\"id\", \"l_Dc-6-156\")\n",
    "Generate_btn_el.click()"
   ]
  },
  {
   "cell_type": "markdown",
   "id": "f1b00770-fe71-48bc-979f-53b4b9d87ad1",
   "metadata": {},
   "source": [
    "### Inputing dates"
   ]
  },
  {
   "cell_type": "code",
   "execution_count": 65,
   "id": "a110afb5-4be7-40f9-8aa3-0a9be105f890",
   "metadata": {},
   "outputs": [],
   "source": [
    "time.sleep(1)\n",
    "Begin_RA_el = browser.find_element(\"id\", \"Dg-2\")\n",
    "Begin_RA_el.send_keys(Begin_RA)\n",
    "Begin_RA_el.send_keys(Keys.ENTER)"
   ]
  },
  {
   "cell_type": "code",
   "execution_count": 66,
   "id": "6404fddd-2a05-4dc3-a72f-d0375992e9c6",
   "metadata": {},
   "outputs": [],
   "source": [
    "time.sleep(1)\n",
    "End_RA_el = browser.find_element(\"id\", \"Dg-3\")\n",
    "End_RA_el.send_keys(End_RA)\n",
    "End_RA_el.send_keys(Keys.ENTER)"
   ]
  },
  {
   "cell_type": "markdown",
   "id": "d624ded5-1201-47eb-a2d1-65942ec05c6b",
   "metadata": {},
   "source": [
    "### Clicking Generate button"
   ]
  },
  {
   "cell_type": "code",
   "execution_count": 67,
   "id": "59854276-6541-4ecc-a844-6bd8ab8eb61f",
   "metadata": {},
   "outputs": [
    {
     "name": "stdout",
     "output_type": "stream",
     "text": [
      "Next page is loaded!\n"
     ]
    }
   ],
   "source": [
    "Generate_btn_el = browser.find_element(\"id\", \"caption2_Dc-7\")\n",
    "Generate_btn_el.click()\n",
    "\n",
    "# Set the delay in seconds\n",
    "delay = 60\n",
    "\n",
    "# Wait for the next page to be loaded\n",
    "try:\n",
    "    WebDriverWait(browser, delay).until(EC.url_changes(browser.current_url))\n",
    "    print(\"Next page is loaded!\")\n",
    "except TimeoutException:\n",
    "    print(\"Loading the next page took too much time!\")"
   ]
  },
  {
   "cell_type": "markdown",
   "id": "076aade7-22c1-4c39-b434-5d0d53581125",
   "metadata": {},
   "source": [
    "### Clicking Export to excel button"
   ]
  },
  {
   "cell_type": "code",
   "execution_count": 68,
   "id": "2e5038b8-1422-42c8-a10a-2eb41dbf2e8b",
   "metadata": {},
   "outputs": [
    {
     "name": "stdout",
     "output_type": "stream",
     "text": [
      "Page is ready!\n"
     ]
    }
   ],
   "source": [
    "delay = 60 # seconds\n",
    "try:\n",
    "    WebDriverWait(browser, delay).until(EC.presence_of_element_located((By.TAG_NAME, 'body')))\n",
    "    print (\"Page is ready!\")\n",
    "except TimeoutException:\n",
    "    print (\"Loading took too much time!\")\n",
    "time.sleep(1.5)\n",
    "Export_to_excel_el = browser.find_element(\"id\", \"ic_Dc-9\")\n",
    "Export_to_excel_el.click()"
   ]
  },
  {
   "cell_type": "code",
   "execution_count": 69,
   "id": "197493c9-cb11-4869-9c54-497bfe9bee46",
   "metadata": {},
   "outputs": [],
   "source": [
    "time.sleep(3)\n",
    "folder_path = r'\\\\trdecomsrv\\H\\Alphie\\Temp'\n",
    "files_path = os.path.join(folder_path, '*')\n",
    "files = sorted(glob.iglob(files_path), key=os.path.getctime, reverse=True) \n",
    "last_file = (files[0]) #latest file \n",
    "# print (files[0],files[1])#latest two files"
   ]
  },
  {
   "cell_type": "code",
   "execution_count": 70,
   "id": "81898dac-82ca-4eab-aa3a-ed00494b6d84",
   "metadata": {},
   "outputs": [],
   "source": [
    "# file name with extension\n",
    "file_name = os.path.basename(last_file)\n",
    "\n",
    "# file name without extension\n",
    "file_name = (os.path.splitext(file_name)[0])"
   ]
  },
  {
   "cell_type": "code",
   "execution_count": 71,
   "id": "2988388f-babd-40ca-b8bf-9a57d1443c14",
   "metadata": {},
   "outputs": [],
   "source": [
    "old_file = os.path.join(r\"\\\\trdecomsrv\\H\\Alphie\\Temp\", (file_name + \".xls\"))\n",
    "old_file = shutil.move(old_file, destination_folder)\n",
    "new_file = os.path.join(destination_folder, (\"spf\" + \" \" +Begin_RA + \" \" + \"to\" + \" \" + End_RA + \".xls\"))\n",
    "try:\n",
    "  os.rename(old_file, new_file)\n",
    "except FileExistsError:\n",
    "  os.remove(new_file)\n",
    "  os.rename(old_file, new_file);\n"
   ]
  },
  {
   "cell_type": "markdown",
   "id": "1daeb198-3d16-4a17-8e36-973cb5bb5f9e",
   "metadata": {},
   "source": [
    "### Creating email attachment"
   ]
  },
  {
   "cell_type": "code",
   "execution_count": 72,
   "id": "80031607-edbf-472d-b048-2e2072a5a7a6",
   "metadata": {},
   "outputs": [],
   "source": [
    "fuel_reprt_email_item_3 = new_file"
   ]
  },
  {
   "cell_type": "markdown",
   "id": "0db54141-79c7-412f-9311-f1c4f4eb0141",
   "metadata": {},
   "source": [
    "### Close the report"
   ]
  },
  {
   "cell_type": "code",
   "execution_count": 73,
   "id": "bbf2ac0c-8b7c-4b31-a3f1-8fa1a02342ff",
   "metadata": {},
   "outputs": [],
   "source": [
    "browser.switch_to.window(browser.window_handles[0])\n",
    "browser.implicitly_wait(1.5)\n",
    "\n",
    "close_button_el = browser.find_elements(By.XPATH, \"//button\")\n",
    "\n",
    "for button in close_button_el:\n",
    "    if button.get_attribute('title') and 'Close Manager: Fuels Report (Diesel Section)' in button.get_attribute('title'):\n",
    "        button.click();        "
   ]
  },
  {
   "cell_type": "markdown",
   "id": "30e55215-3bf0-49c8-8f84-14461be458e4",
   "metadata": {},
   "source": [
    "## Fuels Report _CFT & I"
   ]
  },
  {
   "cell_type": "markdown",
   "id": "688cbc52-a7e3-4d6d-8892-a786fcd49070",
   "metadata": {},
   "source": [
    "### Clicking thr Generate Report button"
   ]
  },
  {
   "cell_type": "code",
   "execution_count": 74,
   "id": "e29b1523-d844-4a6e-92f3-9951f240bb80",
   "metadata": {},
   "outputs": [],
   "source": [
    "time.sleep(1.5)\n",
    "Generate_btn_el = browser.find_element(\"id\", \"l_Dc-6-99\")\n",
    "Generate_btn_el.click()"
   ]
  },
  {
   "cell_type": "markdown",
   "id": "102663ef-8af1-4619-88f0-52d3f4995f9f",
   "metadata": {},
   "source": [
    "### Inputing dates"
   ]
  },
  {
   "cell_type": "code",
   "execution_count": 75,
   "id": "892e5082-12e3-4aa3-b7a5-275450ec73d4",
   "metadata": {},
   "outputs": [],
   "source": [
    "time.sleep(1)\n",
    "Begin_RA_el = browser.find_element(\"id\", \"Dg-2\")\n",
    "Begin_RA_el.send_keys(Begin_RA)\n",
    "Begin_RA_el.send_keys(Keys.ENTER)"
   ]
  },
  {
   "cell_type": "code",
   "execution_count": 76,
   "id": "63bcac79-42f1-4724-a61a-065a7af8119c",
   "metadata": {},
   "outputs": [],
   "source": [
    "time.sleep(1)\n",
    "End_RA_el = browser.find_element(\"id\", \"Dg-3\")\n",
    "End_RA_el.send_keys(End_RA)\n",
    "End_RA_el.send_keys(Keys.ENTER)"
   ]
  },
  {
   "cell_type": "markdown",
   "id": "b407d49d-8072-4d1d-ac98-39cfdc4b25bf",
   "metadata": {},
   "source": [
    "### Clicking Generate button"
   ]
  },
  {
   "cell_type": "code",
   "execution_count": 77,
   "id": "11f33800-16e7-4bd4-9244-2580873f8e8c",
   "metadata": {},
   "outputs": [
    {
     "name": "stdout",
     "output_type": "stream",
     "text": [
      "Next page is loaded!\n"
     ]
    }
   ],
   "source": [
    "Generate_btn_el = browser.find_element(\"id\", \"caption2_Dc-7\")\n",
    "Generate_btn_el.click()\n",
    "\n",
    "# Set the delay in seconds\n",
    "delay = 60\n",
    "\n",
    "# Wait for the next page to be loaded\n",
    "try:\n",
    "    WebDriverWait(browser, delay).until(EC.url_changes(browser.current_url))\n",
    "    print(\"Next page is loaded!\")\n",
    "except TimeoutException:\n",
    "    print(\"Loading the next page took too much time!\")"
   ]
  },
  {
   "cell_type": "markdown",
   "id": "8398daf3-217a-4e14-a69c-e3a4ad74ce9a",
   "metadata": {},
   "source": [
    "### Clicking Export to excel button"
   ]
  },
  {
   "cell_type": "code",
   "execution_count": 78,
   "id": "b23e3ad1-c854-43ba-b8ff-2e812f1b94ae",
   "metadata": {},
   "outputs": [
    {
     "name": "stdout",
     "output_type": "stream",
     "text": [
      "Page is ready!\n"
     ]
    }
   ],
   "source": [
    "delay = 60 # seconds\n",
    "try:\n",
    "    WebDriverWait(browser, delay).until(EC.presence_of_element_located((By.TAG_NAME, 'body')))\n",
    "    print (\"Page is ready!\")\n",
    "    time.sleep(1.5)\n",
    "    Export_to_excel_el = browser.find_element(\"id\", \"ic_Dc-9\")\n",
    "    Export_to_excel_el.click()\n",
    "except TimeoutException:\n",
    "    print (\"Loading took too much time!\")\n",
    "    Export_to_excel_el = browser.find_element(\"id\", \"Dc-9\")\n",
    "    Export_to_excel_el.click()\n"
   ]
  },
  {
   "cell_type": "code",
   "execution_count": 79,
   "id": "79c00573-0404-4130-a5cd-7aabadc8b768",
   "metadata": {},
   "outputs": [],
   "source": [
    "time.sleep(3)\n",
    "folder_path = r'\\\\trdecomsrv\\H\\Alphie\\Temp'\n",
    "files_path = os.path.join(folder_path, '*')\n",
    "files = sorted(glob.iglob(files_path), key=os.path.getctime, reverse=True) \n",
    "last_file = (files[0]) #latest file \n",
    "# print (files[0],files[1])#latest two files"
   ]
  },
  {
   "cell_type": "code",
   "execution_count": 80,
   "id": "628e7e61-7ca4-4d9f-bd74-aa21e61ade9a",
   "metadata": {},
   "outputs": [],
   "source": [
    "# file name with extension\n",
    "file_name = os.path.basename(last_file)\n",
    "\n",
    "# file name without extension\n",
    "file_name = (os.path.splitext(file_name)[0])"
   ]
  },
  {
   "cell_type": "code",
   "execution_count": 81,
   "id": "38508cf9-8000-4361-8fe7-92d579539650",
   "metadata": {},
   "outputs": [],
   "source": [
    "old_file = os.path.join(r\"\\\\trdecomsrv\\H\\Alphie\\Temp\", (file_name + \".xls\"))\n",
    "old_file = shutil.move(old_file, destination_folder)\n",
    "new_file = os.path.join(destination_folder, (\"pi\" + \" \" +Begin_RA + \" \" + \"to\" + \" \" + End_RA + \".xls\"))\n",
    "try:\n",
    "  os.rename(old_file, new_file)\n",
    "except FileExistsError:\n",
    "  os.remove(new_file)\n",
    "  os.rename(old_file, new_file);"
   ]
  },
  {
   "cell_type": "markdown",
   "id": "9113fd38-feab-44e7-9b23-2bb263a8e423",
   "metadata": {},
   "source": [
    "### Creating email attachment"
   ]
  },
  {
   "cell_type": "code",
   "execution_count": 82,
   "id": "5081ef12-6048-484c-9f04-4d67adec4ad9",
   "metadata": {},
   "outputs": [],
   "source": [
    "fuel_reprt_email_item_4 = new_file"
   ]
  },
  {
   "cell_type": "markdown",
   "id": "c9305229-7365-4908-9599-530698869df7",
   "metadata": {},
   "source": [
    "### Close the report"
   ]
  },
  {
   "cell_type": "code",
   "execution_count": 83,
   "id": "b05dc366-a149-40c8-889a-3cbd889e2d2f",
   "metadata": {},
   "outputs": [],
   "source": [
    "browser.switch_to.window(browser.window_handles[0])\n",
    "browser.implicitly_wait(1.5)\n",
    "\n",
    "close_button_el = browser.find_elements(By.XPATH, \"//button\")\n",
    "\n",
    "for button in close_button_el:\n",
    "    if button.get_attribute('title') and 'Close Manager: Fuels Report _CFT P &amp;  I' in button.get_attribute('title'):\n",
    "        button.click();        "
   ]
  },
  {
   "cell_type": "markdown",
   "id": "40f98aaa-3e27-45d9-b863-8e9b7a74636f",
   "metadata": {},
   "source": [
    "# Searching Alternative Fuel Volumes reports"
   ]
  },
  {
   "cell_type": "code",
   "execution_count": 84,
   "id": "fa0c9130-3b7b-4099-b823-475374114bb3",
   "metadata": {},
   "outputs": [],
   "source": [
    "time.sleep(5)\n",
    "browser.switch_to.window(browser.window_handles[0])\n",
    "browser.implicitly_wait(5)\n",
    "\n",
    "input_field_el = browser.find_element(\"id\", \"Dc-h\")\n",
    "input_field_el.send_keys(\"Alternative Fuel Volumes\")\n",
    "input_field_el.send_keys(Keys.ENTER)    "
   ]
  },
  {
   "cell_type": "markdown",
   "id": "bf12ac82-30dc-412d-b556-a966c96d01f7",
   "metadata": {},
   "source": [
    "## Clicking Generate button"
   ]
  },
  {
   "cell_type": "code",
   "execution_count": 85,
   "id": "e1cd9a28-1da6-4c56-b0fb-ebee24349488",
   "metadata": {},
   "outputs": [],
   "source": [
    "time.sleep(1.5)\n",
    "Generate_btn_el = browser.find_element(\"id\", \"l_Dc-6-52\")\n",
    "Generate_btn_el.click()"
   ]
  },
  {
   "cell_type": "markdown",
   "id": "21eadbc8-0e8b-43d1-aaa8-0c9d59af042d",
   "metadata": {},
   "source": [
    "## Inputing dates"
   ]
  },
  {
   "cell_type": "code",
   "execution_count": 86,
   "id": "3c0cd3a6-1f96-4898-848b-aa02fa60fc33",
   "metadata": {},
   "outputs": [],
   "source": [
    "time.sleep(1)\n",
    "Begin_RA_el = browser.find_element(\"id\", \"Dg-2\")\n",
    "Begin_RA_el.send_keys(Begin_RA)\n",
    "Begin_RA_el.send_keys(Keys.ENTER)"
   ]
  },
  {
   "cell_type": "code",
   "execution_count": 87,
   "id": "c6cc9a35-6f6e-49ff-a909-b73dbf116ec6",
   "metadata": {},
   "outputs": [],
   "source": [
    "time.sleep(1)\n",
    "End_RA_el = browser.find_element(\"id\", \"Dg-3\")\n",
    "End_RA_el.send_keys(End_RA)\n",
    "End_RA_el.send_keys(Keys.ENTER)"
   ]
  },
  {
   "cell_type": "markdown",
   "id": "2bfc0b8a-6ecc-4600-a88d-698faa24049d",
   "metadata": {},
   "source": [
    "## Clicking Generate button"
   ]
  },
  {
   "cell_type": "code",
   "execution_count": 88,
   "id": "48907322-fbc9-4033-bdb1-26b83bfeee78",
   "metadata": {},
   "outputs": [
    {
     "name": "stdout",
     "output_type": "stream",
     "text": [
      "Next page is loaded!\n"
     ]
    }
   ],
   "source": [
    "Generate_btn_el = browser.find_element(\"id\", \"caption2_Dc-7\")\n",
    "Generate_btn_el.click()\n",
    "\n",
    "# Set the delay in seconds\n",
    "delay = 60\n",
    "\n",
    "# Wait for the next page to be loaded\n",
    "try:\n",
    "    WebDriverWait(browser, delay).until(EC.url_changes(browser.current_url))\n",
    "    print(\"Next page is loaded!\")\n",
    "except TimeoutException:\n",
    "    print(\"Loading the next page took too much time!\")"
   ]
  },
  {
   "cell_type": "markdown",
   "id": "2dd08eb7-83b3-4063-b06f-ef8126255e19",
   "metadata": {},
   "source": [
    "## Clicking Export to excel button"
   ]
  },
  {
   "cell_type": "code",
   "execution_count": 89,
   "id": "96a2895b-31cf-4f30-a9c4-1c2b4ef16114",
   "metadata": {},
   "outputs": [
    {
     "name": "stdout",
     "output_type": "stream",
     "text": [
      "Page is ready!\n"
     ]
    }
   ],
   "source": [
    "delay = 60 # seconds\n",
    "try:\n",
    "    WebDriverWait(browser, delay).until(EC.presence_of_element_located((By.TAG_NAME, 'body')))\n",
    "    print (\"Page is ready!\")\n",
    "except TimeoutException:\n",
    "    print (\"Loading took too much time!\")\n",
    "\n",
    "time.sleep(1.5)\n",
    "Export_to_excel_el = browser.find_element(\"id\", \"ic_Dc-9\")\n",
    "Export_to_excel_el.click()"
   ]
  },
  {
   "cell_type": "code",
   "execution_count": 90,
   "id": "a7830530-02c7-47b4-b6f1-8a6d69049a59",
   "metadata": {},
   "outputs": [],
   "source": [
    "time.sleep(3)\n",
    "folder_path = r'\\\\trdecomsrv\\H\\Alphie\\Temp'\n",
    "files_path = os.path.join(folder_path, '*')\n",
    "files = sorted(glob.iglob(files_path), key=os.path.getctime, reverse=True) \n",
    "last_file = (files[0]) #latest file \n",
    "# print (files[0],files[1])#latest two files"
   ]
  },
  {
   "cell_type": "code",
   "execution_count": 91,
   "id": "5c81a078-2a75-4129-b3c1-d8eaf6bee7a0",
   "metadata": {},
   "outputs": [],
   "source": [
    "# file name with extension\n",
    "file_name = os.path.basename(last_file)\n",
    "\n",
    "# file name without extension\n",
    "file_name = (os.path.splitext(file_name)[0])"
   ]
  },
  {
   "cell_type": "code",
   "execution_count": 92,
   "id": "59c7905e-2a43-4d21-89e2-8b90cfeb4b51",
   "metadata": {},
   "outputs": [],
   "source": [
    "old_file = os.path.join(r\"\\\\trdecomsrv\\H\\Alphie\\Temp\", (file_name + \".xls\"))\n",
    "old_file = shutil.move(old_file, destination_folder)\n",
    "new_file = os.path.join(destination_folder, (\"alt\" + \" \" +Begin_RA + \" \" + \"to\" + \" \" + End_RA + \".xls\"))\n",
    "try:\n",
    "  os.rename(old_file, new_file)\n",
    "except FileExistsError:\n",
    "  os.remove(new_file)\n",
    "  os.rename(old_file, new_file);"
   ]
  },
  {
   "cell_type": "markdown",
   "id": "eb341758-438c-41da-a16b-6e0134ceb2a4",
   "metadata": {},
   "source": [
    "## Creating email attachment"
   ]
  },
  {
   "cell_type": "code",
   "execution_count": 93,
   "id": "a90cfba4-4904-4b1a-a368-9b898b543ae3",
   "metadata": {},
   "outputs": [],
   "source": [
    "fuel_reprt_email_item_5 = new_file"
   ]
  },
  {
   "cell_type": "markdown",
   "id": "e075b284-6959-4615-bbf6-b0c7dcf05bee",
   "metadata": {},
   "source": [
    "## Close the report"
   ]
  },
  {
   "cell_type": "code",
   "execution_count": 94,
   "id": "680d8506-06bb-4f74-a878-1e2c86745135",
   "metadata": {},
   "outputs": [],
   "source": [
    "browser.switch_to.window(browser.window_handles[0])\n",
    "time.sleep(2)\n",
    "\n",
    "close_button_el = browser.find_elements(By.XPATH, \"//button\")\n",
    "\n",
    "for button in close_button_el:\n",
    "    if button.get_attribute('title') and 'Alternative Fuel Volumes' in button.get_attribute('title'):\n",
    "        button.click();"
   ]
  },
  {
   "cell_type": "code",
   "execution_count": 95,
   "id": "9d95e28b-10a4-414f-9c30-2123188d6736",
   "metadata": {},
   "outputs": [],
   "source": [
    "time.sleep(1.5)\n",
    "close_button_el = browser.find_elements(By.XPATH, \"//button\")\n",
    "\n",
    "for button in close_button_el:\n",
    "    if button.get_attribute('title') and 'Close Group: Generate Report' in button.get_attribute('title'):\n",
    "        button.click();\n",
    "\n",
    "time.sleep(1.5)\n",
    "Generate_Report_btn_el = browser.find_element(\"id\", \"l_Dc-1-4\")\n",
    "Generate_Report_btn_el.click()"
   ]
  },
  {
   "cell_type": "markdown",
   "id": "a11f3cf7-2320-4c70-b766-3f9b33893706",
   "metadata": {},
   "source": [
    "# Searching CFT Locations reports"
   ]
  },
  {
   "cell_type": "code",
   "execution_count": 96,
   "id": "7e338ad8-a288-4d4b-ace8-e4645736c3de",
   "metadata": {},
   "outputs": [],
   "source": [
    "browser.switch_to.window(browser.window_handles[0])\n",
    "time.sleep(1.5)\n",
    "\n",
    "input_field_el = browser.find_element(\"id\", \"Dc-h\")\n",
    "input_field_el.send_keys(\"CFT Locations\")\n",
    "input_field_el.send_keys(Keys.ENTER)"
   ]
  },
  {
   "cell_type": "markdown",
   "id": "78328045-59da-42f0-b048-0a6420a278ba",
   "metadata": {},
   "source": [
    "## Clicking Generate button"
   ]
  },
  {
   "cell_type": "code",
   "execution_count": 97,
   "id": "565d9a24-e52e-4410-8e96-0ab1fd64a862",
   "metadata": {},
   "outputs": [],
   "source": [
    "time.sleep(3)\n",
    "\n",
    "try:\n",
    "  Generate_btn_el = browser.find_element(\"id\", \"l_Dc-6-365\")\n",
    "  Generate_btn_el.click()\n",
    "except NoSuchElementException:\n",
    "  Generate_btn_el = browser.find_element(\"id\", \"l_Dc-6-366\")\n",
    "  Generate_btn_el.click();\n",
    "        \n",
    "# Generate_btn_el = browser.find_element(\"id\", \"l_Dc-6-365\")\n",
    "# Generate_btn_el.click()"
   ]
  },
  {
   "cell_type": "markdown",
   "id": "439d05ca-c3d5-4949-b2d2-ba956dc5ff93",
   "metadata": {},
   "source": [
    "## Defining Begining_RA"
   ]
  },
  {
   "cell_type": "code",
   "execution_count": 98,
   "id": "7a94cda6-7fe6-426a-897a-48a5292ef8eb",
   "metadata": {},
   "outputs": [
    {
     "name": "stdout",
     "output_type": "stream",
     "text": [
      "01-Oct-2023\n"
     ]
    }
   ],
   "source": [
    "now = dt.datetime.now()\n",
    "\n",
    "begining_month_closing_day = 1\n",
    "begining_month = now.month -2\n",
    "year = now.year\n",
    "begining_month_closing = dt.datetime (year, begining_month, begining_month_closing_day)\n",
    "\n",
    "Begin_RA = begining_month_closing.strftime(\"%d-%b-%Y\")\n",
    "print(Begin_RA)"
   ]
  },
  {
   "cell_type": "markdown",
   "id": "d244e6d5-889d-4c0f-8c32-53d354743637",
   "metadata": {},
   "source": [
    "## Defining End_RA"
   ]
  },
  {
   "cell_type": "code",
   "execution_count": 99,
   "id": "099965cd-b737-4fb4-9381-2b83e3d9c1dd",
   "metadata": {},
   "outputs": [
    {
     "name": "stdout",
     "output_type": "stream",
     "text": [
      "The original date is: 2023-12-14\n",
      "31-Oct-2023\n"
     ]
    }
   ],
   "source": [
    "input_dt = dt.datetime.now()\n",
    "print(\"The original date is:\", input_dt.date())\n",
    "\n",
    "from datetime import datetime, timedelta\n",
    "\n",
    "last_month = input_dt.replace(day=28) - timedelta(days=32)\n",
    "res = last_month - timedelta(days=last_month.day)\n",
    "End_RA = res.strftime(\"%d-%b-%Y\")\n",
    "print(End_RA)"
   ]
  },
  {
   "cell_type": "markdown",
   "id": "d2033820-06af-4c4c-bec6-f7fe295330b4",
   "metadata": {},
   "source": [
    "## Inputing dates"
   ]
  },
  {
   "cell_type": "code",
   "execution_count": 100,
   "id": "52a4a943-3218-47d4-acc6-9f4e0b5e4a43",
   "metadata": {},
   "outputs": [],
   "source": [
    "time.sleep(1)\n",
    "Begin_RA_el = browser.find_element(\"id\", \"Dk-7\")\n",
    "Begin_RA_el.send_keys(Begin_RA)\n",
    "Begin_RA_el.send_keys(Keys.ENTER)"
   ]
  },
  {
   "cell_type": "code",
   "execution_count": 101,
   "id": "4e1d08b9-636e-4851-adc5-68f81b0e4639",
   "metadata": {},
   "outputs": [],
   "source": [
    "time.sleep(1)\n",
    "End_RA_el = browser.find_element(\"id\", \"Dk-8\")\n",
    "End_RA_el.send_keys(End_RA)\n",
    "End_RA_el.send_keys(Keys.ENTER)\n",
    "time.sleep(1)"
   ]
  },
  {
   "cell_type": "code",
   "execution_count": 102,
   "id": "04aa0c69-28cd-48ca-b431-faf152af6228",
   "metadata": {},
   "outputs": [],
   "source": [
    "browser.switch_to.window(browser.window_handles[0])\n",
    "browser.implicitly_wait(1.5)\n",
    "\n",
    "close_button_el = browser.find_elements(By.XPATH, \"//button\")\n",
    "for button in close_button_el:\n",
    "    if button.get_attribute('class') and 'FastMessageBoxButtonYes ui-button ui-corner-all ui-widget' in button.get_attribute('class'):\n",
    "        button.click();"
   ]
  },
  {
   "cell_type": "markdown",
   "id": "9d60bb24-8a7f-4dbf-a853-6dfddf540f76",
   "metadata": {},
   "source": [
    "## Clicking Cube button"
   ]
  },
  {
   "cell_type": "code",
   "execution_count": 103,
   "id": "bbae24cc-387c-4822-a0ee-482779d27a62",
   "metadata": {},
   "outputs": [],
   "source": [
    "browser.switch_to.window(browser.window_handles[0])\n",
    "time.sleep(5)\n",
    "\n",
    "Cube_btn_el = browser.find_element(\"id\", \"cl_Dh-a\")\n",
    "Cube_btn_el.click()"
   ]
  },
  {
   "cell_type": "markdown",
   "id": "99c1f311-84cf-4926-9fc6-3ec69df312a3",
   "metadata": {},
   "source": [
    "## Clicking radio button"
   ]
  },
  {
   "cell_type": "code",
   "execution_count": 104,
   "id": "b4d5bf28-4ee5-40db-81c2-418961981c82",
   "metadata": {},
   "outputs": [],
   "source": [
    "time.sleep(7)\n",
    "\n",
    "radio_btn_el = browser.find_element(\"id\", \"cl_Df-g\")\n",
    "radio_btn_el.click();"
   ]
  },
  {
   "cell_type": "markdown",
   "id": "fd132ca6-5864-443e-86d8-34751754eb02",
   "metadata": {},
   "source": [
    "## Clicking Spreadsheet button"
   ]
  },
  {
   "cell_type": "code",
   "execution_count": 105,
   "id": "3d9d5374-ad4c-40fe-b5af-f200e301e9ad",
   "metadata": {},
   "outputs": [],
   "source": [
    "time.sleep(5)\n",
    "\n",
    "Spreadsheet_btn_el = browser.find_element(\"id\", \"l_Df_1-l-3\")\n",
    "Spreadsheet_btn_el.click()"
   ]
  },
  {
   "cell_type": "code",
   "execution_count": 106,
   "id": "28b9fab6-f92c-43f0-99d1-84de802047f4",
   "metadata": {},
   "outputs": [],
   "source": [
    "time.sleep(3)\n",
    "folder_path = r'\\\\trdecomsrv\\H\\Alphie\\Temp'\n",
    "files_path = os.path.join(folder_path, '*')\n",
    "files = sorted(glob.iglob(files_path), key=os.path.getctime, reverse=True) \n",
    "last_file = (files[0]) #latest file \n",
    "# print (files[0],files[1])#latest two files"
   ]
  },
  {
   "cell_type": "code",
   "execution_count": 107,
   "id": "d2693da7-1505-47f7-8758-648e716d1118",
   "metadata": {},
   "outputs": [],
   "source": [
    "# file name with extension\n",
    "file_name = os.path.basename(last_file)\n",
    "\n",
    "# file name without extension\n",
    "file_name = (os.path.splitext(file_name)[0])"
   ]
  },
  {
   "cell_type": "code",
   "execution_count": 108,
   "id": "d64b6769-db03-49b9-bce4-7eae28a58bf0",
   "metadata": {},
   "outputs": [
    {
     "name": "stdout",
     "output_type": "stream",
     "text": [
      "2023-Nov\n",
      "2023-Oct\n"
     ]
    }
   ],
   "source": [
    "today = dt.date.today()\n",
    "first = today.replace(day=1)\n",
    "accrue_month_1 = first - dt.timedelta(days=25)\n",
    "accrue_month_2 = first - dt.timedelta(days=32)\n",
    "print(accrue_month_1.strftime(\"%Y-%b\"))\n",
    "print(accrue_month_2.strftime(\"%Y-%b\"))\n",
    "\n",
    "time.sleep(3)\n",
    "old_file = os.path.join(r\"\\\\trdecomsrv\\H\\Alphie\\Temp\", (file_name + \".ods\"))\n",
    "old_file = shutil.move(old_file, destination_folder)\n",
    "new_file = os.path.join(destination_folder,  accrue_month_2.strftime(\"Gasoline Gallons by Locations\" + \" \" + \"%Y-%m.xls\"))\n",
    "try:\n",
    "  os.rename(old_file, new_file)\n",
    "except FileExistsError:\n",
    "  os.remove(new_file)\n",
    "  os.rename(old_file, new_file);"
   ]
  },
  {
   "cell_type": "markdown",
   "id": "c5062276-96f4-4010-9602-043bd76a19b2",
   "metadata": {},
   "source": [
    "## Creating email attachment"
   ]
  },
  {
   "cell_type": "code",
   "execution_count": 109,
   "id": "33e26c79-e754-4a12-b385-906e701067ec",
   "metadata": {},
   "outputs": [],
   "source": [
    "fuel_reprt_email_item_6 = new_file"
   ]
  },
  {
   "cell_type": "markdown",
   "id": "7682c808-f7e1-4d2b-bf89-963b66f30933",
   "metadata": {},
   "source": [
    "## Close the report"
   ]
  },
  {
   "cell_type": "code",
   "execution_count": 110,
   "id": "143941d3-400f-47c8-8b51-1576814d9c09",
   "metadata": {},
   "outputs": [],
   "source": [
    "browser.switch_to.window(browser.window_handles[0])\n",
    "time.sleep(2)\n",
    "\n",
    "close_button_el = browser.find_elements(By.XPATH, \"//button\")\n",
    "\n",
    "for button in close_button_el:\n",
    "    if button.get_attribute('title') and 'Close Manager: CFT Locations' in button.get_attribute('title'):\n",
    "        button.click();"
   ]
  },
  {
   "cell_type": "markdown",
   "id": "9568e9e3-3c6a-477b-8d3a-bab1e3a410ba",
   "metadata": {},
   "source": [
    "# Working on GL Backend RA - Main report"
   ]
  },
  {
   "cell_type": "markdown",
   "id": "5d9c2261-5d0a-4278-84a9-282fdd977fbb",
   "metadata": {},
   "source": [
    "## Searching GL Backend RA - Main report"
   ]
  },
  {
   "cell_type": "code",
   "execution_count": 111,
   "id": "820240f8-3c3c-43e5-883d-34c64ee1d9ff",
   "metadata": {},
   "outputs": [],
   "source": [
    "browser.switch_to.window(browser.window_handles[0])\n",
    "time.sleep(3)\n",
    "\n",
    "input_field_el = browser.find_element(\"id\", \"Dc-h\")\n",
    "input_field_el.send_keys(\"GL Backend RA - Main\")\n",
    "input_field_el.send_keys(Keys.ENTER)\n"
   ]
  },
  {
   "cell_type": "markdown",
   "id": "df33bd87-a395-49b3-ba88-9df18bd400b9",
   "metadata": {},
   "source": [
    "## Clicking Generate button"
   ]
  },
  {
   "cell_type": "code",
   "execution_count": 112,
   "id": "6bf1d759-f4b6-4a56-8543-addc1c8fff1a",
   "metadata": {},
   "outputs": [],
   "source": [
    "time.sleep(1.5)\n",
    "Generate_btn_el = browser.find_element(\"id\", \"l_Dc-6-166\")\n",
    "Generate_btn_el.click()"
   ]
  },
  {
   "cell_type": "markdown",
   "id": "8bda1292-848c-478a-ad0d-db298872efc6",
   "metadata": {},
   "source": [
    "# CIT"
   ]
  },
  {
   "cell_type": "markdown",
   "id": "6714bcc8-39a8-4eba-8471-55c68b63ec7c",
   "metadata": {},
   "source": [
    "## Selecting CIT"
   ]
  },
  {
   "cell_type": "code",
   "execution_count": 113,
   "id": "f80d1460-b936-4247-bf05-2b6717e327f0",
   "metadata": {},
   "outputs": [],
   "source": [
    "time.sleep(1.5)\n",
    "Revenue_Group_el = browser.find_element(\"name\", \"Dg-2\")\n",
    "Revenue_Group_el.send_keys(\"CIT\")\n",
    "Revenue_Group_el.send_keys(Keys.ENTER)"
   ]
  },
  {
   "cell_type": "markdown",
   "id": "d5ea034a-20b0-4331-a516-3c939e4b55aa",
   "metadata": {},
   "source": [
    "## Clicking the Generate button"
   ]
  },
  {
   "cell_type": "code",
   "execution_count": 114,
   "id": "53b7ca24-be1f-4d3d-b4f9-93ee10eb398b",
   "metadata": {},
   "outputs": [
    {
     "name": "stdout",
     "output_type": "stream",
     "text": [
      "Next page is loaded!\n"
     ]
    }
   ],
   "source": [
    "time.sleep(1.5)\n",
    "Generate_btn_el = browser.find_element(\"id\", \"caption2_Dc-7\")\n",
    "Generate_btn_el.click()\n",
    "\n",
    "# Set the delay in seconds\n",
    "delay = 60\n",
    "\n",
    "# Wait for the next page to be loaded\n",
    "try:\n",
    "    WebDriverWait(browser, delay).until(EC.url_changes(browser.current_url))\n",
    "    print(\"Next page is loaded!\")\n",
    "except TimeoutException:\n",
    "    print(\"Loading the next page took too much time!\")"
   ]
  },
  {
   "cell_type": "markdown",
   "id": "5950bfac-eff8-4162-b420-9dbb54e0f8a9",
   "metadata": {},
   "source": [
    "## Clicking the View Report button"
   ]
  },
  {
   "cell_type": "code",
   "execution_count": 115,
   "id": "1d987689-769f-4a81-aacd-7df7aab0d457",
   "metadata": {},
   "outputs": [
    {
     "name": "stdout",
     "output_type": "stream",
     "text": [
      "Page is ready!\n",
      "Next page is loaded!\n"
     ]
    }
   ],
   "source": [
    "delay = 60 # seconds\n",
    "try:\n",
    "    WebDriverWait(browser, delay).until(EC.presence_of_element_located((By.TAG_NAME, 'body')))\n",
    "    print (\"Page is ready!\")\n",
    "except TimeoutException:\n",
    "    print (\"Loading took too much time!\")\n",
    "     \n",
    "time.sleep(1.5)\n",
    "View_Report_el = browser.find_element(\"id\", \"Dc-8\")\n",
    "View_Report_el.click()\n",
    "\n",
    "# Wait for the next page to be loaded\n",
    "try:\n",
    "    WebDriverWait(browser, delay).until(EC.url_changes(browser.current_url))\n",
    "    print(\"Next page is loaded!\")\n",
    "except TimeoutException:\n",
    "    print(\"Loading the next page took too much time!\")\n",
    "    View_Report_el = browser.find_element(\"id\", \"ic_Dc-8\")\n",
    "    View_Report_el.click()\n",
    "    \n",
    "time.sleep(1.5)\n",
    "browser.switch_to.window(browser.window_handles[1])\n",
    "\n",
    "browser.execute_script('window.print();')\n",
    "time.sleep(3)\n",
    "browser.close()"
   ]
  },
  {
   "cell_type": "markdown",
   "id": "2d9c32d3-9aab-4668-844c-8fab706119a7",
   "metadata": {},
   "source": [
    "## Close the report"
   ]
  },
  {
   "cell_type": "code",
   "execution_count": 116,
   "id": "bbe3720d-c604-4658-ba91-caec92b81f61",
   "metadata": {},
   "outputs": [],
   "source": [
    "browser.switch_to.window(browser.window_handles[0])\n",
    "browser.implicitly_wait(1.5)\n",
    "\n",
    "close_button_el = browser.find_elements(By.XPATH, \"//button\")\n",
    "\n",
    "for button in close_button_el:\n",
    "    if button.get_attribute('title') and 'Close Manager: GL Backend RA - Main' in button.get_attribute('title'):\n",
    "        button.click();"
   ]
  },
  {
   "cell_type": "markdown",
   "id": "926ec1d2-8a2b-4fc3-9306-75030d6fadb1",
   "metadata": {},
   "source": [
    "## Renaming and moving the report"
   ]
  },
  {
   "cell_type": "code",
   "execution_count": 117,
   "id": "69be99e8-b9ef-4e15-8251-8aba4bf26911",
   "metadata": {},
   "outputs": [
    {
     "name": "stdout",
     "output_type": "stream",
     "text": [
      "2023-Nov\n",
      "2023-Oct\n"
     ]
    }
   ],
   "source": [
    "today = dt.date.today()\n",
    "first = today.replace(day=1)\n",
    "accrue_month_1 = first - dt.timedelta(days=25)\n",
    "accrue_month_2 = first - dt.timedelta(days=32)\n",
    "print(accrue_month_1.strftime(\"%Y-%b\"))\n",
    "print(accrue_month_2.strftime(\"%Y-%b\"))"
   ]
  },
  {
   "cell_type": "code",
   "execution_count": 118,
   "id": "332e0d73-fe09-4419-9ab7-4791b1dc013e",
   "metadata": {},
   "outputs": [],
   "source": [
    "folder_path = r'\\\\trdecomsrv\\H\\Alphie\\Temp'\n",
    "files_path = os.path.join(folder_path, '*')\n",
    "files = sorted(glob.iglob(files_path), key=os.path.getctime, reverse=True) \n",
    "last_file = (files[0]) #latest file \n",
    "# print (files[0],files[1])#latest two files"
   ]
  },
  {
   "cell_type": "code",
   "execution_count": 119,
   "id": "2b373fca-22f5-49fb-a4e8-dc1414a8fa03",
   "metadata": {},
   "outputs": [],
   "source": [
    "# file name with extension\n",
    "file_name = os.path.basename(last_file)\n",
    "\n",
    "# file name without extension\n",
    "file_name = (os.path.splitext(file_name)[0])"
   ]
  },
  {
   "cell_type": "code",
   "execution_count": 120,
   "id": "f9c6775b-0378-4fbc-b543-db37ba6eeb1c",
   "metadata": {},
   "outputs": [],
   "source": [
    "old_file = os.path.join(r\"\\\\trdecomsrv\\H\\Alphie\\Temp\", (file_name + \".pdf\"))\n",
    "old_file = shutil.move(old_file, destination_folder)\n",
    "new_file = os.path.join(destination_folder, accrue_month_1.strftime(\"CIT-Prelim. %b %Y Reporting Generic Distribution Report.pdf\"))\n",
    "try:\n",
    "  os.rename(old_file, new_file)\n",
    "except FileExistsError:\n",
    "  os.remove(new_file)\n",
    "  os.rename(old_file, new_file)"
   ]
  },
  {
   "cell_type": "code",
   "execution_count": 121,
   "id": "4fd57ab1-f553-47eb-969a-a60634c0d189",
   "metadata": {},
   "outputs": [],
   "source": [
    "# file name with extension\n",
    "file_name = os.path.basename(new_file)\n",
    "\n",
    "# file name without extension\n",
    "file_name = (os.path.splitext(file_name)[0])"
   ]
  },
  {
   "cell_type": "code",
   "execution_count": 122,
   "id": "170c21d0-bc88-41cb-90a0-9fc0df90feed",
   "metadata": {},
   "outputs": [],
   "source": [
    "old_file = os.path.join(destination_folder, new_file)\n",
    "new_file = os.path.join(destination_folder, accrue_month_2.strftime(file_name + ' ' + \"(%b %Y Accrual).pdf\"))\n",
    "try:\n",
    "  os.rename(old_file, new_file)\n",
    "except FileExistsError:\n",
    "  os.remove(new_file)\n",
    "  os.rename(old_file, new_file)"
   ]
  },
  {
   "cell_type": "markdown",
   "id": "6622c9e7-dbe8-445a-bb7a-631913230cf5",
   "metadata": {},
   "source": [
    "## Creating Email attachment"
   ]
  },
  {
   "cell_type": "code",
   "execution_count": 123,
   "id": "7e86011c-4208-4281-ad29-decbad608fbf",
   "metadata": {},
   "outputs": [],
   "source": [
    "cit_email_item_1 = new_file"
   ]
  },
  {
   "cell_type": "markdown",
   "id": "b239196f-458a-429e-afaa-e8cd752322b6",
   "metadata": {},
   "source": [
    "# OGP-R"
   ]
  },
  {
   "cell_type": "markdown",
   "id": "5389b723-800b-4a9b-bae0-19a4b5ab37bf",
   "metadata": {},
   "source": [
    "## Clicking Generate button"
   ]
  },
  {
   "cell_type": "code",
   "execution_count": 124,
   "id": "5a3ccf45-04e2-472e-835b-9ffa0ab68d75",
   "metadata": {},
   "outputs": [],
   "source": [
    "time.sleep(1.5)\n",
    "Generate_btn_el = browser.find_element(\"id\", \"l_Dc-6-166\")\n",
    "Generate_btn_el.click()"
   ]
  },
  {
   "cell_type": "markdown",
   "id": "545aa35f-3b0c-4b81-bc99-16857cde6936",
   "metadata": {},
   "source": [
    "## Selecting OGP-R"
   ]
  },
  {
   "cell_type": "code",
   "execution_count": 125,
   "id": "c03de130-45a1-414d-8566-3c9de88925a5",
   "metadata": {},
   "outputs": [],
   "source": [
    "time.sleep(3)\n",
    "Revenue_Group_el = browser.find_element(\"name\", \"Dg-2\")\n",
    "Revenue_Group_el.send_keys(\"OGP-R\")\n",
    "Revenue_Group_el.send_keys(Keys.ENTER)"
   ]
  },
  {
   "cell_type": "markdown",
   "id": "46c46080-00b5-409c-98ba-ba2279f6dc58",
   "metadata": {},
   "source": [
    "## Clicking the Generate button"
   ]
  },
  {
   "cell_type": "code",
   "execution_count": 126,
   "id": "52dbe68d-2376-4fac-bff6-3e5436293b0a",
   "metadata": {},
   "outputs": [
    {
     "name": "stdout",
     "output_type": "stream",
     "text": [
      "Next page is loaded!\n"
     ]
    }
   ],
   "source": [
    "Generate_btn_el = browser.find_element(\"id\", \"caption2_Dc-7\")\n",
    "Generate_btn_el.click()\n",
    "# Set the delay in seconds\n",
    "delay = 60\n",
    "\n",
    "# Wait for the next page to be loaded\n",
    "try:\n",
    "    WebDriverWait(browser, delay).until(EC.url_changes(browser.current_url))\n",
    "    print(\"Next page is loaded!\")\n",
    "except TimeoutException:\n",
    "    print(\"Loading the next page took too much time!\")"
   ]
  },
  {
   "cell_type": "markdown",
   "id": "ea63808b-4af2-46fc-afd2-f4cda44d1ec7",
   "metadata": {},
   "source": [
    "## Clicking the View Report button"
   ]
  },
  {
   "cell_type": "code",
   "execution_count": 127,
   "id": "8a49cb38-3a63-45b8-8f6d-9fd3eceb11ab",
   "metadata": {},
   "outputs": [
    {
     "name": "stdout",
     "output_type": "stream",
     "text": [
      "Page is ready!\n",
      "Next page is loaded!\n"
     ]
    }
   ],
   "source": [
    "delay = 60 # seconds\n",
    "try:\n",
    "    WebDriverWait(browser, delay).until(EC.presence_of_element_located((By.TAG_NAME, 'body')))\n",
    "    print (\"Page is ready!\")\n",
    "except TimeoutException:\n",
    "    print (\"Loading took too much time!\")\n",
    "     \n",
    "time.sleep(1.5)\n",
    "View_Report_el = browser.find_element(\"id\", \"Dc-8\")\n",
    "View_Report_el.click()\n",
    "\n",
    "# Wait for the next page to be loaded\n",
    "try:\n",
    "    WebDriverWait(browser, delay).until(EC.url_changes(browser.current_url))\n",
    "    print(\"Next page is loaded!\")\n",
    "except TimeoutException:\n",
    "    print(\"Loading the next page took too much time!\")\n",
    "    View_Report_el = browser.find_element(\"id\", \"ic_Dc-8\")\n",
    "    View_Report_el.click()\n",
    "\n",
    "time.sleep(1.5)\n",
    "browser.switch_to.window(browser.window_handles[1])\n",
    "\n",
    "browser.execute_script('window.print();')\n",
    "time.sleep(3)\n",
    "browser.close()"
   ]
  },
  {
   "cell_type": "markdown",
   "id": "8ec66934-fb51-46af-a404-72962a4160be",
   "metadata": {},
   "source": [
    "## Close the report"
   ]
  },
  {
   "cell_type": "code",
   "execution_count": 128,
   "id": "d82a8aca-6ea8-4adf-93c4-5e9d0cb232fc",
   "metadata": {},
   "outputs": [],
   "source": [
    "browser.switch_to.window(browser.window_handles[0])\n",
    "browser.implicitly_wait(1.5)\n",
    "\n",
    "close_button_el = browser.find_elements(By.XPATH, \"//button\")\n",
    "\n",
    "for button in close_button_el:\n",
    "    if button.get_attribute('title') and 'Close Manager: GL Backend RA - Main' in button.get_attribute('title'):\n",
    "        button.click();        "
   ]
  },
  {
   "cell_type": "markdown",
   "id": "0042f54b-d544-4fec-8b01-7c7ec86fed8f",
   "metadata": {},
   "source": [
    "## Renaming and moving the report"
   ]
  },
  {
   "cell_type": "code",
   "execution_count": 129,
   "id": "c96d2a21-0ab0-4a52-9e19-ccb9b432d4c4",
   "metadata": {},
   "outputs": [],
   "source": [
    "folder_path = r'\\\\trdecomsrv\\H\\Alphie\\Temp'\n",
    "files_path = os.path.join(folder_path, '*')\n",
    "files = sorted(glob.iglob(files_path), key=os.path.getctime, reverse=True) \n",
    "last_file = (files[0]) #latest file \n",
    "# print (files[0],files[1])#latest two files"
   ]
  },
  {
   "cell_type": "code",
   "execution_count": 130,
   "id": "0b1bbc0f-52e7-4f7c-8e0d-cf4163ee58d5",
   "metadata": {},
   "outputs": [],
   "source": [
    "# file name with extension\n",
    "file_name = os.path.basename(last_file)\n",
    "\n",
    "# file name without extension\n",
    "file_name = (os.path.splitext(file_name)[0])"
   ]
  },
  {
   "cell_type": "code",
   "execution_count": 131,
   "id": "e5176144-6b09-43b5-8cac-79fc21bacfe7",
   "metadata": {},
   "outputs": [],
   "source": [
    "old_file = os.path.join(r\"\\\\trdecomsrv\\H\\Alphie\\Temp\", (file_name + \".pdf\"))\n",
    "old_file = shutil.move(old_file, destination_folder)\n",
    "new_file = os.path.join(destination_folder, accrue_month_1.strftime(\"OGP-R-Prelim. %b %Y Reporting Generic Distribution Report.pdf\"))\n",
    "try:\n",
    "  os.rename(old_file, new_file)\n",
    "except FileExistsError:\n",
    "  os.remove(new_file)\n",
    "  os.rename(old_file, new_file)\n"
   ]
  },
  {
   "cell_type": "code",
   "execution_count": 132,
   "id": "3e96e09c-64a2-4c89-bea8-6e0863a070ce",
   "metadata": {},
   "outputs": [],
   "source": [
    "# file name with extension\n",
    "file_name = os.path.basename(new_file)\n",
    "\n",
    "# file name without extension\n",
    "file_name = (os.path.splitext(file_name)[0])"
   ]
  },
  {
   "cell_type": "code",
   "execution_count": 133,
   "id": "a99f2742-a6f1-4f80-bc06-a38e3a3e3fe9",
   "metadata": {},
   "outputs": [],
   "source": [
    "old_file = os.path.join(destination_folder, new_file)\n",
    "new_file = os.path.join(destination_folder, accrue_month_2.strftime(file_name + ' ' + \"(%b %Y Accrual).pdf\"))\n",
    "try:\n",
    "  os.rename(old_file, new_file)\n",
    "except FileExistsError:\n",
    "  os.remove(new_file)\n",
    "  os.rename(old_file, new_file)"
   ]
  },
  {
   "cell_type": "markdown",
   "id": "a5a3827f-0b54-4d7c-b28c-31ce410d7981",
   "metadata": {},
   "source": [
    "## Creating Email attachment"
   ]
  },
  {
   "cell_type": "code",
   "execution_count": 134,
   "id": "81cfef90-a731-4f3a-b786-c153e1f6ddf2",
   "metadata": {},
   "outputs": [],
   "source": [
    "ogp_r_email_item_1 = new_file"
   ]
  },
  {
   "cell_type": "markdown",
   "id": "f1c77233-28f8-4bd9-9260-9accebe1f1ec",
   "metadata": {},
   "source": [
    "# PIT"
   ]
  },
  {
   "cell_type": "markdown",
   "id": "2865df1d-831d-4af7-9749-85873fc725f2",
   "metadata": {},
   "source": [
    "## Clicking Generate button"
   ]
  },
  {
   "cell_type": "code",
   "execution_count": 135,
   "id": "80caa7f8-bbfa-44a6-ac10-1aa1793dcc58",
   "metadata": {},
   "outputs": [],
   "source": [
    "time.sleep(1.5)\n",
    "Generate_btn_el = browser.find_element(\"id\", \"l_Dc-6-166\")\n",
    "Generate_btn_el.click()"
   ]
  },
  {
   "cell_type": "markdown",
   "id": "912d6cfa-c3d7-4aa0-a300-2f2e2b3b4325",
   "metadata": {},
   "source": [
    "## Selecting PIT"
   ]
  },
  {
   "cell_type": "code",
   "execution_count": 136,
   "id": "67705e90-076e-4e1d-a5a6-243eb4d2c3ff",
   "metadata": {},
   "outputs": [],
   "source": [
    "time.sleep(3)\n",
    "Revenue_Group_el = browser.find_element(\"name\", \"Dg-2\")\n",
    "Revenue_Group_el.send_keys(\"PIT\")\n",
    "Revenue_Group_el.send_keys(Keys.ENTER)"
   ]
  },
  {
   "cell_type": "markdown",
   "id": "c385d580-b72c-4604-9b86-b41cdab8b61f",
   "metadata": {},
   "source": [
    "## Clicking the Generate button"
   ]
  },
  {
   "cell_type": "code",
   "execution_count": 137,
   "id": "e3fa55f1-bfa4-47ff-9a70-6cb04953963d",
   "metadata": {},
   "outputs": [
    {
     "name": "stdout",
     "output_type": "stream",
     "text": [
      "Next page is loaded!\n"
     ]
    }
   ],
   "source": [
    "Generate_btn_el = browser.find_element(\"id\", \"caption2_Dc-7\")\n",
    "Generate_btn_el.click()\n",
    "\n",
    "# Set the delay in seconds\n",
    "delay = 60\n",
    "\n",
    "# Wait for the next page to be loaded\n",
    "try:\n",
    "    WebDriverWait(browser, delay).until(EC.url_changes(browser.current_url))\n",
    "    print(\"Next page is loaded!\")\n",
    "except TimeoutException:\n",
    "    print(\"Loading the next page took too much time!\")"
   ]
  },
  {
   "cell_type": "markdown",
   "id": "2f1fa3a5-aaaf-451f-88e0-c9dba2354d66",
   "metadata": {},
   "source": [
    "## Clicking the View Report button"
   ]
  },
  {
   "cell_type": "code",
   "execution_count": 138,
   "id": "9b945265-fadb-475c-a0ef-7b1937bb32c2",
   "metadata": {},
   "outputs": [
    {
     "name": "stdout",
     "output_type": "stream",
     "text": [
      "Page is ready!\n",
      "Next page is loaded!\n"
     ]
    }
   ],
   "source": [
    "delay = 60 # seconds\n",
    "try:\n",
    "    WebDriverWait(browser, delay).until(EC.presence_of_element_located((By.TAG_NAME, 'body')))\n",
    "    print (\"Page is ready!\")\n",
    "except TimeoutException:\n",
    "    print (\"Loading took too much time!\")\n",
    "     \n",
    "time.sleep(1.5)\n",
    "View_Report_el = browser.find_element(\"id\", \"Dc-8\")\n",
    "View_Report_el.click()\n",
    "\n",
    "# Wait for the next page to be loaded\n",
    "try:\n",
    "    WebDriverWait(browser, delay).until(EC.url_changes(browser.current_url))\n",
    "    print(\"Next page is loaded!\")\n",
    "except TimeoutException:\n",
    "    print(\"Loading the next page took too much time!\")\n",
    "    View_Report_el = browser.find_element(\"id\", \"ic_Dc-8\")\n",
    "    View_Report_el.click()\n",
    "\n",
    "time.sleep(1.5)\n",
    "browser.switch_to.window(browser.window_handles[1])\n",
    "\n",
    "browser.execute_script('window.print();')\n",
    "time.sleep(3)\n",
    "browser.close()"
   ]
  },
  {
   "cell_type": "markdown",
   "id": "471e1419-5cd7-4818-bece-fc1d5b9a75d0",
   "metadata": {},
   "source": [
    "## Close the report"
   ]
  },
  {
   "cell_type": "code",
   "execution_count": 139,
   "id": "79ff99a3-1ae0-4df0-b14c-cf9009cb22aa",
   "metadata": {},
   "outputs": [],
   "source": [
    "browser.switch_to.window(browser.window_handles[0])\n",
    "browser.implicitly_wait(1.5)\n",
    "\n",
    "close_button_el = browser.find_elements(By.XPATH, \"//button\")\n",
    "\n",
    "for button in close_button_el:\n",
    "    if button.get_attribute('title') and 'Close Manager: GL Backend RA - Main' in button.get_attribute('title'):\n",
    "        button.click();        "
   ]
  },
  {
   "cell_type": "markdown",
   "id": "e94659e2-7f18-481f-95f9-cfd217249f25",
   "metadata": {},
   "source": [
    "## Renaming and moving the report"
   ]
  },
  {
   "cell_type": "code",
   "execution_count": 140,
   "id": "55426d81-f701-4ac8-9470-8c6177e20f09",
   "metadata": {},
   "outputs": [],
   "source": [
    "folder_path = r'\\\\trdecomsrv\\H\\Alphie\\Temp'\n",
    "files_path = os.path.join(folder_path, '*')\n",
    "files = sorted(glob.iglob(files_path), key=os.path.getctime, reverse=True) \n",
    "last_file = (files[0]) #latest file \n",
    "# print (files[0],files[1])#latest two files"
   ]
  },
  {
   "cell_type": "code",
   "execution_count": 141,
   "id": "36af7eb0-0e00-4cac-a640-9c78e12b1e33",
   "metadata": {},
   "outputs": [],
   "source": [
    "# file name with extension\n",
    "file_name = os.path.basename(last_file)\n",
    "\n",
    "# file name without extension\n",
    "file_name = (os.path.splitext(file_name)[0])"
   ]
  },
  {
   "cell_type": "code",
   "execution_count": 142,
   "id": "1935f0d9-7d12-4c61-baa3-c4ecab11bea1",
   "metadata": {},
   "outputs": [],
   "source": [
    "old_file = os.path.join(r\"\\\\trdecomsrv\\H\\Alphie\\Temp\", (file_name + \".pdf\"))\n",
    "old_file = shutil.move(old_file, destination_folder)\n",
    "new_file = os.path.join(destination_folder, accrue_month_1.strftime(\"PIT-Prelim. %b %Y Reporting Generic Distribution Report.pdf\"))\n",
    "try:\n",
    "  os.rename(old_file, new_file)\n",
    "except FileExistsError:\n",
    "  os.remove(new_file)\n",
    "  os.rename(old_file, new_file)"
   ]
  },
  {
   "cell_type": "code",
   "execution_count": 143,
   "id": "75550cf9-ead2-49aa-afef-eceaed2442a4",
   "metadata": {},
   "outputs": [],
   "source": [
    "# file name with extension\n",
    "file_name = os.path.basename(new_file)\n",
    "\n",
    "# file name without extension\n",
    "file_name = (os.path.splitext(file_name)[0])"
   ]
  },
  {
   "cell_type": "code",
   "execution_count": 144,
   "id": "8c581eca-c258-4e96-9cdd-a8f2f366ebea",
   "metadata": {},
   "outputs": [],
   "source": [
    "old_file = os.path.join(destination_folder, new_file)\n",
    "new_file = os.path.join(destination_folder, accrue_month_2.strftime(file_name + ' ' + \"(%b %Y Accrual).pdf\"))\n",
    "try:\n",
    "  os.rename(old_file, new_file)\n",
    "except FileExistsError:\n",
    "  os.remove(new_file)\n",
    "  os.rename(old_file, new_file)"
   ]
  },
  {
   "cell_type": "markdown",
   "id": "cf4c0fb6-5b2f-4319-891b-121867e7391c",
   "metadata": {},
   "source": [
    "## Creating Email attachment"
   ]
  },
  {
   "cell_type": "code",
   "execution_count": 145,
   "id": "85ac65a2-4cea-4f96-92aa-6c5de26f7a5f",
   "metadata": {},
   "outputs": [],
   "source": [
    "pit_email_item_1 = new_file"
   ]
  },
  {
   "cell_type": "markdown",
   "id": "134207b2-1d89-472e-b471-46014b206c4d",
   "metadata": {},
   "source": [
    "# PTW-O"
   ]
  },
  {
   "cell_type": "markdown",
   "id": "a6537271-cf46-4d9d-93e6-c62bd2fefd37",
   "metadata": {},
   "source": [
    "## Clicking Generate button"
   ]
  },
  {
   "cell_type": "code",
   "execution_count": 146,
   "id": "cf2d6830-29db-4946-8294-5bc378cde688",
   "metadata": {},
   "outputs": [],
   "source": [
    "time.sleep(1.5)\n",
    "Generate_btn_el = browser.find_element(\"id\", \"l_Dc-6-166\")\n",
    "Generate_btn_el.click()"
   ]
  },
  {
   "cell_type": "markdown",
   "id": "e762375e-3f2b-402a-8370-364ccbdab860",
   "metadata": {},
   "source": [
    "## Selecting PTW-O"
   ]
  },
  {
   "cell_type": "code",
   "execution_count": 147,
   "id": "6569f48c-8747-4c08-bedd-8f2791a57b34",
   "metadata": {},
   "outputs": [],
   "source": [
    "time.sleep(3)\n",
    "Revenue_Group_el = browser.find_element(\"name\", \"Dg-2\")\n",
    "Revenue_Group_el.send_keys(\"PTW-O\")\n",
    "Revenue_Group_el.send_keys(Keys.ENTER)"
   ]
  },
  {
   "cell_type": "markdown",
   "id": "d7196ce9-37a0-4db6-abb5-629cbd7ad36b",
   "metadata": {},
   "source": [
    "## Clicking the Generate button"
   ]
  },
  {
   "cell_type": "code",
   "execution_count": 148,
   "id": "4e6c3f05-41e8-4c44-b545-3b0ce8d53fbe",
   "metadata": {},
   "outputs": [
    {
     "name": "stdout",
     "output_type": "stream",
     "text": [
      "Next page is loaded!\n"
     ]
    }
   ],
   "source": [
    "Generate_btn_el = browser.find_element(\"id\", \"caption2_Dc-7\")\n",
    "Generate_btn_el.click()\n",
    "\n",
    "# Set the delay in seconds\n",
    "delay = 60\n",
    "\n",
    "# Wait for the next page to be loaded\n",
    "try:\n",
    "    WebDriverWait(browser, delay).until(EC.url_changes(browser.current_url))\n",
    "    print(\"Next page is loaded!\")\n",
    "except TimeoutException:\n",
    "    print(\"Loading the next page took too much time!\")"
   ]
  },
  {
   "cell_type": "markdown",
   "id": "4e1432a4-0c65-4094-b9e6-52c9e55bf283",
   "metadata": {},
   "source": [
    "## Clicking the View Report button"
   ]
  },
  {
   "cell_type": "code",
   "execution_count": 149,
   "id": "0a749693-6223-4618-b8f5-0274099cd8b1",
   "metadata": {},
   "outputs": [
    {
     "name": "stdout",
     "output_type": "stream",
     "text": [
      "Page is ready!\n",
      "Next page is loaded!\n"
     ]
    }
   ],
   "source": [
    "delay = 60 # seconds\n",
    "try:\n",
    "    WebDriverWait(browser, delay).until(EC.presence_of_element_located((By.TAG_NAME, 'body')))\n",
    "    print (\"Page is ready!\")\n",
    "except TimeoutException:\n",
    "    print (\"Loading took too much time!\")\n",
    "     \n",
    "time.sleep(1.5)\n",
    "View_Report_el = browser.find_element(\"id\", \"Dc-8\")\n",
    "View_Report_el.click()\n",
    "\n",
    "# Wait for the next page to be loaded\n",
    "try:\n",
    "    WebDriverWait(browser, delay).until(EC.url_changes(browser.current_url))\n",
    "    print(\"Next page is loaded!\")\n",
    "except TimeoutException:\n",
    "    print(\"Loading the next page took too much time!\")\n",
    "    View_Report_el = browser.find_element(\"id\", \"ic_Dc-8\")\n",
    "    View_Report_el.click()\n",
    "\n",
    "time.sleep(1.5)\n",
    "browser.switch_to.window(browser.window_handles[1])\n",
    "\n",
    "browser.execute_script('window.print();')\n",
    "time.sleep(3)\n",
    "browser.close()"
   ]
  },
  {
   "cell_type": "markdown",
   "id": "21a92e04-d974-40f4-98e5-a90a11d5c96f",
   "metadata": {},
   "source": [
    "## Close the report"
   ]
  },
  {
   "cell_type": "code",
   "execution_count": 150,
   "id": "b0722f5d-dd88-4561-be66-af5a8e186aa0",
   "metadata": {},
   "outputs": [],
   "source": [
    "browser.switch_to.window(browser.window_handles[0])\n",
    "browser.implicitly_wait(1.5)\n",
    "\n",
    "close_button_el = browser.find_elements(By.XPATH, \"//button\")\n",
    "\n",
    "for button in close_button_el:\n",
    "    if button.get_attribute('title') and 'Close Manager: GL Backend RA - Main' in button.get_attribute('title'):\n",
    "        button.click();        "
   ]
  },
  {
   "cell_type": "markdown",
   "id": "7294d991-00f6-4354-a227-460d53421c00",
   "metadata": {},
   "source": [
    "## Renaming and moving the report"
   ]
  },
  {
   "cell_type": "code",
   "execution_count": 151,
   "id": "5c25c324-30c2-47ee-b0d8-b18b503dba7d",
   "metadata": {},
   "outputs": [],
   "source": [
    "folder_path = r'\\\\trdecomsrv\\H\\Alphie\\Temp'\n",
    "files_path = os.path.join(folder_path, '*')\n",
    "files = sorted(glob.iglob(files_path), key=os.path.getctime, reverse=True) \n",
    "last_file = (files[0]) #latest file \n",
    "# print (files[0],files[1])#latest two files"
   ]
  },
  {
   "cell_type": "code",
   "execution_count": 152,
   "id": "00675c33-9b4d-4e2d-8831-00c01878b583",
   "metadata": {},
   "outputs": [],
   "source": [
    "# file name with extension\n",
    "file_name = os.path.basename(last_file)\n",
    "\n",
    "# file name without extension\n",
    "file_name = (os.path.splitext(file_name)[0])"
   ]
  },
  {
   "cell_type": "code",
   "execution_count": 153,
   "id": "1b524480-0de5-4d13-beae-6d46462b9f78",
   "metadata": {},
   "outputs": [],
   "source": [
    "old_file = os.path.join(r\"\\\\trdecomsrv\\H\\Alphie\\Temp\", (file_name + \".pdf\"))\n",
    "old_file = shutil.move(old_file, destination_folder)\n",
    "new_file = os.path.join(destination_folder, accrue_month_1.strftime(\"PTW-O-Prelim. %b %Y Reporting Generic Distribution Report.pdf\"))\n",
    "try:\n",
    "  os.rename(old_file, new_file)\n",
    "except FileExistsError:\n",
    "  os.remove(new_file)\n",
    "  os.rename(old_file, new_file)"
   ]
  },
  {
   "cell_type": "code",
   "execution_count": 154,
   "id": "5ed63de7-31ad-4803-aa00-9a81e7bd4ec4",
   "metadata": {},
   "outputs": [],
   "source": [
    "# file name with extension\n",
    "file_name = os.path.basename(new_file)\n",
    "\n",
    "# file name without extension\n",
    "file_name = (os.path.splitext(file_name)[0])"
   ]
  },
  {
   "cell_type": "code",
   "execution_count": 155,
   "id": "64434ef0-ae6a-46e6-81f8-4aa893ed86e2",
   "metadata": {},
   "outputs": [],
   "source": [
    "old_file = os.path.join(destination_folder, new_file)\n",
    "new_file = os.path.join(destination_folder, accrue_month_2.strftime(file_name + ' ' + \"(%b %Y Accrual).pdf\"))\n",
    "try:\n",
    "  os.rename(old_file, new_file)\n",
    "except FileExistsError:\n",
    "  os.remove(new_file)\n",
    "  os.rename(old_file, new_file)"
   ]
  },
  {
   "cell_type": "markdown",
   "id": "4d230e72-a09c-4452-a09d-a07cc1cd2a6d",
   "metadata": {},
   "source": [
    "## Creating Email attachment"
   ]
  },
  {
   "cell_type": "code",
   "execution_count": 156,
   "id": "94dbd7d2-f110-4214-b8c7-c8a189738655",
   "metadata": {},
   "outputs": [],
   "source": [
    "ptw_o_email_item_1 = new_file"
   ]
  },
  {
   "cell_type": "markdown",
   "id": "14609ec8-d816-41f4-a31c-f5f0799a3b8a",
   "metadata": {},
   "source": [
    "# PTW-R"
   ]
  },
  {
   "cell_type": "markdown",
   "id": "0a5372e3-e28e-4537-ab13-940893457c3c",
   "metadata": {},
   "source": [
    "## Clicking Generate button"
   ]
  },
  {
   "cell_type": "code",
   "execution_count": 157,
   "id": "16a0a4ec-ba90-41c2-a43a-4fe641f026eb",
   "metadata": {},
   "outputs": [],
   "source": [
    "time.sleep(1.5)\n",
    "Generate_btn_el = browser.find_element(\"id\", \"l_Dc-6-166\")\n",
    "Generate_btn_el.click()"
   ]
  },
  {
   "cell_type": "markdown",
   "id": "ef057dab-954f-418d-b721-06e930a38dda",
   "metadata": {},
   "source": [
    "## Selecting PTW-R"
   ]
  },
  {
   "cell_type": "code",
   "execution_count": 158,
   "id": "c954e2f1-1efc-418d-aa8b-c5ac15f6f7c9",
   "metadata": {},
   "outputs": [],
   "source": [
    "time.sleep(3)\n",
    "Revenue_Group_el = browser.find_element(\"name\", \"Dg-2\")\n",
    "Revenue_Group_el.send_keys(\"PTW-R\")\n",
    "Revenue_Group_el.send_keys(Keys.ENTER)"
   ]
  },
  {
   "cell_type": "markdown",
   "id": "711ddeab-8128-4367-86e0-703bccd32f14",
   "metadata": {},
   "source": [
    "## Clicking the Generate button"
   ]
  },
  {
   "cell_type": "code",
   "execution_count": 159,
   "id": "85e608c8-943f-4e74-9f13-9e39e53bbb46",
   "metadata": {},
   "outputs": [
    {
     "name": "stdout",
     "output_type": "stream",
     "text": [
      "Next page is loaded!\n"
     ]
    }
   ],
   "source": [
    "Generate_btn_el = browser.find_element(\"id\", \"caption2_Dc-7\")\n",
    "Generate_btn_el.click()\n",
    "\n",
    "# Set the delay in seconds\n",
    "delay = 60\n",
    "\n",
    "# Wait for the next page to be loaded\n",
    "try:\n",
    "    WebDriverWait(browser, delay).until(EC.url_changes(browser.current_url))\n",
    "    print(\"Next page is loaded!\")\n",
    "except TimeoutException:\n",
    "    print(\"Loading the next page took too much time!\")"
   ]
  },
  {
   "cell_type": "markdown",
   "id": "f050cb49-170d-4e46-a2f9-df9407f94987",
   "metadata": {},
   "source": [
    "## Clicking the View Report button"
   ]
  },
  {
   "cell_type": "code",
   "execution_count": 160,
   "id": "ce59939b-b0f8-4af8-af61-743906246f66",
   "metadata": {},
   "outputs": [
    {
     "name": "stdout",
     "output_type": "stream",
     "text": [
      "Page is ready!\n",
      "Next page is loaded!\n"
     ]
    }
   ],
   "source": [
    "delay = 60 # seconds\n",
    "try:\n",
    "    WebDriverWait(browser, delay).until(EC.presence_of_element_located((By.TAG_NAME, 'body')))\n",
    "    print (\"Page is ready!\")\n",
    "except TimeoutException:\n",
    "    print (\"Loading took too much time!\")\n",
    "     \n",
    "time.sleep(1.5)\n",
    "View_Report_el = browser.find_element(\"id\", \"Dc-8\")\n",
    "View_Report_el.click()\n",
    "\n",
    "# Wait for the next page to be loaded\n",
    "try:\n",
    "    WebDriverWait(browser, delay).until(EC.url_changes(browser.current_url))\n",
    "    print(\"Next page is loaded!\")\n",
    "except TimeoutException:\n",
    "    print(\"Loading the next page took too much time!\")\n",
    "    View_Report_el = browser.find_element(\"id\", \"ic_Dc-8\")\n",
    "    View_Report_el.click()\n",
    "\n",
    "time.sleep(1.5)\n",
    "browser.switch_to.window(browser.window_handles[1])\n",
    "\n",
    "browser.execute_script('window.print();')\n",
    "time.sleep(3)\n",
    "browser.close()"
   ]
  },
  {
   "cell_type": "markdown",
   "id": "5d4510fe-af9f-46fe-9f28-55b19486d673",
   "metadata": {},
   "source": [
    "## Close the report"
   ]
  },
  {
   "cell_type": "code",
   "execution_count": 161,
   "id": "c0235f19-3ad0-4117-8625-b6b0921699df",
   "metadata": {},
   "outputs": [],
   "source": [
    "browser.switch_to.window(browser.window_handles[0])\n",
    "browser.implicitly_wait(1.5)\n",
    "\n",
    "close_button_el = browser.find_elements(By.XPATH, \"//button\")\n",
    "\n",
    "for button in close_button_el:\n",
    "    if button.get_attribute('title') and 'Close Manager: GL Backend RA - Main' in button.get_attribute('title'):\n",
    "        button.click();        "
   ]
  },
  {
   "cell_type": "markdown",
   "id": "70dd5f6b-395b-4289-ac35-3e77a1c1e8e1",
   "metadata": {},
   "source": [
    "## Renaming and moving the report"
   ]
  },
  {
   "cell_type": "code",
   "execution_count": 162,
   "id": "93cdbf88-617f-45f8-86d0-8765d2b31829",
   "metadata": {},
   "outputs": [],
   "source": [
    "folder_path = r'\\\\trdecomsrv\\H\\Alphie\\Temp'\n",
    "files_path = os.path.join(folder_path, '*')\n",
    "files = sorted(glob.iglob(files_path), key=os.path.getctime, reverse=True) \n",
    "last_file = (files[0]) #latest file \n",
    "# print (files[0],files[1])#latest two files"
   ]
  },
  {
   "cell_type": "code",
   "execution_count": 163,
   "id": "85f42af0-53e5-40aa-8a48-c9190ec574e1",
   "metadata": {},
   "outputs": [],
   "source": [
    "# file name with extension\n",
    "file_name = os.path.basename(last_file)\n",
    "\n",
    "# file name without extension\n",
    "file_name = (os.path.splitext(file_name)[0])"
   ]
  },
  {
   "cell_type": "code",
   "execution_count": 164,
   "id": "db6bad5d-178d-482e-bf68-d7d256e651f5",
   "metadata": {},
   "outputs": [],
   "source": [
    "old_file = os.path.join(r\"\\\\trdecomsrv\\H\\Alphie\\Temp\", (file_name + \".pdf\"))\n",
    "old_file = shutil.move(old_file, destination_folder)\n",
    "new_file = os.path.join(destination_folder, accrue_month_1.strftime(\"PTW-R-Prelim. %b %Y Reporting Generic Distribution Report.pdf\"))\n",
    "try:\n",
    "  os.rename(old_file, new_file)\n",
    "except FileExistsError:\n",
    "  os.remove(new_file)\n",
    "  os.rename(old_file, new_file)"
   ]
  },
  {
   "cell_type": "code",
   "execution_count": 165,
   "id": "9313f986-4a94-4e21-800b-2b9ea275c1a0",
   "metadata": {},
   "outputs": [],
   "source": [
    "# file name with extension\n",
    "file_name = os.path.basename(new_file)\n",
    "\n",
    "# file name without extension\n",
    "file_name = (os.path.splitext(file_name)[0])"
   ]
  },
  {
   "cell_type": "code",
   "execution_count": 166,
   "id": "96c69ff8-4ed9-4872-b834-f31163f025f3",
   "metadata": {},
   "outputs": [],
   "source": [
    "old_file = os.path.join(destination_folder, new_file)\n",
    "new_file = os.path.join(destination_folder, accrue_month_2.strftime(file_name + ' ' + \"(%b %Y Accrual).pdf\"))\n",
    "try:\n",
    "  os.rename(old_file, new_file)\n",
    "except FileExistsError:\n",
    "  os.remove(new_file)\n",
    "  os.rename(old_file, new_file)"
   ]
  },
  {
   "cell_type": "markdown",
   "id": "f2b74139-03ad-484b-90ef-85e202a033d2",
   "metadata": {},
   "source": [
    "## Creating Email attachment"
   ]
  },
  {
   "cell_type": "code",
   "execution_count": 167,
   "id": "5ef9dcb7-a6fc-46b7-8744-ba4b25e84a3e",
   "metadata": {},
   "outputs": [],
   "source": [
    "ptw_r_email_item_1 = new_file"
   ]
  },
  {
   "cell_type": "markdown",
   "id": "824767b5-885d-4478-aa8c-15ee8873213f",
   "metadata": {},
   "source": [
    "# WWT"
   ]
  },
  {
   "cell_type": "markdown",
   "id": "643f3c57-f639-4cbc-afdc-79fca9827155",
   "metadata": {},
   "source": [
    "## Clicking Generate button"
   ]
  },
  {
   "cell_type": "code",
   "execution_count": 168,
   "id": "2433e203-6e10-4563-b0e6-10eb458074a2",
   "metadata": {},
   "outputs": [],
   "source": [
    "time.sleep(1.5)\n",
    "Generate_btn_el = browser.find_element(\"id\", \"l_Dc-6-166\")\n",
    "Generate_btn_el.click()"
   ]
  },
  {
   "cell_type": "markdown",
   "id": "25836f4e-9eda-4503-812a-c21429b5eb1f",
   "metadata": {},
   "source": [
    "## Selecting WWT"
   ]
  },
  {
   "cell_type": "code",
   "execution_count": 169,
   "id": "3f2f1d48-cd41-4f79-a073-10facba0fb1b",
   "metadata": {},
   "outputs": [],
   "source": [
    "time.sleep(5)\n",
    "Revenue_Group_el = browser.find_element(\"name\", \"Dg-2\")\n",
    "Revenue_Group_el.send_keys(\"WWT\")\n",
    "Revenue_Group_el.send_keys(Keys.ENTER)"
   ]
  },
  {
   "cell_type": "markdown",
   "id": "148323d9-f95e-4811-9bf4-33c9b7e7ba38",
   "metadata": {},
   "source": [
    "## Clicking the Generate button"
   ]
  },
  {
   "cell_type": "code",
   "execution_count": 170,
   "id": "94a3c474-119c-4e91-ae44-56be9bc02b11",
   "metadata": {},
   "outputs": [
    {
     "name": "stdout",
     "output_type": "stream",
     "text": [
      "Next page is loaded!\n"
     ]
    }
   ],
   "source": [
    "Generate_btn_el = browser.find_element(\"id\", \"caption2_Dc-7\")\n",
    "Generate_btn_el.click()\n",
    "\n",
    "# Set the delay in seconds\n",
    "delay = 60\n",
    "\n",
    "# Wait for the next page to be loaded\n",
    "try:\n",
    "    WebDriverWait(browser, delay).until(EC.url_changes(browser.current_url))\n",
    "    print(\"Next page is loaded!\")\n",
    "except TimeoutException:\n",
    "    print(\"Loading the next page took too much time!\")"
   ]
  },
  {
   "cell_type": "markdown",
   "id": "8e88de59-46e8-4960-a7b9-1c44b1d38fba",
   "metadata": {},
   "source": [
    "## Clicking the View Report button"
   ]
  },
  {
   "cell_type": "code",
   "execution_count": 171,
   "id": "e1f78620-d27c-49a5-ab3b-8ad4c7b38637",
   "metadata": {},
   "outputs": [
    {
     "name": "stdout",
     "output_type": "stream",
     "text": [
      "Page is ready!\n",
      "Next page is loaded!\n"
     ]
    }
   ],
   "source": [
    "delay = 60 # seconds\n",
    "try:\n",
    "    WebDriverWait(browser, delay).until(EC.presence_of_element_located((By.TAG_NAME, 'body')))\n",
    "    print (\"Page is ready!\")\n",
    "except TimeoutException:\n",
    "    print (\"Loading took too much time!\")\n",
    "     \n",
    "time.sleep(1.5)\n",
    "View_Report_el = browser.find_element(\"id\", \"Dc-8\")\n",
    "View_Report_el.click()\n",
    "\n",
    "# Wait for the next page to be loaded\n",
    "try:\n",
    "    WebDriverWait(browser, delay).until(EC.url_changes(browser.current_url))\n",
    "    print(\"Next page is loaded!\")\n",
    "except TimeoutException:\n",
    "    print(\"Loading the next page took too much time!\")\n",
    "    View_Report_el = browser.find_element(\"id\", \"ic_Dc-8\")\n",
    "    View_Report_el.click()\n",
    "\n",
    "time.sleep(1.5)\n",
    "browser.switch_to.window(browser.window_handles[1])\n",
    "\n",
    "browser.execute_script('window.print();')\n",
    "time.sleep(3)\n",
    "browser.close()"
   ]
  },
  {
   "cell_type": "markdown",
   "id": "ae34c81e-7828-4c47-973b-6255d65d6e10",
   "metadata": {},
   "source": [
    "## Close the report"
   ]
  },
  {
   "cell_type": "code",
   "execution_count": 172,
   "id": "4a25f845-5164-4cc7-9232-eb45b6277d2b",
   "metadata": {},
   "outputs": [],
   "source": [
    "browser.switch_to.window(browser.window_handles[0])\n",
    "browser.implicitly_wait(1.5)\n",
    "\n",
    "close_button_el = browser.find_elements(By.XPATH, \"//button\")\n",
    "\n",
    "for button in close_button_el:\n",
    "    if button.get_attribute('title') and 'Close Manager: GL Backend RA - Main' in button.get_attribute('title'):\n",
    "        button.click();        "
   ]
  },
  {
   "cell_type": "markdown",
   "id": "7ef25977-12b9-4492-9641-96d4cb4f425b",
   "metadata": {},
   "source": [
    "## Renaming and moving the report"
   ]
  },
  {
   "cell_type": "code",
   "execution_count": 173,
   "id": "795e40f0-2855-4300-8578-aeea02394fa5",
   "metadata": {},
   "outputs": [],
   "source": [
    "folder_path = r'\\\\trdecomsrv\\H\\Alphie\\Temp'\n",
    "files_path = os.path.join(folder_path, '*')\n",
    "files = sorted(glob.iglob(files_path), key=os.path.getctime, reverse=True) \n",
    "last_file = (files[0]) #latest file \n",
    "# print (files[0],files[1])#latest two files"
   ]
  },
  {
   "cell_type": "code",
   "execution_count": 174,
   "id": "65c17220-710e-4418-8599-e2d8610646c6",
   "metadata": {},
   "outputs": [],
   "source": [
    "# file name with extension\n",
    "file_name = os.path.basename(last_file)\n",
    "\n",
    "# file name without extension\n",
    "file_name = (os.path.splitext(file_name)[0])"
   ]
  },
  {
   "cell_type": "code",
   "execution_count": 175,
   "id": "18accd3d-fbf4-44cf-8bfc-9e17fa89ef79",
   "metadata": {},
   "outputs": [],
   "source": [
    "old_file = os.path.join(r\"\\\\trdecomsrv\\H\\Alphie\\Temp\", (file_name + \".pdf\"))\n",
    "old_file = shutil.move(old_file, destination_folder)\n",
    "new_file = os.path.join(destination_folder, accrue_month_1.strftime(\"WWT-Prelim. %b %Y Reporting Generic Distribution Report.pdf\"))\n",
    "try:\n",
    "  os.rename(old_file, new_file)\n",
    "except FileExistsError:\n",
    "  os.remove(new_file)\n",
    "  os.rename(old_file, new_file)"
   ]
  },
  {
   "cell_type": "code",
   "execution_count": 176,
   "id": "bdc63402-8c0d-428d-842e-b2b27a51b12c",
   "metadata": {},
   "outputs": [],
   "source": [
    "# file name with extension\n",
    "file_name = os.path.basename(new_file)\n",
    "\n",
    "# file name without extension\n",
    "file_name = (os.path.splitext(file_name)[0])"
   ]
  },
  {
   "cell_type": "code",
   "execution_count": 177,
   "id": "aad0cdd8-83eb-4e38-b6be-4b3e15f25b80",
   "metadata": {},
   "outputs": [],
   "source": [
    "old_file = os.path.join(destination_folder, new_file)\n",
    "new_file = os.path.join(destination_folder, accrue_month_2.strftime(file_name + ' ' + \"(%b %Y Accrual).pdf\"))\n",
    "try:\n",
    "  os.rename(old_file, new_file)\n",
    "except FileExistsError:\n",
    "  os.remove(new_file)\n",
    "  os.rename(old_file, new_file)"
   ]
  },
  {
   "cell_type": "markdown",
   "id": "0aa8046d-7986-4524-b0b3-181b57abeeee",
   "metadata": {},
   "source": [
    "## Creating Email attachment"
   ]
  },
  {
   "cell_type": "code",
   "execution_count": 178,
   "id": "2b1c646b-58c3-46f5-92d4-ad1f2c32d4e2",
   "metadata": {},
   "outputs": [],
   "source": [
    "wwt_email_item_1 = new_file"
   ]
  },
  {
   "cell_type": "markdown",
   "id": "a99549ff-ed89-4aa6-b045-2697b07d8d49",
   "metadata": {},
   "source": [
    "# FID"
   ]
  },
  {
   "cell_type": "markdown",
   "id": "7a1598f7-f297-4d22-9256-d6c9381c7093",
   "metadata": {},
   "source": [
    "## Clicking Generate button"
   ]
  },
  {
   "cell_type": "code",
   "execution_count": 179,
   "id": "e9fbc9ba-9296-4022-ac5c-8f902fc1e118",
   "metadata": {},
   "outputs": [],
   "source": [
    "time.sleep(1.5)\n",
    "Generate_btn_el = browser.find_element(\"id\", \"l_Dc-6-166\")\n",
    "Generate_btn_el.click()"
   ]
  },
  {
   "cell_type": "markdown",
   "id": "dd6b1248-de12-46e8-a0c8-11230d73a119",
   "metadata": {},
   "source": [
    "## Selecting FID"
   ]
  },
  {
   "cell_type": "code",
   "execution_count": 180,
   "id": "4e9b7b2c-3288-4279-989f-19014b71f659",
   "metadata": {},
   "outputs": [],
   "source": [
    "time.sleep(5)\n",
    "Revenue_Group_el = browser.find_element(\"name\", \"Dg-2\")\n",
    "Revenue_Group_el.send_keys(\"FID\")\n",
    "Revenue_Group_el.send_keys(Keys.ENTER)"
   ]
  },
  {
   "cell_type": "markdown",
   "id": "346b44e2-4a43-4f82-bc85-4cb1670be8c7",
   "metadata": {},
   "source": [
    "## Clicking the Generate button"
   ]
  },
  {
   "cell_type": "code",
   "execution_count": 181,
   "id": "efd27e63-f275-49dd-98c2-aab478cd388e",
   "metadata": {},
   "outputs": [
    {
     "name": "stdout",
     "output_type": "stream",
     "text": [
      "Next page is loaded!\n"
     ]
    }
   ],
   "source": [
    "Generate_btn_el = browser.find_element(\"id\", \"caption2_Dc-7\")\n",
    "Generate_btn_el.click()\n",
    "\n",
    "# Set the delay in seconds\n",
    "delay = 60\n",
    "\n",
    "# Wait for the next page to be loaded\n",
    "try:\n",
    "    WebDriverWait(browser, delay).until(EC.url_changes(browser.current_url))\n",
    "    print(\"Next page is loaded!\")\n",
    "except TimeoutException:\n",
    "    print(\"Loading the next page took too much time!\")"
   ]
  },
  {
   "cell_type": "markdown",
   "id": "91c58b70-4ad9-4744-9d18-4f5d9c263f07",
   "metadata": {},
   "source": [
    "## Clicking the View Report button"
   ]
  },
  {
   "cell_type": "code",
   "execution_count": 182,
   "id": "5b0de516-90cc-47dd-9dea-5bf35f30021c",
   "metadata": {},
   "outputs": [
    {
     "name": "stdout",
     "output_type": "stream",
     "text": [
      "Page is ready!\n",
      "Next page is loaded!\n"
     ]
    }
   ],
   "source": [
    "delay = 60 # seconds\n",
    "try:\n",
    "    WebDriverWait(browser, delay).until(EC.presence_of_element_located((By.TAG_NAME, 'body')))\n",
    "    print (\"Page is ready!\")\n",
    "except TimeoutException:\n",
    "    print (\"Loading took too much time!\")\n",
    "     \n",
    "time.sleep(1.5)\n",
    "View_Report_el = browser.find_element(\"id\", \"Dc-8\")\n",
    "View_Report_el.click()\n",
    "\n",
    "# Wait for the next page to be loaded\n",
    "try:\n",
    "    WebDriverWait(browser, delay).until(EC.url_changes(browser.current_url))\n",
    "    print(\"Next page is loaded!\")\n",
    "except TimeoutException:\n",
    "    print(\"Loading the next page took too much time!\")\n",
    "    View_Report_el = browser.find_element(\"id\", \"ic_Dc-8\")\n",
    "    View_Report_el.click()\n",
    "\n",
    "time.sleep(1.5)\n",
    "browser.switch_to.window(browser.window_handles[1])\n",
    "\n",
    "browser.execute_script('window.print();')\n",
    "time.sleep(3)\n",
    "browser.close()"
   ]
  },
  {
   "cell_type": "markdown",
   "id": "99266a78-8ce7-4a5e-82da-7e21e416bf27",
   "metadata": {},
   "source": [
    "## Close the report"
   ]
  },
  {
   "cell_type": "code",
   "execution_count": 183,
   "id": "7edf487c-8923-40bd-b384-26b1cddd2b1c",
   "metadata": {},
   "outputs": [],
   "source": [
    "browser.switch_to.window(browser.window_handles[0])\n",
    "browser.implicitly_wait(1.5)\n",
    "\n",
    "close_button_el = browser.find_elements(By.XPATH, \"//button\")\n",
    "\n",
    "for button in close_button_el:\n",
    "    if button.get_attribute('title') and 'Close Manager: GL Backend RA - Main' in button.get_attribute('title'):\n",
    "        button.click();        "
   ]
  },
  {
   "cell_type": "markdown",
   "id": "e4fb092c-be68-46ea-b6e2-08e29aa3df92",
   "metadata": {},
   "source": [
    "## Renaming and moving the report"
   ]
  },
  {
   "cell_type": "code",
   "execution_count": 184,
   "id": "afba98de-6691-4f0c-a639-7661c5c67d22",
   "metadata": {},
   "outputs": [],
   "source": [
    "folder_path = r'\\\\trdecomsrv\\H\\Alphie\\Temp'\n",
    "files_path = os.path.join(folder_path, '*')\n",
    "files = sorted(glob.iglob(files_path), key=os.path.getctime, reverse=True) \n",
    "last_file = (files[0]) #latest file \n",
    "# print (files[0],files[1])#latest two files"
   ]
  },
  {
   "cell_type": "code",
   "execution_count": 185,
   "id": "fae57a5b-eee7-4bd9-94ff-07adf8fb8445",
   "metadata": {},
   "outputs": [],
   "source": [
    "# file name with extension\n",
    "file_name = os.path.basename(last_file)\n",
    "\n",
    "# file name without extension\n",
    "file_name = (os.path.splitext(file_name)[0])"
   ]
  },
  {
   "cell_type": "code",
   "execution_count": 186,
   "id": "1b9e0faf-a994-40bd-9310-da872287c743",
   "metadata": {},
   "outputs": [],
   "source": [
    "old_file = os.path.join(r\"\\\\trdecomsrv\\H\\Alphie\\Temp\", (file_name + \".pdf\"))\n",
    "old_file = shutil.move(old_file, destination_folder)\n",
    "new_file = os.path.join(destination_folder, accrue_month_1.strftime(\"FID-Prelim. %b %Y Reporting Generic Distribution Report.pdf\"))\n",
    "try:\n",
    "  os.rename(old_file, new_file)\n",
    "except FileExistsError:\n",
    "  os.remove(new_file)\n",
    "  os.rename(old_file, new_file)"
   ]
  },
  {
   "cell_type": "code",
   "execution_count": 187,
   "id": "40d3b458-9506-40d3-95f3-2b354c8ba445",
   "metadata": {},
   "outputs": [],
   "source": [
    "# file name with extension\n",
    "file_name = os.path.basename(new_file)\n",
    "\n",
    "# file name without extension\n",
    "file_name = (os.path.splitext(file_name)[0])"
   ]
  },
  {
   "cell_type": "code",
   "execution_count": 188,
   "id": "aca4af35-470d-4937-95f3-f9514ad88cb9",
   "metadata": {},
   "outputs": [],
   "source": [
    "old_file = os.path.join(destination_folder, new_file)\n",
    "new_file = os.path.join(destination_folder, accrue_month_2.strftime(file_name + ' ' + \"(%b %Y Accrual).pdf\"))\n",
    "try:\n",
    "  os.rename(old_file, new_file)\n",
    "except FileExistsError:\n",
    "  os.remove(new_file)\n",
    "  os.rename(old_file, new_file)"
   ]
  },
  {
   "cell_type": "markdown",
   "id": "6a4ac769-3c7a-4fd0-be91-1ab0d469b9b2",
   "metadata": {},
   "source": [
    "## Creating Email attachment"
   ]
  },
  {
   "cell_type": "code",
   "execution_count": 189,
   "id": "fd818c45-0061-4654-82bc-d59ecfd7a6b7",
   "metadata": {},
   "outputs": [],
   "source": [
    "fid_email_item_1 = new_file"
   ]
  },
  {
   "cell_type": "markdown",
   "id": "2c896929-116d-4174-8224-f90c1c4ee6ae",
   "metadata": {},
   "source": [
    "# NWT"
   ]
  },
  {
   "cell_type": "markdown",
   "id": "2bd43b36-1303-48ac-ba33-e83296800f82",
   "metadata": {},
   "source": [
    "## Clicking Generate button"
   ]
  },
  {
   "cell_type": "code",
   "execution_count": 190,
   "id": "7f0f0d4e-9f99-49d8-bf3f-cefaa8023f9d",
   "metadata": {},
   "outputs": [],
   "source": [
    "time.sleep(1.5)\n",
    "Generate_btn_el = browser.find_element(\"id\", \"l_Dc-6-166\")\n",
    "Generate_btn_el.click()"
   ]
  },
  {
   "cell_type": "markdown",
   "id": "df7a79f3-d424-454c-a136-cdfeb1edd7dd",
   "metadata": {},
   "source": [
    "## Selecting NWT"
   ]
  },
  {
   "cell_type": "code",
   "execution_count": 191,
   "id": "8211a520-66d9-488a-9817-5a982037553e",
   "metadata": {},
   "outputs": [],
   "source": [
    "time.sleep(5)\n",
    "Revenue_Group_el = browser.find_element(\"name\", \"Dg-2\")\n",
    "Revenue_Group_el.send_keys(\"NWT\")\n",
    "Revenue_Group_el.send_keys(Keys.ENTER)"
   ]
  },
  {
   "cell_type": "markdown",
   "id": "a3564b4f-0436-47ec-be58-23c45efd9a2a",
   "metadata": {},
   "source": [
    "## Clicking the Generate button"
   ]
  },
  {
   "cell_type": "code",
   "execution_count": 192,
   "id": "dbf1cb31-88b7-450d-b77f-c8b35db36272",
   "metadata": {},
   "outputs": [
    {
     "name": "stdout",
     "output_type": "stream",
     "text": [
      "Next page is loaded!\n"
     ]
    }
   ],
   "source": [
    "Generate_btn_el = browser.find_element(\"id\", \"caption2_Dc-7\")\n",
    "Generate_btn_el.click()\n",
    "\n",
    "# Set the delay in seconds\n",
    "delay = 60\n",
    "\n",
    "# Wait for the next page to be loaded\n",
    "try:\n",
    "    WebDriverWait(browser, delay).until(EC.url_changes(browser.current_url))\n",
    "    print(\"Next page is loaded!\")\n",
    "except TimeoutException:\n",
    "    print(\"Loading the next page took too much time!\")\n"
   ]
  },
  {
   "cell_type": "markdown",
   "id": "ca3815b3-be87-4706-be2c-407e72ae99b3",
   "metadata": {},
   "source": [
    "## Clicking the View Report button"
   ]
  },
  {
   "cell_type": "code",
   "execution_count": 193,
   "id": "92023e54-b055-4e35-b739-2e5ddbfcc1e2",
   "metadata": {},
   "outputs": [
    {
     "name": "stdout",
     "output_type": "stream",
     "text": [
      "Page is ready!\n",
      "Next page is loaded!\n"
     ]
    }
   ],
   "source": [
    "delay = 60 # seconds\n",
    "try:\n",
    "    WebDriverWait(browser, delay).until(EC.presence_of_element_located((By.TAG_NAME, 'body')))\n",
    "    print (\"Page is ready!\")\n",
    "except TimeoutException:\n",
    "    print (\"Loading took too much time!\")\n",
    "     \n",
    "time.sleep(1.5)\n",
    "View_Report_el = browser.find_element(\"id\", \"Dc-8\")\n",
    "View_Report_el.click()\n",
    "\n",
    "# Wait for the next page to be loaded\n",
    "try:\n",
    "    WebDriverWait(browser, delay).until(EC.url_changes(browser.current_url))\n",
    "    print(\"Next page is loaded!\")\n",
    "except TimeoutException:\n",
    "    print(\"Loading the next page took too much time!\")\n",
    "    View_Report_el = browser.find_element(\"id\", \"ic_Dc-8\")\n",
    "    View_Report_el.click()\n",
    "\n",
    "time.sleep(1.5)\n",
    "browser.switch_to.window(browser.window_handles[1])\n",
    "\n",
    "browser.execute_script('window.print();')\n",
    "time.sleep(3)\n",
    "browser.close()"
   ]
  },
  {
   "cell_type": "markdown",
   "id": "17aa7017-d358-4425-81ab-121cee5c0816",
   "metadata": {},
   "source": [
    "## Close the report"
   ]
  },
  {
   "cell_type": "code",
   "execution_count": 194,
   "id": "a45fc305-cf42-4faa-83c3-12b7e42a99a3",
   "metadata": {},
   "outputs": [],
   "source": [
    "browser.switch_to.window(browser.window_handles[0])\n",
    "browser.implicitly_wait(1.5)\n",
    "\n",
    "close_button_el = browser.find_elements(By.XPATH, \"//button\")\n",
    "\n",
    "for button in close_button_el:\n",
    "    if button.get_attribute('title') and 'Close Manager: GL Backend RA - Main' in button.get_attribute('title'):\n",
    "        button.click();        "
   ]
  },
  {
   "cell_type": "markdown",
   "id": "5c09dfeb-8de9-48be-8413-75345447104c",
   "metadata": {},
   "source": [
    "## Renaming and moving the report"
   ]
  },
  {
   "cell_type": "code",
   "execution_count": 195,
   "id": "90c66521-dd42-42c4-befa-47016777d7b4",
   "metadata": {},
   "outputs": [],
   "source": [
    "folder_path = r'\\\\trdecomsrv\\H\\Alphie\\Temp'\n",
    "files_path = os.path.join(folder_path, '*')\n",
    "files = sorted(glob.iglob(files_path), key=os.path.getctime, reverse=True) \n",
    "last_file = (files[0]) #latest file \n",
    "# print (files[0],files[1])#latest two files"
   ]
  },
  {
   "cell_type": "code",
   "execution_count": 196,
   "id": "9c966dc7-108a-4c11-aecc-b21636bc8467",
   "metadata": {},
   "outputs": [],
   "source": [
    "# file name with extension\n",
    "file_name = os.path.basename(last_file)\n",
    "\n",
    "# file name without extension\n",
    "file_name = (os.path.splitext(file_name)[0])"
   ]
  },
  {
   "cell_type": "code",
   "execution_count": 197,
   "id": "161b6232-49b9-4b16-be26-47832e921b62",
   "metadata": {},
   "outputs": [],
   "source": [
    "old_file = os.path.join(r\"\\\\trdecomsrv\\H\\Alphie\\Temp\", (file_name + \".pdf\"))\n",
    "old_file = shutil.move(old_file, destination_folder)\n",
    "new_file = os.path.join(destination_folder, accrue_month_1.strftime(\"NWT-Prelim. %b %Y Reporting Generic Distribution Report.pdf\"))\n",
    "try:\n",
    "  os.rename(old_file, new_file)\n",
    "except FileExistsError:\n",
    "  os.remove(new_file)\n",
    "  os.rename(old_file, new_file)"
   ]
  },
  {
   "cell_type": "code",
   "execution_count": 198,
   "id": "f864bb0c-cc57-45be-8948-cbfa5d7718a5",
   "metadata": {},
   "outputs": [],
   "source": [
    "# file name with extension\n",
    "file_name = os.path.basename(new_file)\n",
    "\n",
    "# file name without extension\n",
    "file_name = (os.path.splitext(file_name)[0])"
   ]
  },
  {
   "cell_type": "code",
   "execution_count": 199,
   "id": "ce400188-d8bd-4f8b-8183-48dfacf3ba9f",
   "metadata": {},
   "outputs": [],
   "source": [
    "old_file = os.path.join(destination_folder, new_file)\n",
    "new_file = os.path.join(destination_folder, accrue_month_2.strftime(file_name + ' ' + \"(%b %Y Accrual).pdf\"))\n",
    "try:\n",
    "  os.rename(old_file, new_file)\n",
    "except FileExistsError:\n",
    "  os.remove(new_file)\n",
    "  os.rename(old_file, new_file)"
   ]
  },
  {
   "cell_type": "markdown",
   "id": "4ddb9e4e-a370-4aee-9439-c82e4608996b",
   "metadata": {},
   "source": [
    "## Creating Email attachment"
   ]
  },
  {
   "cell_type": "code",
   "execution_count": 200,
   "id": "f9c4443b-549a-431d-ab00-9be03609676f",
   "metadata": {},
   "outputs": [],
   "source": [
    "nwt_email_item_1 = new_file"
   ]
  },
  {
   "cell_type": "markdown",
   "id": "b04a6966-79fb-404f-a709-099ffee6edbf",
   "metadata": {},
   "source": [
    "# OGP"
   ]
  },
  {
   "cell_type": "markdown",
   "id": "09c4e5d7-bacb-4638-aa40-0f8ab9c6588c",
   "metadata": {},
   "source": [
    "## Clicking Generate button"
   ]
  },
  {
   "cell_type": "code",
   "execution_count": 201,
   "id": "e89b4bd5-d4c0-4eb7-8843-51f76f9af924",
   "metadata": {},
   "outputs": [],
   "source": [
    "time.sleep(1.5)\n",
    "Generate_btn_el = browser.find_element(\"id\", \"l_Dc-6-166\")\n",
    "Generate_btn_el.click()"
   ]
  },
  {
   "cell_type": "markdown",
   "id": "580c1f91-41b0-41c4-8fa2-76f415872072",
   "metadata": {},
   "source": [
    "## Selecting OGP"
   ]
  },
  {
   "cell_type": "code",
   "execution_count": 202,
   "id": "2cb60537-ca91-47d8-a0fc-4b9e6e029eb9",
   "metadata": {},
   "outputs": [],
   "source": [
    "time.sleep(5)\n",
    "Revenue_Group_el = browser.find_element(\"name\", \"Dg-2\")\n",
    "Revenue_Group_el.send_keys(\"OGP\")\n",
    "Revenue_Group_el.send_keys(Keys.ENTER)"
   ]
  },
  {
   "cell_type": "markdown",
   "id": "7d016df8-0e56-44bb-b5a6-afdccc45cd80",
   "metadata": {},
   "source": [
    "## Clicking the Generate button"
   ]
  },
  {
   "cell_type": "code",
   "execution_count": 203,
   "id": "ed26613c-58a9-492b-b249-aff50bf3e51b",
   "metadata": {},
   "outputs": [
    {
     "name": "stdout",
     "output_type": "stream",
     "text": [
      "Next page is loaded!\n"
     ]
    }
   ],
   "source": [
    "Generate_btn_el = browser.find_element(\"id\", \"caption2_Dc-7\")\n",
    "Generate_btn_el.click()\n",
    "\n",
    "# Set the delay in seconds\n",
    "delay = 60\n",
    "\n",
    "# Wait for the next page to be loaded\n",
    "try:\n",
    "    WebDriverWait(browser, delay).until(EC.url_changes(browser.current_url))\n",
    "    print(\"Next page is loaded!\")\n",
    "except TimeoutException:\n",
    "    print(\"Loading the next page took too much time!\")"
   ]
  },
  {
   "cell_type": "markdown",
   "id": "c7005d99-4454-4881-b382-c99b313ba0c1",
   "metadata": {},
   "source": [
    "## Clicking the View Report button"
   ]
  },
  {
   "cell_type": "code",
   "execution_count": 204,
   "id": "122d44a1-005d-4495-9aa5-cd81b0ad1f9c",
   "metadata": {},
   "outputs": [
    {
     "name": "stdout",
     "output_type": "stream",
     "text": [
      "Page is ready!\n",
      "Next page is loaded!\n"
     ]
    }
   ],
   "source": [
    "delay = 60 # seconds\n",
    "try:\n",
    "    WebDriverWait(browser, delay).until(EC.presence_of_element_located((By.TAG_NAME, 'body')))\n",
    "    print (\"Page is ready!\")\n",
    "except TimeoutException:\n",
    "    print (\"Loading took too much time!\")\n",
    "     \n",
    "time.sleep(1.5)\n",
    "View_Report_el = browser.find_element(\"id\", \"Dc-8\")\n",
    "View_Report_el.click()\n",
    "\n",
    "# Wait for the next page to be loaded\n",
    "try:\n",
    "    WebDriverWait(browser, delay).until(EC.url_changes(browser.current_url))\n",
    "    print(\"Next page is loaded!\")\n",
    "except TimeoutException:\n",
    "    print(\"Loading the next page took too much time!\")\n",
    "    View_Report_el = browser.find_element(\"id\", \"ic_Dc-8\")\n",
    "    View_Report_el.click()\n",
    "\n",
    "time.sleep(1.5)\n",
    "browser.switch_to.window(browser.window_handles[1])\n",
    "\n",
    "browser.execute_script('window.print();')\n",
    "time.sleep(3)\n",
    "browser.close()"
   ]
  },
  {
   "cell_type": "markdown",
   "id": "044fd74c-f003-4400-a738-8ec1e9098032",
   "metadata": {},
   "source": [
    "## Close the report"
   ]
  },
  {
   "cell_type": "code",
   "execution_count": 205,
   "id": "0e396e54-e852-4f16-91ce-6f919eb99d92",
   "metadata": {},
   "outputs": [],
   "source": [
    "browser.switch_to.window(browser.window_handles[0])\n",
    "browser.implicitly_wait(1.5)\n",
    "\n",
    "close_button_el = browser.find_elements(By.XPATH, \"//button\")\n",
    "\n",
    "for button in close_button_el:\n",
    "    if button.get_attribute('title') and 'Close Manager: GL Backend RA - Main' in button.get_attribute('title'):\n",
    "        button.click();        "
   ]
  },
  {
   "cell_type": "markdown",
   "id": "2fde250f-5e36-4459-9b84-be9b2b21b345",
   "metadata": {},
   "source": [
    "## Renaming and moving the report"
   ]
  },
  {
   "cell_type": "code",
   "execution_count": 206,
   "id": "cdad7626-f9f2-48f6-88ae-c3aecd914069",
   "metadata": {},
   "outputs": [],
   "source": [
    "folder_path = r'\\\\trdecomsrv\\H\\Alphie\\Temp'\n",
    "files_path = os.path.join(folder_path, '*')\n",
    "files = sorted(glob.iglob(files_path), key=os.path.getctime, reverse=True) \n",
    "last_file = (files[0]) #latest file \n",
    "# print (files[0],files[1])#latest two files"
   ]
  },
  {
   "cell_type": "code",
   "execution_count": 207,
   "id": "4e3c10f8-e6b6-4684-ab2a-a46b92910096",
   "metadata": {},
   "outputs": [],
   "source": [
    "# file name with extension\n",
    "file_name = os.path.basename(last_file)\n",
    "\n",
    "# file name without extension\n",
    "file_name = (os.path.splitext(file_name)[0])"
   ]
  },
  {
   "cell_type": "code",
   "execution_count": 208,
   "id": "50e865c9-a65c-4a95-8705-1190a7e26541",
   "metadata": {},
   "outputs": [],
   "source": [
    "old_file = os.path.join(r\"\\\\trdecomsrv\\H\\Alphie\\Temp\", (file_name + \".pdf\"))\n",
    "old_file = shutil.move(old_file, destination_folder)\n",
    "new_file = os.path.join(destination_folder, accrue_month_1.strftime(\"OGP-Prelim. %b %Y Reporting Generic Distribution Report.pdf\"))\n",
    "try:\n",
    "  os.rename(old_file, new_file)\n",
    "except FileExistsError:\n",
    "  os.remove(new_file)\n",
    "  os.rename(old_file, new_file)\n"
   ]
  },
  {
   "cell_type": "code",
   "execution_count": 209,
   "id": "b629145e-b96c-4fc4-98a5-5db2b1d8da71",
   "metadata": {},
   "outputs": [],
   "source": [
    "# file name with extension\n",
    "file_name = os.path.basename(new_file)\n",
    "\n",
    "# file name without extension\n",
    "file_name = (os.path.splitext(file_name)[0])"
   ]
  },
  {
   "cell_type": "code",
   "execution_count": 210,
   "id": "e487f46f-a7e4-4321-9dd9-79192c07fda9",
   "metadata": {},
   "outputs": [],
   "source": [
    "old_file = os.path.join(destination_folder, new_file)\n",
    "new_file = os.path.join(destination_folder, accrue_month_2.strftime(file_name + ' ' + \"(%b %Y Accrual).pdf\"))\n",
    "try:\n",
    "  os.rename(old_file, new_file)\n",
    "except FileExistsError:\n",
    "  os.remove(new_file)\n",
    "  os.rename(old_file, new_file)"
   ]
  },
  {
   "cell_type": "markdown",
   "id": "042c3be9-cb9d-4129-bc1d-0bee8cde59e7",
   "metadata": {},
   "source": [
    "## Creating Email attachment"
   ]
  },
  {
   "cell_type": "code",
   "execution_count": 211,
   "id": "1ad7c979-4d2f-402c-a5ea-1fdc9fab80da",
   "metadata": {},
   "outputs": [],
   "source": [
    "ogp_email_item_1 = new_file"
   ]
  },
  {
   "cell_type": "markdown",
   "id": "22bccda3-f35f-4d69-9db9-f77a64b042ef",
   "metadata": {},
   "source": [
    "# OGP-O"
   ]
  },
  {
   "cell_type": "markdown",
   "id": "4c002afa-2234-4860-959e-3f0535d32064",
   "metadata": {},
   "source": [
    "## Clicking Generate button"
   ]
  },
  {
   "cell_type": "code",
   "execution_count": 212,
   "id": "6c0544e5-f017-4b71-8c41-c02f3fa188d6",
   "metadata": {},
   "outputs": [],
   "source": [
    "time.sleep(1.5)\n",
    "Generate_btn_el = browser.find_element(\"id\", \"l_Dc-6-166\")\n",
    "Generate_btn_el.click()"
   ]
  },
  {
   "cell_type": "markdown",
   "id": "1426ef57-6ef0-4cc5-9e9a-7c88313ff3c5",
   "metadata": {},
   "source": [
    "## Selecting OGP-O"
   ]
  },
  {
   "cell_type": "code",
   "execution_count": 213,
   "id": "92baa7bb-835f-46d2-ac32-f2281c310001",
   "metadata": {},
   "outputs": [],
   "source": [
    "time.sleep(5)\n",
    "Revenue_Group_el = browser.find_element(\"name\", \"Dg-2\")\n",
    "Revenue_Group_el.send_keys(\"OGP-O\")\n",
    "Revenue_Group_el.send_keys(Keys.ENTER)"
   ]
  },
  {
   "cell_type": "markdown",
   "id": "20452baa-b59a-4715-8750-52d49cb448db",
   "metadata": {},
   "source": [
    "## Clicking the Generate button"
   ]
  },
  {
   "cell_type": "code",
   "execution_count": 214,
   "id": "7a416ff5-f817-4924-82ca-978ec35512d5",
   "metadata": {},
   "outputs": [
    {
     "name": "stdout",
     "output_type": "stream",
     "text": [
      "Next page is loaded!\n"
     ]
    }
   ],
   "source": [
    "Generate_btn_el = browser.find_element(\"id\", \"caption2_Dc-7\")\n",
    "Generate_btn_el.click()\n",
    "\n",
    "# Set the delay in seconds\n",
    "delay = 60\n",
    "\n",
    "# Wait for the next page to be loaded\n",
    "try:\n",
    "    WebDriverWait(browser, delay).until(EC.url_changes(browser.current_url))\n",
    "    print(\"Next page is loaded!\")\n",
    "except TimeoutException:\n",
    "    print(\"Loading the next page took too much time!\")"
   ]
  },
  {
   "cell_type": "markdown",
   "id": "06ead12e-6338-4585-8c77-0797da644c37",
   "metadata": {},
   "source": [
    "## Clicking the View Report button"
   ]
  },
  {
   "cell_type": "code",
   "execution_count": 215,
   "id": "92ea1ba8-ec20-49d5-988e-ade5ebb7040f",
   "metadata": {},
   "outputs": [
    {
     "name": "stdout",
     "output_type": "stream",
     "text": [
      "Page is ready!\n",
      "Next page is loaded!\n"
     ]
    }
   ],
   "source": [
    "delay = 60 # seconds\n",
    "try:\n",
    "    WebDriverWait(browser, delay).until(EC.presence_of_element_located((By.TAG_NAME, 'body')))\n",
    "    print (\"Page is ready!\")\n",
    "except TimeoutException:\n",
    "    print (\"Loading took too much time!\")\n",
    "     \n",
    "time.sleep(1.5)\n",
    "View_Report_el = browser.find_element(\"id\", \"Dc-8\")\n",
    "View_Report_el.click()\n",
    "\n",
    "# Wait for the next page to be loaded\n",
    "try:\n",
    "    WebDriverWait(browser, delay).until(EC.url_changes(browser.current_url))\n",
    "    print(\"Next page is loaded!\")\n",
    "except TimeoutException:\n",
    "    print(\"Loading the next page took too much time!\")\n",
    "    View_Report_el = browser.find_element(\"id\", \"ic_Dc-8\")\n",
    "    View_Report_el.click()\n",
    "\n",
    "time.sleep(1.5)\n",
    "browser.switch_to.window(browser.window_handles[1])\n",
    "\n",
    "browser.execute_script('window.print();')\n",
    "time.sleep(3)\n",
    "browser.close()"
   ]
  },
  {
   "cell_type": "markdown",
   "id": "fda257d6-b8e0-48cb-a089-c6db61743fd6",
   "metadata": {},
   "source": [
    "## Close the report"
   ]
  },
  {
   "cell_type": "code",
   "execution_count": 216,
   "id": "9df89293-e1cf-41da-8661-0ed920733d55",
   "metadata": {},
   "outputs": [],
   "source": [
    "browser.switch_to.window(browser.window_handles[0])\n",
    "browser.implicitly_wait(1.5)\n",
    "\n",
    "close_button_el = browser.find_elements(By.XPATH, \"//button\")\n",
    "\n",
    "for button in close_button_el:\n",
    "    if button.get_attribute('title') and 'Close Manager: GL Backend RA - Main' in button.get_attribute('title'):\n",
    "        button.click();\n",
    "        "
   ]
  },
  {
   "cell_type": "markdown",
   "id": "4703a17d-82ce-4899-bac1-e0f8f6eaff99",
   "metadata": {},
   "source": [
    "## Renaming and moving the report"
   ]
  },
  {
   "cell_type": "code",
   "execution_count": 217,
   "id": "58951237-7325-40e7-815e-da96abd8d603",
   "metadata": {},
   "outputs": [],
   "source": [
    "folder_path = r'\\\\trdecomsrv\\H\\Alphie\\Temp'\n",
    "files_path = os.path.join(folder_path, '*')\n",
    "files = sorted(glob.iglob(files_path), key=os.path.getctime, reverse=True) \n",
    "last_file = (files[0]) #latest file \n",
    "# print (files[0],files[1])#latest two files"
   ]
  },
  {
   "cell_type": "code",
   "execution_count": 218,
   "id": "2d561fb9-b41e-40cd-8236-0dca32230578",
   "metadata": {},
   "outputs": [],
   "source": [
    "# file name with extension\n",
    "file_name = os.path.basename(last_file)\n",
    "\n",
    "# file name without extension\n",
    "file_name = (os.path.splitext(file_name)[0])"
   ]
  },
  {
   "cell_type": "code",
   "execution_count": 219,
   "id": "fb8aa00f-7248-4b99-a5d5-25f535ddaa99",
   "metadata": {},
   "outputs": [],
   "source": [
    "old_file = os.path.join(r\"\\\\trdecomsrv\\H\\Alphie\\Temp\", (file_name + \".pdf\"))\n",
    "old_file = shutil.move(old_file, destination_folder)\n",
    "new_file = os.path.join(destination_folder, accrue_month_1.strftime(\"OGP-O-Prelim. %b %Y Reporting Generic Distribution Report.pdf\"))\n",
    "try:\n",
    "  os.rename(old_file, new_file)\n",
    "except FileExistsError:\n",
    "  os.remove(new_file)\n",
    "  os.rename(old_file, new_file)\n"
   ]
  },
  {
   "cell_type": "code",
   "execution_count": 220,
   "id": "27672b6c-b3a4-4c34-a005-8eb48e74424c",
   "metadata": {},
   "outputs": [],
   "source": [
    "# file name with extension\n",
    "file_name = os.path.basename(new_file)\n",
    "\n",
    "# file name without extension\n",
    "file_name = (os.path.splitext(file_name)[0])"
   ]
  },
  {
   "cell_type": "code",
   "execution_count": 221,
   "id": "73746c3a-bca7-4bb0-a2d6-2a0653994861",
   "metadata": {},
   "outputs": [],
   "source": [
    "old_file = os.path.join(destination_folder, new_file)\n",
    "new_file = os.path.join(destination_folder, accrue_month_2.strftime(file_name + ' ' + \"(%b %Y Accrual).pdf\"))\n",
    "try:\n",
    "  os.rename(old_file, new_file)\n",
    "except FileExistsError:\n",
    "  os.remove(new_file)\n",
    "  os.rename(old_file, new_file)"
   ]
  },
  {
   "cell_type": "markdown",
   "id": "a3aff4b0-e0c4-4534-97d3-1c6f3afb94fc",
   "metadata": {},
   "source": [
    "## Creating Email attachment"
   ]
  },
  {
   "cell_type": "code",
   "execution_count": 222,
   "id": "c4d19d8c-f747-40b5-9d76-b3d55f13f271",
   "metadata": {},
   "outputs": [],
   "source": [
    "ogp_o_email_item_1 = new_file"
   ]
  },
  {
   "cell_type": "markdown",
   "id": "b1d1f072-52b8-4b75-a948-5e459437dfad",
   "metadata": {},
   "source": [
    "# CAN"
   ]
  },
  {
   "cell_type": "markdown",
   "id": "7d2007fb-c013-48dd-afc9-76b2ad52dbc9",
   "metadata": {},
   "source": [
    "## Clicking Generate button"
   ]
  },
  {
   "cell_type": "code",
   "execution_count": 223,
   "id": "ee0d2f15-987c-4a36-8635-18ffa1587d05",
   "metadata": {},
   "outputs": [],
   "source": [
    "time.sleep(1.5)\n",
    "Generate_btn_el = browser.find_element(\"id\", \"l_Dc-6-166\")\n",
    "Generate_btn_el.click()"
   ]
  },
  {
   "cell_type": "markdown",
   "id": "10c8eaa1-50a5-4667-bd52-f774d8b8112b",
   "metadata": {},
   "source": [
    "## Selecting CAN"
   ]
  },
  {
   "cell_type": "code",
   "execution_count": 224,
   "id": "38f3942f-eb49-4bca-aa05-8bd1ac1651b9",
   "metadata": {},
   "outputs": [],
   "source": [
    "time.sleep(5)\n",
    "Revenue_Group_el = browser.find_element(\"name\", \"Dg-2\")\n",
    "Revenue_Group_el.send_keys(\"CAN\")\n",
    "Revenue_Group_el.send_keys(Keys.ENTER)"
   ]
  },
  {
   "cell_type": "markdown",
   "id": "5a6f3653-a7c5-482e-a369-6bc15cb856f2",
   "metadata": {},
   "source": [
    "## Clicking the Generate button"
   ]
  },
  {
   "cell_type": "code",
   "execution_count": 225,
   "id": "a0313e89-c825-4818-a9cf-94cd2a0f8858",
   "metadata": {},
   "outputs": [
    {
     "name": "stdout",
     "output_type": "stream",
     "text": [
      "Next page is loaded!\n"
     ]
    }
   ],
   "source": [
    "Generate_btn_el = browser.find_element(\"id\", \"caption2_Dc-7\")\n",
    "Generate_btn_el.click()\n",
    "\n",
    "# Set the delay in seconds\n",
    "delay = 60\n",
    "\n",
    "# Wait for the next page to be loaded\n",
    "try:\n",
    "    WebDriverWait(browser, delay).until(EC.url_changes(browser.current_url))\n",
    "    print(\"Next page is loaded!\")\n",
    "except TimeoutException:\n",
    "    print(\"Loading the next page took too much time!\")"
   ]
  },
  {
   "cell_type": "markdown",
   "id": "e98014d7-4a19-4a08-94d4-cadb166e3cd3",
   "metadata": {},
   "source": [
    "## Clicking the View Report button"
   ]
  },
  {
   "cell_type": "code",
   "execution_count": 226,
   "id": "0d94ff34-023b-4135-bf71-dcf73aab119e",
   "metadata": {},
   "outputs": [
    {
     "name": "stdout",
     "output_type": "stream",
     "text": [
      "Page is ready!\n",
      "Next page is loaded!\n"
     ]
    }
   ],
   "source": [
    "delay = 60 # seconds\n",
    "try:\n",
    "    WebDriverWait(browser, delay).until(EC.presence_of_element_located((By.TAG_NAME, 'body')))\n",
    "    print (\"Page is ready!\")\n",
    "except TimeoutException:\n",
    "    print (\"Loading took too much time!\")\n",
    "     \n",
    "time.sleep(1.5)\n",
    "View_Report_el = browser.find_element(\"id\", \"Dc-8\")\n",
    "View_Report_el.click()\n",
    "\n",
    "# Wait for the next page to be loaded\n",
    "try:\n",
    "    WebDriverWait(browser, delay).until(EC.url_changes(browser.current_url))\n",
    "    print(\"Next page is loaded!\")\n",
    "except TimeoutException:\n",
    "    print(\"Loading the next page took too much time!\")\n",
    "    View_Report_el = browser.find_element(\"id\", \"ic_Dc-8\")\n",
    "    View_Report_el.click()\n",
    "\n",
    "time.sleep(1.5)\n",
    "browser.switch_to.window(browser.window_handles[1])\n",
    "\n",
    "browser.execute_script('window.print();')\n",
    "time.sleep(3)\n",
    "browser.close()"
   ]
  },
  {
   "cell_type": "markdown",
   "id": "fcbefa92-98db-4128-a847-952ca4041cc2",
   "metadata": {},
   "source": [
    "## Close the report"
   ]
  },
  {
   "cell_type": "code",
   "execution_count": 227,
   "id": "522e5003-d3a2-4b49-8a61-a3b8f54fca62",
   "metadata": {},
   "outputs": [],
   "source": [
    "browser.switch_to.window(browser.window_handles[0])\n",
    "browser.implicitly_wait(1.5)\n",
    "\n",
    "close_button_el = browser.find_elements(By.XPATH, \"//button\")\n",
    "\n",
    "for button in close_button_el:\n",
    "    if button.get_attribute('title') and 'Close Manager: GL Backend RA - Main' in button.get_attribute('title'):\n",
    "        button.click();\n",
    "        "
   ]
  },
  {
   "cell_type": "markdown",
   "id": "53b4cfd6-c179-416e-ba17-3bd90b3891f6",
   "metadata": {},
   "source": [
    "## Renaming and moving the report"
   ]
  },
  {
   "cell_type": "code",
   "execution_count": 228,
   "id": "8e0ea256-78d9-452e-8d97-d74a5c08f33c",
   "metadata": {},
   "outputs": [],
   "source": [
    "folder_path = r'\\\\trdecomsrv\\H\\Alphie\\Temp'\n",
    "files_path = os.path.join(folder_path, '*')\n",
    "files = sorted(glob.iglob(files_path), key=os.path.getctime, reverse=True) \n",
    "last_file = (files[0]) #latest file \n",
    "# print (files[0],files[1])#latest two files"
   ]
  },
  {
   "cell_type": "code",
   "execution_count": 229,
   "id": "46576bd6-3c40-490b-b986-d982caeae551",
   "metadata": {},
   "outputs": [],
   "source": [
    "# file name with extension\n",
    "file_name = os.path.basename(last_file)\n",
    "\n",
    "# file name without extension\n",
    "file_name = (os.path.splitext(file_name)[0])"
   ]
  },
  {
   "cell_type": "code",
   "execution_count": 230,
   "id": "16509a4a-acf5-4032-96cb-d670945345f4",
   "metadata": {},
   "outputs": [],
   "source": [
    "old_file = os.path.join(r\"\\\\trdecomsrv\\H\\Alphie\\Temp\", (file_name + \".pdf\"))\n",
    "old_file = shutil.move(old_file, destination_folder)\n",
    "new_file = os.path.join(destination_folder, accrue_month_1.strftime(\"CAN-Prelim. %b %Y Reporting Generic Distribution Report.pdf\"))\n",
    "try:\n",
    "  os.rename(old_file, new_file)\n",
    "except FileExistsError:\n",
    "  os.remove(new_file)\n",
    "  os.rename(old_file, new_file)\n"
   ]
  },
  {
   "cell_type": "code",
   "execution_count": 231,
   "id": "668199c7-b897-4009-9ac3-d8177ec10947",
   "metadata": {},
   "outputs": [],
   "source": [
    "# file name with extension\n",
    "file_name = os.path.basename(new_file)\n",
    "\n",
    "# file name without extension\n",
    "file_name = (os.path.splitext(file_name)[0])"
   ]
  },
  {
   "cell_type": "code",
   "execution_count": 232,
   "id": "a6111854-2213-4aba-8f39-9d79093a7a9a",
   "metadata": {},
   "outputs": [],
   "source": [
    "old_file = os.path.join(destination_folder, new_file)\n",
    "new_file = os.path.join(destination_folder, accrue_month_2.strftime(file_name + ' ' + \"(%b %Y Accrual).pdf\"))\n",
    "try:\n",
    "  os.rename(old_file, new_file)\n",
    "except FileExistsError:\n",
    "  os.remove(new_file)\n",
    "  os.rename(old_file, new_file)"
   ]
  },
  {
   "cell_type": "markdown",
   "id": "f8732659-6af9-4d9b-879f-cf4bbce12abf",
   "metadata": {},
   "source": [
    "## Creating Email attachment"
   ]
  },
  {
   "cell_type": "code",
   "execution_count": 233,
   "id": "89e61baf-13de-413b-a661-83f85be77f08",
   "metadata": {},
   "outputs": [],
   "source": [
    "can_email_item_1 = new_file"
   ]
  },
  {
   "cell_type": "markdown",
   "id": "dddab53d-285f-4339-8c00-f5fb7764fb95",
   "metadata": {},
   "source": [
    "# GRT"
   ]
  },
  {
   "cell_type": "markdown",
   "id": "37833ff3-539c-4088-a626-13be51ca4f6d",
   "metadata": {},
   "source": [
    "## Clicking Generate button"
   ]
  },
  {
   "cell_type": "code",
   "execution_count": 234,
   "id": "a9fcc082-ff7c-41b7-b625-27024fe98175",
   "metadata": {},
   "outputs": [],
   "source": [
    "time.sleep(1.5)\n",
    "Generate_btn_el = browser.find_element(\"id\", \"l_Dc-6-166\")\n",
    "Generate_btn_el.click()"
   ]
  },
  {
   "cell_type": "markdown",
   "id": "c0dabfbf-9291-4adc-85df-3f26ad24e6eb",
   "metadata": {},
   "source": [
    "## Selecting GRT"
   ]
  },
  {
   "cell_type": "code",
   "execution_count": 235,
   "id": "424f0701-f3c3-44a4-ba81-877eb9e6142c",
   "metadata": {},
   "outputs": [],
   "source": [
    "time.sleep(5)\n",
    "Revenue_Group_el = browser.find_element(\"name\", \"Dg-2\")\n",
    "Revenue_Group_el.send_keys(\"GRT\")\n",
    "Revenue_Group_el.send_keys(Keys.ENTER)"
   ]
  },
  {
   "cell_type": "markdown",
   "id": "a8f0e5da-8a48-4bd2-a7e5-0294ce87ff64",
   "metadata": {},
   "source": [
    "## Clicking the Generate button"
   ]
  },
  {
   "cell_type": "code",
   "execution_count": 236,
   "id": "15761f2e-7acd-479a-a42e-0af4820c2599",
   "metadata": {},
   "outputs": [
    {
     "name": "stdout",
     "output_type": "stream",
     "text": [
      "Next page is loaded!\n"
     ]
    }
   ],
   "source": [
    "Generate_btn_el = browser.find_element(\"id\", \"caption2_Dc-7\")\n",
    "Generate_btn_el.click()\n",
    "\n",
    "# Set the delay in seconds\n",
    "delay = 60\n",
    "\n",
    "# Wait for the next page to be loaded\n",
    "try:\n",
    "    WebDriverWait(browser, delay).until(EC.url_changes(browser.current_url))\n",
    "    print(\"Next page is loaded!\")\n",
    "except TimeoutException:\n",
    "    print(\"Loading the next page took too much time!\")"
   ]
  },
  {
   "cell_type": "markdown",
   "id": "4f93b636-30a1-4c3a-83b2-09beaee6a247",
   "metadata": {},
   "source": [
    "## Clicking the View Report button"
   ]
  },
  {
   "cell_type": "code",
   "execution_count": 237,
   "id": "d80eaca2-f968-4221-b0ac-f403af9988e9",
   "metadata": {},
   "outputs": [
    {
     "name": "stdout",
     "output_type": "stream",
     "text": [
      "Page is ready!\n",
      "Next page is loaded!\n"
     ]
    }
   ],
   "source": [
    "delay = 60 # seconds\n",
    "try:\n",
    "    WebDriverWait(browser, delay).until(EC.presence_of_element_located((By.TAG_NAME, 'body')))\n",
    "    print (\"Page is ready!\")\n",
    "except TimeoutException:\n",
    "    print (\"Loading took too much time!\")\n",
    "     \n",
    "time.sleep(1.5)\n",
    "View_Report_el = browser.find_element(\"id\", \"Dc-8\")\n",
    "View_Report_el.click()\n",
    "\n",
    "# Wait for the next page to be loaded\n",
    "try:\n",
    "    WebDriverWait(browser, delay).until(EC.url_changes(browser.current_url))\n",
    "    print(\"Next page is loaded!\")\n",
    "except TimeoutException:\n",
    "    print(\"Loading the next page took too much time!\")\n",
    "    View_Report_el = browser.find_element(\"id\", \"ic_Dc-8\")\n",
    "    View_Report_el.click()\n",
    "\n",
    "time.sleep(1.5)\n",
    "browser.switch_to.window(browser.window_handles[1])\n",
    "\n",
    "browser.execute_script('window.print();')\n",
    "time.sleep(3)\n",
    "browser.close()"
   ]
  },
  {
   "cell_type": "markdown",
   "id": "2d593d4f-87ec-4854-aa98-b5ff6bac0281",
   "metadata": {},
   "source": [
    "## Close the report"
   ]
  },
  {
   "cell_type": "code",
   "execution_count": 238,
   "id": "ab53831f-9217-4026-a22a-30e880a7594b",
   "metadata": {},
   "outputs": [],
   "source": [
    "browser.switch_to.window(browser.window_handles[0])\n",
    "browser.implicitly_wait(1.5)\n",
    "\n",
    "close_button_el = browser.find_elements(By.XPATH, \"//button\")\n",
    "\n",
    "for button in close_button_el:\n",
    "    if button.get_attribute('title') and 'Close Manager: GL Backend RA - Main' in button.get_attribute('title'):\n",
    "        button.click();\n",
    "        "
   ]
  },
  {
   "cell_type": "markdown",
   "id": "50f14ff5-6f50-47e0-89bf-6554804b509f",
   "metadata": {},
   "source": [
    "## Renaming and moving the report"
   ]
  },
  {
   "cell_type": "code",
   "execution_count": 239,
   "id": "ce9f4082-e3e1-472d-9ef7-426e3680d7ed",
   "metadata": {},
   "outputs": [],
   "source": [
    "folder_path = r'\\\\trdecomsrv\\H\\Alphie\\Temp'\n",
    "files_path = os.path.join(folder_path, '*')\n",
    "files = sorted(glob.iglob(files_path), key=os.path.getctime, reverse=True) \n",
    "last_file = (files[0]) #latest file \n",
    "# print (files[0],files[1])#latest two files"
   ]
  },
  {
   "cell_type": "code",
   "execution_count": 240,
   "id": "814da4b5-24f6-4311-a478-a26eced44bb4",
   "metadata": {},
   "outputs": [],
   "source": [
    "# file name with extension\n",
    "file_name = os.path.basename(last_file)\n",
    "\n",
    "# file name without extension\n",
    "file_name = (os.path.splitext(file_name)[0])"
   ]
  },
  {
   "cell_type": "code",
   "execution_count": 241,
   "id": "a2fcd874-83ba-46cc-b54a-35b39aa255c1",
   "metadata": {},
   "outputs": [],
   "source": [
    "old_file = os.path.join(r\"\\\\trdecomsrv\\H\\Alphie\\Temp\", (file_name + \".pdf\"))\n",
    "old_file = shutil.move(old_file, destination_folder)\n",
    "new_file = os.path.join(destination_folder, accrue_month_1.strftime(\"GRT-Prelim. %b %Y Reporting Generic Distribution Report.pdf\"))\n",
    "try:\n",
    "  os.rename(old_file, new_file)\n",
    "except FileExistsError:\n",
    "  os.remove(new_file)\n",
    "  os.rename(old_file, new_file)\n"
   ]
  },
  {
   "cell_type": "code",
   "execution_count": 242,
   "id": "13a2fd1f-ef22-4ddf-b27f-e5f1a066e303",
   "metadata": {},
   "outputs": [],
   "source": [
    "# file name with extension\n",
    "file_name = os.path.basename(new_file)\n",
    "\n",
    "# file name without extension\n",
    "file_name = (os.path.splitext(file_name)[0])"
   ]
  },
  {
   "cell_type": "code",
   "execution_count": 243,
   "id": "38ba4bab-01db-45a9-be7e-3cb5583c14f3",
   "metadata": {},
   "outputs": [],
   "source": [
    "old_file = os.path.join(destination_folder, new_file)\n",
    "new_file = os.path.join(destination_folder, accrue_month_2.strftime(file_name + ' ' + \"(%b %Y Accrual).pdf\"))\n",
    "try:\n",
    "  os.rename(old_file, new_file)\n",
    "except FileExistsError:\n",
    "  os.remove(new_file)\n",
    "  os.rename(old_file, new_file)"
   ]
  },
  {
   "cell_type": "markdown",
   "id": "8e7bd595-e307-4c63-bac0-0df77e77fdb4",
   "metadata": {},
   "source": [
    "## Creating Email attachment"
   ]
  },
  {
   "cell_type": "code",
   "execution_count": 244,
   "id": "56fccf1c-d615-4166-a91f-e156ef94f7a1",
   "metadata": {},
   "outputs": [],
   "source": [
    "grt_email_item_1 = new_file"
   ]
  },
  {
   "cell_type": "markdown",
   "id": "71428f3a-c02e-480c-9fa3-6de07323166f",
   "metadata": {},
   "source": [
    "# CMP"
   ]
  },
  {
   "cell_type": "markdown",
   "id": "3f0e17a0-6bab-40c3-a014-52e221b27431",
   "metadata": {},
   "source": [
    "## Clicking Generate button"
   ]
  },
  {
   "cell_type": "code",
   "execution_count": 245,
   "id": "9ad40d86-7bf5-49a8-bd89-39d055a113a2",
   "metadata": {},
   "outputs": [],
   "source": [
    "time.sleep(1.5)\n",
    "Generate_btn_el = browser.find_element(\"id\", \"l_Dc-6-166\")\n",
    "Generate_btn_el.click()"
   ]
  },
  {
   "cell_type": "markdown",
   "id": "ed4f14ac-95af-428f-9724-a72c071084f6",
   "metadata": {},
   "source": [
    "## Selecting CMP"
   ]
  },
  {
   "cell_type": "code",
   "execution_count": 246,
   "id": "f0afc550-2e76-466c-8575-95c22aafcf33",
   "metadata": {},
   "outputs": [],
   "source": [
    "time.sleep(5)\n",
    "Revenue_Group_el = browser.find_element(\"name\", \"Dg-2\")\n",
    "Revenue_Group_el.send_keys(\"CMP\")\n",
    "Revenue_Group_el.send_keys(Keys.ENTER)"
   ]
  },
  {
   "cell_type": "markdown",
   "id": "69d183ea-98d0-4c5f-a6a4-587b6040ee6b",
   "metadata": {},
   "source": [
    "## Clicking the Generate button"
   ]
  },
  {
   "cell_type": "code",
   "execution_count": 247,
   "id": "c3ba8fd5-f8f7-4038-be2c-227749fded9d",
   "metadata": {},
   "outputs": [
    {
     "name": "stdout",
     "output_type": "stream",
     "text": [
      "Next page is loaded!\n"
     ]
    }
   ],
   "source": [
    "Generate_btn_el = browser.find_element(\"id\", \"caption2_Dc-7\")\n",
    "Generate_btn_el.click()\n",
    "\n",
    "# Set the delay in seconds\n",
    "delay = 60\n",
    "\n",
    "# Wait for the next page to be loaded\n",
    "try:\n",
    "    WebDriverWait(browser, delay).until(EC.url_changes(browser.current_url))\n",
    "    print(\"Next page is loaded!\")\n",
    "except TimeoutException:\n",
    "    print(\"Loading the next page took too much time!\")"
   ]
  },
  {
   "cell_type": "markdown",
   "id": "be71bee2-f23c-465d-a64f-fd7265ae150f",
   "metadata": {},
   "source": [
    "## Clicking the View Report button"
   ]
  },
  {
   "cell_type": "code",
   "execution_count": 248,
   "id": "973bd0fe-37fb-42d0-a81c-7bf4ad2095d6",
   "metadata": {},
   "outputs": [
    {
     "name": "stdout",
     "output_type": "stream",
     "text": [
      "Page is ready!\n",
      "Next page is loaded!\n"
     ]
    }
   ],
   "source": [
    "delay = 60 # seconds\n",
    "try:\n",
    "    WebDriverWait(browser, delay).until(EC.presence_of_element_located((By.TAG_NAME, 'body')))\n",
    "    print (\"Page is ready!\")\n",
    "except TimeoutException:\n",
    "    print (\"Loading took too much time!\")\n",
    "     \n",
    "time.sleep(1.5)\n",
    "View_Report_el = browser.find_element(\"id\", \"Dc-8\")\n",
    "View_Report_el.click()\n",
    "\n",
    "# Wait for the next page to be loaded\n",
    "try:\n",
    "    WebDriverWait(browser, delay).until(EC.url_changes(browser.current_url))\n",
    "    print(\"Next page is loaded!\")\n",
    "except TimeoutException:\n",
    "    print(\"Loading the next page took too much time!\")\n",
    "    View_Report_el = browser.find_element(\"id\", \"ic_Dc-8\")\n",
    "    View_Report_el.click()\n",
    "\n",
    "time.sleep(1.5)\n",
    "browser.switch_to.window(browser.window_handles[1])\n",
    "\n",
    "browser.execute_script('window.print();')\n",
    "time.sleep(3)\n",
    "browser.close()"
   ]
  },
  {
   "cell_type": "markdown",
   "id": "c8e3c9a0-91e3-4314-bfa5-edd23f6a0c34",
   "metadata": {},
   "source": [
    "## Close the report"
   ]
  },
  {
   "cell_type": "code",
   "execution_count": 249,
   "id": "60d52532-2832-43c4-af23-78f733234b39",
   "metadata": {},
   "outputs": [],
   "source": [
    "browser.switch_to.window(browser.window_handles[0])\n",
    "browser.implicitly_wait(1.5)\n",
    "\n",
    "close_button_el = browser.find_elements(By.XPATH, \"//button\")\n",
    "\n",
    "for button in close_button_el:\n",
    "    if button.get_attribute('title') and 'Close Manager: GL Backend RA - Main' in button.get_attribute('title'):\n",
    "        button.click();\n",
    "        "
   ]
  },
  {
   "cell_type": "markdown",
   "id": "cd3cbf3b-fa4e-401b-8a60-a47b1b4af375",
   "metadata": {},
   "source": [
    "## Renaming and moving the report"
   ]
  },
  {
   "cell_type": "code",
   "execution_count": 250,
   "id": "15b39b4f-568b-47a3-8acd-3ae538eaf12b",
   "metadata": {},
   "outputs": [],
   "source": [
    "folder_path = r'\\\\trdecomsrv\\H\\Alphie\\Temp'\n",
    "files_path = os.path.join(folder_path, '*')\n",
    "files = sorted(glob.iglob(files_path), key=os.path.getctime, reverse=True) \n",
    "last_file = (files[0]) #latest file \n",
    "# print (files[0],files[1])#latest two files"
   ]
  },
  {
   "cell_type": "code",
   "execution_count": 251,
   "id": "fa8e1140-d13b-40b4-9302-7360ab1a137b",
   "metadata": {},
   "outputs": [],
   "source": [
    "# file name with extension\n",
    "file_name = os.path.basename(last_file)\n",
    "\n",
    "# file name without extension\n",
    "file_name = (os.path.splitext(file_name)[0])"
   ]
  },
  {
   "cell_type": "code",
   "execution_count": 252,
   "id": "4be80659-ecad-4bbd-9fc4-65def29ecde6",
   "metadata": {},
   "outputs": [],
   "source": [
    "old_file = os.path.join(r\"\\\\trdecomsrv\\H\\Alphie\\Temp\", (file_name + \".pdf\"))\n",
    "old_file = shutil.move(old_file, destination_folder)\n",
    "new_file = os.path.join(destination_folder, accrue_month_1.strftime(\"CMP-Prelim. %b %Y Reporting Generic Distribution Report.pdf\"))\n",
    "try:\n",
    "  os.rename(old_file, new_file)\n",
    "except FileExistsError:\n",
    "  os.remove(new_file)\n",
    "  os.rename(old_file, new_file)\n"
   ]
  },
  {
   "cell_type": "code",
   "execution_count": 253,
   "id": "9651db9e-d2c3-46be-86ce-e65deca8848f",
   "metadata": {},
   "outputs": [],
   "source": [
    "# file name with extension\n",
    "file_name = os.path.basename(new_file)\n",
    "\n",
    "# file name without extension\n",
    "file_name = (os.path.splitext(file_name)[0])"
   ]
  },
  {
   "cell_type": "code",
   "execution_count": 254,
   "id": "a7e6191e-d336-4e01-8505-91175db65d41",
   "metadata": {},
   "outputs": [],
   "source": [
    "old_file = os.path.join(destination_folder, new_file)\n",
    "new_file = os.path.join(destination_folder, accrue_month_2.strftime(file_name + ' ' + \"(%b %Y Accrual).pdf\"))\n",
    "try:\n",
    "  os.rename(old_file, new_file)\n",
    "except FileExistsError:\n",
    "  os.remove(new_file)\n",
    "  os.rename(old_file, new_file)"
   ]
  },
  {
   "cell_type": "markdown",
   "id": "4a8db47c-1e2a-4005-8c89-f619d972534d",
   "metadata": {},
   "source": [
    "## Creating Email attachment"
   ]
  },
  {
   "cell_type": "code",
   "execution_count": 255,
   "id": "c41c2ab0-cc57-41d4-ad17-fcace6de9869",
   "metadata": {},
   "outputs": [],
   "source": [
    "cmp_email_item_1 = new_file"
   ]
  },
  {
   "cell_type": "markdown",
   "id": "fa6d74e4-fc04-4a58-aa71-e584171f9a5d",
   "metadata": {},
   "source": [
    "# ISI"
   ]
  },
  {
   "cell_type": "markdown",
   "id": "6556c75f-956d-4c2c-a966-52dfc61ce62b",
   "metadata": {},
   "source": [
    "## Clicking Generate button"
   ]
  },
  {
   "cell_type": "code",
   "execution_count": 256,
   "id": "bd41dbcd-de91-42db-94af-06d44f429765",
   "metadata": {},
   "outputs": [],
   "source": [
    "time.sleep(1.5)\n",
    "Generate_btn_el = browser.find_element(\"id\", \"l_Dc-6-166\")\n",
    "Generate_btn_el.click()"
   ]
  },
  {
   "cell_type": "markdown",
   "id": "40aed62e-b8db-4bd7-a384-a6690f708040",
   "metadata": {},
   "source": [
    "## Selecting ISI"
   ]
  },
  {
   "cell_type": "code",
   "execution_count": 257,
   "id": "f6cd19f9-6fb0-44d1-8997-3429de42ab2b",
   "metadata": {},
   "outputs": [],
   "source": [
    "time.sleep(5)\n",
    "Revenue_Group_el = browser.find_element(\"name\", \"Dg-2\")\n",
    "Revenue_Group_el.send_keys(\"ISI\")\n",
    "Revenue_Group_el.send_keys(Keys.ENTER)"
   ]
  },
  {
   "cell_type": "markdown",
   "id": "4c16ff10-e0c6-4ec0-82c8-82fe2741447b",
   "metadata": {},
   "source": [
    "## Clicking the Generate button"
   ]
  },
  {
   "cell_type": "code",
   "execution_count": 258,
   "id": "90ec7611-49e6-4866-bc99-f0db5e430bbd",
   "metadata": {},
   "outputs": [
    {
     "name": "stdout",
     "output_type": "stream",
     "text": [
      "Next page is loaded!\n"
     ]
    }
   ],
   "source": [
    "Generate_btn_el = browser.find_element(\"id\", \"caption2_Dc-7\")\n",
    "Generate_btn_el.click()\n",
    "\n",
    "# Set the delay in seconds\n",
    "delay = 60\n",
    "\n",
    "# Wait for the next page to be loaded\n",
    "try:\n",
    "    WebDriverWait(browser, delay).until(EC.url_changes(browser.current_url))\n",
    "    print(\"Next page is loaded!\")\n",
    "except TimeoutException:\n",
    "    print(\"Loading the next page took too much time!\")"
   ]
  },
  {
   "cell_type": "markdown",
   "id": "9f1873c7-34ad-4099-802a-cad89321fbc2",
   "metadata": {},
   "source": [
    "## Clicking the View Report button"
   ]
  },
  {
   "cell_type": "code",
   "execution_count": 259,
   "id": "e7815b35-4663-438d-8e79-630603c6afd4",
   "metadata": {},
   "outputs": [
    {
     "name": "stdout",
     "output_type": "stream",
     "text": [
      "Page is ready!\n",
      "Next page is loaded!\n"
     ]
    }
   ],
   "source": [
    "delay = 60 # seconds\n",
    "try:\n",
    "    WebDriverWait(browser, delay).until(EC.presence_of_element_located((By.TAG_NAME, 'body')))\n",
    "    print (\"Page is ready!\")\n",
    "except TimeoutException:\n",
    "    print (\"Loading took too much time!\")\n",
    "     \n",
    "time.sleep(1.5)\n",
    "View_Report_el = browser.find_element(\"id\", \"Dc-8\")\n",
    "View_Report_el.click()\n",
    "\n",
    "# Wait for the next page to be loaded\n",
    "try:\n",
    "    WebDriverWait(browser, delay).until(EC.url_changes(browser.current_url))\n",
    "    print(\"Next page is loaded!\")\n",
    "except TimeoutException:\n",
    "    print(\"Loading the next page took too much time!\")\n",
    "    View_Report_el = browser.find_element(\"id\", \"ic_Dc-8\")\n",
    "    View_Report_el.click()\n",
    "\n",
    "time.sleep(1.5)\n",
    "browser.switch_to.window(browser.window_handles[1])\n",
    "\n",
    "browser.execute_script('window.print();')\n",
    "time.sleep(3)\n",
    "browser.close()"
   ]
  },
  {
   "cell_type": "markdown",
   "id": "88c38943-574d-40b7-901a-b89b9260e3b0",
   "metadata": {},
   "source": [
    "## Close the report"
   ]
  },
  {
   "cell_type": "code",
   "execution_count": 260,
   "id": "096c5962-853e-4f72-93d0-9bec9c4208f4",
   "metadata": {},
   "outputs": [],
   "source": [
    "browser.switch_to.window(browser.window_handles[0])\n",
    "browser.implicitly_wait(1.5)\n",
    "\n",
    "close_button_el = browser.find_elements(By.XPATH, \"//button\")\n",
    "\n",
    "for button in close_button_el:\n",
    "    if button.get_attribute('title') and 'Close Manager: GL Backend RA - Main' in button.get_attribute('title'):\n",
    "        button.click();\n",
    "        "
   ]
  },
  {
   "cell_type": "markdown",
   "id": "89d99535-63e2-42f8-932f-5843a727d075",
   "metadata": {},
   "source": [
    "## Renaming and moving the report"
   ]
  },
  {
   "cell_type": "code",
   "execution_count": 261,
   "id": "abec22fa-f5dc-4f2f-b34f-e5152d127d42",
   "metadata": {},
   "outputs": [],
   "source": [
    "folder_path = r'\\\\trdecomsrv\\H\\Alphie\\Temp'\n",
    "files_path = os.path.join(folder_path, '*')\n",
    "files = sorted(glob.iglob(files_path), key=os.path.getctime, reverse=True) \n",
    "last_file = (files[0]) #latest file \n",
    "# print (files[0],files[1])#latest two files"
   ]
  },
  {
   "cell_type": "code",
   "execution_count": 262,
   "id": "7386bfc5-68d4-48da-bffc-192dae09cf87",
   "metadata": {},
   "outputs": [],
   "source": [
    "# file name with extension\n",
    "file_name = os.path.basename(last_file)\n",
    "\n",
    "# file name without extension\n",
    "file_name = (os.path.splitext(file_name)[0])"
   ]
  },
  {
   "cell_type": "code",
   "execution_count": 263,
   "id": "32551cb7-6acb-4b78-93a0-1b19469bb1e6",
   "metadata": {},
   "outputs": [],
   "source": [
    "old_file = os.path.join(r\"\\\\trdecomsrv\\H\\Alphie\\Temp\", (file_name + \".pdf\"))\n",
    "old_file = shutil.move(old_file, destination_folder)\n",
    "new_file = os.path.join(destination_folder, accrue_month_1.strftime(\"ISI-Prelim. %b %Y Reporting Generic Distribution Report.pdf\"))\n",
    "try:\n",
    "  os.rename(old_file, new_file)\n",
    "except FileExistsError:\n",
    "  os.remove(new_file)\n",
    "  os.rename(old_file, new_file)\n"
   ]
  },
  {
   "cell_type": "code",
   "execution_count": 264,
   "id": "9f01bac7-5222-4f97-a22b-eb84c7f3ed60",
   "metadata": {},
   "outputs": [],
   "source": [
    "# file name with extension\n",
    "file_name = os.path.basename(new_file)\n",
    "\n",
    "# file name without extension\n",
    "file_name = (os.path.splitext(file_name)[0])"
   ]
  },
  {
   "cell_type": "code",
   "execution_count": 265,
   "id": "bf415416-2ad1-4877-8a1e-d725eef23e47",
   "metadata": {},
   "outputs": [],
   "source": [
    "old_file = os.path.join(destination_folder, new_file)\n",
    "new_file = os.path.join(destination_folder, accrue_month_2.strftime(file_name + ' ' + \"(%b %Y Accrual).pdf\"))\n",
    "try:\n",
    "  os.rename(old_file, new_file)\n",
    "except FileExistsError:\n",
    "  os.remove(new_file)\n",
    "  os.rename(old_file, new_file)"
   ]
  },
  {
   "cell_type": "markdown",
   "id": "48f96379-79c2-46dc-a950-09de2fe76d34",
   "metadata": {},
   "source": [
    "## Creating Email attachment"
   ]
  },
  {
   "cell_type": "code",
   "execution_count": 266,
   "id": "60de6a2f-5084-4d83-aa62-efb59f95eec3",
   "metadata": {},
   "outputs": [],
   "source": [
    "isi_email_item_1 = new_file"
   ]
  },
  {
   "cell_type": "markdown",
   "id": "b4559162-3527-4239-890a-2d7b575beb77",
   "metadata": {},
   "source": [
    "# IPP"
   ]
  },
  {
   "cell_type": "markdown",
   "id": "749c7a8b-2261-4e22-a397-4c6a49d13d08",
   "metadata": {},
   "source": [
    "## Clicking Generate button"
   ]
  },
  {
   "cell_type": "code",
   "execution_count": 267,
   "id": "cf6e1a21-c870-4245-a053-1445455db5e8",
   "metadata": {},
   "outputs": [],
   "source": [
    "time.sleep(1.5)\n",
    "Generate_btn_el = browser.find_element(\"id\", \"l_Dc-6-166\")\n",
    "Generate_btn_el.click()"
   ]
  },
  {
   "cell_type": "markdown",
   "id": "367940ba-6f2b-4423-9ad6-5c364dc9bd75",
   "metadata": {},
   "source": [
    "## Selecting IPP"
   ]
  },
  {
   "cell_type": "code",
   "execution_count": 268,
   "id": "88c649d6-d7fe-448d-8987-3351a34a0937",
   "metadata": {},
   "outputs": [],
   "source": [
    "time.sleep(5)\n",
    "Revenue_Group_el = browser.find_element(\"name\", \"Dg-2\")\n",
    "Revenue_Group_el.send_keys(\"IPP\")\n",
    "Revenue_Group_el.send_keys(Keys.ENTER)"
   ]
  },
  {
   "cell_type": "markdown",
   "id": "ea05e686-177f-48a5-85e0-3787df66ec65",
   "metadata": {},
   "source": [
    "## Clicking the Generate button"
   ]
  },
  {
   "cell_type": "code",
   "execution_count": 269,
   "id": "7bb0f13c-77d8-476d-9487-26157bcef567",
   "metadata": {},
   "outputs": [
    {
     "name": "stdout",
     "output_type": "stream",
     "text": [
      "Next page is loaded!\n"
     ]
    }
   ],
   "source": [
    "Generate_btn_el = browser.find_element(\"id\", \"caption2_Dc-7\")\n",
    "Generate_btn_el.click()\n",
    "\n",
    "# Set the delay in seconds\n",
    "delay = 60\n",
    "\n",
    "# Wait for the next page to be loaded\n",
    "try:\n",
    "    WebDriverWait(browser, delay).until(EC.url_changes(browser.current_url))\n",
    "    print(\"Next page is loaded!\")\n",
    "except TimeoutException:\n",
    "    print(\"Loading the next page took too much time!\")"
   ]
  },
  {
   "cell_type": "markdown",
   "id": "9f82c66f-5d92-4c4b-bbd1-fb1199f7b723",
   "metadata": {},
   "source": [
    "## Clicking the View Report button"
   ]
  },
  {
   "cell_type": "code",
   "execution_count": 270,
   "id": "7a02fbdd-32e3-4d31-9e77-ffacb45c7776",
   "metadata": {},
   "outputs": [
    {
     "name": "stdout",
     "output_type": "stream",
     "text": [
      "Page is ready!\n",
      "Next page is loaded!\n"
     ]
    }
   ],
   "source": [
    "delay = 60 # seconds\n",
    "try:\n",
    "    WebDriverWait(browser, delay).until(EC.presence_of_element_located((By.TAG_NAME, 'body')))\n",
    "    print (\"Page is ready!\")\n",
    "except TimeoutException:\n",
    "    print (\"Loading took too much time!\")\n",
    "     \n",
    "time.sleep(1.5)\n",
    "View_Report_el = browser.find_element(\"id\", \"Dc-8\")\n",
    "View_Report_el.click()\n",
    "\n",
    "# Wait for the next page to be loaded\n",
    "try:\n",
    "    WebDriverWait(browser, delay).until(EC.url_changes(browser.current_url))\n",
    "    print(\"Next page is loaded!\")\n",
    "except TimeoutException:\n",
    "    print(\"Loading the next page took too much time!\")\n",
    "    View_Report_el = browser.find_element(\"id\", \"ic_Dc-8\")\n",
    "    View_Report_el.click()\n",
    "\n",
    "time.sleep(1.5)\n",
    "browser.switch_to.window(browser.window_handles[1])\n",
    "\n",
    "browser.execute_script('window.print();')\n",
    "time.sleep(3)\n",
    "browser.close()"
   ]
  },
  {
   "cell_type": "markdown",
   "id": "2ba5232a-c524-4184-972b-cdaf27f4184e",
   "metadata": {},
   "source": [
    "## Close the report"
   ]
  },
  {
   "cell_type": "code",
   "execution_count": 271,
   "id": "4621467e-64b4-4e76-a1b5-ef1cebc5e3a1",
   "metadata": {},
   "outputs": [],
   "source": [
    "browser.switch_to.window(browser.window_handles[0])\n",
    "browser.implicitly_wait(1.5)\n",
    "\n",
    "close_button_el = browser.find_elements(By.XPATH, \"//button\")\n",
    "\n",
    "for button in close_button_el:\n",
    "    if button.get_attribute('title') and 'Close Manager: GL Backend RA - Main' in button.get_attribute('title'):\n",
    "        button.click();\n",
    "        "
   ]
  },
  {
   "cell_type": "markdown",
   "id": "a38f91e4-261c-4f51-b0ca-51f1ed1db10c",
   "metadata": {},
   "source": [
    "## Renaming and moving the report"
   ]
  },
  {
   "cell_type": "code",
   "execution_count": 272,
   "id": "f632ae9d-7ae5-4d3d-938e-bc79bd7fd859",
   "metadata": {},
   "outputs": [],
   "source": [
    "folder_path = r'\\\\trdecomsrv\\H\\Alphie\\Temp'\n",
    "files_path = os.path.join(folder_path, '*')\n",
    "files = sorted(glob.iglob(files_path), key=os.path.getctime, reverse=True) \n",
    "last_file = (files[0]) #latest file \n",
    "# print (files[0],files[1])#latest two files"
   ]
  },
  {
   "cell_type": "code",
   "execution_count": 273,
   "id": "07c58351-5dae-4b05-ad90-5a2051a119e1",
   "metadata": {},
   "outputs": [],
   "source": [
    "# file name with extension\n",
    "file_name = os.path.basename(last_file)\n",
    "\n",
    "# file name without extension\n",
    "file_name = (os.path.splitext(file_name)[0])"
   ]
  },
  {
   "cell_type": "code",
   "execution_count": 274,
   "id": "455096a1-6b49-4d95-a8d7-90fb3d1376e1",
   "metadata": {},
   "outputs": [],
   "source": [
    "old_file = os.path.join(r\"\\\\trdecomsrv\\H\\Alphie\\Temp\", (file_name + \".pdf\"))\n",
    "old_file = shutil.move(old_file, destination_folder)\n",
    "new_file = os.path.join(destination_folder, accrue_month_1.strftime(\"IPP-Prelim. %b %Y Reporting Generic Distribution Report.pdf\"))\n",
    "try:\n",
    "  os.rename(old_file, new_file)\n",
    "except FileExistsError:\n",
    "  os.remove(new_file)\n",
    "  os.rename(old_file, new_file)"
   ]
  },
  {
   "cell_type": "code",
   "execution_count": 275,
   "id": "3cd32911-7e00-416c-a524-2a623611651f",
   "metadata": {},
   "outputs": [],
   "source": [
    "# file name with extension\n",
    "file_name = os.path.basename(new_file)\n",
    "\n",
    "# file name without extension\n",
    "file_name = (os.path.splitext(file_name)[0])"
   ]
  },
  {
   "cell_type": "code",
   "execution_count": 276,
   "id": "90239a4b-148f-4307-ae21-7e426807f227",
   "metadata": {},
   "outputs": [],
   "source": [
    "old_file = os.path.join(destination_folder, new_file)\n",
    "new_file = os.path.join(destination_folder, accrue_month_2.strftime(file_name + ' ' + \"(%b %Y Accrual).pdf\"))\n",
    "try:\n",
    "  os.rename(old_file, new_file)\n",
    "except FileExistsError:\n",
    "  os.remove(new_file)\n",
    "  os.rename(old_file, new_file)"
   ]
  },
  {
   "cell_type": "markdown",
   "id": "0292ca19-e61f-4f61-b4f4-e39bb48e17e2",
   "metadata": {},
   "source": [
    "## Creating Email attachment"
   ]
  },
  {
   "cell_type": "code",
   "execution_count": 277,
   "id": "240e3a32-38c3-4cdf-9847-cd17b3184984",
   "metadata": {},
   "outputs": [],
   "source": [
    "ipp_email_item_1 = new_file"
   ]
  },
  {
   "cell_type": "markdown",
   "id": "64dff351-c57b-4a12-a49c-3c6edfe6a090",
   "metadata": {},
   "source": [
    "# IPS"
   ]
  },
  {
   "cell_type": "markdown",
   "id": "26cb7032-0e99-40d1-b0c3-cda4cd89466f",
   "metadata": {},
   "source": [
    "## Clicking Generate button"
   ]
  },
  {
   "cell_type": "code",
   "execution_count": 278,
   "id": "4bcb6cd7-48c6-4493-9586-73bd1bf28848",
   "metadata": {},
   "outputs": [],
   "source": [
    "time.sleep(1.5)\n",
    "Generate_btn_el = browser.find_element(\"id\", \"l_Dc-6-166\")\n",
    "Generate_btn_el.click()"
   ]
  },
  {
   "cell_type": "markdown",
   "id": "da757be6-c4af-4d29-b384-d058383d3130",
   "metadata": {},
   "source": [
    "## Selecting IPS"
   ]
  },
  {
   "cell_type": "code",
   "execution_count": 279,
   "id": "d44c19d2-5415-4393-96fd-2cbd5ff13f92",
   "metadata": {},
   "outputs": [],
   "source": [
    "time.sleep(5)\n",
    "Revenue_Group_el = browser.find_element(\"name\", \"Dg-2\")\n",
    "Revenue_Group_el.send_keys(\"IPS\")\n",
    "Revenue_Group_el.send_keys(Keys.ENTER)"
   ]
  },
  {
   "cell_type": "markdown",
   "id": "88d378f2-a1fe-42f6-b38c-e4bff7aa1409",
   "metadata": {},
   "source": [
    "## Clicking the Generate button"
   ]
  },
  {
   "cell_type": "code",
   "execution_count": 280,
   "id": "07ec3719-5e3e-4bf5-9acf-1e46c3f0f799",
   "metadata": {},
   "outputs": [
    {
     "name": "stdout",
     "output_type": "stream",
     "text": [
      "Next page is loaded!\n"
     ]
    }
   ],
   "source": [
    "Generate_btn_el = browser.find_element(\"id\", \"caption2_Dc-7\")\n",
    "Generate_btn_el.click()\n",
    "\n",
    "# Set the delay in seconds\n",
    "delay = 60\n",
    "\n",
    "# Wait for the next page to be loaded\n",
    "try:\n",
    "    WebDriverWait(browser, delay).until(EC.url_changes(browser.current_url))\n",
    "    print(\"Next page is loaded!\")\n",
    "except TimeoutException:\n",
    "    print(\"Loading the next page took too much time!\")"
   ]
  },
  {
   "cell_type": "markdown",
   "id": "94d37cf5-fccf-4058-b72f-e31203d029af",
   "metadata": {},
   "source": [
    "## Clicking the View Report button"
   ]
  },
  {
   "cell_type": "code",
   "execution_count": 281,
   "id": "99f5f34e-7fcb-4ce3-89a1-c356d568f64a",
   "metadata": {},
   "outputs": [
    {
     "name": "stdout",
     "output_type": "stream",
     "text": [
      "Page is ready!\n",
      "Next page is loaded!\n"
     ]
    }
   ],
   "source": [
    "delay = 60 # seconds\n",
    "try:\n",
    "    WebDriverWait(browser, delay).until(EC.presence_of_element_located((By.TAG_NAME, 'body')))\n",
    "    print (\"Page is ready!\")\n",
    "except TimeoutException:\n",
    "    print (\"Loading took too much time!\")\n",
    "     \n",
    "time.sleep(1.5)\n",
    "View_Report_el = browser.find_element(\"id\", \"Dc-8\")\n",
    "View_Report_el.click()\n",
    "\n",
    "# Wait for the next page to be loaded\n",
    "try:\n",
    "    WebDriverWait(browser, delay).until(EC.url_changes(browser.current_url))\n",
    "    print(\"Next page is loaded!\")\n",
    "except TimeoutException:\n",
    "    print(\"Loading the next page took too much time!\")\n",
    "    View_Report_el = browser.find_element(\"id\", \"ic_Dc-8\")\n",
    "    View_Report_el.click()\n",
    "\n",
    "time.sleep(1.5)\n",
    "browser.switch_to.window(browser.window_handles[1])\n",
    "\n",
    "browser.execute_script('window.print();')\n",
    "time.sleep(3)\n",
    "browser.close()"
   ]
  },
  {
   "cell_type": "markdown",
   "id": "47e10b48-51c1-456f-a067-d40373d08560",
   "metadata": {},
   "source": [
    "## Close the report"
   ]
  },
  {
   "cell_type": "code",
   "execution_count": 282,
   "id": "c372c165-1add-4e78-8d67-1867b6b2fedd",
   "metadata": {},
   "outputs": [],
   "source": [
    "browser.switch_to.window(browser.window_handles[0])\n",
    "browser.implicitly_wait(1.5)\n",
    "\n",
    "close_button_el = browser.find_elements(By.XPATH, \"//button\")\n",
    "\n",
    "for button in close_button_el:\n",
    "    if button.get_attribute('title') and 'Close Manager: GL Backend RA - Main' in button.get_attribute('title'):\n",
    "        button.click();\n",
    "        "
   ]
  },
  {
   "cell_type": "markdown",
   "id": "7586888a-5dae-4ac8-a2ab-e1a9ee8f67d5",
   "metadata": {},
   "source": [
    "## Renaming and moving the report"
   ]
  },
  {
   "cell_type": "code",
   "execution_count": 283,
   "id": "66804d5d-9cac-4d1e-ac14-8180c866e4cd",
   "metadata": {},
   "outputs": [],
   "source": [
    "folder_path = r'\\\\trdecomsrv\\H\\Alphie\\Temp'\n",
    "files_path = os.path.join(folder_path, '*')\n",
    "files = sorted(glob.iglob(files_path), key=os.path.getctime, reverse=True) \n",
    "last_file = (files[0]) #latest file \n",
    "# print (files[0],files[1])#latest two files"
   ]
  },
  {
   "cell_type": "code",
   "execution_count": 284,
   "id": "d9183cb1-8211-4a00-8be7-869efe60f5e3",
   "metadata": {},
   "outputs": [],
   "source": [
    "# file name with extension\n",
    "file_name = os.path.basename(last_file)\n",
    "\n",
    "# file name without extension\n",
    "file_name = (os.path.splitext(file_name)[0])"
   ]
  },
  {
   "cell_type": "code",
   "execution_count": 285,
   "id": "ebc8fbf0-5931-4ea0-ad51-aaa2f2ea997e",
   "metadata": {},
   "outputs": [],
   "source": [
    "old_file = os.path.join(r\"\\\\trdecomsrv\\H\\Alphie\\Temp\", (file_name + \".pdf\"))\n",
    "old_file = shutil.move(old_file, destination_folder)\n",
    "new_file = os.path.join(destination_folder, accrue_month_1.strftime(\"IPS-Prelim. %b %Y Reporting Generic Distribution Report.pdf\"))\n",
    "try:\n",
    "  os.rename(old_file, new_file)\n",
    "except FileExistsError:\n",
    "  os.remove(new_file)\n",
    "  os.rename(old_file, new_file)\n"
   ]
  },
  {
   "cell_type": "code",
   "execution_count": 286,
   "id": "073a13ea-7a6a-457b-af7e-c32a5ef66bbf",
   "metadata": {},
   "outputs": [],
   "source": [
    "# file name with extension\n",
    "file_name = os.path.basename(new_file)\n",
    "\n",
    "# file name without extension\n",
    "file_name = (os.path.splitext(file_name)[0])"
   ]
  },
  {
   "cell_type": "code",
   "execution_count": 287,
   "id": "fdec248c-25a4-4603-8300-569d177b581c",
   "metadata": {},
   "outputs": [],
   "source": [
    "old_file = os.path.join(destination_folder, new_file)\n",
    "new_file = os.path.join(destination_folder, accrue_month_2.strftime(file_name + ' ' + \"(%b %Y Accrual).pdf\"))\n",
    "try:\n",
    "  os.rename(old_file, new_file)\n",
    "except FileExistsError:\n",
    "  os.remove(new_file)\n",
    "  os.rename(old_file, new_file)"
   ]
  },
  {
   "cell_type": "markdown",
   "id": "2e930468-5852-4fa0-9366-dbb68197a763",
   "metadata": {},
   "source": [
    "## Creating Email attachment"
   ]
  },
  {
   "cell_type": "code",
   "execution_count": 288,
   "id": "7b7b60a2-7d10-4a96-a96b-b86f4e3bead7",
   "metadata": {},
   "outputs": [],
   "source": [
    "ips_email_item_1 = new_file"
   ]
  },
  {
   "cell_type": "markdown",
   "id": "c8977d61-07b9-4ffe-80ca-c9942e928570",
   "metadata": {},
   "source": [
    "# IPH"
   ]
  },
  {
   "cell_type": "markdown",
   "id": "ec6c2cd6-2fae-439c-ad12-73098e356931",
   "metadata": {},
   "source": [
    "## Clicking Generate button"
   ]
  },
  {
   "cell_type": "code",
   "execution_count": 289,
   "id": "05476bd5-5ed1-4656-8686-e277185504dd",
   "metadata": {},
   "outputs": [],
   "source": [
    "time.sleep(1.5)\n",
    "Generate_btn_el = browser.find_element(\"id\", \"l_Dc-6-166\")\n",
    "Generate_btn_el.click()"
   ]
  },
  {
   "cell_type": "markdown",
   "id": "97967310-50a1-4ca0-9954-28615d9cbd77",
   "metadata": {},
   "source": [
    "## Selecting IPH"
   ]
  },
  {
   "cell_type": "code",
   "execution_count": 290,
   "id": "8b2f9915-7a51-4112-9b1c-01aaeafeb867",
   "metadata": {},
   "outputs": [],
   "source": [
    "time.sleep(5)\n",
    "Revenue_Group_el = browser.find_element(\"name\", \"Dg-2\")\n",
    "Revenue_Group_el.send_keys(\"IPH\")\n",
    "Revenue_Group_el.send_keys(Keys.ENTER)"
   ]
  },
  {
   "cell_type": "markdown",
   "id": "e6f7599b-fc54-4a0b-8caf-93e29d346672",
   "metadata": {},
   "source": [
    "## Clicking the Generate button"
   ]
  },
  {
   "cell_type": "code",
   "execution_count": 291,
   "id": "0c87211f-8ca6-4152-a2fc-97cfd6ec1d94",
   "metadata": {},
   "outputs": [
    {
     "name": "stdout",
     "output_type": "stream",
     "text": [
      "Next page is loaded!\n"
     ]
    }
   ],
   "source": [
    "Generate_btn_el = browser.find_element(\"id\", \"caption2_Dc-7\")\n",
    "Generate_btn_el.click()\n",
    "\n",
    "# Set the delay in seconds\n",
    "delay = 60\n",
    "\n",
    "# Wait for the next page to be loaded\n",
    "try:\n",
    "    WebDriverWait(browser, delay).until(EC.url_changes(browser.current_url))\n",
    "    print(\"Next page is loaded!\")\n",
    "except TimeoutException:\n",
    "    print(\"Loading the next page took too much time!\")"
   ]
  },
  {
   "cell_type": "markdown",
   "id": "1b8c3247-a638-4926-b234-40ea20fbb78f",
   "metadata": {},
   "source": [
    "## Clicking the View Report button"
   ]
  },
  {
   "cell_type": "code",
   "execution_count": 292,
   "id": "3df75cf7-c874-48b5-8732-ee54f44447b4",
   "metadata": {},
   "outputs": [
    {
     "name": "stdout",
     "output_type": "stream",
     "text": [
      "Page is ready!\n",
      "Next page is loaded!\n"
     ]
    }
   ],
   "source": [
    "delay = 60 # seconds\n",
    "try:\n",
    "    WebDriverWait(browser, delay).until(EC.presence_of_element_located((By.TAG_NAME, 'body')))\n",
    "    print (\"Page is ready!\")\n",
    "except TimeoutException:\n",
    "    print (\"Loading took too much time!\")\n",
    "     \n",
    "time.sleep(1.5)\n",
    "View_Report_el = browser.find_element(\"id\", \"Dc-8\")\n",
    "View_Report_el.click()\n",
    "\n",
    "# Wait for the next page to be loaded\n",
    "try:\n",
    "    WebDriverWait(browser, delay).until(EC.url_changes(browser.current_url))\n",
    "    print(\"Next page is loaded!\")\n",
    "except TimeoutException:\n",
    "    print(\"Loading the next page took too much time!\")\n",
    "    View_Report_el = browser.find_element(\"id\", \"ic_Dc-8\")\n",
    "    View_Report_el.click()\n",
    "time.sleep(1.5)\n",
    "browser.switch_to.window(browser.window_handles[1])\n",
    "\n",
    "browser.execute_script('window.print();')\n",
    "time.sleep(3)\n",
    "browser.close()"
   ]
  },
  {
   "cell_type": "markdown",
   "id": "37dd01bc-ecde-4e6e-89e0-dd13bde90e16",
   "metadata": {},
   "source": [
    "## Close the report"
   ]
  },
  {
   "cell_type": "code",
   "execution_count": 293,
   "id": "43dd0e21-4d54-460f-bc8e-0bf15a2ad4cf",
   "metadata": {},
   "outputs": [],
   "source": [
    "browser.switch_to.window(browser.window_handles[0])\n",
    "browser.implicitly_wait(1.5)\n",
    "\n",
    "close_button_el = browser.find_elements(By.XPATH, \"//button\")\n",
    "\n",
    "for button in close_button_el:\n",
    "    if button.get_attribute('title') and 'Close Group: Generate Report' in button.get_attribute('title'):\n",
    "        button.click();        \n",
    "\n"
   ]
  },
  {
   "cell_type": "markdown",
   "id": "8798d820-530e-4391-b614-b1759eed6ec2",
   "metadata": {},
   "source": [
    "## Renaming and moving the report"
   ]
  },
  {
   "cell_type": "code",
   "execution_count": 294,
   "id": "2b975b40-7b57-46c4-85d1-7313711b2c6f",
   "metadata": {},
   "outputs": [],
   "source": [
    "folder_path = r'\\\\trdecomsrv\\H\\Alphie\\Temp'\n",
    "files_path = os.path.join(folder_path, '*')\n",
    "files = sorted(glob.iglob(files_path), key=os.path.getctime, reverse=True) \n",
    "last_file = (files[0]) #latest file \n",
    "# print (files[0],files[1])#latest two files"
   ]
  },
  {
   "cell_type": "code",
   "execution_count": 295,
   "id": "9a761ae8-b2c6-4329-8c7b-863f38bee123",
   "metadata": {},
   "outputs": [],
   "source": [
    "# file name with extension\n",
    "file_name = os.path.basename(last_file)\n",
    "\n",
    "# file name without extension\n",
    "file_name = (os.path.splitext(file_name)[0])"
   ]
  },
  {
   "cell_type": "code",
   "execution_count": 296,
   "id": "e01a242d-5205-4350-be9f-7e09b6966784",
   "metadata": {},
   "outputs": [],
   "source": [
    "old_file = os.path.join(r\"\\\\trdecomsrv\\H\\Alphie\\Temp\", (file_name + \".pdf\"))\n",
    "old_file = shutil.move(old_file, destination_folder)\n",
    "new_file = os.path.join(destination_folder, accrue_month_1.strftime(\"IPH-Prelim. %b %Y Reporting Generic Distribution Report.pdf\"))\n",
    "try:\n",
    "  os.rename(old_file, new_file)\n",
    "except FileExistsError:\n",
    "  os.remove(new_file)\n",
    "  os.rename(old_file, new_file)\n"
   ]
  },
  {
   "cell_type": "code",
   "execution_count": 297,
   "id": "b3d384aa-2b20-42b3-906c-09375c74742d",
   "metadata": {},
   "outputs": [],
   "source": [
    "# file name with extension\n",
    "file_name = os.path.basename(new_file)\n",
    "\n",
    "# file name without extension\n",
    "file_name = (os.path.splitext(file_name)[0])"
   ]
  },
  {
   "cell_type": "code",
   "execution_count": 298,
   "id": "3ccac9bd-db3a-46b2-9db3-f87df3844a8b",
   "metadata": {},
   "outputs": [],
   "source": [
    "old_file = os.path.join(destination_folder, new_file)\n",
    "new_file = os.path.join(destination_folder, accrue_month_2.strftime(file_name + ' ' + \"(%b %Y Accrual).pdf\"))\n",
    "try:\n",
    "  os.rename(old_file, new_file)\n",
    "except FileExistsError:\n",
    "  os.remove(new_file)\n",
    "  os.rename(old_file, new_file)"
   ]
  },
  {
   "cell_type": "markdown",
   "id": "37577dfa-fda4-47f8-8aba-5a724f296d47",
   "metadata": {},
   "source": [
    "## Creating Email attachment"
   ]
  },
  {
   "cell_type": "code",
   "execution_count": 299,
   "id": "636243a6-b2ac-4c6d-badc-f0dbf796aea3",
   "metadata": {},
   "outputs": [],
   "source": [
    "iph_email_item_1 = new_file"
   ]
  },
  {
   "cell_type": "code",
   "execution_count": 300,
   "id": "cd66d336-b0bc-4cbd-9f7f-35bffda22b6c",
   "metadata": {},
   "outputs": [],
   "source": [
    "# browser.close()"
   ]
  },
  {
   "cell_type": "markdown",
   "id": "4e4afddc-3be8-440e-82a1-dc19276b6723",
   "metadata": {},
   "source": [
    "# Generating RP-500 Distribution report"
   ]
  },
  {
   "cell_type": "markdown",
   "id": "1ffcf839-4f23-4aa4-bbd9-2e55f7ac4a76",
   "metadata": {},
   "source": [
    "## Clicking the Generate Report button"
   ]
  },
  {
   "cell_type": "code",
   "execution_count": 301,
   "id": "f05e81d2-afe2-4373-8e1e-7eb31d68d8c8",
   "metadata": {},
   "outputs": [],
   "source": [
    "time.sleep(1.5)\n",
    "Generate_Report_btn_el = browser.find_element(\"id\", \"l_Dc-1-4\")\n",
    "Generate_Report_btn_el.click()"
   ]
  },
  {
   "cell_type": "markdown",
   "id": "42a45c11-585e-4a62-86b1-cd7035bef499",
   "metadata": {},
   "source": [
    "## Searching RP-500 - Distribution - GL"
   ]
  },
  {
   "cell_type": "code",
   "execution_count": 302,
   "id": "c2a92765-4e80-453d-ac27-1be48a843c24",
   "metadata": {},
   "outputs": [],
   "source": [
    "browser.switch_to.window(browser.window_handles[0])\n",
    "browser.implicitly_wait(1.5)\n",
    "input_field_el = browser.find_element(\"id\", \"Dc-h\")\n",
    "input_field_el.send_keys(\"RP-500 - Distribution - GL\")\n",
    "input_field_el.send_keys(Keys.ENTER) "
   ]
  },
  {
   "cell_type": "markdown",
   "id": "b601834e-b8c7-4cfd-961c-83c6b9540d53",
   "metadata": {},
   "source": [
    "## Clicking thr Generate Report button"
   ]
  },
  {
   "cell_type": "code",
   "execution_count": 303,
   "id": "4c88aa63-2ebb-475e-865f-5499cb9c260b",
   "metadata": {},
   "outputs": [],
   "source": [
    "time.sleep(1.5)\n",
    "Generate_btn_el = browser.find_element(\"id\", \"l_Dc-6-37\")\n",
    "Generate_btn_el.click()"
   ]
  },
  {
   "cell_type": "markdown",
   "id": "6f0ae7d0-78d4-4819-9a72-7a9c332d10eb",
   "metadata": {},
   "source": [
    "## Selecting Gross Receipts"
   ]
  },
  {
   "cell_type": "code",
   "execution_count": 304,
   "id": "94306cf1-9eb2-4460-a6e7-2f090a990749",
   "metadata": {},
   "outputs": [],
   "source": [
    "time.sleep(1.5)\n",
    "Revenue_Group_el = browser.find_element(\"name\", \"Dg-2\")\n",
    "Revenue_Group_el.send_keys(\"Gross Receipts\")\n",
    "Revenue_Group_el.send_keys(Keys.ENTER)"
   ]
  },
  {
   "cell_type": "markdown",
   "id": "2c3a69d4-7e10-4e0e-81e5-add38d834b0c",
   "metadata": {},
   "source": [
    "## Clicking the Generate button"
   ]
  },
  {
   "cell_type": "code",
   "execution_count": 305,
   "id": "9c86ba21-32f8-40af-8ffb-e59cb8b9c71e",
   "metadata": {},
   "outputs": [
    {
     "name": "stdout",
     "output_type": "stream",
     "text": [
      "Next page is loaded!\n"
     ]
    }
   ],
   "source": [
    "time.sleep(1.5)\n",
    "Generate_btn_el = browser.find_element(\"id\", \"caption2_Dc-7\")\n",
    "Generate_btn_el.click()\n",
    "\n",
    "# Set the delay in seconds\n",
    "delay = 180\n",
    "\n",
    "# Wait for the next page to be loaded\n",
    "try:\n",
    "    WebDriverWait(browser, delay).until(EC.url_changes(browser.current_url))\n",
    "    print(\"Next page is loaded!\")\n",
    "    time.sleep(30)\n",
    "except TimeoutException:\n",
    "    print(\"Loading the next page took too much time!\")"
   ]
  },
  {
   "cell_type": "markdown",
   "id": "3f34c997-6dc7-4304-ac15-7221048c12c0",
   "metadata": {},
   "source": [
    "## Clicking Export to excel button"
   ]
  },
  {
   "cell_type": "code",
   "execution_count": 306,
   "id": "caa24978-eaf5-4e0a-9c36-0c91577d284e",
   "metadata": {},
   "outputs": [
    {
     "name": "stdout",
     "output_type": "stream",
     "text": [
      "Page is ready!\n"
     ]
    }
   ],
   "source": [
    "delay = 180 # seconds\n",
    "try:\n",
    "    WebDriverWait(browser, delay).until(EC.presence_of_element_located((\"id\", 'Dc-9')))\n",
    "    print (\"Page is ready!\")\n",
    "    time.sleep(3)\n",
    "except TimeoutException:\n",
    "    print (\"Loading took too much time!\")\n",
    "    \n",
    "Export_to_excel_el = browser.find_element(\"id\", \"Dc-9\")\n",
    "Export_to_excel_el.click()\n"
   ]
  },
  {
   "cell_type": "code",
   "execution_count": 307,
   "id": "dcc978cb-7089-44cc-9e01-3c005d819be0",
   "metadata": {},
   "outputs": [],
   "source": [
    "time.sleep(3)\n",
    "folder_path = r'\\\\trdecomsrv\\H\\Alphie\\Temp'\n",
    "files_path = os.path.join(folder_path, '*')\n",
    "files = sorted(glob.iglob(files_path), key=os.path.getctime, reverse=True) \n",
    "last_file = (files[0]) #latest file \n",
    "# print (files[0],files[1])#latest two files"
   ]
  },
  {
   "cell_type": "code",
   "execution_count": 308,
   "id": "4fbd6334-68d1-402e-8d6b-bbf21ff4f8fa",
   "metadata": {},
   "outputs": [
    {
     "data": {
      "text/plain": [
       "'\\\\\\\\trdecomsrv\\\\H\\\\Alphie\\\\Temp\\\\696752128.xls'"
      ]
     },
     "execution_count": 308,
     "metadata": {},
     "output_type": "execute_result"
    }
   ],
   "source": [
    "last_file"
   ]
  },
  {
   "cell_type": "code",
   "execution_count": 309,
   "id": "4875d19e-1bcc-4830-a4e6-360492a4a508",
   "metadata": {},
   "outputs": [],
   "source": [
    "# file name with extension\n",
    "file_name = os.path.basename(last_file)\n",
    "\n",
    "# file name without extension\n",
    "file_name = (os.path.splitext(file_name)[0])"
   ]
  },
  {
   "cell_type": "code",
   "execution_count": 310,
   "id": "d6d4822f-66a8-4e3a-bec1-6235110cd084",
   "metadata": {},
   "outputs": [],
   "source": [
    "today = dt.date.today()\n",
    "first = today.replace(day=1)\n",
    "accrue_month_2 = first - dt.timedelta(days=32)"
   ]
  },
  {
   "cell_type": "code",
   "execution_count": 311,
   "id": "59b838ec-43b0-413d-bbd3-91e8a45b373b",
   "metadata": {},
   "outputs": [
    {
     "name": "stdout",
     "output_type": "stream",
     "text": [
      "202310\n"
     ]
    }
   ],
   "source": [
    "print(accrue_month_2.strftime(\"%Y%m\"))"
   ]
  },
  {
   "cell_type": "code",
   "execution_count": 312,
   "id": "a71b1987-153f-4fad-a053-50bc58135cad",
   "metadata": {},
   "outputs": [
    {
     "name": "stdout",
     "output_type": "stream",
     "text": [
      "WARNING *** file size (860169) not 512 + multiple of sector size (512)\n",
      "WARNING *** OLE2 inconsistency: SSCS size is 0 but SSAT size is non-zero\n"
     ]
    }
   ],
   "source": [
    "old_file = os.path.join(r\"\\\\trdecomsrv\\H\\Alphie\\Temp\", (file_name + \".xls\"))\n",
    "df =  pd.read_excel(old_file)\n",
    "df.to_excel('//trdecomsrv/H/Alphie/Temp/R temp/RP500_distribution_input.xlsx', index=False)"
   ]
  },
  {
   "cell_type": "code",
   "execution_count": 313,
   "id": "edf51bb0-0a11-4474-aee0-6fefe48845f3",
   "metadata": {},
   "outputs": [],
   "source": [
    "old_file = \"//trdecomsrv/H/Alphie/Temp/R temp/RP500_distribution_input.xlsx\"\n",
    "new_file = os.path.join(destination_folder, accrue_month_2.strftime(\"RP500-\" + (\"%Y%m\") + \".xlsx\"))\n",
    "try:\n",
    "  os.rename(old_file, new_file)\n",
    "except FileExistsError:\n",
    "  os.remove(new_file)\n",
    "  os.rename(old_file, new_file);"
   ]
  },
  {
   "cell_type": "code",
   "execution_count": 314,
   "id": "bcb714ca-6fd0-45b3-9a64-4e60aae98449",
   "metadata": {},
   "outputs": [],
   "source": [
    "import pandas as pd\n",
    "\n",
    "# Read the Excel file\n",
    "excel_file = new_file\n",
    "df = pd.read_excel(excel_file)\n",
    "df\n",
    "# # Specify the column to delete\n",
    "column_to_delete = [\"Unnamed: 1\", \"Unnamed: 8\", \"Unnamed: 9\"]  # Replace \"ColumnName\" with the actual column name\n",
    "\n",
    "# # Delete the column\n",
    "df.drop(column_to_delete, axis=1, inplace=True)\n",
    "\n",
    "# # Save the modified DataFrame to Excel\n",
    "output_file = new_file\n",
    "df.to_excel(output_file, index=False)"
   ]
  },
  {
   "cell_type": "code",
   "execution_count": 315,
   "id": "64d63d05-e79a-47db-9396-edcfefcdbfea",
   "metadata": {},
   "outputs": [],
   "source": [
    "from openpyxl import load_workbook\n",
    "excel_file = new_file\n",
    "workbook = load_workbook(excel_file)"
   ]
  },
  {
   "cell_type": "code",
   "execution_count": 316,
   "id": "0208a922-9da9-4205-9f42-ca77c6572ebd",
   "metadata": {},
   "outputs": [],
   "source": [
    "# Define the cells to delete\n",
    "worksheet = workbook[\"Sheet1\"]\n",
    "cells_to_delete = [\"B1\", \"C1\", \"D1\", \"E1\", \"F1\", \"G1\", \"H1\", \"I1\", \"J1\", \"K1\"]  # Example: Cells A1, B2, and C3\n",
    "# Iterate over the cells and delete their values\n",
    "for cell_to_delete in cells_to_delete:\n",
    "    worksheet[cell_to_delete].value = None"
   ]
  },
  {
   "cell_type": "code",
   "execution_count": 317,
   "id": "30964391-a872-46b5-85fb-99359008b191",
   "metadata": {},
   "outputs": [],
   "source": [
    "# # Define the columns to delete\n",
    "# columns_to_delete = [\"B\", \"I\", \"J\"]  # Example: Columns B, D, and F\n",
    "\n",
    "# # Iterate over the columns and delete them\n",
    "# for column_to_delete in columns_to_delete:\n",
    "#     column_index = worksheet[column_to_delete + \"3\"].column\n",
    "#     worksheet.delete_cols(column_index, amount=1)"
   ]
  },
  {
   "cell_type": "code",
   "execution_count": 318,
   "id": "ecf5a655-3a4a-41d6-8b6c-f24b955bebcf",
   "metadata": {},
   "outputs": [],
   "source": [
    "# Save the modified Excel file\n",
    "output_file = new_file\n",
    "workbook.save(output_file)"
   ]
  },
  {
   "cell_type": "code",
   "execution_count": 319,
   "id": "afad71f8-917e-47c7-b6bc-3646fffdea37",
   "metadata": {},
   "outputs": [
    {
     "data": {
      "text/plain": [
       "'//trdecomsrv/H/CRS Reports/RP-500 database/Unredacted/DistributionByAccrualMonth\\\\RP500-202310.xlsx'"
      ]
     },
     "execution_count": 319,
     "metadata": {},
     "output_type": "execute_result"
    }
   ],
   "source": [
    "shutil.copy2(new_file,'//trdecomsrv/H/CRS Reports/RP-500 database/Unredacted/DistributionByAccrualMonth')"
   ]
  },
  {
   "cell_type": "markdown",
   "id": "c0b79326-50e9-46e7-84dd-aefb9579ae56",
   "metadata": {},
   "source": [
    "## Running the R file to generate monthly tracker"
   ]
  },
  {
   "cell_type": "code",
   "execution_count": 320,
   "id": "9c3f5de1-2dc0-4ce1-87ef-7bba5d31c905",
   "metadata": {},
   "outputs": [],
   "source": [
    "import subprocess\n",
    "r_script_path = '//trdecomsrv/H/Alphie/Temp/Alphie runs R scripts/RP500 Distributions for Alphie.R'\n",
    "\n",
    "# Run the R script using subprocess\n",
    "try:\n",
    "    result = subprocess.run(['C:/Program Files/R/R-4.3.1/bin/Rscript.exe', r_script_path], capture_output=True, text=True)\n",
    "except FileNotFoundError:\n",
    "    result = subprocess.run(['C:/Program Files/R/R-4.3.2/bin/Rscript.exe', r_script_path], capture_output=True, text=True)\n",
    "# Print the output and error messages, if any \n",
    "# print('Output:', result.stdout) \n",
    "# print('Error:', result.stderr)"
   ]
  },
  {
   "cell_type": "markdown",
   "id": "2df506ff-3fbb-40b0-9151-9480becdc222",
   "metadata": {},
   "source": [
    "## Creating email attachment"
   ]
  },
  {
   "cell_type": "code",
   "execution_count": 321,
   "id": "0d9e6ce6-d3f0-4e70-a58b-4a115234235a",
   "metadata": {},
   "outputs": [],
   "source": [
    "RP500_compensating_email_item_1 = new_file"
   ]
  },
  {
   "cell_type": "markdown",
   "id": "d7fba33f-0711-4c07-9ffd-395ebd028f50",
   "metadata": {},
   "source": [
    "## Close the report"
   ]
  },
  {
   "cell_type": "code",
   "execution_count": 322,
   "id": "2fa375d1-311c-46a5-a993-80a97e356952",
   "metadata": {},
   "outputs": [],
   "source": [
    "time.sleep(5)\n",
    "close_button_el = browser.find_elements(By.XPATH, \"//button\")\n",
    "\n",
    "try:\n",
    "    for button in close_button_el:\n",
    "        if button.get_attribute('title') and 'Close Manager: RP-500 - Distribution - GL' in button.get_attribute('title'):\n",
    "            button.click();\n",
    "except ElementNotInteractableException:\n",
    "    time.sleep(5)\n",
    "    for button in close_button_el:\n",
    "        if button.get_attribute('title') and 'Close Manager: RP-500 - Distribution - GL' in button.get_attribute('title'):\n",
    "            button.click();        \n"
   ]
  },
  {
   "cell_type": "markdown",
   "id": "43ae2bc8-edc8-47d2-a4f9-6e337ee7e327",
   "metadata": {},
   "source": [
    "# Generating Oil & Gas tracker"
   ]
  },
  {
   "cell_type": "markdown",
   "id": "59e7d9b2-3a36-4248-9ec1-e4499fc17727",
   "metadata": {},
   "source": [
    "## Loading the website"
   ]
  },
  {
   "cell_type": "code",
   "execution_count": 323,
   "id": "80bd2004-d421-4c81-af2c-9a9008ef8b00",
   "metadata": {},
   "outputs": [],
   "source": [
    "# browser = webdriver.Chrome(options=chrome_options)\n",
    "# browser.maximize_window()\n",
    "# browser.switch_to.window(browser.window_handles[0])\n",
    "# browser.delete_all_cookies()"
   ]
  },
  {
   "cell_type": "code",
   "execution_count": 324,
   "id": "388d6693-b3a4-4513-8f1d-894f118019b9",
   "metadata": {},
   "outputs": [
    {
     "data": {
      "text/plain": [
       "<selenium.webdriver.remote.webelement.WebElement (session=\"cd470373eb7ab45332ec3e9e5548f9d0\", element=\"87C78E1C64F5CD308CD4747FB5D720E4_element_2316\")>"
      ]
     },
     "execution_count": 324,
     "metadata": {},
     "output_type": "execute_result"
    }
   ],
   "source": [
    "url = 'https://tap.state.nm.us/tap/_/#0'\n",
    "browser.get(url)\n",
    "browser.maximize_window()\n",
    "WebDriverWait(browser, 60).until(EC.presence_of_element_located((By.TAG_NAME, 'body')))"
   ]
  },
  {
   "cell_type": "markdown",
   "id": "4dadc193-1b27-4812-b895-79ab4a8278a3",
   "metadata": {},
   "source": [
    "## Clicking Oil and Gas Severance Reports"
   ]
  },
  {
   "cell_type": "code",
   "execution_count": 325,
   "id": "a84a4db1-587d-4bf8-991d-6ea54365529d",
   "metadata": {},
   "outputs": [
    {
     "name": "stdout",
     "output_type": "stream",
     "text": [
      "Page is ready!\n"
     ]
    }
   ],
   "source": [
    "time.sleep(3)\n",
    "Oil_and_Gas_Severance_Reports_el = browser.find_elements(By.XPATH, \"//a\")\n",
    "\n",
    "for a in Oil_and_Gas_Severance_Reports_el:\n",
    "    if a.get_attribute('id') and 'l_Dg-1-17' in a.get_attribute('id'):\n",
    "        a.click();\n",
    "\n",
    "time.sleep(2)\n",
    "\n",
    "delay = 60 # seconds\n",
    "try:\n",
    "    WebDriverWait(browser, delay).until(EC.presence_of_element_located((By.TAG_NAME, 'body')))\n",
    "    print (\"Page is ready!\")\n",
    "except TimeoutException:\n",
    "    print (\"Loading took too much time!\")"
   ]
  },
  {
   "cell_type": "markdown",
   "id": "3ac85778-f321-412d-bc3c-cf17fe758d01",
   "metadata": {},
   "source": [
    "## Clicking County Vol/Val by Filing Period"
   ]
  },
  {
   "cell_type": "code",
   "execution_count": 326,
   "id": "2005521f-dcf2-4130-9e15-36bef097ba66",
   "metadata": {},
   "outputs": [
    {
     "name": "stdout",
     "output_type": "stream",
     "text": [
      "Page is ready!\n"
     ]
    }
   ],
   "source": [
    "County_Vol_Val_by_Filing_Period_el = browser.find_elements(By.XPATH, \"//a\")\n",
    "\n",
    "for a in County_Vol_Val_by_Filing_Period_el:\n",
    "    if a.get_attribute('id') and 'l_Dh-1-2' in a.get_attribute('id'):\n",
    "        a.click();\n",
    "\n",
    "time.sleep(2)\n",
    "\n",
    "delay = 60 # seconds\n",
    "try:\n",
    "    WebDriverWait(browser, delay).until(EC.presence_of_element_located((By.TAG_NAME, 'body')))\n",
    "    print (\"Page is ready!\")\n",
    "except TimeoutException:\n",
    "    print (\"Loading took too much time!\")"
   ]
  },
  {
   "cell_type": "markdown",
   "id": "a0fe9209-f169-41a1-abca-ea73d8ddf196",
   "metadata": {},
   "source": [
    "## Defining Filing Period Form"
   ]
  },
  {
   "cell_type": "code",
   "execution_count": 327,
   "id": "3833e866-674a-47b1-9664-48453f1dd2d7",
   "metadata": {},
   "outputs": [
    {
     "name": "stdout",
     "output_type": "stream",
     "text": [
      "01/01/2014\n"
     ]
    }
   ],
   "source": [
    "# Define a specific date\n",
    "Filing_Period_Form = datetime(year=2014, month=1, day=1)\n",
    "\n",
    "# Print the date\n",
    "Filing_Period_Form = Filing_Period_Form.date()\n",
    "\n",
    "# Format the date as a string\n",
    "Filing_Period_Form = Filing_Period_Form.strftime(\"%m/%d/%Y\")\n",
    "\n",
    "# Print the formatted date\n",
    "print(Filing_Period_Form)"
   ]
  },
  {
   "cell_type": "markdown",
   "id": "b75974aa-fb5c-4ef4-9dfd-384c056e550c",
   "metadata": {},
   "source": [
    "## Defining Filing Period To"
   ]
  },
  {
   "cell_type": "code",
   "execution_count": 328,
   "id": "6ff1ba9d-2908-4cac-8c1d-7e4dc2c1569d",
   "metadata": {},
   "outputs": [
    {
     "name": "stdout",
     "output_type": "stream",
     "text": [
      "12/11/2023\n"
     ]
    }
   ],
   "source": [
    "now = dt.datetime.now()\n",
    "year = now.year\n",
    "\n",
    "ending_month_closing_day = 10\n",
    "ending_month = now.month \n",
    "\n",
    "ending_month_closing = dt.datetime (year, ending_month, ending_month_closing_day)\n",
    "\n",
    "ONE_DAY = dt.timedelta(days=1)\n",
    "HOLIDAYS_US = holidays.US()\n",
    "\n",
    "def next_business_day():\n",
    "    next_day = ending_month_closing + ONE_DAY\n",
    "    while next_day.weekday() in holidays.WEEKEND or next_day in HOLIDAYS_US:\n",
    "        next_day += ONE_DAY\n",
    "    return next_day;\n",
    "\n",
    "End_RA = next_business_day()\n",
    "Filing_Period_To = End_RA.strftime(\"%m/%d/%Y\")\n",
    "Filing_Period_To_2 = End_RA.strftime(\"%m-%d-%Y\")\n",
    "\n",
    "print(Filing_Period_To)"
   ]
  },
  {
   "cell_type": "markdown",
   "id": "8fe82a6d-77f4-44d2-bcbf-2f9a2aa1edba",
   "metadata": {},
   "source": [
    "## Inputing dates"
   ]
  },
  {
   "cell_type": "code",
   "execution_count": 329,
   "id": "6ccf8460-c0de-4789-8190-d127e4c79697",
   "metadata": {},
   "outputs": [],
   "source": [
    "time.sleep(1)\n",
    "Filing_Period_Form_el = browser.find_element(\"id\", \"Dh-5\")\n",
    "Filing_Period_Form_el.send_keys(Filing_Period_Form)\n",
    "Filing_Period_Form_el.send_keys(Keys.ENTER)"
   ]
  },
  {
   "cell_type": "code",
   "execution_count": 330,
   "id": "f1cb855a-8206-429c-9ebe-2f61671514b7",
   "metadata": {},
   "outputs": [],
   "source": [
    "time.sleep(1)\n",
    "Filing_Period_To_el = browser.find_element(\"id\", \"Dh-6\")\n",
    "Filing_Period_To_el.send_keys(Filing_Period_To)\n",
    "Filing_Period_To_el.send_keys(Keys.ENTER)"
   ]
  },
  {
   "cell_type": "markdown",
   "id": "789ca098-3b10-44bd-8fc2-d6662b71d936",
   "metadata": {},
   "source": [
    "## Clicking Generate button"
   ]
  },
  {
   "cell_type": "code",
   "execution_count": 331,
   "id": "9c295c2d-39c6-4224-b098-0ae96b2409f3",
   "metadata": {},
   "outputs": [
    {
     "name": "stdout",
     "output_type": "stream",
     "text": [
      "Next page is loaded!\n"
     ]
    }
   ],
   "source": [
    "time.sleep(1)\n",
    "Generate_btn_el = browser.find_element(\"id\", \"caption2_Dc-c\")\n",
    "Generate_btn_el.click()\n",
    "\n",
    "# Set the delay in seconds\n",
    "delay = 60\n",
    "\n",
    "# Wait for the next page to be loaded\n",
    "try:\n",
    "    WebDriverWait(browser, delay).until(EC.url_changes(browser.current_url))\n",
    "    print(\"Next page is loaded!\")\n",
    "except TimeoutException:\n",
    "    print(\"Loading the next page took too much time!\")"
   ]
  },
  {
   "cell_type": "markdown",
   "id": "cfe2a5dc-63d3-4dff-a390-c5af00f7be21",
   "metadata": {},
   "source": [
    "## Clicking the Export button"
   ]
  },
  {
   "cell_type": "code",
   "execution_count": 332,
   "id": "993d54fe-1f33-4d40-8997-23d52fb5aeb7",
   "metadata": {},
   "outputs": [
    {
     "name": "stdout",
     "output_type": "stream",
     "text": [
      "Page is ready!\n",
      "Download complete\n"
     ]
    }
   ],
   "source": [
    "delay = 60 # seconds\n",
    "try:\n",
    "    WebDriverWait(browser, delay).until(EC.presence_of_element_located((By.TAG_NAME, 'body')))\n",
    "    print (\"Page is ready!\")\n",
    "    time.sleep(1.5)\n",
    "except TimeoutException:\n",
    "    print (\"Loading took too much time!\")\n",
    "    \n",
    "time.sleep(1.5)\n",
    "Export_to_excel_el = browser.find_element(\"id\", \"l_Dj-j\")\n",
    "Export_to_excel_el.click()\n",
    "\n",
    "try:\n",
    "    wait = WebDriverWait(browser, 60)\n",
    "    wait.until(EC.number_of_windows_to_be(1))\n",
    "    print('Download complete')\n",
    "\n",
    "except TimeoutException:\n",
    "    print(\"oye what happened\")\n",
    "# browser.close()"
   ]
  },
  {
   "cell_type": "markdown",
   "id": "2374ee30-86cf-49d8-8050-8a6c0568d27d",
   "metadata": {},
   "source": [
    "## Renaming and moving input file"
   ]
  },
  {
   "cell_type": "code",
   "execution_count": 333,
   "id": "72990e3f-505e-49b3-85a3-2c5cfebd60ef",
   "metadata": {},
   "outputs": [
    {
     "data": {
      "text/plain": [
       "'\\\\\\\\trdecomsrv\\\\H\\\\Alphie\\\\Temp\\\\County Vol_Val By Filing Period 202312141659.ods'"
      ]
     },
     "execution_count": 333,
     "metadata": {},
     "output_type": "execute_result"
    }
   ],
   "source": [
    "time.sleep(3)\n",
    "folder_path = r'\\\\trdecomsrv\\H\\Alphie\\Temp'\n",
    "files_path = os.path.join(folder_path, '*')\n",
    "files = sorted(glob.iglob(files_path), key=os.path.getctime, reverse=True) \n",
    "last_file = (files[0]) #latest file \n",
    "last_file\n",
    "# print (files[0],files[1])#latest two files"
   ]
  },
  {
   "cell_type": "code",
   "execution_count": 334,
   "id": "73960586-08fb-4e87-b96d-270d438c3089",
   "metadata": {},
   "outputs": [],
   "source": [
    "# file name with extension\n",
    "file_name = os.path.basename(last_file)\n",
    "\n",
    "# file name without extension\n",
    "file_name = (os.path.splitext(file_name)[0])"
   ]
  },
  {
   "cell_type": "code",
   "execution_count": 335,
   "id": "56e6896d-c5ac-4964-bc5c-46a34cec5124",
   "metadata": {},
   "outputs": [],
   "source": [
    "time.sleep(3)\n",
    "old_file = os.path.join(r\"\\\\trdecomsrv\\H\\Alphie\\Temp\", (file_name + \".ods\"))\n",
    "tracker_input = shutil.copy2(old_file, r\"\\\\trdecomsrv\\H\\Alphie\\Temp\\R temp\")\n",
    "old_file = shutil.move(old_file, destination_folder)\n",
    "new_file = os.path.join(destination_folder, (\"County Vol_Val By Filing Period\" + \" \" +Filing_Period_To_2 + \" \" + \"CY14-CY23\"+\".xls\"))\n",
    "new_file_2 = os.path.join(r\"\\\\trdecomsrv\\H\\Alphie\\Temp\\R temp\", (\"Oil Tracker Input\"+\".ods\"))\n",
    "\n",
    "try:\n",
    "  os.rename(old_file, new_file)\n",
    "except FileExistsError:\n",
    "  os.remove(new_file)\n",
    "  os.rename(old_file, new_file);\n",
    "\n",
    "try:\n",
    "  os.rename(tracker_input, new_file_2)\n",
    "except FileExistsError:\n",
    "  os.remove(new_file_2)\n",
    "  os.rename(tracker_input, new_file_2);    \n",
    "\n",
    "browser.close()\n",
    "# tracker_input_file = new_file"
   ]
  },
  {
   "cell_type": "code",
   "execution_count": 336,
   "id": "6b9d4007-a09a-4cf9-9ebe-369c86060f45",
   "metadata": {},
   "outputs": [],
   "source": [
    "tracker_input_email_item = new_file"
   ]
  },
  {
   "cell_type": "markdown",
   "id": "c443053b-3738-4bfa-9b1c-c611baa4b4c9",
   "metadata": {},
   "source": [
    "## Running the R file to generate monthly tracker"
   ]
  },
  {
   "cell_type": "code",
   "execution_count": 337,
   "id": "ea2baf49-78f3-42c9-b9a5-27a5bd72b9b2",
   "metadata": {},
   "outputs": [
    {
     "name": "stdout",
     "output_type": "stream",
     "text": [
      "Output: \n",
      "Error: \n",
      "Attaching package: 'lubridate'\n",
      "\n",
      "The following objects are masked from 'package:base':\n",
      "\n",
      "    date, intersect, setdiff, union\n",
      "\n",
      "\n",
      "Attaching package: 'dplyr'\n",
      "\n",
      "The following objects are masked from 'package:stats':\n",
      "\n",
      "    filter, lag\n",
      "\n",
      "The following objects are masked from 'package:base':\n",
      "\n",
      "    intersect, setdiff, setequal, union\n",
      "\n",
      "\n"
     ]
    }
   ],
   "source": [
    "import subprocess\n",
    "r_script_path = '//trdecomsrv/H/Alphie/Temp/Alphie runs R scripts/Oil and Natural Gas Monthly Tracking_for Alphie.R'\n",
    "\n",
    "# Run the R script using subprocess\n",
    "result = subprocess.run(['C:/Program Files/R/R-4.3.2/bin/Rscript.exe', r_script_path], capture_output=True, text=True)\n",
    "\n",
    "# Print the output and error messages, if any \n",
    "print('Output:', result.stdout) \n",
    "print('Error:', result.stderr)"
   ]
  },
  {
   "cell_type": "markdown",
   "id": "60166f27-2ff8-46b3-a265-f4e148a828f0",
   "metadata": {},
   "source": [
    "## Copying Oil and Gas monthly tracker files"
   ]
  },
  {
   "cell_type": "code",
   "execution_count": 338,
   "id": "fffd1310-d09f-4609-9017-17291aae5647",
   "metadata": {},
   "outputs": [],
   "source": [
    "o_n_g_folder = '//Trdecomsrv/H/Oil and Gas/Data/GenTax/CountyVol_Val'\n",
    "shutil.copy(tracker_input_email_item, o_n_g_folder)\n",
    "\n",
    "old_file = '//trdecomsrv/H/Alphie/Temp/R temp/Tracker Output.xlsx'\n",
    "new_file = os.path.join(r\"\\\\trdecomsrv\\H\\Alphie\\Temp\\R temp\",  End_RA.strftime(\"County Vol_Val Oil and Gas Monthly Tracker\" +\" \"+ \"%m-%d-%Y\"+\".xlsx\"))\n",
    "try:\n",
    "  os.rename(old_file, new_file)\n",
    "except FileExistsError:\n",
    "  os.remove(new_file)\n",
    "  os.rename(old_file, new_file)"
   ]
  },
  {
   "cell_type": "markdown",
   "id": "f3012ded-c3cc-490c-8d48-c8dee4a36d7c",
   "metadata": {},
   "source": [
    "## Creating email item"
   ]
  },
  {
   "cell_type": "code",
   "execution_count": 339,
   "id": "0fcab244-773b-4af8-bb62-25225621c6b6",
   "metadata": {},
   "outputs": [
    {
     "data": {
      "text/plain": [
       "'//Trdecomsrv/H/Alphie\\\\2023-Dec-14 at 16h-49m-54s by asifr\\\\County Vol_Val Oil and Gas Monthly Tracker 12-11-2023.xlsx'"
      ]
     },
     "execution_count": 339,
     "metadata": {},
     "output_type": "execute_result"
    }
   ],
   "source": [
    "tracker_output_email_item = new_file\n",
    "shutil.copy(tracker_output_email_item, o_n_g_folder)\n",
    "shutil.copy(tracker_output_email_item, destination_folder)"
   ]
  },
  {
   "cell_type": "markdown",
   "id": "4308a462-033f-4cce-a3e0-bf5469d46c21",
   "metadata": {},
   "source": [
    "# Copying the reports to their folders"
   ]
  },
  {
   "cell_type": "markdown",
   "id": "648b0f47-4d0f-4f1e-94e5-158ede431417",
   "metadata": {},
   "source": [
    "## Copying Fuel reports"
   ]
  },
  {
   "cell_type": "code",
   "execution_count": 340,
   "id": "67670cb8-b1ae-4fe1-82f7-6991391cf191",
   "metadata": {},
   "outputs": [
    {
     "data": {
      "text/plain": [
       "'//trdecomsrv/H/Combined Fuels Tax/CFT Report Suite\\\\CFY & Alt Fuel Suite 2023-11\\\\alt 14-Nov-2023 to 11-Dec-2023.xls'"
      ]
     },
     "execution_count": 340,
     "metadata": {},
     "output_type": "execute_result"
    }
   ],
   "source": [
    "try:\n",
    "    os.mkdir('//trdecomsrv/H/Combined Fuels Tax/CFT Report Suite/' +  accrue_month_1.strftime('CFY & Alt Fuel Suite %Y-%m'))\n",
    "except FileExistsError:\n",
    "    shutil.rmtree('//trdecomsrv/H/Combined Fuels Tax/CFT Report Suite/' +  accrue_month_1.strftime('CFY & Alt Fuel Suite %Y-%m'))    \n",
    "    os.mkdir('//trdecomsrv/H/Combined Fuels Tax/CFT Report Suite/' +  accrue_month_1.strftime('CFY & Alt Fuel Suite %Y-%m'))\n",
    "    folder_path = '//trdecomsrv/H/Combined Fuels Tax/CFT Report Suite/'\n",
    "    files_path = os.path.join(folder_path, '*')\n",
    "    files = sorted(glob.iglob(files_path), key=os.path.getctime, reverse=True)\n",
    "    fuel_report_folder_1 = (files[0])\n",
    "    time.sleep(1.5)\n",
    "    \n",
    "shutil.copy(fuel_reprt_email_item_1, fuel_report_folder_1)\n",
    "shutil.copy(fuel_reprt_email_item_2, fuel_report_folder_1)\n",
    "shutil.copy(fuel_reprt_email_item_3, fuel_report_folder_1)\n",
    "shutil.copy(fuel_reprt_email_item_4, fuel_report_folder_1)\n",
    "shutil.copy(fuel_reprt_email_item_5, fuel_report_folder_1)"
   ]
  },
  {
   "cell_type": "code",
   "execution_count": 341,
   "id": "e2d7f16c-3278-4088-8540-454f0bbfa796",
   "metadata": {},
   "outputs": [
    {
     "data": {
      "text/plain": [
       "'//trdecomsrv/H/Combined Fuels Tax/Ag Biodiesel reports\\\\2023 10.pdf'"
      ]
     },
     "execution_count": 341,
     "metadata": {},
     "output_type": "execute_result"
    }
   ],
   "source": [
    "biodiesel_folder = '//trdecomsrv/H/Combined Fuels Tax/Ag Biodiesel reports'\n",
    "shutil.copy2(biodiesel_email_item_1, biodiesel_folder)\n",
    "shutil.copy2(biodiesel_email_item_2, biodiesel_folder)"
   ]
  },
  {
   "cell_type": "code",
   "execution_count": 342,
   "id": "075073e2-3f6b-4b1a-8a78-09e37b849aaa",
   "metadata": {},
   "outputs": [],
   "source": [
    "# tabula.convert_into(biodiesel_email_item_1, os.path.join(biodiesel_folder, current_date.strftime(\"%Y\") + \" \" + \"Q\" + str(current_quarter)) + \".csv\", output_format=\"csv\", pages = 'all')\n",
    "# tabula.convert_into(biodiesel_email_item_2, os.path.join(biodiesel_folder, accrue_month_2.strftime(\"%Y %m\")) + \".csv\", output_format=\"csv\", pages = 'all')"
   ]
  },
  {
   "cell_type": "code",
   "execution_count": 343,
   "id": "a414355d-9796-4e8e-907b-1e87029af592",
   "metadata": {},
   "outputs": [
    {
     "data": {
      "text/plain": [
       "'//trdecomsrv/H/Combined Fuels Tax/CFT Data Collection/CFT Locations Report-DataMart/Locations Reports\\\\Gasoline Gallons by Locations 2023-10.xls'"
      ]
     },
     "execution_count": 343,
     "metadata": {},
     "output_type": "execute_result"
    }
   ],
   "source": [
    "fuel_report_folder_2 = '//trdecomsrv/H/Combined Fuels Tax/CFT Data Collection/CFT Locations Report-DataMart/Locations Reports'\n",
    "shutil.copy2(fuel_reprt_email_item_6, fuel_report_folder_2)"
   ]
  },
  {
   "cell_type": "markdown",
   "id": "91d409d1-dfa3-4020-bd8e-bab0b26ff985",
   "metadata": {},
   "source": [
    "## Copying CIT"
   ]
  },
  {
   "cell_type": "code",
   "execution_count": 344,
   "id": "06ef923a-1216-4ce2-911e-f89277bd34ed",
   "metadata": {},
   "outputs": [
    {
     "data": {
      "text/plain": [
       "'//Trdecomsrv/h/CIT/Distributions to General Fund/GenTax Reports/FY2024\\\\CIT-Prelim. Nov 2023 Reporting Generic Distribution Report (Oct 2023 Accrual).pdf'"
      ]
     },
     "execution_count": 344,
     "metadata": {},
     "output_type": "execute_result"
    }
   ],
   "source": [
    "cit_folder = '//Trdecomsrv/h/CIT/Distributions to General Fund/GenTax Reports/FY2024'\n",
    "shutil.copy(cit_email_item_1, cit_folder)"
   ]
  },
  {
   "cell_type": "markdown",
   "id": "ec547d5d-0d7b-479e-bb07-64ca49f63806",
   "metadata": {},
   "source": [
    "## Copying Sara's reports"
   ]
  },
  {
   "cell_type": "code",
   "execution_count": 345,
   "id": "c3c3c32d-0129-4179-96a8-c8664e00add9",
   "metadata": {},
   "outputs": [
    {
     "data": {
      "text/plain": [
       "'//Trdecomsrv/h/PIT/Distributions to General Fund/GenTax Reports/FY2024\\\\2023-Dec-14 at 00h-00m-00s by asifr\\\\OGP-O-Prelim. Nov 2023 Reporting Generic Distribution Report (Oct 2023 Accrual).pdf'"
      ]
     },
     "execution_count": 345,
     "metadata": {},
     "output_type": "execute_result"
    }
   ],
   "source": [
    "try:\n",
    "    os.mkdir('//Trdecomsrv/h/PIT/Distributions to General Fund/GenTax Reports/FY2024/' +  today.strftime('%Y-%b-%d at %Hh-%Mm-%Ss') +' ' + 'by' + ' ' + os.getlogin())\n",
    "    folder_path = '//Trdecomsrv/h/PIT/Distributions to General Fund/GenTax Reports/FY2024/'\n",
    "    files_path = os.path.join(folder_path, '*')\n",
    "    files = sorted(glob.iglob(files_path), key=os.path.getctime, reverse=True)\n",
    "    saras_report_folder = (files[0])\n",
    "    time.sleep(3)\n",
    "except FileExistsError:\n",
    "    shutil.rmtree('//Trdecomsrv/h/PIT/Distributions to General Fund/GenTax Reports/FY2024/' +  today.strftime('%Y-%b-%d at %Hh-%Mm-%Ss') +' ' + 'by' + ' ' + os.getlogin())    \n",
    "    os.mkdir('//Trdecomsrv/h/PIT/Distributions to General Fund/GenTax Reports/FY2024/' +  today.strftime('%Y-%b-%d at %Hh-%Mm-%Ss') +' ' + 'by' + ' ' + os.getlogin())\n",
    "    folder_path = '//Trdecomsrv/h/PIT/Distributions to General Fund/GenTax Reports/FY2024/'\n",
    "    files_path = os.path.join(folder_path, '*')\n",
    "    files = sorted(glob.iglob(files_path), key=os.path.getctime, reverse=True)\n",
    "    saras_report_folder = (files[0])\n",
    "    time.sleep(3)\n",
    "    \n",
    "shutil.copy(ogp_r_email_item_1, saras_report_folder)\n",
    "shutil.copy(pit_email_item_1, saras_report_folder)\n",
    "shutil.copy(ptw_o_email_item_1, saras_report_folder)\n",
    "shutil.copy(ptw_r_email_item_1, saras_report_folder)\n",
    "shutil.copy(wwt_email_item_1, saras_report_folder)\n",
    "\n",
    "shutil.copy(fid_email_item_1, saras_report_folder)\n",
    "shutil.copy(nwt_email_item_1, saras_report_folder)\n",
    "shutil.copy(ogp_email_item_1, saras_report_folder)\n",
    "shutil.copy(ogp_o_email_item_1, saras_report_folder)"
   ]
  },
  {
   "cell_type": "markdown",
   "id": "2296b33b-0782-4985-a5c0-134cb6cfe2cf",
   "metadata": {},
   "source": [
    "## Copying Pedro's reports"
   ]
  },
  {
   "cell_type": "code",
   "execution_count": 346,
   "id": "f6ffbe32-bb9a-488e-a7f2-9a5d4cc6ddd0",
   "metadata": {},
   "outputs": [
    {
     "data": {
      "text/plain": [
       "'//Trdecomsrv/H/Cannabis/Cannabis Excise Tax/Distribution Reports/FY23\\\\CAN-Prelim. Nov 2023 Reporting Generic Distribution Report (Oct 2023 Accrual).pdf'"
      ]
     },
     "execution_count": 346,
     "metadata": {},
     "output_type": "execute_result"
    }
   ],
   "source": [
    "pedro_folder_1 = '//Trdecomsrv/H/Distribution Reports/GenTax Summary by Tax/Preliminary for DFA'\n",
    "\n",
    "shutil.copy(grt_email_item_1, pedro_folder_1)\n",
    "shutil.copy(cmp_email_item_1, pedro_folder_1)\n",
    "\n",
    "pedro_folder_2 = '//Trdecomsrv/H/Cannabis/Cannabis Excise Tax/Distribution Reports/FY23'\n",
    "shutil.copy(can_email_item_1, pedro_folder_2)\n"
   ]
  },
  {
   "cell_type": "markdown",
   "id": "2de837c4-1711-4c65-a9c8-43cc365239e6",
   "metadata": {},
   "source": [
    "## Copying Lucinda's reports"
   ]
  },
  {
   "cell_type": "code",
   "execution_count": 347,
   "id": "515e2773-c30f-4aaf-a06a-24ab3b631456",
   "metadata": {},
   "outputs": [
    {
     "data": {
      "text/plain": [
       "'//trdecomsrv/H/Insurance/Distribution Reports/FY24\\\\IPH-Prelim. Nov 2023 Reporting Generic Distribution Report (Oct 2023 Accrual).pdf'"
      ]
     },
     "execution_count": 347,
     "metadata": {},
     "output_type": "execute_result"
    }
   ],
   "source": [
    "lucinda_folder = '//trdecomsrv/H/Insurance/Distribution Reports/FY24'\n",
    "\n",
    "shutil.copy(isi_email_item_1, lucinda_folder)\n",
    "shutil.copy(ipp_email_item_1, lucinda_folder)\n",
    "shutil.copy(ips_email_item_1, lucinda_folder)\n",
    "shutil.copy(iph_email_item_1, lucinda_folder)"
   ]
  },
  {
   "cell_type": "markdown",
   "id": "3fe52c12-e056-456a-88ff-1bf91e83417d",
   "metadata": {},
   "source": [
    "# Emailing the reports"
   ]
  },
  {
   "cell_type": "markdown",
   "id": "8b06961f-326d-464d-b23b-4ad166855f07",
   "metadata": {},
   "source": [
    "## Sending CIT"
   ]
  },
  {
   "cell_type": "markdown",
   "id": "d7706d80-f2c1-444c-ba5f-0f277c336cea",
   "metadata": {},
   "source": [
    "### Constructing Outlook application instance"
   ]
  },
  {
   "cell_type": "code",
   "execution_count": 348,
   "id": "4b6ba8b8-4937-45fc-9e4e-0d76aae4cbef",
   "metadata": {},
   "outputs": [],
   "source": [
    "olApp = win32.Dispatch('Outlook.Application.16')\n",
    "olNS = olApp.GetNameSpace('MAPI')"
   ]
  },
  {
   "cell_type": "markdown",
   "id": "1c1822a4-7094-4726-a1ee-d40db2888d64",
   "metadata": {},
   "source": [
    "### Writing the email"
   ]
  },
  {
   "cell_type": "code",
   "execution_count": 349,
   "id": "1a184f2e-7a03-4bc8-95de-9c4100e526b4",
   "metadata": {},
   "outputs": [],
   "source": [
    "\n",
    "# mailItem = olApp.CreateItem(0)\n",
    "# mailItem.Subject = accrue_month_1.strftime('Test Email: CIT Generic Distribution %b %Y')\n",
    "# mailItem.To = 'lucinda.sydow2@tax.nm.gov; pedro.clavijo@tax.nm.gov'\n",
    "# mailItem.CC = 'sara.grubbs@tax.nm.gov'\n",
    "\n",
    "# mailItem.BodyFormat = 1\n",
    "\n",
    "# mailItem.HTMLBody = accrue_month_1.strftime(\"Dear all, <br><br>\\nPlease find the CIT Generic Distribution Report for %b %Y attached to this email.  <br><br>\\n\\n Sincerely,<br>\\n Asif Rasool  <br><br>\\n\\n Senior Economist <br>\\n Tax Analysis, Research & Statistics <br>\\n Office of the Secretary <br>\\n New Mexico Taxation & Revenue Department <br>\\n Phone: 505 490 0904\")\n",
    "                \n",
    "\n",
    "# # # Attachments\n",
    "# # mailItem.Attachments.Add(os.path.join(r\"C:\\Users\\asifr\\OneDrive - State of New Mexico\\Desktop\\temp\", 'CIT-Prelim. Oct 2023 Reporting Generic Distribution Report (Sep 2023 Accrual).pdf'))\n",
    "# # mailItem.Attachments.Add(cit_email_item_1)\n",
    "# # mailItem.HTMLBody = Here is the <a href='http://www.python.org'>link</a> I need.\"\n",
    "\n",
    "\n",
    "# mailItem.Display()\n",
    "\n",
    "# mailItem.Save()\n",
    "# mailItem.Send()"
   ]
  },
  {
   "cell_type": "markdown",
   "id": "8160cd13-6f77-4bc5-840f-7d6f44c24490",
   "metadata": {},
   "source": [
    "# Writing the email"
   ]
  },
  {
   "cell_type": "code",
   "execution_count": 350,
   "id": "d9076134-f421-49e2-9f91-76c08164e4c2",
   "metadata": {},
   "outputs": [],
   "source": [
    "mailItem = olApp.CreateItem(0)\n",
    "mailItem.Subject = accrue_month_1.strftime('Automatic Email: GenTax reprots & tracker %b %Y')\n",
    "mailItem.To = 'lucinda.sydow2@tax.nm.gov; pedro.clavijo@tax.nm.gov'\n",
    "mailItem.CC = 'sara.grubbs@tax.nm.gov'\n",
    "\n",
    "mailItem.BodyFormat = 1\n",
    "\n",
    "mailItem.HTMLBody = accrue_month_1.strftime(\"Hello :) <br><br> I am Alphie. I have attached the distribution reports and trackers for %b %Y to this email. You will find all the reports <a href='\\\\trdecomsrv\\H\\Alphie'>here:</a> \\\\trdecomsrv\\H\\Alphie. <br><br>If you face any issues or find any errors, please get in touch with Asif Rasool <a href= 'asif.rasool@tax.nm.gov'>(asif.rasool@tax.nm.gov)</a>. He will fix me up. <br><br>Thanks, and have a nice day!<br><br>Alphie 1.01 <br>\")\n",
    "                \n",
    "\n",
    " \n",
    "# # Attachments\n",
    "# mailItem.Attachments.Add(os.path.join(r\"C:\\Users\\asifr\\OneDrive - State of New Mexico\\Desktop\\temp\", 'CIT-Prelim. Oct 2023 Reporting Generic Distribution Report (Sep 2023 Accrual).pdf'))\n",
    "\n",
    "mailItem.Attachments.Add(cit_email_item_1)\n",
    "mailItem.Attachments.Add(ogp_r_email_item_1)\n",
    "mailItem.Attachments.Add(pit_email_item_1)\n",
    "mailItem.Attachments.Add(ptw_o_email_item_1)\n",
    "mailItem.Attachments.Add(ptw_r_email_item_1)\n",
    "mailItem.Attachments.Add(wwt_email_item_1)\n",
    "mailItem.Attachments.Add(fid_email_item_1)\n",
    "mailItem.Attachments.Add(nwt_email_item_1)\n",
    "mailItem.Attachments.Add(ogp_email_item_1)\n",
    "mailItem.Attachments.Add(ogp_o_email_item_1)\n",
    "mailItem.Attachments.Add(can_email_item_1)\n",
    "mailItem.Attachments.Add(grt_email_item_1)\n",
    "mailItem.Attachments.Add(cmp_email_item_1)\n",
    "mailItem.Attachments.Add(isi_email_item_1)\n",
    "mailItem.Attachments.Add(ipp_email_item_1)\n",
    "mailItem.Attachments.Add(ips_email_item_1)\n",
    "mailItem.Attachments.Add(iph_email_item_1)\n",
    "mailItem.Attachments.Add(fuel_reprt_email_item_1)\n",
    "mailItem.Attachments.Add(fuel_reprt_email_item_2)\n",
    "mailItem.Attachments.Add(fuel_reprt_email_item_3)\n",
    "mailItem.Attachments.Add(fuel_reprt_email_item_4)\n",
    "mailItem.Attachments.Add(fuel_reprt_email_item_5)\n",
    "mailItem.Attachments.Add(fuel_reprt_email_item_6)\n",
    "mailItem.Attachments.Add(biodiesel_email_item_1)\n",
    "mailItem.Attachments.Add(biodiesel_email_item_2)\n",
    "mailItem.Attachments.Add(tracker_input_email_item)\n",
    "mailItem.Attachments.Add(tracker_output_email_item)\n",
    "\n",
    "mailItem.Display()\n",
    "\n",
    "# # mailItem.Save()\n",
    "# # mailItem.Send()"
   ]
  },
  {
   "cell_type": "markdown",
   "id": "8d702471-fcf9-4c11-8fa5-477042b56f1a",
   "metadata": {},
   "source": [
    "# Cleaning up Temp folders, variables, passwords etc."
   ]
  },
  {
   "cell_type": "code",
   "execution_count": 351,
   "id": "924a3ddd-3745-431c-8fdb-eb14fa339ef0",
   "metadata": {},
   "outputs": [],
   "source": [
    "folder_path = r'\\\\trdecomsrv\\H\\Alphie\\Temp\\R temp'\n",
    "\n",
    "# Get a list of all files in the folder\n",
    "file_list = os.listdir(folder_path)\n",
    "\n",
    "# Iterate over the files and delete each one\n",
    "for file_name in file_list:\n",
    "    file_path = os.path.join(folder_path, file_name)\n",
    "    if os.path.isfile(file_path):\n",
    "        os.remove(file_path)\n",
    "\n",
    "folder_path = r'\\\\trdecomsrv\\H\\Alphie\\Temp'\n",
    "\n",
    "# Get a list of all files in the folder\n",
    "file_list = os.listdir(folder_path)\n",
    "\n",
    "# Iterate over the files and delete each one\n",
    "for file_name in file_list:\n",
    "    file_path = os.path.join(folder_path, file_name)\n",
    "    if os.path.isfile(file_path):\n",
    "        os.remove(file_path)"
   ]
  },
  {
   "cell_type": "code",
   "execution_count": 352,
   "id": "f05186e7-4ed0-4042-894a-3bb222a94c34",
   "metadata": {},
   "outputs": [],
   "source": [
    "%reset -sf"
   ]
  },
  {
   "cell_type": "code",
   "execution_count": null,
   "id": "0bc2b6e4-4d02-46bb-9ad1-bd1d6dc90387",
   "metadata": {},
   "outputs": [],
   "source": []
  }
 ],
 "metadata": {
  "kernelspec": {
   "display_name": "Python 3 (ipykernel)",
   "language": "python",
   "name": "python3"
  },
  "language_info": {
   "codemirror_mode": {
    "name": "ipython",
    "version": 3
   },
   "file_extension": ".py",
   "mimetype": "text/x-python",
   "name": "python",
   "nbconvert_exporter": "python",
   "pygments_lexer": "ipython3",
   "version": "3.11.5"
  }
 },
 "nbformat": 4,
 "nbformat_minor": 5
}
