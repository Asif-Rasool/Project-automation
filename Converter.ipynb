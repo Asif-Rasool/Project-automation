{
 "cells": [
  {
   "cell_type": "markdown",
   "id": "b782bac1-6314-48e3-9a40-0f32a26b9e66",
   "metadata": {},
   "source": [
    "# Convert .ipynb to .R and .Rmd"
   ]
  },
  {
   "cell_type": "code",
   "execution_count": 1,
   "id": "342a0834-0c92-4bbe-a06a-1262c635de40",
   "metadata": {},
   "outputs": [],
   "source": [
    "# !pip install jupytext"
   ]
  },
  {
   "cell_type": "code",
   "execution_count": 2,
   "id": "18de150b-a429-4435-acc8-7e631dd2ac01",
   "metadata": {},
   "outputs": [],
   "source": [
    "import jupytext\n",
    "\n",
    "# Path to the input .ipynb file\n",
    "input_file = \"C:/Users/asifr/OneDrive - State of New Mexico/Documents/Project tobacco tracker/TRD's Tobacco Tax Tracker 1.2.ipynb\"\n",
    "\n",
    "# Path to the output .Rmd file\n",
    "output_file = \"C:/Users/asifr/OneDrive - State of New Mexico/Documents/Project tobacco tracker/TRD's Tobacco Tax Tracker 1.2.R\"\n",
    "\n",
    "# Read the .ipynb file as a notebook object\n",
    "notebook = jupytext.read(input_file)\n",
    "\n",
    "# Convert notebook to .Rmd\n",
    "jupytext.write(notebook, output_file, fmt=\"Rmd\")\n",
    "\n",
    "# Path to the input .ipynb file\n",
    "input_file = \"C:/Users/asifr/OneDrive - State of New Mexico/Documents/Project tobacco tracker/TRD's Tobacco Tax Tracker 1.2.ipynb\"\n",
    "\n",
    "# Path to the output .Rmd file\n",
    "output_file = \"C:/Users/asifr/OneDrive - State of New Mexico/Documents/Project tobacco tracker/TRD's Tobacco Tax Tracker 1.2.Rmd\"\n",
    "\n",
    "# Read the .ipynb file as a notebook object\n",
    "notebook = jupytext.read(input_file)\n",
    "\n",
    "# Convert notebook to .Rmd\n",
    "jupytext.write(notebook, output_file, fmt=\"Rmd\")"
   ]
  },
  {
   "cell_type": "markdown",
   "id": "aa9604af-ec36-4d76-81bd-53d4ff59ecc2",
   "metadata": {},
   "source": [
    "# Covert .Rmd to R"
   ]
  },
  {
   "cell_type": "code",
   "execution_count": 2,
   "id": "5cd2ff83-575d-4158-8537-06b299394ebb",
   "metadata": {},
   "outputs": [
    {
     "name": "stdout",
     "output_type": "stream",
     "text": [
      "Conversion successful! Saved as //trdecomsrv/H/Alphie/Temp/Alphie runs R scripts/Tobacco Tax Tracker 1.2 for Alphie.R\n"
     ]
    }
   ],
   "source": [
    "import re\n",
    "\n",
    "def convert_rmd_to_r(input_file, output_file):\n",
    "    try:\n",
    "        with open(input_file, 'r') as rmd_file:\n",
    "            rmd_content = rmd_file.read()\n",
    "\n",
    "            # Remove RMD-specific syntax\n",
    "            r_content = re.sub(r'```{.*?}\\n(.*?)```', r'\\1', rmd_content, flags=re.DOTALL)\n",
    "\n",
    "            # Save the cleaned content to a .R file\n",
    "            with open(output_file, 'w') as r_file:\n",
    "                r_file.write(r_content)\n",
    "\n",
    "        print(f\"Conversion successful! Saved as {output_file}\")\n",
    "    except Exception as e:\n",
    "        print(f\"Error during conversion: {str(e)}\")\n",
    "\n",
    "# Example usage\n",
    "input_rmd_file = r\"\\\\trdecomsrv\\H\\Tobacco Tax\\Data\\Tobacco Tax Tracker/Tobacco Tax Tracker 1.2.Rmd\"\n",
    "output_r_file = \"//trdecomsrv/H/Alphie/Temp/Alphie runs R scripts/Tobacco Tax Tracker 1.2 for Alphie.R\"\n",
    "convert_rmd_to_r(input_rmd_file, output_r_file)\n"
   ]
  },
  {
   "cell_type": "markdown",
   "id": "4ab98447-6d13-4d36-8edc-5062e3d2047f",
   "metadata": {},
   "source": [
    "# How to lock .ipynb File"
   ]
  },
  {
   "cell_type": "code",
   "execution_count": 1,
   "id": "2c6a94f1-b90e-4c5b-9d11-1b6abdc8416e",
   "metadata": {},
   "outputs": [],
   "source": [
    "import os\n",
    "\n",
    "# Specify the path to your .ipynb file\n",
    "ipynb_file_path = 'C:/Users/asifr/OneDrive - State of New Mexico/Documents/Project automation/test.ipynb'\n",
    "\n",
    "# Set the read-only permissions on the file\n",
    "os.chmod(ipynb_file_path, 0o444)"
   ]
  },
  {
   "cell_type": "code",
   "execution_count": 2,
   "id": "1d8748c4-b37b-4020-a5e2-afa847599799",
   "metadata": {},
   "outputs": [],
   "source": [
    "# Set the permissions to allow read and write access\n",
    "os.chmod(ipynb_file_path, 0o644)"
   ]
  }
 ],
 "metadata": {
  "kernelspec": {
   "display_name": "Python 3 (ipykernel)",
   "language": "python",
   "name": "python3"
  },
  "language_info": {
   "codemirror_mode": {
    "name": "ipython",
    "version": 3
   },
   "file_extension": ".py",
   "mimetype": "text/x-python",
   "name": "python",
   "nbconvert_exporter": "python",
   "pygments_lexer": "ipython3",
   "version": "3.11.7"
  }
 },
 "nbformat": 4,
 "nbformat_minor": 5
}
