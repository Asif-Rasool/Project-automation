{
 "cells": [
  {
   "cell_type": "code",
   "execution_count": 16,
   "id": "1a99a26a-f77c-4027-9336-0e6a1509a7a0",
   "metadata": {},
   "outputs": [
    {
     "name": "stdout",
     "output_type": "stream",
     "text": [
      "Collecting pypiwin32\n",
      "  Downloading pypiwin32-223-py3-none-any.whl (1.7 kB)\n",
      "Requirement already satisfied: pywin32>=223 in c:\\users\\asifr\\appdata\\local\\anaconda3\\lib\\site-packages (from pypiwin32) (306)\n",
      "Installing collected packages: pypiwin32\n",
      "Successfully installed pypiwin32-223\n"
     ]
    }
   ],
   "source": [
    "# !pip install pypiwin32"
   ]
  },
  {
   "cell_type": "code",
   "execution_count": 1,
   "id": "51edc98f-bba5-4280-8d85-2e82bc55c6bb",
   "metadata": {},
   "outputs": [],
   "source": [
    "\n",
    "import os\n",
    "import win32com.client as win32\n",
    "from win32com.client import Dispatch\n"
   ]
  },
  {
   "cell_type": "code",
   "execution_count": 4,
   "id": "189a1e77-19d2-4fa4-9588-cf10dc231420",
   "metadata": {},
   "outputs": [],
   "source": [
    "# construct Outlook application instance\n",
    "# olApp = win32.Dispatch('Outlook.Application')\n",
    "\n",
    "olApp = win32.Dispatch('Outlook.Application.16')\n",
    "olNS = olApp.GetNameSpace('MAPI')\n",
    "\n"
   ]
  },
  {
   "cell_type": "code",
   "execution_count": 8,
   "id": "b845bb6e-773c-48b4-a251-b33832873b04",
   "metadata": {},
   "outputs": [
    {
     "ename": "NameError",
     "evalue": "name 'olApp' is not defined",
     "output_type": "error",
     "traceback": [
      "\u001b[1;31m---------------------------------------------------------------------------\u001b[0m",
      "\u001b[1;31mNameError\u001b[0m                                 Traceback (most recent call last)",
      "Cell \u001b[1;32mIn[8], line 2\u001b[0m\n\u001b[0;32m      1\u001b[0m \u001b[38;5;66;03m# construct the email item object\u001b[39;00m\n\u001b[1;32m----> 2\u001b[0m mailItem \u001b[38;5;241m=\u001b[39m olApp\u001b[38;5;241m.\u001b[39mCreateItem(\u001b[38;5;241m0\u001b[39m)\n\u001b[0;32m      3\u001b[0m mailItem\u001b[38;5;241m.\u001b[39mSubject \u001b[38;5;241m=\u001b[39m \u001b[38;5;124m'\u001b[39m\u001b[38;5;124mDummy Email\u001b[39m\u001b[38;5;124m'\u001b[39m\n\u001b[0;32m      4\u001b[0m mailItem\u001b[38;5;241m.\u001b[39mBodyFormat \u001b[38;5;241m=\u001b[39m \u001b[38;5;241m1\u001b[39m\n",
      "\u001b[1;31mNameError\u001b[0m: name 'olApp' is not defined"
     ]
    }
   ],
   "source": [
    "# construct the email item object\n",
    "mailItem = olApp.CreateItem(0)\n",
    "mailItem.Subject = 'Dummy Email'\n",
    "mailItem.BodyFormat = 1\n",
    "mailItem.Body = \"Dear all,\\n This is a test message.\\n\\n Sincerely,\\n Asif Rasool \\n Graduate Research Assistant, and Ph.D. Candidate\"\n",
    "                \n",
    "\n",
    "mailItem.To = 'wicherman@gmail.com; azr496@psu.edu; asif.rasool@tax.nm.gov' \n",
    "\n",
    "mailItem.Attachments.Add(os.path.join(r\"C:\\Users\\asifr\\OneDrive - The Pennsylvania State University\\Desktop\", 'test.docx'))\n",
    "mailItem.Attachments.Add(os.path.join(r\"C:\\Users\\asifr\\OneDrive - The Pennsylvania State University\\Desktop\", 'code for email.txt'))\n",
    "\n",
    "# mailItem.Attachments.Add(os.path.join(os.getcwd(), 'csv file.png'))\n",
    "\n",
    "# mailItem.Display()\n",
    "\n",
    "# mailItem.Save()\n",
    "mailItem.Send()"
   ]
  },
  {
   "cell_type": "code",
   "execution_count": null,
   "id": "daea9208-30ae-4945-b212-6fe91a37b714",
   "metadata": {},
   "outputs": [],
   "source": []
  }
 ],
 "metadata": {
  "kernelspec": {
   "display_name": "Python 3 (ipykernel)",
   "language": "python",
   "name": "python3"
  },
  "language_info": {
   "codemirror_mode": {
    "name": "ipython",
    "version": 3
   },
   "file_extension": ".py",
   "mimetype": "text/x-python",
   "name": "python",
   "nbconvert_exporter": "python",
   "pygments_lexer": "ipython3",
   "version": "3.11.5"
  }
 },
 "nbformat": 4,
 "nbformat_minor": 5
}
