{
 "cells": [
  {
   "cell_type": "markdown",
   "id": "a58451b8-a792-4dbb-928d-0881a1eb78ae",
   "metadata": {},
   "source": [
    "# Importaning packages, and opening GenTax"
   ]
  },
  {
   "cell_type": "code",
   "execution_count": 1,
   "id": "de36a659-8199-47c8-b57b-4a171f2c8ec0",
   "metadata": {},
   "outputs": [],
   "source": [
    "# !pip install selenium\n",
    "# !pip install webdriver_manager\n",
    "# !pip install -U pyautoit\n",
    "import autoit\n",
    "import getpass\n",
    "import time\n",
    "\n",
    "from selenium import webdriver\n",
    "from selenium.webdriver.common.keys import Keys\n",
    "from selenium.webdriver.support.ui import WebDriverWait\n",
    "from selenium.webdriver.support import expected_conditions as EC\n",
    "from selenium.common.exceptions import TimeoutException\n",
    "from selenium.webdriver.common.by import By\n",
    "from selenium.webdriver.chrome.service import Service as ChromeService\n",
    "from webdriver_manager.chrome import ChromeDriverManager\n",
    "\n",
    "options = webdriver.ChromeOptions()\n",
    "\n",
    "options = webdriver.ChromeOptions()\n",
    "\n",
    "options.add_argument(\"--headless\")\n",
    "browser =webdriver.Chrome()\n",
    "browser = webdriver.Chrome(service = ChromeService(ChromeDriverManager().install(), options = options))\n",
    "\n"
   ]
  },
  {
   "cell_type": "markdown",
   "id": "d60d34e7-b1af-4f4a-9374-c21faf0fbe76",
   "metadata": {},
   "source": [
    "# Providing login credentials"
   ]
  },
  {
   "cell_type": "code",
   "execution_count": 2,
   "id": "2a06f310-8915-4408-adb7-ace32c32f226",
   "metadata": {},
   "outputs": [
    {
     "name": "stdin",
     "output_type": "stream",
     "text": [
      "Please type your GenTax login id:\n",
      " ········\n"
     ]
    }
   ],
   "source": [
    "my_login = getpass.getpass(\"Please type your GenTax login id:\\n\")"
   ]
  },
  {
   "cell_type": "code",
   "execution_count": 3,
   "id": "c8d944b8-3abd-4603-afb9-0d5bad5b7d67",
   "metadata": {},
   "outputs": [
    {
     "name": "stdin",
     "output_type": "stream",
     "text": [
      "Please type your GenTax password:\n",
      " ········\n"
     ]
    }
   ],
   "source": [
    "my_password = getpass.getpass(\"Please type your GenTax password:\\n\")"
   ]
  },
  {
   "cell_type": "code",
   "execution_count": 4,
   "id": "9275b624-1acb-4b22-b93f-afb8bd3254f9",
   "metadata": {},
   "outputs": [],
   "source": [
    "url = 'https://gentaxprod.trd.state.nm.us/GenTax/dPWmgh2N/#1'\n",
    "browser.get(url)\n",
    "browser.maximize_window()"
   ]
  },
  {
   "cell_type": "code",
   "execution_count": 5,
   "id": "a91c46a6-e047-499c-bcf8-de78a2c30702",
   "metadata": {},
   "outputs": [],
   "source": [
    "time.sleep(2)\n",
    "username_el = browser.find_element(\"name\", \"Dc-c\")\n",
    "username_el.send_keys(my_login)"
   ]
  },
  {
   "cell_type": "code",
   "execution_count": 6,
   "id": "67b8322d-0f0b-457a-bddf-7a5f8d842910",
   "metadata": {},
   "outputs": [],
   "source": [
    "password_el = browser.find_element(\"name\", \"Dc-d\")\n",
    "password_el.send_keys(my_password)"
   ]
  },
  {
   "cell_type": "markdown",
   "id": "61f706c7-d857-4522-b4f9-c93d27805a4f",
   "metadata": {},
   "source": [
    "# Clicking the logon button"
   ]
  },
  {
   "cell_type": "code",
   "execution_count": 7,
   "id": "c489436b-dc1c-4546-955b-a60029c69b39",
   "metadata": {},
   "outputs": [],
   "source": [
    "time.sleep(1.5)\n",
    "submit_btn_el = browser.find_element(\"css selector\", \"[class='ButtonCaptionText']\")"
   ]
  },
  {
   "cell_type": "code",
   "execution_count": 8,
   "id": "568047e7-b643-4eae-a94c-86b5e49610d9",
   "metadata": {},
   "outputs": [],
   "source": [
    "submit_btn_el.click()"
   ]
  },
  {
   "cell_type": "markdown",
   "id": "a7750ae1-0b47-4bf9-9581-606a8e0f1e98",
   "metadata": {},
   "source": [
    "# Clicking the Report button"
   ]
  },
  {
   "cell_type": "code",
   "execution_count": 9,
   "id": "4b97dac6-2c00-414d-af17-617f6a5cde6b",
   "metadata": {},
   "outputs": [],
   "source": [
    "time.sleep(1.5)\n",
    "report_btn_el = browser.find_element(\"id\", \"l_Dd-1-16\")\n",
    "report_btn_el.click()"
   ]
  },
  {
   "cell_type": "markdown",
   "id": "962f41d2-bae5-4a8d-8e84-e4167c7f172e",
   "metadata": {},
   "source": [
    "# Clicking the My Subscriptions button"
   ]
  },
  {
   "cell_type": "code",
   "execution_count": 10,
   "id": "952e0454-365d-4f9b-85eb-10fb4ce21075",
   "metadata": {},
   "outputs": [],
   "source": [
    "time.sleep(1.5)\n",
    "my_subscriptions_btn_el = browser.find_element(\"id\", \"l_Dc-1-5\")\n",
    "my_subscriptions_btn_el.click()"
   ]
  },
  {
   "cell_type": "markdown",
   "id": "0a40e956-f897-4916-b0d6-dd561019ec1d",
   "metadata": {},
   "source": [
    "# Working on GL Backend RA - Main report"
   ]
  },
  {
   "cell_type": "markdown",
   "id": "68503792-59b9-4c0e-8a83-7a89c1ce9529",
   "metadata": {},
   "source": [
    "## CIT"
   ]
  },
  {
   "cell_type": "markdown",
   "id": "6540b8a3-adf5-45f9-aedc-a4dad9defa57",
   "metadata": {},
   "source": [
    "### Clicking the Generate button"
   ]
  },
  {
   "cell_type": "code",
   "execution_count": 11,
   "id": "50b7420b-eba0-45fa-93a3-c9f2908c2c47",
   "metadata": {},
   "outputs": [],
   "source": [
    "time.sleep(3)\n",
    "GL_Backend_RA_Main_Generate_btn_el = browser.find_element(\"id\", \"l_Dc-5-17\")\n",
    "GL_Backend_RA_Main_Generate_btn_el.click()"
   ]
  },
  {
   "cell_type": "markdown",
   "id": "2961f907-afd4-4ac2-b50d-f59d314d4a9c",
   "metadata": {},
   "source": [
    "### Selecting CIT"
   ]
  },
  {
   "cell_type": "code",
   "execution_count": 12,
   "id": "cac107b8-a4e1-4872-89d9-13569f39ed85",
   "metadata": {},
   "outputs": [],
   "source": [
    "time.sleep(1.5)\n",
    "Revenue_Group_el = browser.find_element(\"name\", \"Dg-2\")\n",
    "Revenue_Group_el.send_keys(\"CIT\")\n",
    "Revenue_Group_el.send_keys(Keys.ENTER)"
   ]
  },
  {
   "cell_type": "markdown",
   "id": "0c570cc1-35d5-4359-a2f4-219396f5218d",
   "metadata": {},
   "source": [
    "### Clicking the Generate button"
   ]
  },
  {
   "cell_type": "code",
   "execution_count": 13,
   "id": "e5488c0c-6de7-408c-b519-d2626f1b5bfd",
   "metadata": {},
   "outputs": [],
   "source": [
    "time.sleep(1.5)\n",
    "Generate_btn_el = browser.find_element(\"id\", \"caption2_Dc-7\")\n",
    "Generate_btn_el.click()\n"
   ]
  },
  {
   "cell_type": "markdown",
   "id": "eed5be3f-b73c-4efa-9af4-25516543d04d",
   "metadata": {},
   "source": [
    "### Clicking the View Report button"
   ]
  },
  {
   "cell_type": "code",
   "execution_count": 14,
   "id": "35ff8227-ebc2-462c-ade1-653b0225894f",
   "metadata": {},
   "outputs": [
    {
     "name": "stdout",
     "output_type": "stream",
     "text": [
      "Loading took too much time!\n"
     ]
    }
   ],
   "source": [
    "delay = 10 # seconds\n",
    "try:\n",
    "    myElem = WebDriverWait(browser, delay).until(EC.presence_of_element_located((By.ID, 'IC_Dc-8')))\n",
    "    print (\"Page is ready!\")\n",
    "except TimeoutException:\n",
    "    print (\"Loading took too much time!\")\n",
    "     \n",
    "View_Report_el = browser.find_element(\"id\", \"Dc-8\")\n",
    "\n",
    "View_Report_el.click()\n",
    "time.sleep(1.5)"
   ]
  },
  {
   "cell_type": "markdown",
   "id": "12a6a74b-d725-47b2-89f2-b2e1ce7c049b",
   "metadata": {},
   "source": [
    "### Printing report"
   ]
  },
  {
   "cell_type": "code",
   "execution_count": 15,
   "id": "37d2326b-b7df-4c30-8d2d-52c3fbb6c323",
   "metadata": {},
   "outputs": [],
   "source": [
    "browser.switch_to.window(browser.window_handles[1])\n",
    "time.sleep(3)\n",
    "autoit.send(\"^p\")\n",
    "time.sleep(3) # Pause to allow the PDF printer to load\n",
    "autoit.send(\"{Enter}\")\n",
    "time.sleep(3) # Pause to allow the printer to print.\n",
    "autoit.send(\"cit\")\n",
    "autoit.send(\"{Enter}\")\n",
    "time.sleep(5)\n",
    "autoit.send(\"!{F4}\")\n",
    "time.sleep(3)\n",
    "browser.close()\n",
    "\n",
    "\n"
   ]
  },
  {
   "cell_type": "markdown",
   "id": "50b66770-7c0c-4513-99aa-b6218e24e2a1",
   "metadata": {},
   "source": [
    "### Close the report"
   ]
  },
  {
   "cell_type": "code",
   "execution_count": 16,
   "id": "15c84d57-f059-48ba-8084-c49038766aa0",
   "metadata": {},
   "outputs": [],
   "source": [
    "browser.switch_to.window(browser.window_handles[0])\n",
    "browser.implicitly_wait(1.5)\n",
    "\n",
    "close_button_el = browser.find_elements(By.XPATH, \"//button\")\n",
    "\n",
    "\n",
    "for button in close_button_el:\n",
    "    if button.get_attribute('title') and 'Close Manager: GL Backend RA - Main' in button.get_attribute('title'):\n",
    "        button.click();\n",
    "        \n",
    "    "
   ]
  },
  {
   "cell_type": "markdown",
   "id": "ad6d1f1b-ecee-4850-af0d-5cb1a8b8031f",
   "metadata": {},
   "source": [
    "## OGP-R"
   ]
  },
  {
   "cell_type": "markdown",
   "id": "eb07ec1b-4d23-4fac-a1db-dcd01217fbe3",
   "metadata": {},
   "source": [
    "### Clicking the Generate button"
   ]
  },
  {
   "cell_type": "code",
   "execution_count": 17,
   "id": "abd0f1fb-de09-4785-9899-b15a428cdfb6",
   "metadata": {},
   "outputs": [],
   "source": [
    "time.sleep(1.5)\n",
    "GL_Backend_RA_Main_Generate_btn_el = browser.find_element(\"id\", \"l_Dc-5-17\")\n",
    "GL_Backend_RA_Main_Generate_btn_el.click();"
   ]
  },
  {
   "cell_type": "markdown",
   "id": "6a6efbe6-352c-4db9-b139-e28bbbd4408f",
   "metadata": {},
   "source": [
    "### Selecting OGP-R"
   ]
  },
  {
   "cell_type": "code",
   "execution_count": 18,
   "id": "f4c53aaa-be38-4ed1-8a59-19576c157acc",
   "metadata": {},
   "outputs": [],
   "source": [
    "time.sleep(3)\n",
    "Revenue_Group_el = browser.find_element(\"name\", \"Dg-2\")\n",
    "Revenue_Group_el.send_keys(\"OGP-R\")\n",
    "Revenue_Group_el.send_keys(Keys.ENTER)"
   ]
  },
  {
   "cell_type": "markdown",
   "id": "f49d5a55-54f7-40d5-a228-1a7e25ab6772",
   "metadata": {},
   "source": [
    "### Clicking the Generate button"
   ]
  },
  {
   "cell_type": "code",
   "execution_count": 19,
   "id": "eff8f651-9fc6-41eb-88b3-a3d54de84d8d",
   "metadata": {},
   "outputs": [],
   "source": [
    "Generate_btn_el = browser.find_element(\"id\", \"caption2_Dc-7\")\n",
    "Generate_btn_el.click()"
   ]
  },
  {
   "cell_type": "markdown",
   "id": "72f42a33-9fce-40d9-8325-25706b67383b",
   "metadata": {},
   "source": [
    "### Clicking the View Report button"
   ]
  },
  {
   "cell_type": "code",
   "execution_count": 20,
   "id": "7f307002-c83b-4b9a-8850-282db8541054",
   "metadata": {},
   "outputs": [
    {
     "name": "stdout",
     "output_type": "stream",
     "text": [
      "Page is ready!\n"
     ]
    }
   ],
   "source": [
    "delay = 3 # seconds\n",
    "try:\n",
    "    myElem = WebDriverWait(browser, delay).until(EC.presence_of_element_located((By.ID, 'Dc-8')))\n",
    "    print (\"Page is ready!\")\n",
    "except TimeoutException:\n",
    "    print (\"Loading took too much time!\")\n",
    "time.sleep(10)     \n",
    "View_Report_el = browser.find_element(\"id\", \"Dc-8\")\n",
    "\n",
    "View_Report_el.click()\n",
    "time.sleep(1.5)"
   ]
  },
  {
   "cell_type": "markdown",
   "id": "89dec4a5-3a56-4cd8-9567-37fed9f104f3",
   "metadata": {},
   "source": [
    "### Printing report"
   ]
  },
  {
   "cell_type": "code",
   "execution_count": 21,
   "id": "07599ffc-1fdb-4e8f-b038-504aacb405a0",
   "metadata": {},
   "outputs": [],
   "source": [
    "browser.switch_to.window(browser.window_handles[1])\n",
    "time.sleep(3)\n",
    "autoit.send(\"^p\")\n",
    "time.sleep(3) # Pause to allow the PDF printer to load\n",
    "autoit.send(\"{Enter}\")\n",
    "time.sleep(3) # Pause to allow the printer to print.\n",
    "autoit.send(\"ogp-r\")\n",
    "autoit.send(\"{Enter}\")\n",
    "time.sleep(3)\n",
    "autoit.send(\"!{F4}\")\n",
    "time.sleep(3)\n",
    "browser.close()"
   ]
  },
  {
   "cell_type": "markdown",
   "id": "6777a86e-b5a9-4d8d-93ec-483989fddcad",
   "metadata": {},
   "source": [
    "### Close the report"
   ]
  },
  {
   "cell_type": "code",
   "execution_count": 22,
   "id": "d2ea111b-9bc7-46de-a9e6-d6bef8df3bdc",
   "metadata": {},
   "outputs": [],
   "source": [
    "browser.switch_to.window(browser.window_handles[0])\n",
    "browser.implicitly_wait(1.5)\n",
    "\n",
    "close_button_el = browser.find_elements(By.XPATH, \"//button\")\n",
    "\n",
    "for button in close_button_el:\n",
    "    if button.get_attribute('title') and 'Close Manager: GL Backend RA - Main' in button.get_attribute('title'):\n",
    "        button.click();\n",
    "        "
   ]
  },
  {
   "cell_type": "markdown",
   "id": "c732778b-5b9c-42af-92af-bf9d503aba7f",
   "metadata": {},
   "source": [
    "## PIT"
   ]
  },
  {
   "cell_type": "markdown",
   "id": "1e033f3a-2602-46d1-9009-0033a9348e27",
   "metadata": {},
   "source": [
    "### Clicking the Generate button"
   ]
  },
  {
   "cell_type": "code",
   "execution_count": 23,
   "id": "e70cd140-3c4e-4684-aaba-e13bcb74c26f",
   "metadata": {},
   "outputs": [],
   "source": [
    "time.sleep(1.5)\n",
    "GL_Backend_RA_Main_Generate_btn_el = browser.find_element(\"id\", \"l_Dc-5-17\")\n",
    "GL_Backend_RA_Main_Generate_btn_el.click();"
   ]
  },
  {
   "cell_type": "markdown",
   "id": "dc02c6c1-88a6-4408-a590-4df9a31dbd89",
   "metadata": {},
   "source": [
    "### Selecting PIT"
   ]
  },
  {
   "cell_type": "code",
   "execution_count": 24,
   "id": "7adc5513-6955-40e2-b10e-ff730ae55b95",
   "metadata": {},
   "outputs": [],
   "source": [
    "time.sleep(3)\n",
    "Revenue_Group_el = browser.find_element(\"name\", \"Dg-2\")\n",
    "Revenue_Group_el.send_keys(\"PIT\")\n",
    "Revenue_Group_el.send_keys(Keys.ENTER)"
   ]
  },
  {
   "cell_type": "markdown",
   "id": "d1b35822-3e60-47a8-b2bb-3d20ac1940b4",
   "metadata": {},
   "source": [
    "### Clicking the Generate button"
   ]
  },
  {
   "cell_type": "code",
   "execution_count": 25,
   "id": "a0ada25d-42e2-4c98-a253-db79cc5117a3",
   "metadata": {},
   "outputs": [],
   "source": [
    "Generate_btn_el = browser.find_element(\"id\", \"caption2_Dc-7\")\n",
    "Generate_btn_el.click()"
   ]
  },
  {
   "cell_type": "markdown",
   "id": "7734a58c-6c78-489d-9a1f-41dbd3572074",
   "metadata": {},
   "source": [
    "### Clicking the View Report button"
   ]
  },
  {
   "cell_type": "code",
   "execution_count": 26,
   "id": "db42cc63-83e4-4ee2-8381-580400e730fe",
   "metadata": {},
   "outputs": [
    {
     "name": "stdout",
     "output_type": "stream",
     "text": [
      "Page is ready!\n"
     ]
    }
   ],
   "source": [
    "delay = 3 # seconds\n",
    "try:\n",
    "    myElem = WebDriverWait(browser, delay).until(EC.presence_of_element_located((By.ID, 'Dc-8')))\n",
    "    print (\"Page is ready!\")\n",
    "except TimeoutException:\n",
    "    print (\"Loading took too much time!\")\n",
    "time.sleep(10)     \n",
    "View_Report_el = browser.find_element(\"id\", \"Dc-8\")\n",
    "\n",
    "View_Report_el.click()\n",
    "time.sleep(1.5)"
   ]
  },
  {
   "cell_type": "markdown",
   "id": "2bd26294-a158-4982-b9e8-0a7ad37b25f1",
   "metadata": {},
   "source": [
    "### Printing report"
   ]
  },
  {
   "cell_type": "code",
   "execution_count": 27,
   "id": "1b9a3a3a-42b8-4015-8a3b-660ae9a86b78",
   "metadata": {},
   "outputs": [],
   "source": [
    "browser.switch_to.window(browser.window_handles[1])\n",
    "time.sleep(3)\n",
    "autoit.send(\"^p\")\n",
    "time.sleep(3) # Pause to allow the PDF printer to load\n",
    "autoit.send(\"{Enter}\")\n",
    "time.sleep(3) # Pause to allow the printer to print.\n",
    "autoit.send(\"pit\")\n",
    "autoit.send(\"{Enter}\")\n",
    "time.sleep(3)\n",
    "autoit.send(\"!{F4}\")\n",
    "time.sleep(3)\n",
    "browser.close()"
   ]
  },
  {
   "cell_type": "markdown",
   "id": "8f0be3a2-ad43-4088-aa33-332a1bdfe2be",
   "metadata": {},
   "source": [
    "### Close the report"
   ]
  },
  {
   "cell_type": "code",
   "execution_count": 28,
   "id": "25cabd3f-0c22-473f-b16c-fbad5cac4e2a",
   "metadata": {},
   "outputs": [],
   "source": [
    "browser.switch_to.window(browser.window_handles[0])\n",
    "browser.implicitly_wait(1.5)\n",
    "\n",
    "close_button_el = browser.find_elements(By.XPATH, \"//button\")\n",
    "\n",
    "for button in close_button_el:\n",
    "    if button.get_attribute('title') and 'Close Manager: GL Backend RA - Main' in button.get_attribute('title'):\n",
    "        button.click();\n",
    "        "
   ]
  },
  {
   "cell_type": "markdown",
   "id": "453cb313-9820-470a-aded-48d4d91c0ca5",
   "metadata": {},
   "source": [
    "## PTW-O"
   ]
  },
  {
   "cell_type": "markdown",
   "id": "67da8d0d-3027-417d-9b0c-6013a583cff3",
   "metadata": {},
   "source": [
    "### Clicking the Generate button"
   ]
  },
  {
   "cell_type": "code",
   "execution_count": 29,
   "id": "c9944ddb-c731-463d-a582-5a8b22c74699",
   "metadata": {},
   "outputs": [],
   "source": [
    "time.sleep(1.5)\n",
    "GL_Backend_RA_Main_Generate_btn_el = browser.find_element(\"id\", \"l_Dc-5-17\")\n",
    "GL_Backend_RA_Main_Generate_btn_el.click();"
   ]
  },
  {
   "cell_type": "markdown",
   "id": "da50378e-221a-45e1-b367-97bff8e1226f",
   "metadata": {},
   "source": [
    "### Selecting PTW-O"
   ]
  },
  {
   "cell_type": "code",
   "execution_count": 30,
   "id": "bb2c17cf-2d9d-46cf-a789-a4dba39a512f",
   "metadata": {},
   "outputs": [],
   "source": [
    "time.sleep(3)\n",
    "Revenue_Group_el = browser.find_element(\"name\", \"Dg-2\")\n",
    "Revenue_Group_el.send_keys(\"PTW-O\")\n",
    "Revenue_Group_el.send_keys(Keys.ENTER)"
   ]
  },
  {
   "cell_type": "markdown",
   "id": "8a1fc71f-e4ec-44be-8336-f438fbf234b5",
   "metadata": {},
   "source": [
    "### Clicking the Generate button"
   ]
  },
  {
   "cell_type": "code",
   "execution_count": 31,
   "id": "ccdbc14b-4b3c-4fcf-a83d-bebc3a561a0a",
   "metadata": {},
   "outputs": [],
   "source": [
    "Generate_btn_el = browser.find_element(\"id\", \"caption2_Dc-7\")\n",
    "Generate_btn_el.click()"
   ]
  },
  {
   "cell_type": "markdown",
   "id": "a73de20d-a7dd-4287-9b8c-91d4170782b2",
   "metadata": {},
   "source": [
    "### Clicking the View Report button"
   ]
  },
  {
   "cell_type": "code",
   "execution_count": 32,
   "id": "083b3b07-f7c2-49e9-8aab-6547ddf442d7",
   "metadata": {},
   "outputs": [
    {
     "name": "stdout",
     "output_type": "stream",
     "text": [
      "Page is ready!\n"
     ]
    }
   ],
   "source": [
    "delay = 10 # seconds\n",
    "try:\n",
    "    myElem = WebDriverWait(browser, delay).until(EC.presence_of_element_located((By.ID, 'Dc-8')))\n",
    "    print (\"Page is ready!\")\n",
    "except TimeoutException:\n",
    "    print (\"Loading took too much time!\")\n",
    "time.sleep(10)     \n",
    "View_Report_el = browser.find_element(\"id\", \"Dc-8\")\n",
    "\n",
    "View_Report_el.click()\n",
    "time.sleep(1.5)"
   ]
  },
  {
   "cell_type": "markdown",
   "id": "1217b962-442e-4531-aab5-73c1fe832913",
   "metadata": {},
   "source": [
    "### Printing report"
   ]
  },
  {
   "cell_type": "code",
   "execution_count": 33,
   "id": "ca568dfb-f174-4aa7-8bf4-a16b4ccb41df",
   "metadata": {},
   "outputs": [],
   "source": [
    "browser.switch_to.window(browser.window_handles[1])\n",
    "time.sleep(3)\n",
    "autoit.send(\"^p\")\n",
    "time.sleep(3) # Pause to allow the PDF printer to load\n",
    "autoit.send(\"{Enter}\")\n",
    "time.sleep(3) # Pause to allow the printer to print.\n",
    "autoit.send(\"ptw-o\")\n",
    "autoit.send(\"{Enter}\")\n",
    "time.sleep(3)\n",
    "autoit.send(\"!{F4}\")\n",
    "time.sleep(3)\n",
    "browser.close()"
   ]
  },
  {
   "cell_type": "markdown",
   "id": "bf3a408c-e3b2-4c0b-a4c2-36c30243606a",
   "metadata": {},
   "source": [
    "### Close the report"
   ]
  },
  {
   "cell_type": "code",
   "execution_count": 34,
   "id": "3c1af8c7-ec7a-4cfb-8cda-5f8f92941f62",
   "metadata": {},
   "outputs": [],
   "source": [
    "browser.switch_to.window(browser.window_handles[0])\n",
    "browser.implicitly_wait(1.5)\n",
    "\n",
    "close_button_el = browser.find_elements(By.XPATH, \"//button\")\n",
    "\n",
    "for button in close_button_el:\n",
    "    if button.get_attribute('title') and 'Close Manager: GL Backend RA - Main' in button.get_attribute('title'):\n",
    "        button.click();\n",
    "        "
   ]
  },
  {
   "cell_type": "markdown",
   "id": "fcc772c0-85d9-48fc-8371-4982c88c70eb",
   "metadata": {},
   "source": [
    "## PTW-R"
   ]
  },
  {
   "cell_type": "markdown",
   "id": "b1d55fb6-2caa-4711-b6da-1f261dd31e2c",
   "metadata": {},
   "source": [
    "### Clicking the Generate button"
   ]
  },
  {
   "cell_type": "code",
   "execution_count": 35,
   "id": "14058c1f-4d71-4509-bea9-6e48e2d71d6e",
   "metadata": {},
   "outputs": [],
   "source": [
    "time.sleep(1.5)\n",
    "GL_Backend_RA_Main_Generate_btn_el = browser.find_element(\"id\", \"l_Dc-5-17\")\n",
    "GL_Backend_RA_Main_Generate_btn_el.click();"
   ]
  },
  {
   "cell_type": "markdown",
   "id": "1be1c5b5-7b5d-4b68-9188-2896b74f69d2",
   "metadata": {},
   "source": [
    "### Selecting PTW-R"
   ]
  },
  {
   "cell_type": "code",
   "execution_count": 36,
   "id": "74287613-27cf-4739-b409-303c9542554d",
   "metadata": {},
   "outputs": [],
   "source": [
    "time.sleep(3)\n",
    "Revenue_Group_el = browser.find_element(\"name\", \"Dg-2\")\n",
    "Revenue_Group_el.send_keys(\"PTW-R\")\n",
    "Revenue_Group_el.send_keys(Keys.ENTER)"
   ]
  },
  {
   "cell_type": "markdown",
   "id": "8c510793-303f-400b-b99c-9e23c1046592",
   "metadata": {},
   "source": [
    "### Clicking the Generate button"
   ]
  },
  {
   "cell_type": "code",
   "execution_count": 37,
   "id": "27d67f2d-c2e5-4a03-95bb-50ddc2bc9436",
   "metadata": {},
   "outputs": [],
   "source": [
    "Generate_btn_el = browser.find_element(\"id\", \"caption2_Dc-7\")\n",
    "Generate_btn_el.click()"
   ]
  },
  {
   "cell_type": "markdown",
   "id": "06d74262-df7f-49f9-bd80-4d1e9b9c04d3",
   "metadata": {},
   "source": [
    "### Clicking the View Report button"
   ]
  },
  {
   "cell_type": "code",
   "execution_count": 38,
   "id": "290c6a71-ebbd-457f-a58f-bd183aaf37ae",
   "metadata": {},
   "outputs": [
    {
     "name": "stdout",
     "output_type": "stream",
     "text": [
      "Page is ready!\n"
     ]
    }
   ],
   "source": [
    "delay = 3 # seconds\n",
    "try:\n",
    "    myElem = WebDriverWait(browser, delay).until(EC.presence_of_element_located((By.ID, 'Dc-8')))\n",
    "    print (\"Page is ready!\")\n",
    "except TimeoutException:\n",
    "    print (\"Loading took too much time!\")\n",
    "time.sleep(10)     \n",
    "View_Report_el = browser.find_element(\"id\", \"Dc-8\")\n",
    "\n",
    "View_Report_el.click()\n",
    "time.sleep(1.5)"
   ]
  },
  {
   "cell_type": "markdown",
   "id": "46bc0a63-24c1-4f54-9264-11ab31b6ea84",
   "metadata": {},
   "source": [
    "### Printing report"
   ]
  },
  {
   "cell_type": "code",
   "execution_count": 39,
   "id": "e713c498-243a-4a95-9586-f04ab6365c21",
   "metadata": {},
   "outputs": [],
   "source": [
    "browser.switch_to.window(browser.window_handles[1])\n",
    "time.sleep(3)\n",
    "autoit.send(\"^p\")\n",
    "time.sleep(3) # Pause to allow the PDF printer to load\n",
    "autoit.send(\"{Enter}\")\n",
    "time.sleep(3) # Pause to allow the printer to print.\n",
    "autoit.send(\"ptw-r\")\n",
    "autoit.send(\"{Enter}\")\n",
    "time.sleep(3)\n",
    "autoit.send(\"!{F4}\")\n",
    "time.sleep(3)\n",
    "browser.close()"
   ]
  },
  {
   "cell_type": "markdown",
   "id": "cec7485b-5dbe-4fa7-9f91-a2321d6bc2e5",
   "metadata": {},
   "source": [
    "### Close the report"
   ]
  },
  {
   "cell_type": "code",
   "execution_count": 40,
   "id": "545f6735-3d04-4367-b33f-e137713fe7d7",
   "metadata": {},
   "outputs": [],
   "source": [
    "browser.switch_to.window(browser.window_handles[0])\n",
    "browser.implicitly_wait(1.5)\n",
    "\n",
    "close_button_el = browser.find_elements(By.XPATH, \"//button\")\n",
    "\n",
    "for button in close_button_el:\n",
    "    if button.get_attribute('title') and 'Close Manager: GL Backend RA - Main' in button.get_attribute('title'):\n",
    "        button.click();\n",
    "        "
   ]
  },
  {
   "cell_type": "markdown",
   "id": "068fb5db-0dc2-454a-a656-77fb3204ee49",
   "metadata": {},
   "source": [
    "## WWT"
   ]
  },
  {
   "cell_type": "markdown",
   "id": "ace47e65-7784-4f20-9168-004e1621ab95",
   "metadata": {},
   "source": [
    "### Clicking the Generate button"
   ]
  },
  {
   "cell_type": "code",
   "execution_count": 41,
   "id": "3e1abe55-1ca3-4614-a4a4-26723f740115",
   "metadata": {},
   "outputs": [],
   "source": [
    "time.sleep(1.5)\n",
    "GL_Backend_RA_Main_Generate_btn_el = browser.find_element(\"id\", \"l_Dc-5-17\")\n",
    "GL_Backend_RA_Main_Generate_btn_el.click();"
   ]
  },
  {
   "cell_type": "markdown",
   "id": "344e8284-a23b-4425-af81-88081e22edd9",
   "metadata": {},
   "source": [
    "### Selecting WWT"
   ]
  },
  {
   "cell_type": "code",
   "execution_count": 42,
   "id": "9a03cef7-0c17-4238-9b94-75d5b31fdd7f",
   "metadata": {},
   "outputs": [],
   "source": [
    "time.sleep(5)\n",
    "Revenue_Group_el = browser.find_element(\"name\", \"Dg-2\")\n",
    "Revenue_Group_el.send_keys(\"WWT\")\n",
    "Revenue_Group_el.send_keys(Keys.ENTER)"
   ]
  },
  {
   "cell_type": "markdown",
   "id": "02935c07-dc47-486c-8db7-b3a769f72f00",
   "metadata": {},
   "source": [
    "### Clicking the Generate button"
   ]
  },
  {
   "cell_type": "code",
   "execution_count": 43,
   "id": "ce84f953-76b0-4624-a1dc-1f20d8a426c5",
   "metadata": {},
   "outputs": [],
   "source": [
    "Generate_btn_el = browser.find_element(\"id\", \"caption2_Dc-7\")\n",
    "Generate_btn_el.click()"
   ]
  },
  {
   "cell_type": "markdown",
   "id": "b5895a8b-4a59-46a8-b188-c7e07cd7bc7a",
   "metadata": {},
   "source": [
    "### Clicking the View Report button"
   ]
  },
  {
   "cell_type": "code",
   "execution_count": 44,
   "id": "d1068086-2276-4941-b915-255ff6998894",
   "metadata": {},
   "outputs": [
    {
     "name": "stdout",
     "output_type": "stream",
     "text": [
      "Page is ready!\n"
     ]
    }
   ],
   "source": [
    "delay = 10 # seconds\n",
    "try:\n",
    "    myElem = WebDriverWait(browser, delay).until(EC.presence_of_element_located((By.ID, 'Dc-8')))\n",
    "    print (\"Page is ready!\")\n",
    "except TimeoutException:\n",
    "    print (\"Loading took too much time!\")\n",
    "time.sleep(10)     \n",
    "View_Report_el = browser.find_element(\"id\", \"Dc-8\")\n",
    "\n",
    "View_Report_el.click()\n",
    "time.sleep(1.5)"
   ]
  },
  {
   "cell_type": "markdown",
   "id": "fb4c3d03-0db8-41bf-97e5-78909f2a8bfd",
   "metadata": {},
   "source": [
    "### Printing report"
   ]
  },
  {
   "cell_type": "code",
   "execution_count": 45,
   "id": "c31f07e9-4ea8-43ef-ba22-ca31e16bf18d",
   "metadata": {},
   "outputs": [],
   "source": [
    "browser.switch_to.window(browser.window_handles[1])\n",
    "time.sleep(3)\n",
    "autoit.send(\"^p\")\n",
    "time.sleep(3) # Pause to allow the PDF printer to load\n",
    "autoit.send(\"{Enter}\")\n",
    "time.sleep(3) # Pause to allow the printer to print.\n",
    "autoit.send(\"wwt\")\n",
    "autoit.send(\"{Enter}\")\n",
    "time.sleep(3)\n",
    "autoit.send(\"!{F4}\")\n",
    "time.sleep(3)\n",
    "browser.close()"
   ]
  },
  {
   "cell_type": "markdown",
   "id": "f1786c4c-379e-4fd0-9d39-f2e5ae1ad22c",
   "metadata": {},
   "source": [
    "### Close the report"
   ]
  },
  {
   "cell_type": "code",
   "execution_count": 46,
   "id": "c9b5ff78-ee74-4499-a680-09d5ea718d64",
   "metadata": {},
   "outputs": [],
   "source": [
    "browser.switch_to.window(browser.window_handles[0])\n",
    "browser.implicitly_wait(1.5)\n",
    "\n",
    "close_button_el = browser.find_elements(By.XPATH, \"//button\")\n",
    "\n",
    "for button in close_button_el:\n",
    "    if button.get_attribute('title') and 'Close Manager: GL Backend RA - Main' in button.get_attribute('title'):\n",
    "        button.click();\n",
    "        "
   ]
  },
  {
   "cell_type": "code",
   "execution_count": null,
   "id": "be6c7f68-f33f-4853-a518-2c907f523530",
   "metadata": {},
   "outputs": [],
   "source": []
  }
 ],
 "metadata": {
  "kernelspec": {
   "display_name": "Python 3 (ipykernel)",
   "language": "python",
   "name": "python3"
  },
  "language_info": {
   "codemirror_mode": {
    "name": "ipython",
    "version": 3
   },
   "file_extension": ".py",
   "mimetype": "text/x-python",
   "name": "python",
   "nbconvert_exporter": "python",
   "pygments_lexer": "ipython3",
   "version": "3.11.5"
  }
 },
 "nbformat": 4,
 "nbformat_minor": 5
}
