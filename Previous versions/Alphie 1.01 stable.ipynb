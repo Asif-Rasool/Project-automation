{
 "cells": [
  {
   "attachments": {
    "6395d056-2ebd-4209-a3cb-2e506c93246d.png": {
     "image/png": "[encoded data removed]"
    },
    "a54aa4c5-f333-4fa0-8181-fb1602c13f3d.jpg": {
     "image/jpeg": "[encoded data removed]"
    }
   },
   "cell_type": "markdown",
   "id": "3026b0c7-f230-4d08-8fc6-60529fb7b119",
   "metadata": {},
   "source": [
    "![trdlogo.jpg](attachment:a54aa4c5-f333-4fa0-8181-fb1602c13f3d.jpg)![alphie 1.01.png align=\"right\"](attachment:6395d056-2ebd-4209-a3cb-2e506c93246d.png )\n",
    "**<h1><p style=\"text-align: center;\">Alphie 1.01</p>**\n",
    "\n",
    "**<h2><p style=\"text-align: left;\">Getting started</p>**\n",
    "**<h3>Step 01: Setting up the Adobe PDF printer** (For Windows 11)\n",
    "\n",
    "Press: Window button -> Type: 'Printers' -> Click: 'Printers & scanners' -> Click: 'Adobe PDF' -> Click\" 'Set as default'\n",
    "\n",
    "Next, Click: 'Printer preferences' -> Select: 'Prompt for Adobe PDF filename' -> Click: 'Browse' -> Select: 'Desktop' -> Press: 'Ok' -> Press: 'Ok' again\n",
    "\n",
    "**<h3>Step 02: Select this Notebook or Browser window, then Press: 'Esc' on your keyboard -> Press: 'Ctrl+a' -> Press: 'Shift+Enter'**\n",
    "\n",
    "**<h3>Step 03: Provide your GenTax Login id when prompt, Press: 'Enter', Provide your password, when prompt -> Press: 'Enter'**\n",
    "\n",
    "**<h3>Important: Do not use your PC while the scirpt being executed. The process should take 7-10 minutes, and the browser will close upon completion** "
   ]
  },
  {
   "cell_type": "markdown",
   "id": "c8827bf1-f524-4d76-a6a3-1b9e4cdabaa8",
   "metadata": {},
   "source": [
    "# Installing and loading required packages"
   ]
  },
  {
   "cell_type": "code",
   "execution_count": 1,
   "id": "6f2d94fb-b4b3-434f-814c-d6b2685595f3",
   "metadata": {},
   "outputs": [],
   "source": [
    "# !pip install selenium\n",
    "# !pip install webdriver_manager\n",
    "# !pip install -U pyautoit\n",
    "# !pip install pypiwin32\n",
    "# !pip install --upgrade holidays\n",
    "\n",
    "import autoit\n",
    "import getpass\n",
    "import time\n",
    "import os \n",
    "import datetime\n",
    "import win32com.client as win32\n",
    "import holidays\n",
    "import glob\n",
    "import datetime as dt\n",
    "\n",
    "from datetime import datetime, timedelta\n",
    "from win32com.client import Dispatch\n",
    "from selenium import webdriver\n",
    "from selenium.webdriver.common.keys import Keys\n",
    "from selenium.webdriver.support.ui import WebDriverWait\n",
    "from selenium.webdriver.support import expected_conditions as EC\n",
    "from selenium.common.exceptions import TimeoutException\n",
    "from selenium.webdriver.common.by import By\n",
    "from selenium.webdriver.chrome.service import Service as ChromeService\n",
    "from webdriver_manager.chrome import ChromeDriverManager\n",
    "from win32com.shell import shell, shellcon\n",
    "\n",
    "options = webdriver.ChromeOptions()\n",
    "options.add_argument(\"--headless\")\n",
    "browser =webdriver.Chrome()\n",
    "# browser = webdriver.Chrome(service = ChromeService(ChromeDriverManager().install(), options = options))\n",
    "browser.maximize_window()\n",
    "browser.switch_to.window(browser.window_handles[0])"
   ]
  },
  {
   "cell_type": "markdown",
   "id": "73bd8523-ee07-4cf1-8582-7cd7daf1781f",
   "metadata": {},
   "source": [
    "# Change default Chrome download directory"
   ]
  },
  {
   "cell_type": "code",
   "execution_count": 2,
   "id": "d2a15caf-0de4-451c-9088-76b8da5b58bc",
   "metadata": {},
   "outputs": [],
   "source": [
    "from selenium.webdriver.chrome.options import Options\n",
    "\n",
    "options = Options()\n",
    "options.add_experimental_option(\"prefs\", {\n",
    "  \"download.default_directory\": r'\\\\trdecomsrv\\H\\Alphie\\Temp'\n",
    "  })\n",
    "browser = webdriver.Chrome(options=options)"
   ]
  },
  {
   "cell_type": "markdown",
   "id": "8429452c-1ed1-42f5-9d6c-18b83782ec6b",
   "metadata": {},
   "source": [
    "# Creating output folder"
   ]
  },
  {
   "cell_type": "code",
   "execution_count": 3,
   "id": "46b92f9c-9676-4bac-8d77-904dc3133109",
   "metadata": {},
   "outputs": [
    {
     "data": {
      "text/plain": [
       "'//Trdecomsrv/H/Alphie\\\\2023-Nov-29 at 11h-37m-05s'"
      ]
     },
     "execution_count": 3,
     "metadata": {},
     "output_type": "execute_result"
    }
   ],
   "source": [
    "today = datetime.now()\n",
    "\n",
    "os.mkdir(\"//Trdecomsrv/H/Alphie/\" + today.strftime('%Y-%b-%d at %Hh-%Mm-%Ss'))\n",
    "folder_path = \"//Trdecomsrv/H/Alphie/\"\n",
    "files_path = os.path.join(folder_path, '*')\n",
    "files = sorted(glob.iglob(files_path), key=os.path.getctime, reverse=True) \n",
    "destination_folder = (files[0])\n",
    "destination_folder\n"
   ]
  },
  {
   "cell_type": "markdown",
   "id": "3c36365c-cae0-4b45-a114-0c56e746eca2",
   "metadata": {},
   "source": [
    "# Getting Desktop directory"
   ]
  },
  {
   "cell_type": "code",
   "execution_count": 4,
   "id": "ba02ac17-9a85-414a-ac7a-9fc85a2887eb",
   "metadata": {},
   "outputs": [
    {
     "data": {
      "text/plain": [
       "'C:\\\\Users\\\\asifr\\\\OneDrive - State of New Mexico\\\\Desktop'"
      ]
     },
     "execution_count": 4,
     "metadata": {},
     "output_type": "execute_result"
    }
   ],
   "source": [
    "desktop = shell.SHGetFolderPath (0, shellcon.CSIDL_DESKTOP, 0, 0)\n",
    "desktop"
   ]
  },
  {
   "cell_type": "markdown",
   "id": "e8dd62e2-d4c8-40bd-aee5-0db692516df3",
   "metadata": {},
   "source": [
    "# Providing login credentials"
   ]
  },
  {
   "cell_type": "code",
   "execution_count": 5,
   "id": "01aa0677-77e2-4668-a812-904c74012a3b",
   "metadata": {},
   "outputs": [
    {
     "name": "stdin",
     "output_type": "stream",
     "text": [
      "Please type your GenTax login id:\n",
      " ········\n"
     ]
    }
   ],
   "source": [
    "my_login = getpass.getpass(\"Please type your GenTax login id:\\n\")"
   ]
  },
  {
   "cell_type": "code",
   "execution_count": 6,
   "id": "ce696216-8bac-4a86-92bc-561977a45896",
   "metadata": {},
   "outputs": [
    {
     "name": "stdin",
     "output_type": "stream",
     "text": [
      "Please type your GenTax password:\n",
      " ········\n"
     ]
    }
   ],
   "source": [
    "my_password = getpass.getpass(\"Please type your GenTax password:\\n\")"
   ]
  },
  {
   "cell_type": "code",
   "execution_count": 7,
   "id": "18d44979-24bc-47c3-9478-269241abc24d",
   "metadata": {},
   "outputs": [],
   "source": [
    "url = 'https://gentaxprod.trd.state.nm.us/GenTax/dPWmgh2N/#1'\n",
    "browser.get(url)\n",
    "browser.maximize_window()"
   ]
  },
  {
   "cell_type": "code",
   "execution_count": 8,
   "id": "2a33a4ce-c391-4fa5-acdf-1511feb5e852",
   "metadata": {},
   "outputs": [],
   "source": [
    "time.sleep(2)\n",
    "username_el = browser.find_element(\"name\", \"Dc-c\")\n",
    "username_el.send_keys(my_login)"
   ]
  },
  {
   "cell_type": "code",
   "execution_count": 9,
   "id": "1a0869f2-a7de-415c-9a2d-5ae5cc1f8adc",
   "metadata": {},
   "outputs": [],
   "source": [
    "password_el = browser.find_element(\"name\", \"Dc-d\")\n",
    "password_el.send_keys(my_password)"
   ]
  },
  {
   "cell_type": "markdown",
   "id": "c4eeb5e8-2ed4-49fe-8617-7ff361c277f6",
   "metadata": {},
   "source": [
    "# Clicking the logon button"
   ]
  },
  {
   "cell_type": "code",
   "execution_count": 10,
   "id": "e92c7bfd-2045-41de-8f0a-38d3818647b9",
   "metadata": {},
   "outputs": [],
   "source": [
    "time.sleep(1.5)\n",
    "submit_btn_el = browser.find_element(\"css selector\", \"[class='ButtonCaptionText']\")"
   ]
  },
  {
   "cell_type": "code",
   "execution_count": 11,
   "id": "bbaffa67-322d-4978-83dd-32a331316212",
   "metadata": {},
   "outputs": [],
   "source": [
    "submit_btn_el.click()"
   ]
  },
  {
   "cell_type": "markdown",
   "id": "f80ad1e8-1ba6-4a25-b10f-de3e283fe814",
   "metadata": {},
   "source": [
    "# Clicking the Report button"
   ]
  },
  {
   "cell_type": "code",
   "execution_count": 12,
   "id": "152211b6-e2d9-404c-9499-713983dc1c22",
   "metadata": {},
   "outputs": [],
   "source": [
    "time.sleep(1.5)\n",
    "Report_btn_el = browser.find_element(\"id\", \"l_Dd-1-16\")\n",
    "Report_btn_el.click()"
   ]
  },
  {
   "cell_type": "markdown",
   "id": "0b681461-bb1c-424b-961a-028f1d407f9b",
   "metadata": {},
   "source": [
    "# Clicking the Generate Report button"
   ]
  },
  {
   "cell_type": "code",
   "execution_count": 13,
   "id": "1e7a6ed5-ccbc-40ba-8194-6eb048564cfe",
   "metadata": {},
   "outputs": [],
   "source": [
    "time.sleep(1.5)\n",
    "Generate_Report_btn_el = browser.find_element(\"id\", \"l_Dc-1-4\")\n",
    "Generate_Report_btn_el.click()"
   ]
  },
  {
   "cell_type": "markdown",
   "id": "b563511b-605a-4307-a2c8-4d7116826c28",
   "metadata": {},
   "source": [
    "# Searching Fuel reports"
   ]
  },
  {
   "cell_type": "code",
   "execution_count": 14,
   "id": "15901a05-6fc5-46c5-b72d-e82f18e71956",
   "metadata": {},
   "outputs": [],
   "source": [
    "browser.switch_to.window(browser.window_handles[0])\n",
    "browser.implicitly_wait(1.5)\n",
    "\n",
    "input_field_el = browser.find_element(\"id\", \"Dc-h\")\n",
    "input_field_el.send_keys(\"Fuels report\")\n",
    "input_field_el.send_keys(Keys.ENTER)\n",
    "    "
   ]
  },
  {
   "cell_type": "markdown",
   "id": "538b98ab-3734-4533-8aca-9bc39cc04427",
   "metadata": {},
   "source": [
    "## Fuels Report (Ethanol Section)"
   ]
  },
  {
   "cell_type": "markdown",
   "id": "6a57c40f-0865-4848-afdc-0f6752a5cc9a",
   "metadata": {},
   "source": [
    "### Clicking thr Generate Report button"
   ]
  },
  {
   "cell_type": "code",
   "execution_count": 15,
   "id": "24d8e27a-91ad-450e-9861-661bb1497a33",
   "metadata": {},
   "outputs": [],
   "source": [
    "time.sleep(1.5)\n",
    "Generate_btn_el = browser.find_element(\"id\", \"l_Dc-6-73\")\n",
    "Generate_btn_el.click()"
   ]
  },
  {
   "cell_type": "markdown",
   "id": "e19463fd-35fc-48c0-9ab5-8a5f984b5bef",
   "metadata": {},
   "source": [
    "### Defining Begining_RA"
   ]
  },
  {
   "cell_type": "code",
   "execution_count": 16,
   "id": "155f7002-6eb6-4537-93ba-f230c7e68f59",
   "metadata": {},
   "outputs": [
    {
     "name": "stdout",
     "output_type": "stream",
     "text": [
      "2023-10-10 00:00:00\n",
      "11-Oct-2023\n"
     ]
    }
   ],
   "source": [
    "now = dt.datetime.now()\n",
    "\n",
    "begining_month_closing_day = 10\n",
    "begining_month = now.month -1\n",
    "year = now.year\n",
    "begining_month_closing = dt.datetime (year, begining_month, begining_month_closing_day)\n",
    "print(begining_month_closing)\n",
    "\n",
    "ONE_DAY = dt.timedelta(days=1)\n",
    "HOLIDAYS_US = holidays.US()\n",
    "\n",
    "def next_business_day():\n",
    "    next_day = begining_month_closing + ONE_DAY\n",
    "    while next_day.weekday() in holidays.WEEKEND or next_day in HOLIDAYS_US:\n",
    "        next_day += ONE_DAY\n",
    "    return next_day;\n",
    "\n",
    "Begin_RA = next_business_day()\n",
    "Begin_RA = Begin_RA.strftime(\"%d-%b-%Y\")\n",
    "print(Begin_RA)"
   ]
  },
  {
   "cell_type": "markdown",
   "id": "02ea3838-bdba-4487-b792-9d8ce966e6fa",
   "metadata": {},
   "source": [
    "### Defining End_RA"
   ]
  },
  {
   "cell_type": "code",
   "execution_count": 17,
   "id": "7795cb1b-f717-4c47-ae8d-8efcd84dcdf9",
   "metadata": {},
   "outputs": [
    {
     "name": "stdout",
     "output_type": "stream",
     "text": [
      "2023-11-10 00:00:00\n",
      "13-Nov-2023\n"
     ]
    }
   ],
   "source": [
    "ending_month_closing_day = 10\n",
    "ending_month = now.month \n",
    "\n",
    "ending_month_closing = dt.datetime (year, ending_month, ending_month_closing_day)\n",
    "print(ending_month_closing)\n",
    "\n",
    "def next_business_day():\n",
    "    next_day = ending_month_closing + ONE_DAY\n",
    "    while next_day.weekday() in holidays.WEEKEND or next_day in HOLIDAYS_US:\n",
    "        next_day += ONE_DAY\n",
    "    return next_day;\n",
    "\n",
    "End_RA = next_business_day()\n",
    "End_RA = End_RA.strftime(\"%d-%b-%Y\")\n",
    "print(End_RA)"
   ]
  },
  {
   "cell_type": "markdown",
   "id": "baf3add1-b750-49a5-9dbf-1a65dec67c57",
   "metadata": {},
   "source": [
    "### Inputing dates"
   ]
  },
  {
   "cell_type": "code",
   "execution_count": 18,
   "id": "a2dd65c2-3182-47cb-81bb-ef2f74028984",
   "metadata": {},
   "outputs": [],
   "source": [
    "time.sleep(1)\n",
    "Begin_RA_el = browser.find_element(\"id\", \"Dg-2\")\n",
    "Begin_RA_el.send_keys(Begin_RA)\n",
    "Begin_RA_el.send_keys(Keys.ENTER)"
   ]
  },
  {
   "cell_type": "code",
   "execution_count": 19,
   "id": "957be06e-b162-4bba-9f03-a4350503fcd4",
   "metadata": {},
   "outputs": [],
   "source": [
    "time.sleep(1)\n",
    "End_RA_el = browser.find_element(\"id\", \"Dg-3\")\n",
    "End_RA_el.send_keys(End_RA)\n",
    "End_RA_el.send_keys(Keys.ENTER)"
   ]
  },
  {
   "cell_type": "markdown",
   "id": "466922ad-3bf2-4575-8fff-3db635f579a5",
   "metadata": {},
   "source": [
    "### Clicking Generate button"
   ]
  },
  {
   "cell_type": "code",
   "execution_count": 20,
   "id": "beb184db-a753-4fb5-8957-5d75a59aef2f",
   "metadata": {},
   "outputs": [],
   "source": [
    "Generate_btn_el = browser.find_element(\"id\", \"caption2_Dc-7\")\n",
    "Generate_btn_el.click()\n",
    "time.sleep(5)"
   ]
  },
  {
   "cell_type": "markdown",
   "id": "657d4043-973c-482a-b7d9-26c9730326dc",
   "metadata": {},
   "source": [
    "### Clicking Export to excel button"
   ]
  },
  {
   "cell_type": "code",
   "execution_count": 21,
   "id": "759d4e34-05f8-4749-8d2d-d0904ef29edc",
   "metadata": {},
   "outputs": [],
   "source": [
    "Export_to_excel_el = browser.find_element(\"id\", \"Dc-9\")\n",
    "Export_to_excel_el.click()\n",
    "time.sleep(5)"
   ]
  },
  {
   "cell_type": "code",
   "execution_count": 22,
   "id": "3b0b94dc-769e-4efb-bd19-0cbcd6738716",
   "metadata": {},
   "outputs": [],
   "source": [
    "folder_path = r'\\\\trdecomsrv\\H\\Alphie\\Temp'\n",
    "files_path = os.path.join(folder_path, '*')\n",
    "files = sorted(glob.iglob(files_path), key=os.path.getctime, reverse=True) \n",
    "last_file = (files[0]) #latest file \n",
    "# print (files[0],files[1])#latest two files"
   ]
  },
  {
   "cell_type": "code",
   "execution_count": 23,
   "id": "304aacd6-dc3d-47ad-93d6-3bae4a92d5b3",
   "metadata": {},
   "outputs": [],
   "source": [
    "# file name with extension\n",
    "file_name = os.path.basename(last_file)\n",
    "\n",
    "# file name without extension\n",
    "file_name = (os.path.splitext(file_name)[0])"
   ]
  },
  {
   "cell_type": "code",
   "execution_count": 24,
   "id": "bf4e8e12-6eb7-447c-bc55-3aed81345d27",
   "metadata": {},
   "outputs": [
    {
     "data": {
      "text/plain": [
       "'2036045824'"
      ]
     },
     "execution_count": 24,
     "metadata": {},
     "output_type": "execute_result"
    }
   ],
   "source": [
    "file_name"
   ]
  },
  {
   "cell_type": "code",
   "execution_count": 25,
   "id": "2c904e5f-db63-4060-85be-febd00958d35",
   "metadata": {},
   "outputs": [],
   "source": [
    "import shutil\n",
    "old_file = os.path.join(r\"\\\\trdecomsrv\\H\\Alphie\\Temp\", (file_name + \".xls\"))\n",
    "old_file = shutil.move(old_file, destination_folder)\n",
    "new_file = os.path.join(destination_folder, (\"eth\" + \" \" +Begin_RA + \" \" + \"to\" + \" \" + End_RA + \".xls\"))\n",
    "\n",
    "try:\n",
    "  os.rename(old_file, new_file)\n",
    "except FileExistsError:\n",
    "  os.remove(new_file)\n",
    "  os.rename(old_file, new_file);\n"
   ]
  },
  {
   "cell_type": "markdown",
   "id": "36743b2a-4c93-4557-8a60-ee7618d4348a",
   "metadata": {},
   "source": [
    "### Creating email attachment"
   ]
  },
  {
   "cell_type": "code",
   "execution_count": 26,
   "id": "5554388f-7c13-4b74-8da7-db7619f7547b",
   "metadata": {},
   "outputs": [],
   "source": [
    "fuel_reprt_email_item_1 = new_file"
   ]
  },
  {
   "cell_type": "markdown",
   "id": "2d4816b8-5420-49ec-a558-abca56610880",
   "metadata": {},
   "source": [
    "### Close the report"
   ]
  },
  {
   "cell_type": "code",
   "execution_count": 27,
   "id": "c22d1d8d-13c7-4df8-a077-62fdf1b06cfc",
   "metadata": {},
   "outputs": [],
   "source": [
    "browser.switch_to.window(browser.window_handles[0])\n",
    "browser.implicitly_wait(1.5)\n",
    "\n",
    "close_button_el = browser.find_elements(By.XPATH, \"//button\")\n",
    "\n",
    "\n",
    "for button in close_button_el:\n",
    "    if button.get_attribute('title') and 'Close Manager: Fuels Report (Ethanol Section)' in button.get_attribute('title'):\n",
    "        button.click();\n",
    "        "
   ]
  },
  {
   "cell_type": "markdown",
   "id": "33f25c40-ac68-4bd6-9823-71c29d53ccac",
   "metadata": {},
   "source": [
    "## Fuels Report (Gasoline Section)"
   ]
  },
  {
   "cell_type": "markdown",
   "id": "cf39cab7-12cb-40de-8b53-e3f52560775e",
   "metadata": {},
   "source": [
    "### Clicking thr Generate Report button"
   ]
  },
  {
   "cell_type": "code",
   "execution_count": 28,
   "id": "2467f84a-ab2f-4525-be3e-1e1c4d4ce6a7",
   "metadata": {},
   "outputs": [],
   "source": [
    "options.add_experimental_option(\"prefs\", {\n",
    "  \"download.default_directory\": r'\\\\trdecomsrv\\H\\Alphie\\Temp'\n",
    "  })\n",
    "\n",
    "time.sleep(1.5)\n",
    "Generate_btn_el = browser.find_element(\"id\", \"l_Dc-6-36\")\n",
    "Generate_btn_el.click()"
   ]
  },
  {
   "cell_type": "markdown",
   "id": "54db2403-4140-4c12-a5d4-4fd7f7e9dd27",
   "metadata": {},
   "source": [
    "### Inputing dates"
   ]
  },
  {
   "cell_type": "code",
   "execution_count": 29,
   "id": "06e21922-6132-41e6-b9eb-4a76fda41c97",
   "metadata": {},
   "outputs": [],
   "source": [
    "time.sleep(1)\n",
    "Begin_RA_el = browser.find_element(\"id\", \"Dg-2\")\n",
    "Begin_RA_el.send_keys(Begin_RA)\n",
    "Begin_RA_el.send_keys(Keys.ENTER)"
   ]
  },
  {
   "cell_type": "code",
   "execution_count": 30,
   "id": "7187a3ee-5573-47a9-b706-25043402f8be",
   "metadata": {},
   "outputs": [],
   "source": [
    "time.sleep(1)\n",
    "End_RA_el = browser.find_element(\"id\", \"Dg-3\")\n",
    "End_RA_el.send_keys(End_RA)\n",
    "End_RA_el.send_keys(Keys.ENTER)"
   ]
  },
  {
   "cell_type": "markdown",
   "id": "689b72f6-7f7f-4442-82d3-50d7accbf930",
   "metadata": {},
   "source": [
    "### Clicking Generate button"
   ]
  },
  {
   "cell_type": "code",
   "execution_count": 31,
   "id": "a6fa44cd-635c-413a-bc0e-9f77aa37162d",
   "metadata": {},
   "outputs": [],
   "source": [
    "Generate_btn_el = browser.find_element(\"id\", \"caption2_Dc-7\")\n",
    "Generate_btn_el.click()\n",
    "time.sleep(5)"
   ]
  },
  {
   "cell_type": "markdown",
   "id": "cf3cbff0-a003-4617-8dee-15c84a22b57c",
   "metadata": {},
   "source": [
    "### Clicking Export to excel button"
   ]
  },
  {
   "cell_type": "code",
   "execution_count": 32,
   "id": "c8f50cd9-8138-46ca-8d9e-b73ea40713f5",
   "metadata": {},
   "outputs": [],
   "source": [
    "Export_to_excel_el = browser.find_element(\"id\", \"Dc-9\")\n",
    "Export_to_excel_el.click()\n",
    "time.sleep(5)"
   ]
  },
  {
   "cell_type": "code",
   "execution_count": 33,
   "id": "2ff7f173-1837-44a1-b9be-4426d759c95a",
   "metadata": {},
   "outputs": [],
   "source": [
    "folder_path = r'\\\\trdecomsrv\\H\\Alphie\\Temp'\n",
    "files_path = os.path.join(folder_path, '*')\n",
    "files = sorted(glob.iglob(files_path), key=os.path.getctime, reverse=True) \n",
    "last_file = (files[0]) #latest file \n",
    "# print (files[0],files[1])#latest two files"
   ]
  },
  {
   "cell_type": "code",
   "execution_count": 34,
   "id": "7276b0c0-4f51-4c74-8833-f5a93826a968",
   "metadata": {},
   "outputs": [],
   "source": [
    "# file name with extension\n",
    "file_name = os.path.basename(last_file)\n",
    "\n",
    "# file name without extension\n",
    "file_name = (os.path.splitext(file_name)[0])"
   ]
  },
  {
   "cell_type": "code",
   "execution_count": 35,
   "id": "6e71c873-6bdf-49e3-b8fa-d73a657c5e1d",
   "metadata": {},
   "outputs": [
    {
     "data": {
      "text/plain": [
       "'190879744'"
      ]
     },
     "execution_count": 35,
     "metadata": {},
     "output_type": "execute_result"
    }
   ],
   "source": [
    "file_name"
   ]
  },
  {
   "cell_type": "code",
   "execution_count": 36,
   "id": "0665defd-7d94-4f96-af6d-90405b1cd9ea",
   "metadata": {},
   "outputs": [],
   "source": [
    "old_file = os.path.join(r\"\\\\trdecomsrv\\H\\Alphie\\Temp\", (file_name + \".xls\"))\n",
    "old_file = shutil.move(old_file, destination_folder)\n",
    "new_file = os.path.join(destination_folder, (\"gas\" + \" \" +Begin_RA + \" \" + \"to\" + \" \" + End_RA + \".xls\"))\n",
    "try:\n",
    "  os.rename(old_file, new_file)\n",
    "except FileExistsError:\n",
    "  os.remove(new_file)\n",
    "  os.rename(old_file, new_file);\n"
   ]
  },
  {
   "cell_type": "markdown",
   "id": "a9ef7434-c552-459b-84dd-020f4910247b",
   "metadata": {},
   "source": [
    "### Creating email attachment"
   ]
  },
  {
   "cell_type": "code",
   "execution_count": 37,
   "id": "5bca4c9a-9eb3-4d42-ae55-54348a638fca",
   "metadata": {},
   "outputs": [],
   "source": [
    "fuel_reprt_email_item_2 = new_file"
   ]
  },
  {
   "cell_type": "markdown",
   "id": "2abbd954-768d-4257-ae60-536b32dd5922",
   "metadata": {},
   "source": [
    "### Close the report"
   ]
  },
  {
   "cell_type": "code",
   "execution_count": 38,
   "id": "0c058c9d-1ed4-4658-b9a4-c7f7304436ee",
   "metadata": {},
   "outputs": [],
   "source": [
    "browser.switch_to.window(browser.window_handles[0])\n",
    "browser.implicitly_wait(1.5)\n",
    "\n",
    "close_button_el = browser.find_elements(By.XPATH, \"//button\")\n",
    "\n",
    "\n",
    "for button in close_button_el:\n",
    "    if button.get_attribute('title') and 'Close Manager: Fuels Report (Gasoline Section)' in button.get_attribute('title'):\n",
    "        button.click();\n",
    "        "
   ]
  },
  {
   "cell_type": "markdown",
   "id": "fcff00f2-f30c-4258-b4ae-28f142e7cd61",
   "metadata": {},
   "source": [
    "## Fuels Report (Diesel Section)"
   ]
  },
  {
   "cell_type": "markdown",
   "id": "780880b1-6cf9-4f84-8266-181b7af2c57d",
   "metadata": {},
   "source": [
    "### Clicking thr Generate Report button"
   ]
  },
  {
   "cell_type": "code",
   "execution_count": 39,
   "id": "029becea-703e-4dac-821d-508f65f70b9c",
   "metadata": {},
   "outputs": [],
   "source": [
    "time.sleep(1.5)\n",
    "Generate_btn_el = browser.find_element(\"id\", \"l_Dc-6-156\")\n",
    "Generate_btn_el.click()"
   ]
  },
  {
   "cell_type": "markdown",
   "id": "f1b00770-fe71-48bc-979f-53b4b9d87ad1",
   "metadata": {},
   "source": [
    "### Inputing dates"
   ]
  },
  {
   "cell_type": "code",
   "execution_count": 40,
   "id": "a110afb5-4be7-40f9-8aa3-0a9be105f890",
   "metadata": {},
   "outputs": [],
   "source": [
    "time.sleep(1)\n",
    "Begin_RA_el = browser.find_element(\"id\", \"Dg-2\")\n",
    "Begin_RA_el.send_keys(Begin_RA)\n",
    "Begin_RA_el.send_keys(Keys.ENTER)"
   ]
  },
  {
   "cell_type": "code",
   "execution_count": 41,
   "id": "6404fddd-2a05-4dc3-a72f-d0375992e9c6",
   "metadata": {},
   "outputs": [],
   "source": [
    "time.sleep(1)\n",
    "End_RA_el = browser.find_element(\"id\", \"Dg-3\")\n",
    "End_RA_el.send_keys(End_RA)\n",
    "End_RA_el.send_keys(Keys.ENTER)"
   ]
  },
  {
   "cell_type": "markdown",
   "id": "d624ded5-1201-47eb-a2d1-65942ec05c6b",
   "metadata": {},
   "source": [
    "### Clicking Generate button"
   ]
  },
  {
   "cell_type": "code",
   "execution_count": 42,
   "id": "59854276-6541-4ecc-a844-6bd8ab8eb61f",
   "metadata": {},
   "outputs": [],
   "source": [
    "Generate_btn_el = browser.find_element(\"id\", \"caption2_Dc-7\")\n",
    "Generate_btn_el.click()\n",
    "time.sleep(5)"
   ]
  },
  {
   "cell_type": "markdown",
   "id": "076aade7-22c1-4c39-b434-5d0d53581125",
   "metadata": {},
   "source": [
    "### Clicking Export to excel button"
   ]
  },
  {
   "cell_type": "code",
   "execution_count": 43,
   "id": "2e5038b8-1422-42c8-a10a-2eb41dbf2e8b",
   "metadata": {},
   "outputs": [],
   "source": [
    "Export_to_excel_el = browser.find_element(\"id\", \"Dc-9\")\n",
    "Export_to_excel_el.click()\n",
    "time.sleep(5)"
   ]
  },
  {
   "cell_type": "code",
   "execution_count": 44,
   "id": "197493c9-cb11-4869-9c54-497bfe9bee46",
   "metadata": {},
   "outputs": [],
   "source": [
    "folder_path = r'\\\\trdecomsrv\\H\\Alphie\\Temp'\n",
    "files_path = os.path.join(folder_path, '*')\n",
    "files = sorted(glob.iglob(files_path), key=os.path.getctime, reverse=True) \n",
    "last_file = (files[0]) #latest file \n",
    "# print (files[0],files[1])#latest two files"
   ]
  },
  {
   "cell_type": "code",
   "execution_count": 45,
   "id": "81898dac-82ca-4eab-aa3a-ed00494b6d84",
   "metadata": {},
   "outputs": [],
   "source": [
    "# file name with extension\n",
    "file_name = os.path.basename(last_file)\n",
    "\n",
    "# file name without extension\n",
    "file_name = (os.path.splitext(file_name)[0])"
   ]
  },
  {
   "cell_type": "code",
   "execution_count": 46,
   "id": "6d3d7a9e-07b2-47fe-a49f-2e9c1723fc7c",
   "metadata": {},
   "outputs": [
    {
     "data": {
      "text/plain": [
       "'1264621568'"
      ]
     },
     "execution_count": 46,
     "metadata": {},
     "output_type": "execute_result"
    }
   ],
   "source": [
    "file_name"
   ]
  },
  {
   "cell_type": "code",
   "execution_count": 47,
   "id": "2988388f-babd-40ca-b8bf-9a57d1443c14",
   "metadata": {},
   "outputs": [],
   "source": [
    "old_file = os.path.join(r\"\\\\trdecomsrv\\H\\Alphie\\Temp\", (file_name + \".xls\"))\n",
    "old_file = shutil.move(old_file, destination_folder)\n",
    "new_file = os.path.join(destination_folder, (\"spf\" + \" \" +Begin_RA + \" \" + \"to\" + \" \" + End_RA + \".xls\"))\n",
    "try:\n",
    "  os.rename(old_file, new_file)\n",
    "except FileExistsError:\n",
    "  os.remove(new_file)\n",
    "  os.rename(old_file, new_file);\n"
   ]
  },
  {
   "cell_type": "markdown",
   "id": "1daeb198-3d16-4a17-8e36-973cb5bb5f9e",
   "metadata": {},
   "source": [
    "### Creating email attachment"
   ]
  },
  {
   "cell_type": "code",
   "execution_count": 48,
   "id": "80031607-edbf-472d-b048-2e2072a5a7a6",
   "metadata": {},
   "outputs": [],
   "source": [
    "fuel_reprt_email_item_3 = new_file"
   ]
  },
  {
   "cell_type": "markdown",
   "id": "0db54141-79c7-412f-9311-f1c4f4eb0141",
   "metadata": {},
   "source": [
    "### Close the report"
   ]
  },
  {
   "cell_type": "code",
   "execution_count": 49,
   "id": "bbf2ac0c-8b7c-4b31-a3f1-8fa1a02342ff",
   "metadata": {},
   "outputs": [],
   "source": [
    "browser.switch_to.window(browser.window_handles[0])\n",
    "browser.implicitly_wait(1.5)\n",
    "\n",
    "close_button_el = browser.find_elements(By.XPATH, \"//button\")\n",
    "\n",
    "\n",
    "for button in close_button_el:\n",
    "    if button.get_attribute('title') and 'Close Manager: Fuels Report (Diesel Section)' in button.get_attribute('title'):\n",
    "        button.click();\n",
    "        "
   ]
  },
  {
   "cell_type": "markdown",
   "id": "30e55215-3bf0-49c8-8f84-14461be458e4",
   "metadata": {},
   "source": [
    "## Fuels Report _CFT & I"
   ]
  },
  {
   "cell_type": "markdown",
   "id": "688cbc52-a7e3-4d6d-8892-a786fcd49070",
   "metadata": {},
   "source": [
    "### Clicking thr Generate Report button"
   ]
  },
  {
   "cell_type": "code",
   "execution_count": 50,
   "id": "e29b1523-d844-4a6e-92f3-9951f240bb80",
   "metadata": {},
   "outputs": [],
   "source": [
    "time.sleep(1.5)\n",
    "Generate_btn_el = browser.find_element(\"id\", \"l_Dc-6-99\")\n",
    "Generate_btn_el.click()"
   ]
  },
  {
   "cell_type": "markdown",
   "id": "102663ef-8af1-4619-88f0-52d3f4995f9f",
   "metadata": {},
   "source": [
    "### Inputing dates"
   ]
  },
  {
   "cell_type": "code",
   "execution_count": 51,
   "id": "892e5082-12e3-4aa3-b7a5-275450ec73d4",
   "metadata": {},
   "outputs": [],
   "source": [
    "time.sleep(1)\n",
    "Begin_RA_el = browser.find_element(\"id\", \"Dg-2\")\n",
    "Begin_RA_el.send_keys(Begin_RA)\n",
    "Begin_RA_el.send_keys(Keys.ENTER)"
   ]
  },
  {
   "cell_type": "code",
   "execution_count": 52,
   "id": "63bcac79-42f1-4724-a61a-065a7af8119c",
   "metadata": {},
   "outputs": [],
   "source": [
    "time.sleep(1)\n",
    "End_RA_el = browser.find_element(\"id\", \"Dg-3\")\n",
    "End_RA_el.send_keys(End_RA)\n",
    "End_RA_el.send_keys(Keys.ENTER)"
   ]
  },
  {
   "cell_type": "markdown",
   "id": "b407d49d-8072-4d1d-ac98-39cfdc4b25bf",
   "metadata": {},
   "source": [
    "### Clicking Generate button"
   ]
  },
  {
   "cell_type": "code",
   "execution_count": 53,
   "id": "11f33800-16e7-4bd4-9244-2580873f8e8c",
   "metadata": {},
   "outputs": [],
   "source": [
    "Generate_btn_el = browser.find_element(\"id\", \"caption2_Dc-7\")\n",
    "Generate_btn_el.click()\n",
    "time.sleep(20)"
   ]
  },
  {
   "cell_type": "markdown",
   "id": "8398daf3-217a-4e14-a69c-e3a4ad74ce9a",
   "metadata": {},
   "source": [
    "### Clicking Export to excel button"
   ]
  },
  {
   "cell_type": "code",
   "execution_count": 54,
   "id": "b23e3ad1-c854-43ba-b8ff-2e812f1b94ae",
   "metadata": {},
   "outputs": [
    {
     "name": "stdout",
     "output_type": "stream",
     "text": [
      "Page is ready!\n"
     ]
    }
   ],
   "source": [
    "delay = 60 # seconds\n",
    "try:\n",
    "    Export_to_excel_el = WebDriverWait(browser, delay).until(EC.presence_of_element_located((By.ID, 'Dc-9')))\n",
    "    print (\"Page is ready!\")\n",
    "except TimeoutException:\n",
    "    print (\"Loading took too much time!\")\n",
    "time.sleep(3)\n",
    "Export_to_excel_el = browser.find_element(\"id\", \"Dc-9\")\n",
    "\n",
    "# Export_to_excel_el = browser.find_element(\"id\", \"Dc-9\")\n",
    "Export_to_excel_el.click()\n",
    "time.sleep(5)"
   ]
  },
  {
   "cell_type": "code",
   "execution_count": 55,
   "id": "79c00573-0404-4130-a5cd-7aabadc8b768",
   "metadata": {},
   "outputs": [],
   "source": [
    "folder_path = r'\\\\trdecomsrv\\H\\Alphie\\Temp'\n",
    "files_path = os.path.join(folder_path, '*')\n",
    "files = sorted(glob.iglob(files_path), key=os.path.getctime, reverse=True) \n",
    "last_file = (files[0]) #latest file \n",
    "# print (files[0],files[1])#latest two files"
   ]
  },
  {
   "cell_type": "code",
   "execution_count": 56,
   "id": "628e7e61-7ca4-4d9f-bd74-aa21e61ade9a",
   "metadata": {},
   "outputs": [],
   "source": [
    "# file name with extension\n",
    "file_name = os.path.basename(last_file)\n",
    "\n",
    "# file name without extension\n",
    "file_name = (os.path.splitext(file_name)[0])"
   ]
  },
  {
   "cell_type": "code",
   "execution_count": 57,
   "id": "a0f1c570-d21b-4600-9a02-991d85e3c682",
   "metadata": {},
   "outputs": [
    {
     "data": {
      "text/plain": [
       "'89888768'"
      ]
     },
     "execution_count": 57,
     "metadata": {},
     "output_type": "execute_result"
    }
   ],
   "source": [
    "file_name"
   ]
  },
  {
   "cell_type": "code",
   "execution_count": 58,
   "id": "38508cf9-8000-4361-8fe7-92d579539650",
   "metadata": {},
   "outputs": [],
   "source": [
    "old_file = os.path.join(r\"\\\\trdecomsrv\\H\\Alphie\\Temp\", (file_name + \".xls\"))\n",
    "old_file = shutil.move(old_file, destination_folder)\n",
    "new_file = os.path.join(destination_folder, (\"pi\" + \" \" +Begin_RA + \" \" + \"to\" + \" \" + End_RA + \".xls\"))\n",
    "try:\n",
    "  os.rename(old_file, new_file)\n",
    "except FileExistsError:\n",
    "  os.remove(new_file)\n",
    "  os.rename(old_file, new_file);\n"
   ]
  },
  {
   "cell_type": "markdown",
   "id": "9113fd38-feab-44e7-9b23-2bb263a8e423",
   "metadata": {},
   "source": [
    "### Creating email attachment"
   ]
  },
  {
   "cell_type": "code",
   "execution_count": 59,
   "id": "5081ef12-6048-484c-9f04-4d67adec4ad9",
   "metadata": {},
   "outputs": [],
   "source": [
    "fuel_reprt_email_item_4 = new_file"
   ]
  },
  {
   "cell_type": "markdown",
   "id": "c9305229-7365-4908-9599-530698869df7",
   "metadata": {},
   "source": [
    "### Close the report"
   ]
  },
  {
   "cell_type": "code",
   "execution_count": 60,
   "id": "b05dc366-a149-40c8-889a-3cbd889e2d2f",
   "metadata": {},
   "outputs": [],
   "source": [
    "browser.switch_to.window(browser.window_handles[0])\n",
    "browser.implicitly_wait(1.5)\n",
    "\n",
    "close_button_el = browser.find_elements(By.XPATH, \"//button\")\n",
    "\n",
    "\n",
    "for button in close_button_el:\n",
    "    if button.get_attribute('title') and 'Close Manager: Fuels Report _CFT P &amp;  I' in button.get_attribute('title'):\n",
    "        button.click();\n",
    "        "
   ]
  },
  {
   "cell_type": "markdown",
   "id": "40f98aaa-3e27-45d9-b863-8e9b7a74636f",
   "metadata": {},
   "source": [
    "# Searching Alternative Fuel Volumes reports"
   ]
  },
  {
   "cell_type": "code",
   "execution_count": 61,
   "id": "fa0c9130-3b7b-4099-b823-475374114bb3",
   "metadata": {},
   "outputs": [],
   "source": [
    "time.sleep(5)\n",
    "browser.switch_to.window(browser.window_handles[0])\n",
    "browser.implicitly_wait(5)\n",
    "\n",
    "input_field_el = browser.find_element(\"id\", \"Dc-h\")\n",
    "input_field_el.send_keys(\"Alternative Fuel Volumes\")\n",
    "input_field_el.send_keys(Keys.ENTER)\n",
    "    "
   ]
  },
  {
   "cell_type": "markdown",
   "id": "bf12ac82-30dc-412d-b556-a966c96d01f7",
   "metadata": {},
   "source": [
    "## Clicking Generate button"
   ]
  },
  {
   "cell_type": "code",
   "execution_count": 62,
   "id": "e1cd9a28-1da6-4c56-b0fb-ebee24349488",
   "metadata": {},
   "outputs": [],
   "source": [
    "time.sleep(1.5)\n",
    "Generate_btn_el = browser.find_element(\"id\", \"l_Dc-6-52\")\n",
    "Generate_btn_el.click()"
   ]
  },
  {
   "cell_type": "markdown",
   "id": "21eadbc8-0e8b-43d1-aaa8-0c9d59af042d",
   "metadata": {},
   "source": [
    "## Inputing dates"
   ]
  },
  {
   "cell_type": "code",
   "execution_count": 63,
   "id": "3c0cd3a6-1f96-4898-848b-aa02fa60fc33",
   "metadata": {},
   "outputs": [],
   "source": [
    "time.sleep(1)\n",
    "Begin_RA_el = browser.find_element(\"id\", \"Dg-2\")\n",
    "Begin_RA_el.send_keys(Begin_RA)\n",
    "Begin_RA_el.send_keys(Keys.ENTER)"
   ]
  },
  {
   "cell_type": "code",
   "execution_count": 64,
   "id": "c6cc9a35-6f6e-49ff-a909-b73dbf116ec6",
   "metadata": {},
   "outputs": [],
   "source": [
    "time.sleep(1)\n",
    "End_RA_el = browser.find_element(\"id\", \"Dg-3\")\n",
    "End_RA_el.send_keys(End_RA)\n",
    "End_RA_el.send_keys(Keys.ENTER)"
   ]
  },
  {
   "cell_type": "markdown",
   "id": "2bfc0b8a-6ecc-4600-a88d-698faa24049d",
   "metadata": {},
   "source": [
    "## Clicking Generate button"
   ]
  },
  {
   "cell_type": "code",
   "execution_count": 65,
   "id": "48907322-fbc9-4033-bdb1-26b83bfeee78",
   "metadata": {},
   "outputs": [],
   "source": [
    "Generate_btn_el = browser.find_element(\"id\", \"caption2_Dc-7\")\n",
    "Generate_btn_el.click()\n",
    "time.sleep(10)"
   ]
  },
  {
   "cell_type": "markdown",
   "id": "2dd08eb7-83b3-4063-b06f-ef8126255e19",
   "metadata": {},
   "source": [
    "## Clicking Export to excel button"
   ]
  },
  {
   "cell_type": "code",
   "execution_count": 66,
   "id": "96a2895b-31cf-4f30-a9c4-1c2b4ef16114",
   "metadata": {},
   "outputs": [],
   "source": [
    "Export_to_excel_el = browser.find_element(\"id\", \"Dc-9\")\n",
    "Export_to_excel_el.click()\n",
    "time.sleep(5)"
   ]
  },
  {
   "cell_type": "code",
   "execution_count": 67,
   "id": "a7830530-02c7-47b4-b6f1-8a6d69049a59",
   "metadata": {},
   "outputs": [],
   "source": [
    "folder_path = r'\\\\trdecomsrv\\H\\Alphie\\Temp'\n",
    "files_path = os.path.join(folder_path, '*')\n",
    "files = sorted(glob.iglob(files_path), key=os.path.getctime, reverse=True) \n",
    "last_file = (files[0]) #latest file \n",
    "# print (files[0],files[1])#latest two files"
   ]
  },
  {
   "cell_type": "code",
   "execution_count": 68,
   "id": "5c81a078-2a75-4129-b3c1-d8eaf6bee7a0",
   "metadata": {},
   "outputs": [],
   "source": [
    "# file name with extension\n",
    "file_name = os.path.basename(last_file)\n",
    "\n",
    "# file name without extension\n",
    "file_name = (os.path.splitext(file_name)[0])"
   ]
  },
  {
   "cell_type": "code",
   "execution_count": 69,
   "id": "1bdf0f35-5414-465e-8074-335073a43fb7",
   "metadata": {},
   "outputs": [
    {
     "data": {
      "text/plain": [
       "'1457231872'"
      ]
     },
     "execution_count": 69,
     "metadata": {},
     "output_type": "execute_result"
    }
   ],
   "source": [
    "file_name"
   ]
  },
  {
   "cell_type": "code",
   "execution_count": 70,
   "id": "59c7905e-2a43-4d21-89e2-8b90cfeb4b51",
   "metadata": {},
   "outputs": [],
   "source": [
    "old_file = os.path.join(r\"\\\\trdecomsrv\\H\\Alphie\\Temp\", (file_name + \".xls\"))\n",
    "old_file = shutil.move(old_file, destination_folder)\n",
    "new_file = os.path.join(destination_folder, (\"alt\" + \" \" +Begin_RA + \" \" + \"to\" + \" \" + End_RA + \".xls\"))\n",
    "try:\n",
    "  os.rename(old_file, new_file)\n",
    "except FileExistsError:\n",
    "  os.remove(new_file)\n",
    "  os.rename(old_file, new_file);\n"
   ]
  },
  {
   "cell_type": "markdown",
   "id": "eb341758-438c-41da-a16b-6e0134ceb2a4",
   "metadata": {},
   "source": [
    "## Creating email attachment"
   ]
  },
  {
   "cell_type": "code",
   "execution_count": 71,
   "id": "a90cfba4-4904-4b1a-a368-9b898b543ae3",
   "metadata": {},
   "outputs": [],
   "source": [
    "fuel_reprt_email_item_5 = new_file"
   ]
  },
  {
   "cell_type": "markdown",
   "id": "e075b284-6959-4615-bbf6-b0c7dcf05bee",
   "metadata": {},
   "source": [
    "## Close the report"
   ]
  },
  {
   "cell_type": "code",
   "execution_count": 72,
   "id": "680d8506-06bb-4f74-a878-1e2c86745135",
   "metadata": {},
   "outputs": [],
   "source": [
    "browser.switch_to.window(browser.window_handles[0])\n",
    "time.sleep(2)\n",
    "\n",
    "close_button_el = browser.find_elements(By.XPATH, \"//button\")\n",
    "\n",
    "\n",
    "for button in close_button_el:\n",
    "    if button.get_attribute('title') and 'Alternative Fuel Volumes' in button.get_attribute('title'):\n",
    "        button.click();"
   ]
  },
  {
   "cell_type": "code",
   "execution_count": 73,
   "id": "9d95e28b-10a4-414f-9c30-2123188d6736",
   "metadata": {},
   "outputs": [],
   "source": [
    "time.sleep(1.5)\n",
    "close_button_el = browser.find_elements(By.XPATH, \"//button\")\n",
    "\n",
    "for button in close_button_el:\n",
    "    if button.get_attribute('title') and 'Close Group: Generate Report' in button.get_attribute('title'):\n",
    "        button.click();\n",
    "\n",
    "time.sleep(1.5)\n",
    "Generate_Report_btn_el = browser.find_element(\"id\", \"l_Dc-1-4\")\n",
    "Generate_Report_btn_el.click()"
   ]
  },
  {
   "cell_type": "markdown",
   "id": "a11f3cf7-2320-4c70-b766-3f9b33893706",
   "metadata": {},
   "source": [
    "# Searching CFT Locations reports"
   ]
  },
  {
   "cell_type": "code",
   "execution_count": 74,
   "id": "7e338ad8-a288-4d4b-ace8-e4645736c3de",
   "metadata": {},
   "outputs": [],
   "source": [
    "browser.switch_to.window(browser.window_handles[0])\n",
    "time.sleep(1.5)\n",
    "\n",
    "input_field_el = browser.find_element(\"id\", \"Dc-h\")\n",
    "input_field_el.send_keys(\"CFT Locations\")\n",
    "input_field_el.send_keys(Keys.ENTER)\n"
   ]
  },
  {
   "cell_type": "markdown",
   "id": "78328045-59da-42f0-b048-0a6420a278ba",
   "metadata": {},
   "source": [
    "## Clicking Generate button"
   ]
  },
  {
   "cell_type": "code",
   "execution_count": 75,
   "id": "565d9a24-e52e-4410-8e96-0ab1fd64a862",
   "metadata": {},
   "outputs": [],
   "source": [
    "time.sleep(3)\n",
    "\n",
    "try:\n",
    "  Generate_btn_el = browser.find_element(\"id\", \"l_Dc-6-365\")\n",
    "  Generate_btn_el.click()\n",
    "except NoSuchElementException:\n",
    "  Generate_btn_el = browser.find_element(\"id\", \"l_Dc-6-366\")\n",
    "  Generate_btn_el.click();\n",
    "        \n",
    "# Generate_btn_el = browser.find_element(\"id\", \"l_Dc-6-365\")\n",
    "# Generate_btn_el.click()"
   ]
  },
  {
   "cell_type": "markdown",
   "id": "439d05ca-c3d5-4949-b2d2-ba956dc5ff93",
   "metadata": {},
   "source": [
    "## Defining Begining_RA"
   ]
  },
  {
   "cell_type": "code",
   "execution_count": 76,
   "id": "7a94cda6-7fe6-426a-897a-48a5292ef8eb",
   "metadata": {},
   "outputs": [
    {
     "name": "stdout",
     "output_type": "stream",
     "text": [
      "01-Sep-2023\n"
     ]
    }
   ],
   "source": [
    "now = dt.datetime.now()\n",
    "\n",
    "begining_month_closing_day = 1\n",
    "begining_month = now.month -2\n",
    "year = now.year\n",
    "begining_month_closing = dt.datetime (year, begining_month, begining_month_closing_day)\n",
    "\n",
    "Begin_RA = begining_month_closing.strftime(\"%d-%b-%Y\")\n",
    "print(Begin_RA)"
   ]
  },
  {
   "cell_type": "markdown",
   "id": "d244e6d5-889d-4c0f-8c32-53d354743637",
   "metadata": {},
   "source": [
    "## Defining End_RA"
   ]
  },
  {
   "cell_type": "code",
   "execution_count": 77,
   "id": "099965cd-b737-4fb4-9381-2b83e3d9c1dd",
   "metadata": {},
   "outputs": [
    {
     "name": "stdout",
     "output_type": "stream",
     "text": [
      "The original date is: 2023-11-29\n",
      "30-Sep-2023\n"
     ]
    }
   ],
   "source": [
    "input_dt = dt.datetime.now()\n",
    "print(\"The original date is:\", input_dt.date())\n",
    "\n",
    "from datetime import datetime, timedelta\n",
    "\n",
    "last_month = input_dt.replace(day=28) - timedelta(days=32)\n",
    "res = last_month - timedelta(days=last_month.day)\n",
    "End_RA = res.strftime(\"%d-%b-%Y\")\n",
    "print(End_RA)"
   ]
  },
  {
   "cell_type": "markdown",
   "id": "d2033820-06af-4c4c-bec6-f7fe295330b4",
   "metadata": {},
   "source": [
    "## Inputing dates"
   ]
  },
  {
   "cell_type": "code",
   "execution_count": 78,
   "id": "52a4a943-3218-47d4-acc6-9f4e0b5e4a43",
   "metadata": {},
   "outputs": [],
   "source": [
    "time.sleep(1)\n",
    "Begin_RA_el = browser.find_element(\"id\", \"Dk-7\")\n",
    "Begin_RA_el.send_keys(Begin_RA)\n",
    "Begin_RA_el.send_keys(Keys.ENTER)"
   ]
  },
  {
   "cell_type": "code",
   "execution_count": 79,
   "id": "4e1d08b9-636e-4851-adc5-68f81b0e4639",
   "metadata": {},
   "outputs": [],
   "source": [
    "time.sleep(1)\n",
    "End_RA_el = browser.find_element(\"id\", \"Dk-8\")\n",
    "End_RA_el.send_keys(End_RA)\n",
    "End_RA_el.send_keys(Keys.ENTER)\n",
    "time.sleep(1)"
   ]
  },
  {
   "cell_type": "code",
   "execution_count": 80,
   "id": "04aa0c69-28cd-48ca-b431-faf152af6228",
   "metadata": {},
   "outputs": [],
   "source": [
    "browser.switch_to.window(browser.window_handles[0])\n",
    "browser.implicitly_wait(1.5)\n",
    "\n",
    "close_button_el = browser.find_elements(By.XPATH, \"//button\")\n",
    "for button in close_button_el:\n",
    "    if button.get_attribute('class') and 'FastMessageBoxButtonYes ui-button ui-corner-all ui-widget' in button.get_attribute('class'):\n",
    "        button.click();"
   ]
  },
  {
   "cell_type": "markdown",
   "id": "9d60bb24-8a7f-4dbf-a853-6dfddf540f76",
   "metadata": {},
   "source": [
    "## Clicking Cube button"
   ]
  },
  {
   "cell_type": "code",
   "execution_count": 81,
   "id": "bbae24cc-387c-4822-a0ee-482779d27a62",
   "metadata": {},
   "outputs": [],
   "source": [
    "browser.switch_to.window(browser.window_handles[0])\n",
    "time.sleep(5)\n",
    "\n",
    "Cube_btn_el = browser.find_element(\"id\", \"cl_Dh-a\")\n",
    "Cube_btn_el.click()\n"
   ]
  },
  {
   "cell_type": "markdown",
   "id": "99c1f311-84cf-4926-9fc6-3ec69df312a3",
   "metadata": {},
   "source": [
    "## Clicking radio button"
   ]
  },
  {
   "cell_type": "code",
   "execution_count": 82,
   "id": "b4d5bf28-4ee5-40db-81c2-418961981c82",
   "metadata": {},
   "outputs": [],
   "source": [
    "time.sleep(7)\n",
    "\n",
    "radio_btn_el = browser.find_element(\"id\", \"cl_Df-g\")\n",
    "radio_btn_el.click();"
   ]
  },
  {
   "cell_type": "markdown",
   "id": "fd132ca6-5864-443e-86d8-34751754eb02",
   "metadata": {},
   "source": [
    "## Clicking Spreadsheet button"
   ]
  },
  {
   "cell_type": "code",
   "execution_count": 83,
   "id": "3d9d5374-ad4c-40fe-b5af-f200e301e9ad",
   "metadata": {},
   "outputs": [],
   "source": [
    "time.sleep(5)\n",
    "\n",
    "Spreadsheet_btn_el = browser.find_element(\"id\", \"l_Df_1-l-3\")\n",
    "Spreadsheet_btn_el.click()"
   ]
  },
  {
   "cell_type": "code",
   "execution_count": 84,
   "id": "28b9fab6-f92c-43f0-99d1-84de802047f4",
   "metadata": {},
   "outputs": [],
   "source": [
    "time.sleep(3)\n",
    "folder_path = r'\\\\trdecomsrv\\H\\Alphie\\Temp'\n",
    "files_path = os.path.join(folder_path, '*')\n",
    "files = sorted(glob.iglob(files_path), key=os.path.getctime, reverse=True) \n",
    "last_file = (files[0]) #latest file \n",
    "# print (files[0],files[1])#latest two files"
   ]
  },
  {
   "cell_type": "code",
   "execution_count": 85,
   "id": "d2693da7-1505-47f7-8758-648e716d1118",
   "metadata": {},
   "outputs": [],
   "source": [
    "# file name with extension\n",
    "file_name = os.path.basename(last_file)\n",
    "\n",
    "# file name without extension\n",
    "file_name = (os.path.splitext(file_name)[0])"
   ]
  },
  {
   "cell_type": "code",
   "execution_count": 86,
   "id": "618e0422-6613-4356-b549-3d8bc3f9cd18",
   "metadata": {},
   "outputs": [
    {
     "data": {
      "text/plain": [
       "'Exported 202311291139'"
      ]
     },
     "execution_count": 86,
     "metadata": {},
     "output_type": "execute_result"
    }
   ],
   "source": [
    "file_name"
   ]
  },
  {
   "cell_type": "code",
   "execution_count": 87,
   "id": "d64b6769-db03-49b9-bce4-7eae28a58bf0",
   "metadata": {},
   "outputs": [],
   "source": [
    "browser.implicitly_wait(3)\n",
    "old_file = os.path.join(r\"\\\\trdecomsrv\\H\\Alphie\\Temp\", (file_name + \".ods\"))\n",
    "old_file = shutil.move(old_file, destination_folder)\n",
    "new_file = os.path.join(destination_folder, (\"Gasoline Gallons by Locations\" + \" \" + End_RA + \".xls\"))\n",
    "try:\n",
    "  os.rename(old_file, new_file)\n",
    "except FileExistsError:\n",
    "  os.remove(new_file)\n",
    "  os.rename(old_file, new_file);\n"
   ]
  },
  {
   "cell_type": "markdown",
   "id": "c5062276-96f4-4010-9602-043bd76a19b2",
   "metadata": {},
   "source": [
    "## Creating email attachment"
   ]
  },
  {
   "cell_type": "code",
   "execution_count": 88,
   "id": "33e26c79-e754-4a12-b385-906e701067ec",
   "metadata": {},
   "outputs": [],
   "source": [
    "fuel_reprt_email_item_6 = new_file"
   ]
  },
  {
   "cell_type": "markdown",
   "id": "7682c808-f7e1-4d2b-bf89-963b66f30933",
   "metadata": {},
   "source": [
    "## Close the report"
   ]
  },
  {
   "cell_type": "code",
   "execution_count": 89,
   "id": "143941d3-400f-47c8-8b51-1576814d9c09",
   "metadata": {},
   "outputs": [],
   "source": [
    "browser.switch_to.window(browser.window_handles[0])\n",
    "time.sleep(2)\n",
    "\n",
    "close_button_el = browser.find_elements(By.XPATH, \"//button\")\n",
    "\n",
    "for button in close_button_el:\n",
    "    if button.get_attribute('title') and 'Close Manager: CFT Locations' in button.get_attribute('title'):\n",
    "        button.click();"
   ]
  },
  {
   "cell_type": "markdown",
   "id": "9568e9e3-3c6a-477b-8d3a-bab1e3a410ba",
   "metadata": {},
   "source": [
    "# Working on GL Backend RA - Main report"
   ]
  },
  {
   "cell_type": "markdown",
   "id": "5d9c2261-5d0a-4278-84a9-282fdd977fbb",
   "metadata": {},
   "source": [
    "## Searching GL Backend RA - Main report"
   ]
  },
  {
   "cell_type": "code",
   "execution_count": 90,
   "id": "820240f8-3c3c-43e5-883d-34c64ee1d9ff",
   "metadata": {},
   "outputs": [],
   "source": [
    "browser.switch_to.window(browser.window_handles[0])\n",
    "time.sleep(3)\n",
    "\n",
    "input_field_el = browser.find_element(\"id\", \"Dc-h\")\n",
    "input_field_el.send_keys(\"GL Backend RA - Main\")\n",
    "input_field_el.send_keys(Keys.ENTER)\n"
   ]
  },
  {
   "cell_type": "markdown",
   "id": "df33bd87-a395-49b3-ba88-9df18bd400b9",
   "metadata": {},
   "source": [
    "## Clicking Generate button"
   ]
  },
  {
   "cell_type": "code",
   "execution_count": 91,
   "id": "6bf1d759-f4b6-4a56-8543-addc1c8fff1a",
   "metadata": {},
   "outputs": [],
   "source": [
    "time.sleep(1.5)\n",
    "Generate_btn_el = browser.find_element(\"id\", \"l_Dc-6-166\")\n",
    "Generate_btn_el.click()"
   ]
  },
  {
   "cell_type": "markdown",
   "id": "8bda1292-848c-478a-ad0d-db298872efc6",
   "metadata": {},
   "source": [
    "# CIT"
   ]
  },
  {
   "cell_type": "markdown",
   "id": "6714bcc8-39a8-4eba-8471-55c68b63ec7c",
   "metadata": {},
   "source": [
    "## Selecting CIT"
   ]
  },
  {
   "cell_type": "code",
   "execution_count": 92,
   "id": "f80d1460-b936-4247-bf05-2b6717e327f0",
   "metadata": {},
   "outputs": [],
   "source": [
    "time.sleep(1.5)\n",
    "Revenue_Group_el = browser.find_element(\"name\", \"Dg-2\")\n",
    "Revenue_Group_el.send_keys(\"CIT\")\n",
    "Revenue_Group_el.send_keys(Keys.ENTER)"
   ]
  },
  {
   "cell_type": "markdown",
   "id": "d5ea034a-20b0-4331-a516-3c939e4b55aa",
   "metadata": {},
   "source": [
    "## Clicking the Generate button"
   ]
  },
  {
   "cell_type": "code",
   "execution_count": 93,
   "id": "53b7ca24-be1f-4d3d-b4f9-93ee10eb398b",
   "metadata": {},
   "outputs": [],
   "source": [
    "time.sleep(1.5)\n",
    "Generate_btn_el = browser.find_element(\"id\", \"caption2_Dc-7\")\n",
    "Generate_btn_el.click()\n"
   ]
  },
  {
   "cell_type": "markdown",
   "id": "5950bfac-eff8-4162-b420-9dbb54e0f8a9",
   "metadata": {},
   "source": [
    "## Clicking the View Report button"
   ]
  },
  {
   "cell_type": "code",
   "execution_count": 94,
   "id": "1d987689-769f-4a81-aacd-7df7aab0d457",
   "metadata": {},
   "outputs": [
    {
     "name": "stdout",
     "output_type": "stream",
     "text": [
      "Loading took too much time!\n"
     ]
    }
   ],
   "source": [
    "delay = 10 # seconds\n",
    "try:\n",
    "    myElem = WebDriverWait(browser, delay).until(EC.presence_of_element_located((By.ID, 'IC_Dc-8')))\n",
    "    print (\"Page is ready!\")\n",
    "except TimeoutException:\n",
    "    print (\"Loading took too much time!\")\n",
    "     \n",
    "View_Report_el = browser.find_element(\"id\", \"Dc-8\")\n",
    "\n",
    "View_Report_el.click()\n",
    "time.sleep(1.5)"
   ]
  },
  {
   "cell_type": "markdown",
   "id": "c2550092-a512-493d-aebf-4e82fcf54ab4",
   "metadata": {},
   "source": [
    "## Printing report"
   ]
  },
  {
   "cell_type": "code",
   "execution_count": 95,
   "id": "56db71cd-6a91-48f0-906f-142626081e87",
   "metadata": {},
   "outputs": [],
   "source": [
    "browser.switch_to.window(browser.window_handles[1])\n",
    "time.sleep(3)\n",
    "autoit.send(\"^p\")\n",
    "time.sleep(3) # Pause to allow the PDF printer to load\n",
    "autoit.send(\"{Enter}\")\n",
    "time.sleep(3) # Pause to allow the printer to print.\n",
    "autoit.send(\"cit\")\n",
    "autoit.send(\"{Enter}\")\n",
    "time.sleep(5)\n",
    "autoit.send(\"!{F4}\")\n",
    "time.sleep(3)\n",
    "browser.close()\n",
    "\n",
    "\n"
   ]
  },
  {
   "cell_type": "markdown",
   "id": "2d9c32d3-9aab-4668-844c-8fab706119a7",
   "metadata": {},
   "source": [
    "## Close the report"
   ]
  },
  {
   "cell_type": "code",
   "execution_count": 96,
   "id": "bbe3720d-c604-4658-ba91-caec92b81f61",
   "metadata": {},
   "outputs": [],
   "source": [
    "browser.switch_to.window(browser.window_handles[0])\n",
    "browser.implicitly_wait(1.5)\n",
    "\n",
    "close_button_el = browser.find_elements(By.XPATH, \"//button\")\n",
    "\n",
    "\n",
    "for button in close_button_el:\n",
    "    if button.get_attribute('title') and 'Close Manager: GL Backend RA - Main' in button.get_attribute('title'):\n",
    "        button.click();\n",
    "        \n",
    "    "
   ]
  },
  {
   "cell_type": "markdown",
   "id": "926ec1d2-8a2b-4fc3-9306-75030d6fadb1",
   "metadata": {},
   "source": [
    "## Renaming and moving the report"
   ]
  },
  {
   "cell_type": "code",
   "execution_count": 97,
   "id": "69be99e8-b9ef-4e15-8251-8aba4bf26911",
   "metadata": {},
   "outputs": [
    {
     "name": "stdout",
     "output_type": "stream",
     "text": [
      "2023-Oct\n",
      "2023-Sep\n"
     ]
    }
   ],
   "source": [
    "today = dt.date.today()\n",
    "first = today.replace(day=1)\n",
    "accrue_month_1 = first - dt.timedelta(days=25)\n",
    "accrue_month_2 = first - dt.timedelta(days=32)\n",
    "print(accrue_month_1.strftime(\"%Y-%b\"))\n",
    "print(accrue_month_2.strftime(\"%Y-%b\"))"
   ]
  },
  {
   "cell_type": "code",
   "execution_count": 98,
   "id": "6fe14c1b-3625-4fe3-a580-86cc6336a2d6",
   "metadata": {},
   "outputs": [],
   "source": [
    "old_file = os.path.join(desktop, \"cit.pdf\")\n",
    "old_file = shutil.move(old_file, destination_folder)\n",
    "new_file = os.path.join(destination_folder, accrue_month_1.strftime(\"CIT-Prelim. %b %Y Reporting Generic Distribution Report.pdf\"))\n",
    "try:\n",
    "  os.rename(old_file, new_file)\n",
    "except FileExistsError:\n",
    "  os.remove(new_file)\n",
    "  os.rename(old_file, new_file)"
   ]
  },
  {
   "cell_type": "code",
   "execution_count": 99,
   "id": "47859c11-5763-4546-8621-3fc18c0b0295",
   "metadata": {},
   "outputs": [],
   "source": [
    "# file name with extension\n",
    "file_name = os.path.basename(new_file)\n",
    "\n",
    "# file name without extension\n",
    "file_name = (os.path.splitext(file_name)[0])"
   ]
  },
  {
   "cell_type": "code",
   "execution_count": 100,
   "id": "fed5f49c-be41-4499-be0f-30ce2b616226",
   "metadata": {},
   "outputs": [],
   "source": [
    "old_file = os.path.join(destination_folder, new_file)\n",
    "new_file = os.path.join(destination_folder, accrue_month_2.strftime(file_name + ' ' + \"(%b %Y Accrual).pdf\"))\n",
    "try:\n",
    "  os.rename(old_file, new_file)\n",
    "except FileExistsError:\n",
    "  os.remove(new_file)\n",
    "  os.rename(old_file, new_file)"
   ]
  },
  {
   "cell_type": "markdown",
   "id": "6622c9e7-dbe8-445a-bb7a-631913230cf5",
   "metadata": {},
   "source": [
    "## Creating Email attachment"
   ]
  },
  {
   "cell_type": "code",
   "execution_count": 101,
   "id": "7e86011c-4208-4281-ad29-decbad608fbf",
   "metadata": {},
   "outputs": [],
   "source": [
    "cit_email_item_1 = new_file"
   ]
  },
  {
   "cell_type": "markdown",
   "id": "b239196f-458a-429e-afaa-e8cd752322b6",
   "metadata": {},
   "source": [
    "# OGP-R"
   ]
  },
  {
   "cell_type": "markdown",
   "id": "5389b723-800b-4a9b-bae0-19a4b5ab37bf",
   "metadata": {},
   "source": [
    "## Clicking Generate button"
   ]
  },
  {
   "cell_type": "code",
   "execution_count": 102,
   "id": "5a3ccf45-04e2-472e-835b-9ffa0ab68d75",
   "metadata": {},
   "outputs": [],
   "source": [
    "time.sleep(1.5)\n",
    "Generate_btn_el = browser.find_element(\"id\", \"l_Dc-6-166\")\n",
    "Generate_btn_el.click()"
   ]
  },
  {
   "cell_type": "markdown",
   "id": "545aa35f-3b0c-4b81-bc99-16857cde6936",
   "metadata": {},
   "source": [
    "## Selecting OGP-R"
   ]
  },
  {
   "cell_type": "code",
   "execution_count": 103,
   "id": "c03de130-45a1-414d-8566-3c9de88925a5",
   "metadata": {},
   "outputs": [],
   "source": [
    "time.sleep(3)\n",
    "Revenue_Group_el = browser.find_element(\"name\", \"Dg-2\")\n",
    "Revenue_Group_el.send_keys(\"OGP-R\")\n",
    "Revenue_Group_el.send_keys(Keys.ENTER)"
   ]
  },
  {
   "cell_type": "markdown",
   "id": "46c46080-00b5-409c-98ba-ba2279f6dc58",
   "metadata": {},
   "source": [
    "## Clicking the Generate button"
   ]
  },
  {
   "cell_type": "code",
   "execution_count": 104,
   "id": "52dbe68d-2376-4fac-bff6-3e5436293b0a",
   "metadata": {},
   "outputs": [],
   "source": [
    "Generate_btn_el = browser.find_element(\"id\", \"caption2_Dc-7\")\n",
    "Generate_btn_el.click()"
   ]
  },
  {
   "cell_type": "markdown",
   "id": "ea63808b-4af2-46fc-afd2-f4cda44d1ec7",
   "metadata": {},
   "source": [
    "## Clicking the View Report button"
   ]
  },
  {
   "cell_type": "code",
   "execution_count": 105,
   "id": "8a49cb38-3a63-45b8-8f6d-9fd3eceb11ab",
   "metadata": {},
   "outputs": [
    {
     "name": "stdout",
     "output_type": "stream",
     "text": [
      "Page is ready!\n"
     ]
    }
   ],
   "source": [
    "delay = 3 # seconds\n",
    "try:\n",
    "    myElem = WebDriverWait(browser, delay).until(EC.presence_of_element_located((By.ID, 'Dc-8')))\n",
    "    print (\"Page is ready!\")\n",
    "except TimeoutException:\n",
    "    print (\"Loading took too much time!\")\n",
    "time.sleep(10)     \n",
    "View_Report_el = browser.find_element(\"id\", \"Dc-8\")\n",
    "\n",
    "View_Report_el.click()\n",
    "time.sleep(1.5)"
   ]
  },
  {
   "cell_type": "markdown",
   "id": "ab78ada6-0607-4817-ad28-f0851b42ea49",
   "metadata": {},
   "source": [
    "## Printing report"
   ]
  },
  {
   "cell_type": "code",
   "execution_count": 106,
   "id": "aa06ebc2-efd4-4fbd-91de-7c1b85b4599f",
   "metadata": {},
   "outputs": [],
   "source": [
    "browser.switch_to.window(browser.window_handles[1])\n",
    "time.sleep(3)\n",
    "autoit.send(\"^p\")\n",
    "time.sleep(3) # Pause to allow the PDF printer to load\n",
    "autoit.send(\"{Enter}\")\n",
    "time.sleep(3) # Pause to allow the printer to print.\n",
    "autoit.send(\"ogp-r\")\n",
    "autoit.send(\"{Enter}\")\n",
    "time.sleep(3)\n",
    "autoit.send(\"!{F4}\")\n",
    "time.sleep(3)\n",
    "browser.close()"
   ]
  },
  {
   "cell_type": "markdown",
   "id": "8ec66934-fb51-46af-a404-72962a4160be",
   "metadata": {},
   "source": [
    "## Close the report"
   ]
  },
  {
   "cell_type": "code",
   "execution_count": 107,
   "id": "d82a8aca-6ea8-4adf-93c4-5e9d0cb232fc",
   "metadata": {},
   "outputs": [],
   "source": [
    "browser.switch_to.window(browser.window_handles[0])\n",
    "browser.implicitly_wait(1.5)\n",
    "\n",
    "close_button_el = browser.find_elements(By.XPATH, \"//button\")\n",
    "\n",
    "for button in close_button_el:\n",
    "    if button.get_attribute('title') and 'Close Manager: GL Backend RA - Main' in button.get_attribute('title'):\n",
    "        button.click();\n",
    "        "
   ]
  },
  {
   "cell_type": "markdown",
   "id": "0042f54b-d544-4fec-8b01-7c7ec86fed8f",
   "metadata": {},
   "source": [
    "## Renaming and moving the report"
   ]
  },
  {
   "cell_type": "code",
   "execution_count": 108,
   "id": "3c23deea-e0dc-413d-9328-8bc27cf13723",
   "metadata": {},
   "outputs": [],
   "source": [
    "old_file = os.path.join(desktop, \"ogp-r.pdf\")\n",
    "old_file = shutil.move(old_file, destination_folder)\n",
    "new_file = os.path.join(destination_folder, accrue_month_1.strftime(\"OGP-R-Prelim. %b %Y Reporting Generic Distribution Report.pdf\"))\n",
    "try:\n",
    "  os.rename(old_file, new_file)\n",
    "except FileExistsError:\n",
    "  os.remove(new_file)\n",
    "  os.rename(old_file, new_file)"
   ]
  },
  {
   "cell_type": "code",
   "execution_count": 109,
   "id": "a31c3937-5479-44ec-9e28-4f07743fe438",
   "metadata": {},
   "outputs": [],
   "source": [
    "# file name with extension\n",
    "file_name = os.path.basename(new_file)\n",
    "\n",
    "# file name without extension\n",
    "file_name = (os.path.splitext(file_name)[0])"
   ]
  },
  {
   "cell_type": "code",
   "execution_count": 110,
   "id": "6eb57ff6-1eda-4567-944a-ba5ed17caa35",
   "metadata": {},
   "outputs": [],
   "source": [
    "old_file = os.path.join(destination_folder, new_file)\n",
    "new_file = os.path.join(destination_folder, accrue_month_2.strftime(file_name + ' ' + \"(%b %Y Accrual).pdf\"))\n",
    "try:\n",
    "  os.rename(old_file, new_file)\n",
    "except FileExistsError:\n",
    "  os.remove(new_file)\n",
    "  os.rename(old_file, new_file)"
   ]
  },
  {
   "cell_type": "markdown",
   "id": "a5a3827f-0b54-4d7c-b28c-31ce410d7981",
   "metadata": {},
   "source": [
    "## Creating Email attachment"
   ]
  },
  {
   "cell_type": "code",
   "execution_count": 111,
   "id": "81cfef90-a731-4f3a-b786-c153e1f6ddf2",
   "metadata": {},
   "outputs": [],
   "source": [
    "ogp_r_email_item_1 = new_file"
   ]
  },
  {
   "cell_type": "markdown",
   "id": "f1c77233-28f8-4bd9-9260-9accebe1f1ec",
   "metadata": {},
   "source": [
    "# PIT"
   ]
  },
  {
   "cell_type": "markdown",
   "id": "2865df1d-831d-4af7-9749-85873fc725f2",
   "metadata": {},
   "source": [
    "## Clicking Generate button"
   ]
  },
  {
   "cell_type": "code",
   "execution_count": 112,
   "id": "80caa7f8-bbfa-44a6-ac10-1aa1793dcc58",
   "metadata": {},
   "outputs": [],
   "source": [
    "time.sleep(1.5)\n",
    "Generate_btn_el = browser.find_element(\"id\", \"l_Dc-6-166\")\n",
    "Generate_btn_el.click()"
   ]
  },
  {
   "cell_type": "markdown",
   "id": "912d6cfa-c3d7-4aa0-a300-2f2e2b3b4325",
   "metadata": {},
   "source": [
    "## Selecting PIT"
   ]
  },
  {
   "cell_type": "code",
   "execution_count": 113,
   "id": "67705e90-076e-4e1d-a5a6-243eb4d2c3ff",
   "metadata": {},
   "outputs": [],
   "source": [
    "time.sleep(3)\n",
    "Revenue_Group_el = browser.find_element(\"name\", \"Dg-2\")\n",
    "Revenue_Group_el.send_keys(\"PIT\")\n",
    "Revenue_Group_el.send_keys(Keys.ENTER)"
   ]
  },
  {
   "cell_type": "markdown",
   "id": "c385d580-b72c-4604-9b86-b41cdab8b61f",
   "metadata": {},
   "source": [
    "## Clicking the Generate button"
   ]
  },
  {
   "cell_type": "code",
   "execution_count": 114,
   "id": "e3fa55f1-bfa4-47ff-9a70-6cb04953963d",
   "metadata": {},
   "outputs": [],
   "source": [
    "Generate_btn_el = browser.find_element(\"id\", \"caption2_Dc-7\")\n",
    "Generate_btn_el.click()"
   ]
  },
  {
   "cell_type": "markdown",
   "id": "2f1fa3a5-aaaf-451f-88e0-c9dba2354d66",
   "metadata": {},
   "source": [
    "## Clicking the View Report button"
   ]
  },
  {
   "cell_type": "code",
   "execution_count": 115,
   "id": "9b945265-fadb-475c-a0ef-7b1937bb32c2",
   "metadata": {},
   "outputs": [
    {
     "name": "stdout",
     "output_type": "stream",
     "text": [
      "Page is ready!\n"
     ]
    }
   ],
   "source": [
    "delay = 3 # seconds\n",
    "try:\n",
    "    myElem = WebDriverWait(browser, delay).until(EC.presence_of_element_located((By.ID, 'Dc-8')))\n",
    "    print (\"Page is ready!\")\n",
    "except TimeoutException:\n",
    "    print (\"Loading took too much time!\")\n",
    "time.sleep(10)     \n",
    "View_Report_el = browser.find_element(\"id\", \"Dc-8\")\n",
    "\n",
    "View_Report_el.click()\n",
    "time.sleep(1.5)"
   ]
  },
  {
   "cell_type": "markdown",
   "id": "ef40805c-95aa-425b-86b1-17a6998f4004",
   "metadata": {},
   "source": [
    "## Printing report"
   ]
  },
  {
   "cell_type": "code",
   "execution_count": 116,
   "id": "b94003a4-a7b1-4bb9-99d9-88ba3a36b3f5",
   "metadata": {},
   "outputs": [],
   "source": [
    "browser.switch_to.window(browser.window_handles[1])\n",
    "time.sleep(3)\n",
    "autoit.send(\"^p\")\n",
    "time.sleep(3) # Pause to allow the PDF printer to load\n",
    "autoit.send(\"{Enter}\")\n",
    "time.sleep(3) # Pause to allow the printer to print.\n",
    "autoit.send(\"pit\")\n",
    "autoit.send(\"{Enter}\")\n",
    "time.sleep(3)\n",
    "autoit.send(\"!{F4}\")\n",
    "time.sleep(3)\n",
    "browser.close()"
   ]
  },
  {
   "cell_type": "markdown",
   "id": "471e1419-5cd7-4818-bece-fc1d5b9a75d0",
   "metadata": {},
   "source": [
    "## Close the report"
   ]
  },
  {
   "cell_type": "code",
   "execution_count": 117,
   "id": "79ff99a3-1ae0-4df0-b14c-cf9009cb22aa",
   "metadata": {},
   "outputs": [],
   "source": [
    "browser.switch_to.window(browser.window_handles[0])\n",
    "browser.implicitly_wait(1.5)\n",
    "\n",
    "close_button_el = browser.find_elements(By.XPATH, \"//button\")\n",
    "\n",
    "for button in close_button_el:\n",
    "    if button.get_attribute('title') and 'Close Manager: GL Backend RA - Main' in button.get_attribute('title'):\n",
    "        button.click();\n",
    "        "
   ]
  },
  {
   "cell_type": "markdown",
   "id": "e94659e2-7f18-481f-95f9-cfd217249f25",
   "metadata": {},
   "source": [
    "## Renaming and moving the report"
   ]
  },
  {
   "cell_type": "code",
   "execution_count": 118,
   "id": "8d15a9ef-684c-4882-b9fe-6f97117ae7a8",
   "metadata": {},
   "outputs": [],
   "source": [
    "old_file = os.path.join(desktop, \"pit.pdf\")\n",
    "old_file = shutil.move(old_file, destination_folder)\n",
    "new_file = os.path.join(destination_folder, accrue_month_1.strftime(\"PIT-Prelim. %b %Y Reporting Generic Distribution Report.pdf\"))\n",
    "try:\n",
    "  os.rename(old_file, new_file)\n",
    "except FileExistsError:\n",
    "  os.remove(new_file)\n",
    "  os.rename(old_file, new_file)"
   ]
  },
  {
   "cell_type": "code",
   "execution_count": 119,
   "id": "98af024e-c05e-48f7-b0f6-3982db757f88",
   "metadata": {},
   "outputs": [],
   "source": [
    "# file name with extension\n",
    "file_name = os.path.basename(new_file)\n",
    "\n",
    "# file name without extension\n",
    "file_name = (os.path.splitext(file_name)[0])"
   ]
  },
  {
   "cell_type": "code",
   "execution_count": 120,
   "id": "341812f3-4041-4004-8a1b-f3ebb2a39441",
   "metadata": {},
   "outputs": [],
   "source": [
    "old_file = os.path.join(destination_folder, new_file)\n",
    "new_file = os.path.join(destination_folder, accrue_month_2.strftime(file_name + ' ' + \"(%b %Y Accrual).pdf\"))\n",
    "try:\n",
    "  os.rename(old_file, new_file)\n",
    "except FileExistsError:\n",
    "  os.remove(new_file)\n",
    "  os.rename(old_file, new_file)"
   ]
  },
  {
   "cell_type": "markdown",
   "id": "cf4c0fb6-5b2f-4319-891b-121867e7391c",
   "metadata": {},
   "source": [
    "## Creating Email attachment"
   ]
  },
  {
   "cell_type": "code",
   "execution_count": 121,
   "id": "85ac65a2-4cea-4f96-92aa-6c5de26f7a5f",
   "metadata": {},
   "outputs": [],
   "source": [
    "pit_email_item_1 = new_file"
   ]
  },
  {
   "cell_type": "markdown",
   "id": "134207b2-1d89-472e-b471-46014b206c4d",
   "metadata": {},
   "source": [
    "# PTW-O"
   ]
  },
  {
   "cell_type": "markdown",
   "id": "a6537271-cf46-4d9d-93e6-c62bd2fefd37",
   "metadata": {},
   "source": [
    "## Clicking Generate button"
   ]
  },
  {
   "cell_type": "code",
   "execution_count": 122,
   "id": "cf2d6830-29db-4946-8294-5bc378cde688",
   "metadata": {},
   "outputs": [],
   "source": [
    "time.sleep(1.5)\n",
    "Generate_btn_el = browser.find_element(\"id\", \"l_Dc-6-166\")\n",
    "Generate_btn_el.click()"
   ]
  },
  {
   "cell_type": "markdown",
   "id": "e762375e-3f2b-402a-8370-364ccbdab860",
   "metadata": {},
   "source": [
    "## Selecting PTW-O"
   ]
  },
  {
   "cell_type": "code",
   "execution_count": 123,
   "id": "6569f48c-8747-4c08-bedd-8f2791a57b34",
   "metadata": {},
   "outputs": [],
   "source": [
    "time.sleep(3)\n",
    "Revenue_Group_el = browser.find_element(\"name\", \"Dg-2\")\n",
    "Revenue_Group_el.send_keys(\"PTW-O\")\n",
    "Revenue_Group_el.send_keys(Keys.ENTER)"
   ]
  },
  {
   "cell_type": "markdown",
   "id": "d7196ce9-37a0-4db6-abb5-629cbd7ad36b",
   "metadata": {},
   "source": [
    "## Clicking the Generate button"
   ]
  },
  {
   "cell_type": "code",
   "execution_count": 124,
   "id": "4e6c3f05-41e8-4c44-b545-3b0ce8d53fbe",
   "metadata": {},
   "outputs": [],
   "source": [
    "Generate_btn_el = browser.find_element(\"id\", \"caption2_Dc-7\")\n",
    "Generate_btn_el.click()"
   ]
  },
  {
   "cell_type": "markdown",
   "id": "4e1432a4-0c65-4094-b9e6-52c9e55bf283",
   "metadata": {},
   "source": [
    "## Clicking the View Report button"
   ]
  },
  {
   "cell_type": "code",
   "execution_count": 125,
   "id": "0a749693-6223-4618-b8f5-0274099cd8b1",
   "metadata": {},
   "outputs": [
    {
     "name": "stdout",
     "output_type": "stream",
     "text": [
      "Page is ready!\n"
     ]
    }
   ],
   "source": [
    "delay = 10 # seconds\n",
    "try:\n",
    "    myElem = WebDriverWait(browser, delay).until(EC.presence_of_element_located((By.ID, 'Dc-8')))\n",
    "    print (\"Page is ready!\")\n",
    "except TimeoutException:\n",
    "    print (\"Loading took too much time!\")\n",
    "time.sleep(10)     \n",
    "View_Report_el = browser.find_element(\"id\", \"Dc-8\")\n",
    "\n",
    "View_Report_el.click()\n",
    "time.sleep(1.5)"
   ]
  },
  {
   "cell_type": "markdown",
   "id": "90226417-5a4c-4d61-ae11-340fb8fd8b46",
   "metadata": {},
   "source": [
    "## Printing report"
   ]
  },
  {
   "cell_type": "code",
   "execution_count": 126,
   "id": "0d5a745e-571b-49db-8e12-3e4cf37c47b2",
   "metadata": {},
   "outputs": [],
   "source": [
    "browser.switch_to.window(browser.window_handles[1])\n",
    "time.sleep(3)\n",
    "autoit.send(\"^p\")\n",
    "time.sleep(3) # Pause to allow the PDF printer to load\n",
    "autoit.send(\"{Enter}\")\n",
    "time.sleep(3) # Pause to allow the printer to print.\n",
    "autoit.send(\"ptw-o\")\n",
    "autoit.send(\"{Enter}\")\n",
    "time.sleep(3)\n",
    "autoit.send(\"!{F4}\")\n",
    "time.sleep(3)\n",
    "browser.close()"
   ]
  },
  {
   "cell_type": "markdown",
   "id": "21a92e04-d974-40f4-98e5-a90a11d5c96f",
   "metadata": {},
   "source": [
    "## Close the report"
   ]
  },
  {
   "cell_type": "code",
   "execution_count": 127,
   "id": "b0722f5d-dd88-4561-be66-af5a8e186aa0",
   "metadata": {},
   "outputs": [],
   "source": [
    "browser.switch_to.window(browser.window_handles[0])\n",
    "browser.implicitly_wait(1.5)\n",
    "\n",
    "close_button_el = browser.find_elements(By.XPATH, \"//button\")\n",
    "\n",
    "for button in close_button_el:\n",
    "    if button.get_attribute('title') and 'Close Manager: GL Backend RA - Main' in button.get_attribute('title'):\n",
    "        button.click();\n",
    "        "
   ]
  },
  {
   "cell_type": "markdown",
   "id": "7294d991-00f6-4354-a227-460d53421c00",
   "metadata": {},
   "source": [
    "## Renaming and moving the report"
   ]
  },
  {
   "cell_type": "code",
   "execution_count": 128,
   "id": "a2a49ed4-5d10-4f82-bab1-34d79a09e31e",
   "metadata": {},
   "outputs": [],
   "source": [
    "old_file = os.path.join(desktop, \"ptw-o.pdf\")\n",
    "old_file = shutil.move(old_file, destination_folder)\n",
    "new_file = os.path.join(destination_folder, accrue_month_1.strftime(\"PTW-O-Prelim. %b %Y Reporting Generic Distribution Report.pdf\"))\n",
    "try:\n",
    "  os.rename(old_file, new_file)\n",
    "except FileExistsError:\n",
    "  os.remove(new_file)\n",
    "  os.rename(old_file, new_file)"
   ]
  },
  {
   "cell_type": "code",
   "execution_count": 129,
   "id": "315b3a15-849a-4057-8580-67696d504e1a",
   "metadata": {},
   "outputs": [],
   "source": [
    "# file name with extension\n",
    "file_name = os.path.basename(new_file)\n",
    "\n",
    "# file name without extension\n",
    "file_name = (os.path.splitext(file_name)[0])"
   ]
  },
  {
   "cell_type": "code",
   "execution_count": 130,
   "id": "792c8869-d71a-4a2b-9ceb-6338c10d574d",
   "metadata": {},
   "outputs": [],
   "source": [
    "old_file = os.path.join(destination_folder, new_file)\n",
    "new_file = os.path.join(destination_folder, accrue_month_2.strftime(file_name + ' ' + \"(%b %Y Accrual).pdf\"))\n",
    "try:\n",
    "  os.rename(old_file, new_file)\n",
    "except FileExistsError:\n",
    "  os.remove(new_file)\n",
    "  os.rename(old_file, new_file)"
   ]
  },
  {
   "cell_type": "markdown",
   "id": "4d230e72-a09c-4452-a09d-a07cc1cd2a6d",
   "metadata": {},
   "source": [
    "## Creating Email attachment"
   ]
  },
  {
   "cell_type": "code",
   "execution_count": 131,
   "id": "94dbd7d2-f110-4214-b8c7-c8a189738655",
   "metadata": {},
   "outputs": [],
   "source": [
    "ptw_o_email_item_1 = new_file"
   ]
  },
  {
   "cell_type": "markdown",
   "id": "14609ec8-d816-41f4-a31c-f5f0799a3b8a",
   "metadata": {},
   "source": [
    "# PTW-R"
   ]
  },
  {
   "cell_type": "markdown",
   "id": "0a5372e3-e28e-4537-ab13-940893457c3c",
   "metadata": {},
   "source": [
    "## Clicking Generate button"
   ]
  },
  {
   "cell_type": "code",
   "execution_count": 132,
   "id": "16a0a4ec-ba90-41c2-a43a-4fe641f026eb",
   "metadata": {},
   "outputs": [],
   "source": [
    "time.sleep(1.5)\n",
    "Generate_btn_el = browser.find_element(\"id\", \"l_Dc-6-166\")\n",
    "Generate_btn_el.click()"
   ]
  },
  {
   "cell_type": "markdown",
   "id": "ef057dab-954f-418d-b721-06e930a38dda",
   "metadata": {},
   "source": [
    "## Selecting PTW-R"
   ]
  },
  {
   "cell_type": "code",
   "execution_count": 133,
   "id": "c954e2f1-1efc-418d-aa8b-c5ac15f6f7c9",
   "metadata": {},
   "outputs": [],
   "source": [
    "time.sleep(3)\n",
    "Revenue_Group_el = browser.find_element(\"name\", \"Dg-2\")\n",
    "Revenue_Group_el.send_keys(\"PTW-R\")\n",
    "Revenue_Group_el.send_keys(Keys.ENTER)"
   ]
  },
  {
   "cell_type": "markdown",
   "id": "711ddeab-8128-4367-86e0-703bccd32f14",
   "metadata": {},
   "source": [
    "## Clicking the Generate button"
   ]
  },
  {
   "cell_type": "code",
   "execution_count": 134,
   "id": "85e608c8-943f-4e74-9f13-9e39e53bbb46",
   "metadata": {},
   "outputs": [],
   "source": [
    "Generate_btn_el = browser.find_element(\"id\", \"caption2_Dc-7\")\n",
    "Generate_btn_el.click()"
   ]
  },
  {
   "cell_type": "markdown",
   "id": "f050cb49-170d-4e46-a2f9-df9407f94987",
   "metadata": {},
   "source": [
    "## Clicking the View Report button"
   ]
  },
  {
   "cell_type": "code",
   "execution_count": 135,
   "id": "ce59939b-b0f8-4af8-af61-743906246f66",
   "metadata": {},
   "outputs": [
    {
     "name": "stdout",
     "output_type": "stream",
     "text": [
      "Page is ready!\n"
     ]
    }
   ],
   "source": [
    "delay = 3 # seconds\n",
    "try:\n",
    "    myElem = WebDriverWait(browser, delay).until(EC.presence_of_element_located((By.ID, 'Dc-8')))\n",
    "    print (\"Page is ready!\")\n",
    "except TimeoutException:\n",
    "    print (\"Loading took too much time!\")\n",
    "time.sleep(10)     \n",
    "View_Report_el = browser.find_element(\"id\", \"Dc-8\")\n",
    "\n",
    "View_Report_el.click()\n",
    "time.sleep(1.5)"
   ]
  },
  {
   "cell_type": "markdown",
   "id": "57356107-8d52-474b-97fa-ca8053669e6e",
   "metadata": {},
   "source": [
    "## Printing report"
   ]
  },
  {
   "cell_type": "code",
   "execution_count": 136,
   "id": "682a290a-d0d5-4ccf-9959-e763828e1c0d",
   "metadata": {},
   "outputs": [],
   "source": [
    "browser.switch_to.window(browser.window_handles[1])\n",
    "time.sleep(3)\n",
    "autoit.send(\"^p\")\n",
    "time.sleep(3) # Pause to allow the PDF printer to load\n",
    "autoit.send(\"{Enter}\")\n",
    "time.sleep(3) # Pause to allow the printer to print.\n",
    "autoit.send(\"ptw-r\")\n",
    "autoit.send(\"{Enter}\")\n",
    "time.sleep(3)\n",
    "autoit.send(\"!{F4}\")\n",
    "time.sleep(3)\n",
    "browser.close()"
   ]
  },
  {
   "cell_type": "markdown",
   "id": "5d4510fe-af9f-46fe-9f28-55b19486d673",
   "metadata": {},
   "source": [
    "## Close the report"
   ]
  },
  {
   "cell_type": "code",
   "execution_count": 137,
   "id": "c0235f19-3ad0-4117-8625-b6b0921699df",
   "metadata": {},
   "outputs": [],
   "source": [
    "browser.switch_to.window(browser.window_handles[0])\n",
    "browser.implicitly_wait(1.5)\n",
    "\n",
    "close_button_el = browser.find_elements(By.XPATH, \"//button\")\n",
    "\n",
    "for button in close_button_el:\n",
    "    if button.get_attribute('title') and 'Close Manager: GL Backend RA - Main' in button.get_attribute('title'):\n",
    "        button.click();\n",
    "        "
   ]
  },
  {
   "cell_type": "markdown",
   "id": "70dd5f6b-395b-4289-ac35-3e77a1c1e8e1",
   "metadata": {},
   "source": [
    "## Renaming and moving the report"
   ]
  },
  {
   "cell_type": "code",
   "execution_count": 138,
   "id": "0cbc817d-584a-4082-b1b4-646ba3f58381",
   "metadata": {},
   "outputs": [],
   "source": [
    "old_file = os.path.join(desktop, \"ptw-r.pdf\")\n",
    "old_file = shutil.move(old_file, destination_folder)\n",
    "new_file = os.path.join(destination_folder, accrue_month_1.strftime(\"PTW-R-Prelim. %b %Y Reporting Generic Distribution Report.pdf\"))\n",
    "try:\n",
    "  os.rename(old_file, new_file)\n",
    "except FileExistsError:\n",
    "  os.remove(new_file)\n",
    "  os.rename(old_file, new_file)"
   ]
  },
  {
   "cell_type": "code",
   "execution_count": 139,
   "id": "aade1d92-31c9-4f70-b74b-1a7d59508abf",
   "metadata": {},
   "outputs": [],
   "source": [
    "# file name with extension\n",
    "file_name = os.path.basename(new_file)\n",
    "\n",
    "# file name without extension\n",
    "file_name = (os.path.splitext(file_name)[0])"
   ]
  },
  {
   "cell_type": "code",
   "execution_count": 140,
   "id": "29d11466-af17-4233-8490-30dd8f7be8bd",
   "metadata": {},
   "outputs": [],
   "source": [
    "old_file = os.path.join(destination_folder, new_file)\n",
    "new_file = os.path.join(destination_folder, accrue_month_2.strftime(file_name + ' ' + \"(%b %Y Accrual).pdf\"))\n",
    "try:\n",
    "  os.rename(old_file, new_file)\n",
    "except FileExistsError:\n",
    "  os.remove(new_file)\n",
    "  os.rename(old_file, new_file)"
   ]
  },
  {
   "cell_type": "markdown",
   "id": "f2b74139-03ad-484b-90ef-85e202a033d2",
   "metadata": {},
   "source": [
    "## Creating Email attachment"
   ]
  },
  {
   "cell_type": "code",
   "execution_count": 141,
   "id": "5ef9dcb7-a6fc-46b7-8744-ba4b25e84a3e",
   "metadata": {},
   "outputs": [],
   "source": [
    "ptw_r_email_item_1 = new_file"
   ]
  },
  {
   "cell_type": "markdown",
   "id": "824767b5-885d-4478-aa8c-15ee8873213f",
   "metadata": {},
   "source": [
    "# WWT"
   ]
  },
  {
   "cell_type": "markdown",
   "id": "643f3c57-f639-4cbc-afdc-79fca9827155",
   "metadata": {},
   "source": [
    "## Clicking Generate button"
   ]
  },
  {
   "cell_type": "code",
   "execution_count": 142,
   "id": "2433e203-6e10-4563-b0e6-10eb458074a2",
   "metadata": {},
   "outputs": [],
   "source": [
    "time.sleep(1.5)\n",
    "Generate_btn_el = browser.find_element(\"id\", \"l_Dc-6-166\")\n",
    "Generate_btn_el.click()"
   ]
  },
  {
   "cell_type": "markdown",
   "id": "25836f4e-9eda-4503-812a-c21429b5eb1f",
   "metadata": {},
   "source": [
    "## Selecting WWT"
   ]
  },
  {
   "cell_type": "code",
   "execution_count": 143,
   "id": "3f2f1d48-cd41-4f79-a073-10facba0fb1b",
   "metadata": {},
   "outputs": [],
   "source": [
    "time.sleep(5)\n",
    "Revenue_Group_el = browser.find_element(\"name\", \"Dg-2\")\n",
    "Revenue_Group_el.send_keys(\"WWT\")\n",
    "Revenue_Group_el.send_keys(Keys.ENTER)"
   ]
  },
  {
   "cell_type": "markdown",
   "id": "148323d9-f95e-4811-9bf4-33c9b7e7ba38",
   "metadata": {},
   "source": [
    "## Clicking the Generate button"
   ]
  },
  {
   "cell_type": "code",
   "execution_count": 144,
   "id": "94a3c474-119c-4e91-ae44-56be9bc02b11",
   "metadata": {},
   "outputs": [],
   "source": [
    "Generate_btn_el = browser.find_element(\"id\", \"caption2_Dc-7\")\n",
    "Generate_btn_el.click()"
   ]
  },
  {
   "cell_type": "markdown",
   "id": "8e88de59-46e8-4960-a7b9-1c44b1d38fba",
   "metadata": {},
   "source": [
    "## Clicking the View Report button"
   ]
  },
  {
   "cell_type": "code",
   "execution_count": 145,
   "id": "e1f78620-d27c-49a5-ab3b-8ad4c7b38637",
   "metadata": {},
   "outputs": [
    {
     "name": "stdout",
     "output_type": "stream",
     "text": [
      "Page is ready!\n"
     ]
    }
   ],
   "source": [
    "delay = 10 # seconds\n",
    "try:\n",
    "    myElem = WebDriverWait(browser, delay).until(EC.presence_of_element_located((By.ID, 'Dc-8')))\n",
    "    print (\"Page is ready!\")\n",
    "except TimeoutException:\n",
    "    print (\"Loading took too much time!\")\n",
    "time.sleep(10)     \n",
    "View_Report_el = browser.find_element(\"id\", \"Dc-8\")\n",
    "\n",
    "View_Report_el.click()\n",
    "time.sleep(1.5)"
   ]
  },
  {
   "cell_type": "markdown",
   "id": "4b4df302-304b-448d-baf1-5b2cf3cc0eb8",
   "metadata": {},
   "source": [
    "## Printing report"
   ]
  },
  {
   "cell_type": "code",
   "execution_count": 146,
   "id": "0b3d2177-c5c0-4e7b-9034-73ae50abd439",
   "metadata": {},
   "outputs": [],
   "source": [
    "browser.switch_to.window(browser.window_handles[1])\n",
    "time.sleep(3)\n",
    "autoit.send(\"^p\")\n",
    "time.sleep(3) # Pause to allow the PDF printer to load\n",
    "autoit.send(\"{Enter}\")\n",
    "time.sleep(3) # Pause to allow the printer to print.\n",
    "autoit.send(\"wwt\")\n",
    "autoit.send(\"{Enter}\")\n",
    "time.sleep(3)\n",
    "autoit.send(\"!{F4}\")\n",
    "time.sleep(3)\n",
    "browser.close()"
   ]
  },
  {
   "cell_type": "markdown",
   "id": "ae34c81e-7828-4c47-973b-6255d65d6e10",
   "metadata": {},
   "source": [
    "## Close the report"
   ]
  },
  {
   "cell_type": "code",
   "execution_count": 147,
   "id": "4a25f845-5164-4cc7-9232-eb45b6277d2b",
   "metadata": {},
   "outputs": [],
   "source": [
    "browser.switch_to.window(browser.window_handles[0])\n",
    "browser.implicitly_wait(1.5)\n",
    "\n",
    "close_button_el = browser.find_elements(By.XPATH, \"//button\")\n",
    "\n",
    "for button in close_button_el:\n",
    "    if button.get_attribute('title') and 'Close Manager: GL Backend RA - Main' in button.get_attribute('title'):\n",
    "        button.click();\n",
    "        "
   ]
  },
  {
   "cell_type": "markdown",
   "id": "7ef25977-12b9-4492-9641-96d4cb4f425b",
   "metadata": {},
   "source": [
    "## Renaming and moving the report"
   ]
  },
  {
   "cell_type": "code",
   "execution_count": 148,
   "id": "6d52d71f-e098-4cc3-ab8b-99ec7d5562d4",
   "metadata": {},
   "outputs": [],
   "source": [
    "old_file = os.path.join(desktop, \"wwt.pdf\")\n",
    "old_file = shutil.move(old_file, destination_folder)\n",
    "new_file = os.path.join(destination_folder, accrue_month_1.strftime(\"WWT-Prelim. %b %Y Reporting Generic Distribution Report.pdf\"))\n",
    "try:\n",
    "  os.rename(old_file, new_file)\n",
    "except FileExistsError:\n",
    "  os.remove(new_file)\n",
    "  os.rename(old_file, new_file)"
   ]
  },
  {
   "cell_type": "code",
   "execution_count": 149,
   "id": "589fe270-165c-4434-8239-8611ab3ae28e",
   "metadata": {},
   "outputs": [],
   "source": [
    "# file name with extension\n",
    "file_name = os.path.basename(new_file)\n",
    "\n",
    "# file name without extension\n",
    "file_name = (os.path.splitext(file_name)[0])"
   ]
  },
  {
   "cell_type": "code",
   "execution_count": 150,
   "id": "9a4a72eb-d7b3-48e2-bf66-f770325fbec6",
   "metadata": {},
   "outputs": [],
   "source": [
    "old_file = os.path.join(destination_folder, new_file)\n",
    "new_file = os.path.join(destination_folder, accrue_month_2.strftime(file_name + ' ' + \"(%b %Y Accrual).pdf\"))\n",
    "try:\n",
    "  os.rename(old_file, new_file)\n",
    "except FileExistsError:\n",
    "  os.remove(new_file)\n",
    "  os.rename(old_file, new_file)"
   ]
  },
  {
   "cell_type": "markdown",
   "id": "0aa8046d-7986-4524-b0b3-181b57abeeee",
   "metadata": {},
   "source": [
    "## Creating Email attachment"
   ]
  },
  {
   "cell_type": "code",
   "execution_count": 151,
   "id": "2b1c646b-58c3-46f5-92d4-ad1f2c32d4e2",
   "metadata": {},
   "outputs": [],
   "source": [
    "wwt_email_item_1 = new_file"
   ]
  },
  {
   "cell_type": "markdown",
   "id": "a99549ff-ed89-4aa6-b045-2697b07d8d49",
   "metadata": {},
   "source": [
    "# FID"
   ]
  },
  {
   "cell_type": "markdown",
   "id": "7a1598f7-f297-4d22-9256-d6c9381c7093",
   "metadata": {},
   "source": [
    "## Clicking Generate button"
   ]
  },
  {
   "cell_type": "code",
   "execution_count": 152,
   "id": "e9fbc9ba-9296-4022-ac5c-8f902fc1e118",
   "metadata": {},
   "outputs": [],
   "source": [
    "time.sleep(1.5)\n",
    "Generate_btn_el = browser.find_element(\"id\", \"l_Dc-6-166\")\n",
    "Generate_btn_el.click()"
   ]
  },
  {
   "cell_type": "markdown",
   "id": "dd6b1248-de12-46e8-a0c8-11230d73a119",
   "metadata": {},
   "source": [
    "## Selecting FID"
   ]
  },
  {
   "cell_type": "code",
   "execution_count": 153,
   "id": "4e9b7b2c-3288-4279-989f-19014b71f659",
   "metadata": {},
   "outputs": [],
   "source": [
    "time.sleep(5)\n",
    "Revenue_Group_el = browser.find_element(\"name\", \"Dg-2\")\n",
    "Revenue_Group_el.send_keys(\"FID\")\n",
    "Revenue_Group_el.send_keys(Keys.ENTER)"
   ]
  },
  {
   "cell_type": "markdown",
   "id": "346b44e2-4a43-4f82-bc85-4cb1670be8c7",
   "metadata": {},
   "source": [
    "## Clicking the Generate button"
   ]
  },
  {
   "cell_type": "code",
   "execution_count": 154,
   "id": "efd27e63-f275-49dd-98c2-aab478cd388e",
   "metadata": {},
   "outputs": [],
   "source": [
    "Generate_btn_el = browser.find_element(\"id\", \"caption2_Dc-7\")\n",
    "Generate_btn_el.click()"
   ]
  },
  {
   "cell_type": "markdown",
   "id": "91c58b70-4ad9-4744-9d18-4f5d9c263f07",
   "metadata": {},
   "source": [
    "## Clicking the View Report button"
   ]
  },
  {
   "cell_type": "code",
   "execution_count": 155,
   "id": "5b0de516-90cc-47dd-9dea-5bf35f30021c",
   "metadata": {},
   "outputs": [
    {
     "name": "stdout",
     "output_type": "stream",
     "text": [
      "Page is ready!\n"
     ]
    }
   ],
   "source": [
    "delay = 10 # seconds\n",
    "try:\n",
    "    myElem = WebDriverWait(browser, delay).until(EC.presence_of_element_located((By.ID, 'Dc-8')))\n",
    "    print (\"Page is ready!\")\n",
    "except TimeoutException:\n",
    "    print (\"Loading took too much time!\")\n",
    "time.sleep(10)     \n",
    "View_Report_el = browser.find_element(\"id\", \"Dc-8\")\n",
    "\n",
    "View_Report_el.click()\n",
    "time.sleep(1.5)"
   ]
  },
  {
   "cell_type": "markdown",
   "id": "96b07c82-453a-49df-8dfe-4b2743d4ee6e",
   "metadata": {},
   "source": [
    "## Printing report"
   ]
  },
  {
   "cell_type": "code",
   "execution_count": 156,
   "id": "d618351b-e33b-486c-9aee-2fa171f41436",
   "metadata": {},
   "outputs": [],
   "source": [
    "browser.switch_to.window(browser.window_handles[1])\n",
    "time.sleep(3)\n",
    "autoit.send(\"^p\")\n",
    "time.sleep(3) # Pause to allow the PDF printer to load\n",
    "autoit.send(\"{Enter}\")\n",
    "time.sleep(3) # Pause to allow the printer to print.\n",
    "autoit.send(\"fid\")\n",
    "autoit.send(\"{Enter}\")\n",
    "time.sleep(3)\n",
    "autoit.send(\"!{F4}\")\n",
    "time.sleep(3)\n",
    "browser.close()"
   ]
  },
  {
   "cell_type": "markdown",
   "id": "99266a78-8ce7-4a5e-82da-7e21e416bf27",
   "metadata": {},
   "source": [
    "## Close the report"
   ]
  },
  {
   "cell_type": "code",
   "execution_count": 157,
   "id": "7edf487c-8923-40bd-b384-26b1cddd2b1c",
   "metadata": {},
   "outputs": [],
   "source": [
    "browser.switch_to.window(browser.window_handles[0])\n",
    "browser.implicitly_wait(1.5)\n",
    "\n",
    "close_button_el = browser.find_elements(By.XPATH, \"//button\")\n",
    "\n",
    "for button in close_button_el:\n",
    "    if button.get_attribute('title') and 'Close Manager: GL Backend RA - Main' in button.get_attribute('title'):\n",
    "        button.click();\n",
    "        "
   ]
  },
  {
   "cell_type": "markdown",
   "id": "e4fb092c-be68-46ea-b6e2-08e29aa3df92",
   "metadata": {},
   "source": [
    "## Renaming and moving the report"
   ]
  },
  {
   "cell_type": "code",
   "execution_count": 158,
   "id": "862837a5-1a29-4b05-a422-3655e089ffc5",
   "metadata": {},
   "outputs": [],
   "source": [
    "old_file = os.path.join(desktop, \"fid.pdf\")\n",
    "old_file = shutil.move(old_file, destination_folder)\n",
    "new_file = os.path.join(destination_folder, accrue_month_1.strftime(\"FID-Prelim. %b %Y Reporting Generic Distribution Report.pdf\"))\n",
    "try:\n",
    "  os.rename(old_file, new_file)\n",
    "except FileExistsError:\n",
    "  os.remove(new_file)\n",
    "  os.rename(old_file, new_file)"
   ]
  },
  {
   "cell_type": "code",
   "execution_count": 159,
   "id": "a027b009-144a-4003-9054-c9573cdd3b6a",
   "metadata": {},
   "outputs": [],
   "source": [
    "# file name with extension\n",
    "file_name = os.path.basename(new_file)\n",
    "\n",
    "# file name without extension\n",
    "file_name = (os.path.splitext(file_name)[0])"
   ]
  },
  {
   "cell_type": "code",
   "execution_count": 160,
   "id": "8eb198b7-6b96-49e9-92d5-60b1e44b086c",
   "metadata": {},
   "outputs": [],
   "source": [
    "old_file = os.path.join(destination_folder, new_file)\n",
    "new_file = os.path.join(destination_folder, accrue_month_2.strftime(file_name + ' ' + \"(%b %Y Accrual).pdf\"))\n",
    "try:\n",
    "  os.rename(old_file, new_file)\n",
    "except FileExistsError:\n",
    "  os.remove(new_file)\n",
    "  os.rename(old_file, new_file)"
   ]
  },
  {
   "cell_type": "markdown",
   "id": "6a4ac769-3c7a-4fd0-be91-1ab0d469b9b2",
   "metadata": {},
   "source": [
    "## Creating Email attachment"
   ]
  },
  {
   "cell_type": "code",
   "execution_count": 161,
   "id": "fd818c45-0061-4654-82bc-d59ecfd7a6b7",
   "metadata": {},
   "outputs": [],
   "source": [
    "fid_email_item_1 = new_file"
   ]
  },
  {
   "cell_type": "markdown",
   "id": "2c896929-116d-4174-8224-f90c1c4ee6ae",
   "metadata": {},
   "source": [
    "# NWT"
   ]
  },
  {
   "cell_type": "markdown",
   "id": "2bd43b36-1303-48ac-ba33-e83296800f82",
   "metadata": {},
   "source": [
    "## Clicking Generate button"
   ]
  },
  {
   "cell_type": "code",
   "execution_count": 162,
   "id": "7f0f0d4e-9f99-49d8-bf3f-cefaa8023f9d",
   "metadata": {},
   "outputs": [],
   "source": [
    "time.sleep(1.5)\n",
    "Generate_btn_el = browser.find_element(\"id\", \"l_Dc-6-166\")\n",
    "Generate_btn_el.click()"
   ]
  },
  {
   "cell_type": "markdown",
   "id": "df7a79f3-d424-454c-a136-cdfeb1edd7dd",
   "metadata": {},
   "source": [
    "## Selecting NWT"
   ]
  },
  {
   "cell_type": "code",
   "execution_count": 163,
   "id": "8211a520-66d9-488a-9817-5a982037553e",
   "metadata": {},
   "outputs": [],
   "source": [
    "time.sleep(5)\n",
    "Revenue_Group_el = browser.find_element(\"name\", \"Dg-2\")\n",
    "Revenue_Group_el.send_keys(\"NWT\")\n",
    "Revenue_Group_el.send_keys(Keys.ENTER)"
   ]
  },
  {
   "cell_type": "markdown",
   "id": "a3564b4f-0436-47ec-be58-23c45efd9a2a",
   "metadata": {},
   "source": [
    "## Clicking the Generate button"
   ]
  },
  {
   "cell_type": "code",
   "execution_count": 164,
   "id": "dbf1cb31-88b7-450d-b77f-c8b35db36272",
   "metadata": {},
   "outputs": [],
   "source": [
    "Generate_btn_el = browser.find_element(\"id\", \"caption2_Dc-7\")\n",
    "Generate_btn_el.click()"
   ]
  },
  {
   "cell_type": "markdown",
   "id": "ca3815b3-be87-4706-be2c-407e72ae99b3",
   "metadata": {},
   "source": [
    "## Clicking the View Report button"
   ]
  },
  {
   "cell_type": "code",
   "execution_count": 165,
   "id": "92023e54-b055-4e35-b739-2e5ddbfcc1e2",
   "metadata": {},
   "outputs": [
    {
     "name": "stdout",
     "output_type": "stream",
     "text": [
      "Page is ready!\n"
     ]
    }
   ],
   "source": [
    "delay = 10 # seconds\n",
    "try:\n",
    "    myElem = WebDriverWait(browser, delay).until(EC.presence_of_element_located((By.ID, 'Dc-8')))\n",
    "    print (\"Page is ready!\")\n",
    "except TimeoutException:\n",
    "    print (\"Loading took too much time!\")\n",
    "time.sleep(10)     \n",
    "View_Report_el = browser.find_element(\"id\", \"Dc-8\")\n",
    "\n",
    "View_Report_el.click()\n",
    "time.sleep(1.5)"
   ]
  },
  {
   "cell_type": "markdown",
   "id": "9501f948-8007-4483-832f-ace2c80149ba",
   "metadata": {},
   "source": [
    "## Printing report"
   ]
  },
  {
   "cell_type": "code",
   "execution_count": 166,
   "id": "43a67a95-87f1-4ab9-aa77-1ac6ed3585a9",
   "metadata": {},
   "outputs": [],
   "source": [
    "browser.switch_to.window(browser.window_handles[1])\n",
    "time.sleep(3)\n",
    "autoit.send(\"^p\")\n",
    "time.sleep(3) # Pause to allow the PDF printer to load\n",
    "autoit.send(\"{Enter}\")\n",
    "time.sleep(3) # Pause to allow the printer to print.\n",
    "autoit.send(\"nwt\")\n",
    "autoit.send(\"{Enter}\")\n",
    "time.sleep(3)\n",
    "autoit.send(\"!{F4}\")\n",
    "time.sleep(3)\n",
    "browser.close()"
   ]
  },
  {
   "cell_type": "markdown",
   "id": "17aa7017-d358-4425-81ab-121cee5c0816",
   "metadata": {},
   "source": [
    "## Close the report"
   ]
  },
  {
   "cell_type": "code",
   "execution_count": 167,
   "id": "a45fc305-cf42-4faa-83c3-12b7e42a99a3",
   "metadata": {},
   "outputs": [],
   "source": [
    "browser.switch_to.window(browser.window_handles[0])\n",
    "browser.implicitly_wait(1.5)\n",
    "\n",
    "close_button_el = browser.find_elements(By.XPATH, \"//button\")\n",
    "\n",
    "for button in close_button_el:\n",
    "    if button.get_attribute('title') and 'Close Manager: GL Backend RA - Main' in button.get_attribute('title'):\n",
    "        button.click();\n",
    "        "
   ]
  },
  {
   "cell_type": "markdown",
   "id": "5c09dfeb-8de9-48be-8413-75345447104c",
   "metadata": {},
   "source": [
    "## Renaming and moving the report"
   ]
  },
  {
   "cell_type": "code",
   "execution_count": 168,
   "id": "651f670e-67ac-45a1-b73c-bec39920acb9",
   "metadata": {},
   "outputs": [],
   "source": [
    "old_file = os.path.join(desktop, \"nwt.pdf\")\n",
    "old_file = shutil.move(old_file, destination_folder)\n",
    "new_file = os.path.join(destination_folder, accrue_month_1.strftime(\"NWT-Prelim. %b %Y Reporting Generic Distribution Report.pdf\"))\n",
    "try:\n",
    "  os.rename(old_file, new_file)\n",
    "except FileExistsError:\n",
    "  os.remove(new_file)\n",
    "  os.rename(old_file, new_file)"
   ]
  },
  {
   "cell_type": "code",
   "execution_count": 169,
   "id": "68e7bd42-7a87-4b9f-98df-44e13f039cba",
   "metadata": {},
   "outputs": [],
   "source": [
    "# file name with extension\n",
    "file_name = os.path.basename(new_file)\n",
    "\n",
    "# file name without extension\n",
    "file_name = (os.path.splitext(file_name)[0])"
   ]
  },
  {
   "cell_type": "code",
   "execution_count": 170,
   "id": "a7b45708-c046-427a-a904-90190d24c274",
   "metadata": {},
   "outputs": [],
   "source": [
    "old_file = os.path.join(destination_folder, new_file)\n",
    "new_file = os.path.join(destination_folder, accrue_month_2.strftime(file_name + ' ' + \"(%b %Y Accrual).pdf\"))\n",
    "try:\n",
    "  os.rename(old_file, new_file)\n",
    "except FileExistsError:\n",
    "  os.remove(new_file)\n",
    "  os.rename(old_file, new_file)"
   ]
  },
  {
   "cell_type": "markdown",
   "id": "4ddb9e4e-a370-4aee-9439-c82e4608996b",
   "metadata": {},
   "source": [
    "## Creating Email attachment"
   ]
  },
  {
   "cell_type": "code",
   "execution_count": 171,
   "id": "f9c4443b-549a-431d-ab00-9be03609676f",
   "metadata": {},
   "outputs": [],
   "source": [
    "nwt_email_item_1 = new_file"
   ]
  },
  {
   "cell_type": "markdown",
   "id": "b04a6966-79fb-404f-a709-099ffee6edbf",
   "metadata": {},
   "source": [
    "# OGP"
   ]
  },
  {
   "cell_type": "markdown",
   "id": "09c4e5d7-bacb-4638-aa40-0f8ab9c6588c",
   "metadata": {},
   "source": [
    "## Clicking Generate button"
   ]
  },
  {
   "cell_type": "code",
   "execution_count": 172,
   "id": "e89b4bd5-d4c0-4eb7-8843-51f76f9af924",
   "metadata": {},
   "outputs": [],
   "source": [
    "time.sleep(1.5)\n",
    "Generate_btn_el = browser.find_element(\"id\", \"l_Dc-6-166\")\n",
    "Generate_btn_el.click()"
   ]
  },
  {
   "cell_type": "markdown",
   "id": "580c1f91-41b0-41c4-8fa2-76f415872072",
   "metadata": {},
   "source": [
    "## Selecting OGP"
   ]
  },
  {
   "cell_type": "code",
   "execution_count": 173,
   "id": "2cb60537-ca91-47d8-a0fc-4b9e6e029eb9",
   "metadata": {},
   "outputs": [],
   "source": [
    "time.sleep(5)\n",
    "Revenue_Group_el = browser.find_element(\"name\", \"Dg-2\")\n",
    "Revenue_Group_el.send_keys(\"OGP\")\n",
    "Revenue_Group_el.send_keys(Keys.ENTER)"
   ]
  },
  {
   "cell_type": "markdown",
   "id": "7d016df8-0e56-44bb-b5a6-afdccc45cd80",
   "metadata": {},
   "source": [
    "## Clicking the Generate button"
   ]
  },
  {
   "cell_type": "code",
   "execution_count": 174,
   "id": "ed26613c-58a9-492b-b249-aff50bf3e51b",
   "metadata": {},
   "outputs": [],
   "source": [
    "Generate_btn_el = browser.find_element(\"id\", \"caption2_Dc-7\")\n",
    "Generate_btn_el.click()"
   ]
  },
  {
   "cell_type": "markdown",
   "id": "c7005d99-4454-4881-b382-c99b313ba0c1",
   "metadata": {},
   "source": [
    "## Clicking the View Report button"
   ]
  },
  {
   "cell_type": "code",
   "execution_count": 175,
   "id": "122d44a1-005d-4495-9aa5-cd81b0ad1f9c",
   "metadata": {},
   "outputs": [
    {
     "name": "stdout",
     "output_type": "stream",
     "text": [
      "Page is ready!\n"
     ]
    }
   ],
   "source": [
    "delay = 10 # seconds\n",
    "try:\n",
    "    myElem = WebDriverWait(browser, delay).until(EC.presence_of_element_located((By.ID, 'Dc-8')))\n",
    "    print (\"Page is ready!\")\n",
    "except TimeoutException:\n",
    "    print (\"Loading took too much time!\")\n",
    "time.sleep(10)     \n",
    "View_Report_el = browser.find_element(\"id\", \"Dc-8\")\n",
    "\n",
    "View_Report_el.click()\n",
    "time.sleep(1.5)"
   ]
  },
  {
   "cell_type": "markdown",
   "id": "d340d2f1-d73a-4454-ad7b-3cc5f244e4c9",
   "metadata": {},
   "source": [
    "## Printing report"
   ]
  },
  {
   "cell_type": "code",
   "execution_count": 176,
   "id": "b15739e2-45e2-4f9c-a471-578e93cc77fd",
   "metadata": {},
   "outputs": [],
   "source": [
    "browser.switch_to.window(browser.window_handles[1])\n",
    "time.sleep(3)\n",
    "autoit.send(\"^p\")\n",
    "time.sleep(3) # Pause to allow the PDF printer to load\n",
    "autoit.send(\"{Enter}\")\n",
    "time.sleep(3) # Pause to allow the printer to print.\n",
    "autoit.send(\"ogp\")\n",
    "autoit.send(\"{Enter}\")\n",
    "time.sleep(3)\n",
    "autoit.send(\"!{F4}\")\n",
    "time.sleep(3)\n",
    "browser.close()"
   ]
  },
  {
   "cell_type": "markdown",
   "id": "044fd74c-f003-4400-a738-8ec1e9098032",
   "metadata": {},
   "source": [
    "## Close the report"
   ]
  },
  {
   "cell_type": "code",
   "execution_count": 177,
   "id": "0e396e54-e852-4f16-91ce-6f919eb99d92",
   "metadata": {},
   "outputs": [],
   "source": [
    "browser.switch_to.window(browser.window_handles[0])\n",
    "browser.implicitly_wait(1.5)\n",
    "\n",
    "close_button_el = browser.find_elements(By.XPATH, \"//button\")\n",
    "\n",
    "for button in close_button_el:\n",
    "    if button.get_attribute('title') and 'Close Manager: GL Backend RA - Main' in button.get_attribute('title'):\n",
    "        button.click();\n",
    "        "
   ]
  },
  {
   "cell_type": "markdown",
   "id": "2fde250f-5e36-4459-9b84-be9b2b21b345",
   "metadata": {},
   "source": [
    "## Renaming and moving the report"
   ]
  },
  {
   "cell_type": "code",
   "execution_count": 178,
   "id": "43fcaba5-11de-4cfb-9286-92bbf3155580",
   "metadata": {},
   "outputs": [],
   "source": [
    "old_file = os.path.join(desktop, \"ogp.pdf\")\n",
    "old_file = shutil.move(old_file, destination_folder)\n",
    "new_file = os.path.join(destination_folder, accrue_month_1.strftime(\"OGP-Prelim. %b %Y Reporting Generic Distribution Report.pdf\"))\n",
    "try:\n",
    "  os.rename(old_file, new_file)\n",
    "except FileExistsError:\n",
    "  os.remove(new_file)\n",
    "  os.rename(old_file, new_file)"
   ]
  },
  {
   "cell_type": "code",
   "execution_count": 179,
   "id": "b6460a73-56ae-4658-85f2-e65343bcaa19",
   "metadata": {},
   "outputs": [],
   "source": [
    "# file name with extension\n",
    "file_name = os.path.basename(new_file)\n",
    "\n",
    "# file name without extension\n",
    "file_name = (os.path.splitext(file_name)[0])"
   ]
  },
  {
   "cell_type": "code",
   "execution_count": 180,
   "id": "47e7d121-abfb-41ab-87d8-d3c1ca200c92",
   "metadata": {},
   "outputs": [],
   "source": [
    "old_file = os.path.join(destination_folder, new_file)\n",
    "new_file = os.path.join(destination_folder, accrue_month_2.strftime(file_name + ' ' + \"(%b %Y Accrual).pdf\"))\n",
    "try:\n",
    "  os.rename(old_file, new_file)\n",
    "except FileExistsError:\n",
    "  os.remove(new_file)\n",
    "  os.rename(old_file, new_file)"
   ]
  },
  {
   "cell_type": "markdown",
   "id": "042c3be9-cb9d-4129-bc1d-0bee8cde59e7",
   "metadata": {},
   "source": [
    "## Creating Email attachment"
   ]
  },
  {
   "cell_type": "code",
   "execution_count": 181,
   "id": "1ad7c979-4d2f-402c-a5ea-1fdc9fab80da",
   "metadata": {},
   "outputs": [],
   "source": [
    "ogp_email_item_1 = new_file"
   ]
  },
  {
   "cell_type": "markdown",
   "id": "22bccda3-f35f-4d69-9db9-f77a64b042ef",
   "metadata": {},
   "source": [
    "# OGP-O"
   ]
  },
  {
   "cell_type": "markdown",
   "id": "4c002afa-2234-4860-959e-3f0535d32064",
   "metadata": {},
   "source": [
    "## Clicking Generate button"
   ]
  },
  {
   "cell_type": "code",
   "execution_count": 182,
   "id": "6c0544e5-f017-4b71-8c41-c02f3fa188d6",
   "metadata": {},
   "outputs": [],
   "source": [
    "time.sleep(1.5)\n",
    "Generate_btn_el = browser.find_element(\"id\", \"l_Dc-6-166\")\n",
    "Generate_btn_el.click()"
   ]
  },
  {
   "cell_type": "markdown",
   "id": "1426ef57-6ef0-4cc5-9e9a-7c88313ff3c5",
   "metadata": {},
   "source": [
    "## Selecting OGP-O"
   ]
  },
  {
   "cell_type": "code",
   "execution_count": 183,
   "id": "92baa7bb-835f-46d2-ac32-f2281c310001",
   "metadata": {},
   "outputs": [],
   "source": [
    "time.sleep(5)\n",
    "Revenue_Group_el = browser.find_element(\"name\", \"Dg-2\")\n",
    "Revenue_Group_el.send_keys(\"OGP-O\")\n",
    "Revenue_Group_el.send_keys(Keys.ENTER)"
   ]
  },
  {
   "cell_type": "markdown",
   "id": "20452baa-b59a-4715-8750-52d49cb448db",
   "metadata": {},
   "source": [
    "## Clicking the Generate button"
   ]
  },
  {
   "cell_type": "code",
   "execution_count": 184,
   "id": "7a416ff5-f817-4924-82ca-978ec35512d5",
   "metadata": {},
   "outputs": [],
   "source": [
    "Generate_btn_el = browser.find_element(\"id\", \"caption2_Dc-7\")\n",
    "Generate_btn_el.click()"
   ]
  },
  {
   "cell_type": "markdown",
   "id": "06ead12e-6338-4585-8c77-0797da644c37",
   "metadata": {},
   "source": [
    "## Clicking the View Report button"
   ]
  },
  {
   "cell_type": "code",
   "execution_count": 185,
   "id": "92ea1ba8-ec20-49d5-988e-ade5ebb7040f",
   "metadata": {},
   "outputs": [
    {
     "name": "stdout",
     "output_type": "stream",
     "text": [
      "Page is ready!\n"
     ]
    }
   ],
   "source": [
    "delay = 10 # seconds\n",
    "try:\n",
    "    myElem = WebDriverWait(browser, delay).until(EC.presence_of_element_located((By.ID, 'Dc-8')))\n",
    "    print (\"Page is ready!\")\n",
    "except TimeoutException:\n",
    "    print (\"Loading took too much time!\")\n",
    "time.sleep(10)     \n",
    "View_Report_el = browser.find_element(\"id\", \"Dc-8\")\n",
    "\n",
    "View_Report_el.click()\n",
    "time.sleep(1.5)"
   ]
  },
  {
   "cell_type": "markdown",
   "id": "bf224a44-098e-49b3-8e32-e170d02bd2f9",
   "metadata": {},
   "source": [
    "## Printing report"
   ]
  },
  {
   "cell_type": "code",
   "execution_count": 186,
   "id": "4d4b8b51-ec65-4dd0-bc31-eeac3dcf9236",
   "metadata": {},
   "outputs": [],
   "source": [
    "browser.switch_to.window(browser.window_handles[1])\n",
    "time.sleep(3)\n",
    "autoit.send(\"^p\")\n",
    "time.sleep(3) # Pause to allow the PDF printer to load\n",
    "autoit.send(\"{Enter}\")\n",
    "time.sleep(3) # Pause to allow the printer to print.\n",
    "autoit.send(\"ogp-o\")\n",
    "autoit.send(\"{Enter}\")\n",
    "time.sleep(3)\n",
    "autoit.send(\"!{F4}\")\n",
    "time.sleep(3)\n",
    "browser.close()"
   ]
  },
  {
   "cell_type": "markdown",
   "id": "fda257d6-b8e0-48cb-a089-c6db61743fd6",
   "metadata": {},
   "source": [
    "## Close the report"
   ]
  },
  {
   "cell_type": "code",
   "execution_count": 187,
   "id": "9df89293-e1cf-41da-8661-0ed920733d55",
   "metadata": {},
   "outputs": [],
   "source": [
    "browser.switch_to.window(browser.window_handles[0])\n",
    "browser.implicitly_wait(1.5)\n",
    "\n",
    "close_button_el = browser.find_elements(By.XPATH, \"//button\")\n",
    "\n",
    "for button in close_button_el:\n",
    "    if button.get_attribute('title') and 'Close Manager: GL Backend RA - Main' in button.get_attribute('title'):\n",
    "        button.click();\n",
    "        "
   ]
  },
  {
   "cell_type": "markdown",
   "id": "4703a17d-82ce-4899-bac1-e0f8f6eaff99",
   "metadata": {},
   "source": [
    "## Renaming and moving the report"
   ]
  },
  {
   "cell_type": "code",
   "execution_count": 188,
   "id": "7bacbcf4-dd32-4d06-a2f8-b6a63ae4a847",
   "metadata": {},
   "outputs": [],
   "source": [
    "old_file = os.path.join(desktop, \"ogp-o.pdf\")\n",
    "old_file = shutil.move(old_file, destination_folder)\n",
    "new_file = os.path.join(destination_folder, accrue_month_1.strftime(\"OGP-O-Prelim. %b %Y Reporting Generic Distribution Report.pdf\"))\n",
    "try:\n",
    "  os.rename(old_file, new_file)\n",
    "except FileExistsError:\n",
    "  os.remove(new_file)\n",
    "  os.rename(old_file, new_file)"
   ]
  },
  {
   "cell_type": "code",
   "execution_count": 189,
   "id": "110ff530-1266-4683-bc59-341085850e39",
   "metadata": {},
   "outputs": [],
   "source": [
    "# file name with extension\n",
    "file_name = os.path.basename(new_file)\n",
    "\n",
    "# file name without extension\n",
    "file_name = (os.path.splitext(file_name)[0])"
   ]
  },
  {
   "cell_type": "code",
   "execution_count": 190,
   "id": "4ab7790c-eee4-44b5-adfe-724e7b46e521",
   "metadata": {},
   "outputs": [],
   "source": [
    "old_file = os.path.join(destination_folder, new_file)\n",
    "new_file = os.path.join(destination_folder, accrue_month_2.strftime(file_name + ' ' + \"(%b %Y Accrual).pdf\"))\n",
    "try:\n",
    "  os.rename(old_file, new_file)\n",
    "except FileExistsError:\n",
    "  os.remove(new_file)\n",
    "  os.rename(old_file, new_file)"
   ]
  },
  {
   "cell_type": "markdown",
   "id": "a3aff4b0-e0c4-4534-97d3-1c6f3afb94fc",
   "metadata": {},
   "source": [
    "## Creating Email attachment"
   ]
  },
  {
   "cell_type": "code",
   "execution_count": 191,
   "id": "c4d19d8c-f747-40b5-9d76-b3d55f13f271",
   "metadata": {},
   "outputs": [],
   "source": [
    "ogp_o_email_item_1 = new_file"
   ]
  },
  {
   "cell_type": "markdown",
   "id": "b1d1f072-52b8-4b75-a948-5e459437dfad",
   "metadata": {},
   "source": [
    "# CAN"
   ]
  },
  {
   "cell_type": "markdown",
   "id": "7d2007fb-c013-48dd-afc9-76b2ad52dbc9",
   "metadata": {},
   "source": [
    "## Clicking Generate button"
   ]
  },
  {
   "cell_type": "code",
   "execution_count": 192,
   "id": "ee0d2f15-987c-4a36-8635-18ffa1587d05",
   "metadata": {},
   "outputs": [],
   "source": [
    "time.sleep(1.5)\n",
    "Generate_btn_el = browser.find_element(\"id\", \"l_Dc-6-166\")\n",
    "Generate_btn_el.click()"
   ]
  },
  {
   "cell_type": "markdown",
   "id": "10c8eaa1-50a5-4667-bd52-f774d8b8112b",
   "metadata": {},
   "source": [
    "## Selecting CAN"
   ]
  },
  {
   "cell_type": "code",
   "execution_count": 193,
   "id": "38f3942f-eb49-4bca-aa05-8bd1ac1651b9",
   "metadata": {},
   "outputs": [],
   "source": [
    "time.sleep(5)\n",
    "Revenue_Group_el = browser.find_element(\"name\", \"Dg-2\")\n",
    "Revenue_Group_el.send_keys(\"CAN\")\n",
    "Revenue_Group_el.send_keys(Keys.ENTER)"
   ]
  },
  {
   "cell_type": "markdown",
   "id": "5a6f3653-a7c5-482e-a369-6bc15cb856f2",
   "metadata": {},
   "source": [
    "## Clicking the Generate button"
   ]
  },
  {
   "cell_type": "code",
   "execution_count": 194,
   "id": "a0313e89-c825-4818-a9cf-94cd2a0f8858",
   "metadata": {},
   "outputs": [],
   "source": [
    "Generate_btn_el = browser.find_element(\"id\", \"caption2_Dc-7\")\n",
    "Generate_btn_el.click()"
   ]
  },
  {
   "cell_type": "markdown",
   "id": "e98014d7-4a19-4a08-94d4-cadb166e3cd3",
   "metadata": {},
   "source": [
    "## Clicking the View Report button"
   ]
  },
  {
   "cell_type": "code",
   "execution_count": 195,
   "id": "0d94ff34-023b-4135-bf71-dcf73aab119e",
   "metadata": {},
   "outputs": [
    {
     "name": "stdout",
     "output_type": "stream",
     "text": [
      "Page is ready!\n"
     ]
    }
   ],
   "source": [
    "delay = 10 # seconds\n",
    "try:\n",
    "    myElem = WebDriverWait(browser, delay).until(EC.presence_of_element_located((By.ID, 'Dc-8')))\n",
    "    print (\"Page is ready!\")\n",
    "except TimeoutException:\n",
    "    print (\"Loading took too much time!\")\n",
    "time.sleep(10)     \n",
    "View_Report_el = browser.find_element(\"id\", \"Dc-8\")\n",
    "\n",
    "View_Report_el.click()\n",
    "time.sleep(1.5)"
   ]
  },
  {
   "cell_type": "markdown",
   "id": "cada97ac-284b-442e-b7fd-54bc8472534d",
   "metadata": {},
   "source": [
    "## Printing report"
   ]
  },
  {
   "cell_type": "code",
   "execution_count": 196,
   "id": "53489c9a-4bc0-48ed-afa1-9b789a2be9c7",
   "metadata": {},
   "outputs": [],
   "source": [
    "browser.switch_to.window(browser.window_handles[1])\n",
    "time.sleep(3)\n",
    "autoit.send(\"^p\")\n",
    "time.sleep(3) # Pause to allow the PDF printer to load\n",
    "autoit.send(\"{Enter}\")\n",
    "time.sleep(3) # Pause to allow the printer to print.\n",
    "autoit.send(\"can\")\n",
    "autoit.send(\"{Enter}\")\n",
    "time.sleep(3)\n",
    "autoit.send(\"!{F4}\")\n",
    "time.sleep(3)\n",
    "browser.close()"
   ]
  },
  {
   "cell_type": "markdown",
   "id": "fcbefa92-98db-4128-a847-952ca4041cc2",
   "metadata": {},
   "source": [
    "## Close the report"
   ]
  },
  {
   "cell_type": "code",
   "execution_count": 197,
   "id": "522e5003-d3a2-4b49-8a61-a3b8f54fca62",
   "metadata": {},
   "outputs": [],
   "source": [
    "browser.switch_to.window(browser.window_handles[0])\n",
    "browser.implicitly_wait(1.5)\n",
    "\n",
    "close_button_el = browser.find_elements(By.XPATH, \"//button\")\n",
    "\n",
    "for button in close_button_el:\n",
    "    if button.get_attribute('title') and 'Close Manager: GL Backend RA - Main' in button.get_attribute('title'):\n",
    "        button.click();\n",
    "        "
   ]
  },
  {
   "cell_type": "markdown",
   "id": "53b4cfd6-c179-416e-ba17-3bd90b3891f6",
   "metadata": {},
   "source": [
    "## Renaming and moving the report"
   ]
  },
  {
   "cell_type": "code",
   "execution_count": 198,
   "id": "53559ef6-beab-4e3c-ab92-5de6f9c710e7",
   "metadata": {},
   "outputs": [],
   "source": [
    "old_file = os.path.join(desktop, \"can.pdf\")\n",
    "old_file = shutil.move(old_file, destination_folder)\n",
    "new_file = os.path.join(destination_folder, accrue_month_1.strftime(\"CAN-Prelim. %b %Y Reporting Generic Distribution Report.pdf\"))\n",
    "try:\n",
    "  os.rename(old_file, new_file)\n",
    "except FileExistsError:\n",
    "  os.remove(new_file)\n",
    "  os.rename(old_file, new_file)"
   ]
  },
  {
   "cell_type": "code",
   "execution_count": 199,
   "id": "0e9414de-8945-4859-b344-d8295c5bf4b2",
   "metadata": {},
   "outputs": [],
   "source": [
    "# file name with extension\n",
    "file_name = os.path.basename(new_file)\n",
    "\n",
    "# file name without extension\n",
    "file_name = (os.path.splitext(file_name)[0])"
   ]
  },
  {
   "cell_type": "code",
   "execution_count": 200,
   "id": "64cc4301-fd87-4ed8-bb01-616af1d38ade",
   "metadata": {},
   "outputs": [],
   "source": [
    "old_file = os.path.join(destination_folder, new_file)\n",
    "new_file = os.path.join(destination_folder, accrue_month_2.strftime(file_name + ' ' + \"(%b %Y Accrual).pdf\"))\n",
    "try:\n",
    "  os.rename(old_file, new_file)\n",
    "except FileExistsError:\n",
    "  os.remove(new_file)\n",
    "  os.rename(old_file, new_file)"
   ]
  },
  {
   "cell_type": "markdown",
   "id": "f8732659-6af9-4d9b-879f-cf4bbce12abf",
   "metadata": {},
   "source": [
    "## Creating Email attachment"
   ]
  },
  {
   "cell_type": "code",
   "execution_count": 201,
   "id": "89e61baf-13de-413b-a661-83f85be77f08",
   "metadata": {},
   "outputs": [],
   "source": [
    "can_email_item_1 = new_file"
   ]
  },
  {
   "cell_type": "markdown",
   "id": "dddab53d-285f-4339-8c00-f5fb7764fb95",
   "metadata": {},
   "source": [
    "# GRT"
   ]
  },
  {
   "cell_type": "markdown",
   "id": "37833ff3-539c-4088-a626-13be51ca4f6d",
   "metadata": {},
   "source": [
    "## Clicking Generate button"
   ]
  },
  {
   "cell_type": "code",
   "execution_count": 202,
   "id": "a9fcc082-ff7c-41b7-b625-27024fe98175",
   "metadata": {},
   "outputs": [],
   "source": [
    "time.sleep(1.5)\n",
    "Generate_btn_el = browser.find_element(\"id\", \"l_Dc-6-166\")\n",
    "Generate_btn_el.click()"
   ]
  },
  {
   "cell_type": "markdown",
   "id": "c0dabfbf-9291-4adc-85df-3f26ad24e6eb",
   "metadata": {},
   "source": [
    "## Selecting GRT"
   ]
  },
  {
   "cell_type": "code",
   "execution_count": 203,
   "id": "424f0701-f3c3-44a4-ba81-877eb9e6142c",
   "metadata": {},
   "outputs": [],
   "source": [
    "time.sleep(5)\n",
    "Revenue_Group_el = browser.find_element(\"name\", \"Dg-2\")\n",
    "Revenue_Group_el.send_keys(\"GRT\")\n",
    "Revenue_Group_el.send_keys(Keys.ENTER)"
   ]
  },
  {
   "cell_type": "markdown",
   "id": "a8f0e5da-8a48-4bd2-a7e5-0294ce87ff64",
   "metadata": {},
   "source": [
    "## Clicking the Generate button"
   ]
  },
  {
   "cell_type": "code",
   "execution_count": 204,
   "id": "15761f2e-7acd-479a-a42e-0af4820c2599",
   "metadata": {},
   "outputs": [],
   "source": [
    "Generate_btn_el = browser.find_element(\"id\", \"caption2_Dc-7\")\n",
    "Generate_btn_el.click()"
   ]
  },
  {
   "cell_type": "markdown",
   "id": "4f93b636-30a1-4c3a-83b2-09beaee6a247",
   "metadata": {},
   "source": [
    "## Clicking the View Report button"
   ]
  },
  {
   "cell_type": "code",
   "execution_count": 205,
   "id": "d80eaca2-f968-4221-b0ac-f403af9988e9",
   "metadata": {},
   "outputs": [
    {
     "name": "stdout",
     "output_type": "stream",
     "text": [
      "Page is ready!\n"
     ]
    }
   ],
   "source": [
    "delay = 10 # seconds\n",
    "try:\n",
    "    myElem = WebDriverWait(browser, delay).until(EC.presence_of_element_located((By.ID, 'Dc-8')))\n",
    "    print (\"Page is ready!\")\n",
    "except TimeoutException:\n",
    "    print (\"Loading took too much time!\")\n",
    "time.sleep(10)     \n",
    "View_Report_el = browser.find_element(\"id\", \"Dc-8\")\n",
    "\n",
    "View_Report_el.click()\n",
    "time.sleep(1.5)"
   ]
  },
  {
   "cell_type": "markdown",
   "id": "08aaa67a-3b2d-4988-b466-c67bf68ae9b8",
   "metadata": {},
   "source": [
    "## Printing report"
   ]
  },
  {
   "cell_type": "code",
   "execution_count": 206,
   "id": "af81db4c-6c04-4dc3-adcf-9ecc8a998f35",
   "metadata": {},
   "outputs": [],
   "source": [
    "browser.switch_to.window(browser.window_handles[1])\n",
    "time.sleep(3)\n",
    "autoit.send(\"^p\")\n",
    "time.sleep(3) # Pause to allow the PDF printer to load\n",
    "autoit.send(\"{Enter}\")\n",
    "time.sleep(3) # Pause to allow the printer to print.\n",
    "autoit.send(\"grt\")\n",
    "autoit.send(\"{Enter}\")\n",
    "time.sleep(3)\n",
    "autoit.send(\"!{F4}\")\n",
    "time.sleep(3)\n",
    "browser.close()"
   ]
  },
  {
   "cell_type": "markdown",
   "id": "2d593d4f-87ec-4854-aa98-b5ff6bac0281",
   "metadata": {},
   "source": [
    "## Close the report"
   ]
  },
  {
   "cell_type": "code",
   "execution_count": 207,
   "id": "ab53831f-9217-4026-a22a-30e880a7594b",
   "metadata": {},
   "outputs": [],
   "source": [
    "browser.switch_to.window(browser.window_handles[0])\n",
    "browser.implicitly_wait(1.5)\n",
    "\n",
    "close_button_el = browser.find_elements(By.XPATH, \"//button\")\n",
    "\n",
    "for button in close_button_el:\n",
    "    if button.get_attribute('title') and 'Close Manager: GL Backend RA - Main' in button.get_attribute('title'):\n",
    "        button.click();\n",
    "        "
   ]
  },
  {
   "cell_type": "markdown",
   "id": "50f14ff5-6f50-47e0-89bf-6554804b509f",
   "metadata": {},
   "source": [
    "## Renaming and moving the report"
   ]
  },
  {
   "cell_type": "code",
   "execution_count": 208,
   "id": "851ed910-899f-4e82-92a4-30d7f8c6c850",
   "metadata": {},
   "outputs": [],
   "source": [
    "old_file = os.path.join(desktop, \"grt.pdf\")\n",
    "old_file = shutil.move(old_file, destination_folder)\n",
    "new_file = os.path.join(destination_folder, accrue_month_1.strftime(\"GRT-Prelim. %b %Y Reporting Generic Distribution Report.pdf\"))\n",
    "try:\n",
    "  os.rename(old_file, new_file)\n",
    "except FileExistsError:\n",
    "  os.remove(new_file)\n",
    "  os.rename(old_file, new_file)"
   ]
  },
  {
   "cell_type": "code",
   "execution_count": 209,
   "id": "4c878cf4-956e-44f7-b387-4ce99bd55539",
   "metadata": {},
   "outputs": [],
   "source": [
    "# file name with extension\n",
    "file_name = os.path.basename(new_file)\n",
    "\n",
    "# file name without extension\n",
    "file_name = (os.path.splitext(file_name)[0])"
   ]
  },
  {
   "cell_type": "code",
   "execution_count": 210,
   "id": "2f468962-7a58-4b76-b21e-7f558c951033",
   "metadata": {},
   "outputs": [],
   "source": [
    "old_file = os.path.join(destination_folder, new_file)\n",
    "new_file = os.path.join(destination_folder, accrue_month_2.strftime(file_name + ' ' + \"(%b %Y Accrual).pdf\"))\n",
    "try:\n",
    "  os.rename(old_file, new_file)\n",
    "except FileExistsError:\n",
    "  os.remove(new_file)\n",
    "  os.rename(old_file, new_file)"
   ]
  },
  {
   "cell_type": "markdown",
   "id": "8e7bd595-e307-4c63-bac0-0df77e77fdb4",
   "metadata": {},
   "source": [
    "## Creating Email attachment"
   ]
  },
  {
   "cell_type": "code",
   "execution_count": 211,
   "id": "56fccf1c-d615-4166-a91f-e156ef94f7a1",
   "metadata": {},
   "outputs": [],
   "source": [
    "grt_email_item_1 = new_file"
   ]
  },
  {
   "cell_type": "markdown",
   "id": "71428f3a-c02e-480c-9fa3-6de07323166f",
   "metadata": {},
   "source": [
    "# CMP"
   ]
  },
  {
   "cell_type": "markdown",
   "id": "3f0e17a0-6bab-40c3-a014-52e221b27431",
   "metadata": {},
   "source": [
    "## Clicking Generate button"
   ]
  },
  {
   "cell_type": "code",
   "execution_count": 212,
   "id": "9ad40d86-7bf5-49a8-bd89-39d055a113a2",
   "metadata": {},
   "outputs": [],
   "source": [
    "time.sleep(1.5)\n",
    "Generate_btn_el = browser.find_element(\"id\", \"l_Dc-6-166\")\n",
    "Generate_btn_el.click()"
   ]
  },
  {
   "cell_type": "markdown",
   "id": "ed4f14ac-95af-428f-9724-a72c071084f6",
   "metadata": {},
   "source": [
    "## Selecting CMP"
   ]
  },
  {
   "cell_type": "code",
   "execution_count": 213,
   "id": "f0afc550-2e76-466c-8575-95c22aafcf33",
   "metadata": {},
   "outputs": [],
   "source": [
    "time.sleep(5)\n",
    "Revenue_Group_el = browser.find_element(\"name\", \"Dg-2\")\n",
    "Revenue_Group_el.send_keys(\"CMP\")\n",
    "Revenue_Group_el.send_keys(Keys.ENTER)"
   ]
  },
  {
   "cell_type": "markdown",
   "id": "69d183ea-98d0-4c5f-a6a4-587b6040ee6b",
   "metadata": {},
   "source": [
    "## Clicking the Generate button"
   ]
  },
  {
   "cell_type": "code",
   "execution_count": 214,
   "id": "c3ba8fd5-f8f7-4038-be2c-227749fded9d",
   "metadata": {},
   "outputs": [],
   "source": [
    "Generate_btn_el = browser.find_element(\"id\", \"caption2_Dc-7\")\n",
    "Generate_btn_el.click()"
   ]
  },
  {
   "cell_type": "markdown",
   "id": "be71bee2-f23c-465d-a64f-fd7265ae150f",
   "metadata": {},
   "source": [
    "## Clicking the View Report button"
   ]
  },
  {
   "cell_type": "code",
   "execution_count": 215,
   "id": "973bd0fe-37fb-42d0-a81c-7bf4ad2095d6",
   "metadata": {},
   "outputs": [
    {
     "name": "stdout",
     "output_type": "stream",
     "text": [
      "Page is ready!\n"
     ]
    }
   ],
   "source": [
    "delay = 10 # seconds\n",
    "try:\n",
    "    myElem = WebDriverWait(browser, delay).until(EC.presence_of_element_located((By.ID, 'Dc-8')))\n",
    "    print (\"Page is ready!\")\n",
    "except TimeoutException:\n",
    "    print (\"Loading took too much time!\")\n",
    "time.sleep(10)     \n",
    "View_Report_el = browser.find_element(\"id\", \"Dc-8\")\n",
    "\n",
    "View_Report_el.click()\n",
    "time.sleep(1.5)"
   ]
  },
  {
   "cell_type": "markdown",
   "id": "9e2f121b-f9a6-4443-b29d-0d8dd0e4df7e",
   "metadata": {},
   "source": [
    "## Printing report"
   ]
  },
  {
   "cell_type": "code",
   "execution_count": 216,
   "id": "0c97c30d-d44e-4fed-aa2f-bd77df92dd80",
   "metadata": {},
   "outputs": [],
   "source": [
    "browser.switch_to.window(browser.window_handles[1])\n",
    "time.sleep(3)\n",
    "autoit.send(\"^p\")\n",
    "time.sleep(3) # Pause to allow the PDF printer to load\n",
    "autoit.send(\"{Enter}\")\n",
    "time.sleep(3) # Pause to allow the printer to print.\n",
    "autoit.send(\"cmp\")\n",
    "autoit.send(\"{Enter}\")\n",
    "time.sleep(3)\n",
    "autoit.send(\"!{F4}\")\n",
    "time.sleep(3)\n",
    "browser.close()"
   ]
  },
  {
   "cell_type": "markdown",
   "id": "c8e3c9a0-91e3-4314-bfa5-edd23f6a0c34",
   "metadata": {},
   "source": [
    "## Close the report"
   ]
  },
  {
   "cell_type": "code",
   "execution_count": 217,
   "id": "60d52532-2832-43c4-af23-78f733234b39",
   "metadata": {},
   "outputs": [],
   "source": [
    "browser.switch_to.window(browser.window_handles[0])\n",
    "browser.implicitly_wait(1.5)\n",
    "\n",
    "close_button_el = browser.find_elements(By.XPATH, \"//button\")\n",
    "\n",
    "for button in close_button_el:\n",
    "    if button.get_attribute('title') and 'Close Manager: GL Backend RA - Main' in button.get_attribute('title'):\n",
    "        button.click();\n",
    "        "
   ]
  },
  {
   "cell_type": "markdown",
   "id": "cd3cbf3b-fa4e-401b-8a60-a47b1b4af375",
   "metadata": {},
   "source": [
    "## Renaming and moving the report"
   ]
  },
  {
   "cell_type": "code",
   "execution_count": 218,
   "id": "a29a6cfa-e962-4039-8477-db629d479141",
   "metadata": {},
   "outputs": [],
   "source": [
    "old_file = os.path.join(desktop, \"cmp.pdf\")\n",
    "old_file = shutil.move(old_file, destination_folder)\n",
    "new_file = os.path.join(destination_folder, accrue_month_1.strftime(\"CMP-Prelim. %b %Y Reporting Generic Distribution Report.pdf\"))\n",
    "try:\n",
    "  os.rename(old_file, new_file)\n",
    "except FileExistsError:\n",
    "  os.remove(new_file)\n",
    "  os.rename(old_file, new_file)"
   ]
  },
  {
   "cell_type": "code",
   "execution_count": 219,
   "id": "692da655-1e61-4db1-94a7-8c2f2169a76b",
   "metadata": {},
   "outputs": [],
   "source": [
    "# file name with extension\n",
    "file_name = os.path.basename(new_file)\n",
    "\n",
    "# file name without extension\n",
    "file_name = (os.path.splitext(file_name)[0])"
   ]
  },
  {
   "cell_type": "code",
   "execution_count": 220,
   "id": "6ef43978-5521-4ce2-bcf9-329566fb691c",
   "metadata": {},
   "outputs": [],
   "source": [
    "old_file = os.path.join(destination_folder, new_file)\n",
    "new_file = os.path.join(destination_folder, accrue_month_2.strftime(file_name + ' ' + \"(%b %Y Accrual).pdf\"))\n",
    "try:\n",
    "  os.rename(old_file, new_file)\n",
    "except FileExistsError:\n",
    "  os.remove(new_file)\n",
    "  os.rename(old_file, new_file)"
   ]
  },
  {
   "cell_type": "markdown",
   "id": "4a8db47c-1e2a-4005-8c89-f619d972534d",
   "metadata": {},
   "source": [
    "## Creating Email attachment"
   ]
  },
  {
   "cell_type": "code",
   "execution_count": 221,
   "id": "c41c2ab0-cc57-41d4-ad17-fcace6de9869",
   "metadata": {},
   "outputs": [],
   "source": [
    "cmp_email_item_1 = new_file"
   ]
  },
  {
   "cell_type": "markdown",
   "id": "fa6d74e4-fc04-4a58-aa71-e584171f9a5d",
   "metadata": {},
   "source": [
    "# ISI"
   ]
  },
  {
   "cell_type": "markdown",
   "id": "6556c75f-956d-4c2c-a966-52dfc61ce62b",
   "metadata": {},
   "source": [
    "## Clicking Generate button"
   ]
  },
  {
   "cell_type": "code",
   "execution_count": 222,
   "id": "bd41dbcd-de91-42db-94af-06d44f429765",
   "metadata": {},
   "outputs": [],
   "source": [
    "time.sleep(1.5)\n",
    "Generate_btn_el = browser.find_element(\"id\", \"l_Dc-6-166\")\n",
    "Generate_btn_el.click()"
   ]
  },
  {
   "cell_type": "markdown",
   "id": "40aed62e-b8db-4bd7-a384-a6690f708040",
   "metadata": {},
   "source": [
    "## Selecting ISI"
   ]
  },
  {
   "cell_type": "code",
   "execution_count": 223,
   "id": "f6cd19f9-6fb0-44d1-8997-3429de42ab2b",
   "metadata": {},
   "outputs": [],
   "source": [
    "time.sleep(5)\n",
    "Revenue_Group_el = browser.find_element(\"name\", \"Dg-2\")\n",
    "Revenue_Group_el.send_keys(\"ISI\")\n",
    "Revenue_Group_el.send_keys(Keys.ENTER)"
   ]
  },
  {
   "cell_type": "markdown",
   "id": "4c16ff10-e0c6-4ec0-82c8-82fe2741447b",
   "metadata": {},
   "source": [
    "## Clicking the Generate button"
   ]
  },
  {
   "cell_type": "code",
   "execution_count": 224,
   "id": "90ec7611-49e6-4866-bc99-f0db5e430bbd",
   "metadata": {},
   "outputs": [],
   "source": [
    "Generate_btn_el = browser.find_element(\"id\", \"caption2_Dc-7\")\n",
    "Generate_btn_el.click()"
   ]
  },
  {
   "cell_type": "markdown",
   "id": "9f1873c7-34ad-4099-802a-cad89321fbc2",
   "metadata": {},
   "source": [
    "## Clicking the View Report button"
   ]
  },
  {
   "cell_type": "code",
   "execution_count": 225,
   "id": "e7815b35-4663-438d-8e79-630603c6afd4",
   "metadata": {},
   "outputs": [
    {
     "name": "stdout",
     "output_type": "stream",
     "text": [
      "Page is ready!\n"
     ]
    }
   ],
   "source": [
    "delay = 10 # seconds\n",
    "try:\n",
    "    myElem = WebDriverWait(browser, delay).until(EC.presence_of_element_located((By.ID, 'Dc-8')))\n",
    "    print (\"Page is ready!\")\n",
    "except TimeoutException:\n",
    "    print (\"Loading took too much time!\")\n",
    "time.sleep(10)     \n",
    "View_Report_el = browser.find_element(\"id\", \"Dc-8\")\n",
    "\n",
    "View_Report_el.click()\n",
    "time.sleep(1.5)"
   ]
  },
  {
   "cell_type": "markdown",
   "id": "a1a3cbc4-57b6-49e5-9231-b8e4cbf9b22b",
   "metadata": {},
   "source": [
    "## Printing report"
   ]
  },
  {
   "cell_type": "code",
   "execution_count": 226,
   "id": "fff4214d-b3e0-48f8-bdd5-a04393dd6f39",
   "metadata": {},
   "outputs": [],
   "source": [
    "browser.switch_to.window(browser.window_handles[1])\n",
    "time.sleep(3)\n",
    "autoit.send(\"^p\")\n",
    "time.sleep(3) # Pause to allow the PDF printer to load\n",
    "autoit.send(\"{Enter}\")\n",
    "time.sleep(3) # Pause to allow the printer to print.\n",
    "autoit.send(\"isi\")\n",
    "autoit.send(\"{Enter}\")\n",
    "time.sleep(3)\n",
    "autoit.send(\"!{F4}\")\n",
    "time.sleep(3)\n",
    "browser.close()"
   ]
  },
  {
   "cell_type": "markdown",
   "id": "88c38943-574d-40b7-901a-b89b9260e3b0",
   "metadata": {},
   "source": [
    "## Close the report"
   ]
  },
  {
   "cell_type": "code",
   "execution_count": 227,
   "id": "096c5962-853e-4f72-93d0-9bec9c4208f4",
   "metadata": {},
   "outputs": [],
   "source": [
    "browser.switch_to.window(browser.window_handles[0])\n",
    "browser.implicitly_wait(1.5)\n",
    "\n",
    "close_button_el = browser.find_elements(By.XPATH, \"//button\")\n",
    "\n",
    "for button in close_button_el:\n",
    "    if button.get_attribute('title') and 'Close Manager: GL Backend RA - Main' in button.get_attribute('title'):\n",
    "        button.click();\n",
    "        "
   ]
  },
  {
   "cell_type": "markdown",
   "id": "89d99535-63e2-42f8-932f-5843a727d075",
   "metadata": {},
   "source": [
    "## Renaming and moving the report"
   ]
  },
  {
   "cell_type": "code",
   "execution_count": 228,
   "id": "77a496af-c02b-4051-915b-ae0b95763bde",
   "metadata": {},
   "outputs": [],
   "source": [
    "old_file = os.path.join(desktop, \"isi.pdf\")\n",
    "old_file = shutil.move(old_file, destination_folder)\n",
    "new_file = os.path.join(destination_folder, accrue_month_1.strftime(\"ISI-Prelim. %b %Y Reporting Generic Distribution Report.pdf\"))\n",
    "try:\n",
    "  os.rename(old_file, new_file)\n",
    "except FileExistsError:\n",
    "  os.remove(new_file)\n",
    "  os.rename(old_file, new_file)"
   ]
  },
  {
   "cell_type": "code",
   "execution_count": 229,
   "id": "ef5b2f30-59bb-4b97-aef8-b3fcd751ef24",
   "metadata": {},
   "outputs": [],
   "source": [
    "# file name with extension\n",
    "file_name = os.path.basename(new_file)\n",
    "\n",
    "# file name without extension\n",
    "file_name = (os.path.splitext(file_name)[0])"
   ]
  },
  {
   "cell_type": "code",
   "execution_count": 230,
   "id": "03647953-4922-465c-a7d9-47cb185193d1",
   "metadata": {},
   "outputs": [],
   "source": [
    "old_file = os.path.join(destination_folder, new_file)\n",
    "new_file = os.path.join(destination_folder, accrue_month_2.strftime(file_name + ' ' + \"(%b %Y Accrual).pdf\"))\n",
    "try:\n",
    "  os.rename(old_file, new_file)\n",
    "except FileExistsError:\n",
    "  os.remove(new_file)\n",
    "  os.rename(old_file, new_file)"
   ]
  },
  {
   "cell_type": "markdown",
   "id": "48f96379-79c2-46dc-a950-09de2fe76d34",
   "metadata": {},
   "source": [
    "## Creating Email attachment"
   ]
  },
  {
   "cell_type": "code",
   "execution_count": 231,
   "id": "60de6a2f-5084-4d83-aa62-efb59f95eec3",
   "metadata": {},
   "outputs": [],
   "source": [
    "isi_email_item_1 = new_file"
   ]
  },
  {
   "cell_type": "markdown",
   "id": "b4559162-3527-4239-890a-2d7b575beb77",
   "metadata": {},
   "source": [
    "# IPP"
   ]
  },
  {
   "cell_type": "markdown",
   "id": "749c7a8b-2261-4e22-a397-4c6a49d13d08",
   "metadata": {},
   "source": [
    "## Clicking Generate button"
   ]
  },
  {
   "cell_type": "code",
   "execution_count": 232,
   "id": "cf6e1a21-c870-4245-a053-1445455db5e8",
   "metadata": {},
   "outputs": [],
   "source": [
    "time.sleep(1.5)\n",
    "Generate_btn_el = browser.find_element(\"id\", \"l_Dc-6-166\")\n",
    "Generate_btn_el.click()"
   ]
  },
  {
   "cell_type": "markdown",
   "id": "367940ba-6f2b-4423-9ad6-5c364dc9bd75",
   "metadata": {},
   "source": [
    "## Selecting IPP"
   ]
  },
  {
   "cell_type": "code",
   "execution_count": 233,
   "id": "88c649d6-d7fe-448d-8987-3351a34a0937",
   "metadata": {},
   "outputs": [],
   "source": [
    "time.sleep(5)\n",
    "Revenue_Group_el = browser.find_element(\"name\", \"Dg-2\")\n",
    "Revenue_Group_el.send_keys(\"IPP\")\n",
    "Revenue_Group_el.send_keys(Keys.ENTER)"
   ]
  },
  {
   "cell_type": "markdown",
   "id": "ea05e686-177f-48a5-85e0-3787df66ec65",
   "metadata": {},
   "source": [
    "## Clicking the Generate button"
   ]
  },
  {
   "cell_type": "code",
   "execution_count": 234,
   "id": "7bb0f13c-77d8-476d-9487-26157bcef567",
   "metadata": {},
   "outputs": [],
   "source": [
    "Generate_btn_el = browser.find_element(\"id\", \"caption2_Dc-7\")\n",
    "Generate_btn_el.click()"
   ]
  },
  {
   "cell_type": "markdown",
   "id": "9f82c66f-5d92-4c4b-bbd1-fb1199f7b723",
   "metadata": {},
   "source": [
    "## Clicking the View Report button"
   ]
  },
  {
   "cell_type": "code",
   "execution_count": 235,
   "id": "7a02fbdd-32e3-4d31-9e77-ffacb45c7776",
   "metadata": {},
   "outputs": [
    {
     "name": "stdout",
     "output_type": "stream",
     "text": [
      "Page is ready!\n"
     ]
    }
   ],
   "source": [
    "delay = 10 # seconds\n",
    "try:\n",
    "    myElem = WebDriverWait(browser, delay).until(EC.presence_of_element_located((By.ID, 'Dc-8')))\n",
    "    print (\"Page is ready!\")\n",
    "except TimeoutException:\n",
    "    print (\"Loading took too much time!\")\n",
    "time.sleep(10)     \n",
    "View_Report_el = browser.find_element(\"id\", \"Dc-8\")\n",
    "\n",
    "View_Report_el.click()\n",
    "time.sleep(1.5)"
   ]
  },
  {
   "cell_type": "markdown",
   "id": "88428063-862e-4ff5-a76b-5bc57a35e6ac",
   "metadata": {},
   "source": [
    "## Printing report"
   ]
  },
  {
   "cell_type": "code",
   "execution_count": 236,
   "id": "a9da01c4-d9bc-4e76-94ad-3374be3ba038",
   "metadata": {},
   "outputs": [],
   "source": [
    "browser.switch_to.window(browser.window_handles[1])\n",
    "time.sleep(3)\n",
    "autoit.send(\"^p\")\n",
    "time.sleep(3) # Pause to allow the PDF printer to load\n",
    "autoit.send(\"{Enter}\")\n",
    "time.sleep(3) # Pause to allow the printer to print.\n",
    "autoit.send(\"ipp\")\n",
    "autoit.send(\"{Enter}\")\n",
    "time.sleep(3)\n",
    "autoit.send(\"!{F4}\")\n",
    "time.sleep(3)\n",
    "browser.close()"
   ]
  },
  {
   "cell_type": "markdown",
   "id": "2ba5232a-c524-4184-972b-cdaf27f4184e",
   "metadata": {},
   "source": [
    "## Close the report"
   ]
  },
  {
   "cell_type": "code",
   "execution_count": 237,
   "id": "4621467e-64b4-4e76-a1b5-ef1cebc5e3a1",
   "metadata": {},
   "outputs": [],
   "source": [
    "browser.switch_to.window(browser.window_handles[0])\n",
    "browser.implicitly_wait(1.5)\n",
    "\n",
    "close_button_el = browser.find_elements(By.XPATH, \"//button\")\n",
    "\n",
    "for button in close_button_el:\n",
    "    if button.get_attribute('title') and 'Close Manager: GL Backend RA - Main' in button.get_attribute('title'):\n",
    "        button.click();\n",
    "        "
   ]
  },
  {
   "cell_type": "markdown",
   "id": "a38f91e4-261c-4f51-b0ca-51f1ed1db10c",
   "metadata": {},
   "source": [
    "## Renaming and moving the report"
   ]
  },
  {
   "cell_type": "code",
   "execution_count": 238,
   "id": "a8fef032-b20e-4bd1-a585-e86e5fa4795f",
   "metadata": {},
   "outputs": [],
   "source": [
    "old_file = os.path.join(desktop, \"ipp.pdf\")\n",
    "old_file = shutil.move(old_file, destination_folder)\n",
    "new_file = os.path.join(destination_folder, accrue_month_1.strftime(\"IPP-Prelim. %b %Y Reporting Generic Distribution Report.pdf\"))\n",
    "try:\n",
    "  os.rename(old_file, new_file)\n",
    "except FileExistsError:\n",
    "  os.remove(new_file)\n",
    "  os.rename(old_file, new_file)"
   ]
  },
  {
   "cell_type": "code",
   "execution_count": 239,
   "id": "aa12e9b5-8b2b-4333-a89e-4171b224870b",
   "metadata": {},
   "outputs": [],
   "source": [
    "# file name with extension\n",
    "file_name = os.path.basename(new_file)\n",
    "\n",
    "# file name without extension\n",
    "file_name = (os.path.splitext(file_name)[0])"
   ]
  },
  {
   "cell_type": "code",
   "execution_count": 240,
   "id": "5d6dda88-ebfe-45f0-adf1-4973dd2118b5",
   "metadata": {},
   "outputs": [],
   "source": [
    "old_file = os.path.join(destination_folder, new_file)\n",
    "new_file = os.path.join(destination_folder, accrue_month_2.strftime(file_name + ' ' + \"(%b %Y Accrual).pdf\"))\n",
    "try:\n",
    "  os.rename(old_file, new_file)\n",
    "except FileExistsError:\n",
    "  os.remove(new_file)\n",
    "  os.rename(old_file, new_file)"
   ]
  },
  {
   "cell_type": "markdown",
   "id": "0292ca19-e61f-4f61-b4f4-e39bb48e17e2",
   "metadata": {},
   "source": [
    "## Creating Email attachment"
   ]
  },
  {
   "cell_type": "code",
   "execution_count": 241,
   "id": "240e3a32-38c3-4cdf-9847-cd17b3184984",
   "metadata": {},
   "outputs": [],
   "source": [
    "ipp_email_item_1 = new_file"
   ]
  },
  {
   "cell_type": "markdown",
   "id": "64dff351-c57b-4a12-a49c-3c6edfe6a090",
   "metadata": {},
   "source": [
    "# IPS"
   ]
  },
  {
   "cell_type": "markdown",
   "id": "26cb7032-0e99-40d1-b0c3-cda4cd89466f",
   "metadata": {},
   "source": [
    "## Clicking Generate button"
   ]
  },
  {
   "cell_type": "code",
   "execution_count": 242,
   "id": "4bcb6cd7-48c6-4493-9586-73bd1bf28848",
   "metadata": {},
   "outputs": [],
   "source": [
    "time.sleep(1.5)\n",
    "Generate_btn_el = browser.find_element(\"id\", \"l_Dc-6-166\")\n",
    "Generate_btn_el.click()"
   ]
  },
  {
   "cell_type": "markdown",
   "id": "da757be6-c4af-4d29-b384-d058383d3130",
   "metadata": {},
   "source": [
    "## Selecting IPS"
   ]
  },
  {
   "cell_type": "code",
   "execution_count": 243,
   "id": "d44c19d2-5415-4393-96fd-2cbd5ff13f92",
   "metadata": {},
   "outputs": [],
   "source": [
    "time.sleep(5)\n",
    "Revenue_Group_el = browser.find_element(\"name\", \"Dg-2\")\n",
    "Revenue_Group_el.send_keys(\"IPS\")\n",
    "Revenue_Group_el.send_keys(Keys.ENTER)"
   ]
  },
  {
   "cell_type": "markdown",
   "id": "88d378f2-a1fe-42f6-b38c-e4bff7aa1409",
   "metadata": {},
   "source": [
    "## Clicking the Generate button"
   ]
  },
  {
   "cell_type": "code",
   "execution_count": 244,
   "id": "07ec3719-5e3e-4bf5-9acf-1e46c3f0f799",
   "metadata": {},
   "outputs": [],
   "source": [
    "Generate_btn_el = browser.find_element(\"id\", \"caption2_Dc-7\")\n",
    "Generate_btn_el.click()"
   ]
  },
  {
   "cell_type": "markdown",
   "id": "94d37cf5-fccf-4058-b72f-e31203d029af",
   "metadata": {},
   "source": [
    "## Clicking the View Report button"
   ]
  },
  {
   "cell_type": "code",
   "execution_count": 245,
   "id": "99f5f34e-7fcb-4ce3-89a1-c356d568f64a",
   "metadata": {},
   "outputs": [
    {
     "name": "stdout",
     "output_type": "stream",
     "text": [
      "Page is ready!\n"
     ]
    }
   ],
   "source": [
    "delay = 10 # seconds\n",
    "try:\n",
    "    myElem = WebDriverWait(browser, delay).until(EC.presence_of_element_located((By.ID, 'Dc-8')))\n",
    "    print (\"Page is ready!\")\n",
    "except TimeoutException:\n",
    "    print (\"Loading took too much time!\")\n",
    "time.sleep(10)     \n",
    "View_Report_el = browser.find_element(\"id\", \"Dc-8\")\n",
    "\n",
    "View_Report_el.click()\n",
    "time.sleep(1.5)"
   ]
  },
  {
   "cell_type": "markdown",
   "id": "1166f903-8ec6-49df-b055-98692c46de5b",
   "metadata": {},
   "source": [
    "## Printing report"
   ]
  },
  {
   "cell_type": "code",
   "execution_count": 246,
   "id": "b5b656ba-5e15-44c1-8706-99cff21a5c02",
   "metadata": {},
   "outputs": [],
   "source": [
    "browser.switch_to.window(browser.window_handles[1])\n",
    "time.sleep(3)\n",
    "autoit.send(\"^p\")\n",
    "time.sleep(3) # Pause to allow the PDF printer to load\n",
    "autoit.send(\"{Enter}\")\n",
    "time.sleep(3) # Pause to allow the printer to print.\n",
    "autoit.send(\"ips\")\n",
    "autoit.send(\"{Enter}\")\n",
    "time.sleep(3)\n",
    "autoit.send(\"!{F4}\")\n",
    "time.sleep(3)\n",
    "browser.close()"
   ]
  },
  {
   "cell_type": "markdown",
   "id": "47e10b48-51c1-456f-a067-d40373d08560",
   "metadata": {},
   "source": [
    "## Close the report"
   ]
  },
  {
   "cell_type": "code",
   "execution_count": 247,
   "id": "c372c165-1add-4e78-8d67-1867b6b2fedd",
   "metadata": {},
   "outputs": [],
   "source": [
    "browser.switch_to.window(browser.window_handles[0])\n",
    "browser.implicitly_wait(1.5)\n",
    "\n",
    "close_button_el = browser.find_elements(By.XPATH, \"//button\")\n",
    "\n",
    "for button in close_button_el:\n",
    "    if button.get_attribute('title') and 'Close Manager: GL Backend RA - Main' in button.get_attribute('title'):\n",
    "        button.click();\n",
    "        "
   ]
  },
  {
   "cell_type": "markdown",
   "id": "7586888a-5dae-4ac8-a2ab-e1a9ee8f67d5",
   "metadata": {},
   "source": [
    "## Renaming and moving the report"
   ]
  },
  {
   "cell_type": "code",
   "execution_count": 248,
   "id": "a54b1cb2-185b-4502-9ec6-2e225f9ba666",
   "metadata": {},
   "outputs": [],
   "source": [
    "old_file = os.path.join(desktop, \"ips.pdf\")\n",
    "old_file = shutil.move(old_file, destination_folder)\n",
    "new_file = os.path.join(destination_folder, accrue_month_1.strftime(\"IPS-Prelim. %b %Y Reporting Generic Distribution Report.pdf\"))\n",
    "try:\n",
    "  os.rename(old_file, new_file)\n",
    "except FileExistsError:\n",
    "  os.remove(new_file)\n",
    "  os.rename(old_file, new_file)"
   ]
  },
  {
   "cell_type": "code",
   "execution_count": 249,
   "id": "ec05c9c3-a842-4acf-883f-6b6036592a80",
   "metadata": {},
   "outputs": [],
   "source": [
    "# file name with extension\n",
    "file_name = os.path.basename(new_file)\n",
    "\n",
    "# file name without extension\n",
    "file_name = (os.path.splitext(file_name)[0])"
   ]
  },
  {
   "cell_type": "code",
   "execution_count": 250,
   "id": "3676c43f-08ac-4b44-a350-c32a371b3d3c",
   "metadata": {},
   "outputs": [],
   "source": [
    "old_file = os.path.join(destination_folder, new_file)\n",
    "new_file = os.path.join(destination_folder, accrue_month_2.strftime(file_name + ' ' + \"(%b %Y Accrual).pdf\"))\n",
    "try:\n",
    "  os.rename(old_file, new_file)\n",
    "except FileExistsError:\n",
    "  os.remove(new_file)\n",
    "  os.rename(old_file, new_file)"
   ]
  },
  {
   "cell_type": "markdown",
   "id": "2e930468-5852-4fa0-9366-dbb68197a763",
   "metadata": {},
   "source": [
    "## Creating Email attachment"
   ]
  },
  {
   "cell_type": "code",
   "execution_count": 251,
   "id": "7b7b60a2-7d10-4a96-a96b-b86f4e3bead7",
   "metadata": {},
   "outputs": [],
   "source": [
    "ips_email_item_1 = new_file"
   ]
  },
  {
   "cell_type": "markdown",
   "id": "c8977d61-07b9-4ffe-80ca-c9942e928570",
   "metadata": {},
   "source": [
    "# IPH"
   ]
  },
  {
   "cell_type": "markdown",
   "id": "ec6c2cd6-2fae-439c-ad12-73098e356931",
   "metadata": {},
   "source": [
    "## Clicking Generate button"
   ]
  },
  {
   "cell_type": "code",
   "execution_count": 252,
   "id": "05476bd5-5ed1-4656-8686-e277185504dd",
   "metadata": {},
   "outputs": [],
   "source": [
    "time.sleep(1.5)\n",
    "Generate_btn_el = browser.find_element(\"id\", \"l_Dc-6-166\")\n",
    "Generate_btn_el.click()"
   ]
  },
  {
   "cell_type": "markdown",
   "id": "97967310-50a1-4ca0-9954-28615d9cbd77",
   "metadata": {},
   "source": [
    "## Selecting IPH"
   ]
  },
  {
   "cell_type": "code",
   "execution_count": 253,
   "id": "8b2f9915-7a51-4112-9b1c-01aaeafeb867",
   "metadata": {},
   "outputs": [],
   "source": [
    "time.sleep(5)\n",
    "Revenue_Group_el = browser.find_element(\"name\", \"Dg-2\")\n",
    "Revenue_Group_el.send_keys(\"IPH\")\n",
    "Revenue_Group_el.send_keys(Keys.ENTER)"
   ]
  },
  {
   "cell_type": "markdown",
   "id": "e6f7599b-fc54-4a0b-8caf-93e29d346672",
   "metadata": {},
   "source": [
    "## Clicking the Generate button"
   ]
  },
  {
   "cell_type": "code",
   "execution_count": 254,
   "id": "0c87211f-8ca6-4152-a2fc-97cfd6ec1d94",
   "metadata": {},
   "outputs": [],
   "source": [
    "Generate_btn_el = browser.find_element(\"id\", \"caption2_Dc-7\")\n",
    "Generate_btn_el.click()"
   ]
  },
  {
   "cell_type": "markdown",
   "id": "1b8c3247-a638-4926-b234-40ea20fbb78f",
   "metadata": {},
   "source": [
    "## Clicking the View Report button"
   ]
  },
  {
   "cell_type": "code",
   "execution_count": 255,
   "id": "3df75cf7-c874-48b5-8732-ee54f44447b4",
   "metadata": {},
   "outputs": [
    {
     "name": "stdout",
     "output_type": "stream",
     "text": [
      "Page is ready!\n"
     ]
    }
   ],
   "source": [
    "delay = 10 # seconds\n",
    "try:\n",
    "    myElem = WebDriverWait(browser, delay).until(EC.presence_of_element_located((By.ID, 'Dc-8')))\n",
    "    print (\"Page is ready!\")\n",
    "except TimeoutException:\n",
    "    print (\"Loading took too much time!\")\n",
    "time.sleep(10)     \n",
    "View_Report_el = browser.find_element(\"id\", \"Dc-8\")\n",
    "\n",
    "View_Report_el.click()\n",
    "time.sleep(1.5)"
   ]
  },
  {
   "cell_type": "markdown",
   "id": "dcc8db35-ab8a-42ae-9993-f3b88612322d",
   "metadata": {},
   "source": [
    "## Printing report"
   ]
  },
  {
   "cell_type": "code",
   "execution_count": 256,
   "id": "3d73a0a7-e51d-4c42-977e-1616af85d8b7",
   "metadata": {},
   "outputs": [],
   "source": [
    "browser.switch_to.window(browser.window_handles[1])\n",
    "time.sleep(3)\n",
    "autoit.send(\"^p\")\n",
    "time.sleep(3) # Pause to allow the PDF printer to load\n",
    "autoit.send(\"{Enter}\")\n",
    "time.sleep(3) # Pause to allow the printer to print.\n",
    "autoit.send(\"iph\")\n",
    "autoit.send(\"{Enter}\")\n",
    "time.sleep(3)\n",
    "autoit.send(\"!{F4}\")\n",
    "time.sleep(3)\n",
    "browser.close()"
   ]
  },
  {
   "cell_type": "markdown",
   "id": "37dd01bc-ecde-4e6e-89e0-dd13bde90e16",
   "metadata": {},
   "source": [
    "## Close the report"
   ]
  },
  {
   "cell_type": "code",
   "execution_count": 257,
   "id": "43dd0e21-4d54-460f-bc8e-0bf15a2ad4cf",
   "metadata": {},
   "outputs": [],
   "source": [
    "browser.switch_to.window(browser.window_handles[0])\n",
    "browser.implicitly_wait(1.5)\n",
    "\n",
    "close_button_el = browser.find_elements(By.XPATH, \"//button\")\n",
    "\n",
    "for button in close_button_el:\n",
    "    if button.get_attribute('title') and 'Close Manager: GL Backend RA - Main' in button.get_attribute('title'):\n",
    "        button.click();\n",
    "        "
   ]
  },
  {
   "cell_type": "markdown",
   "id": "8798d820-530e-4391-b614-b1759eed6ec2",
   "metadata": {},
   "source": [
    "## Renaming and moving the report"
   ]
  },
  {
   "cell_type": "code",
   "execution_count": 258,
   "id": "bed91bf5-df3f-433a-b284-de3c049deee4",
   "metadata": {},
   "outputs": [],
   "source": [
    "old_file = os.path.join(desktop, \"iph.pdf\")\n",
    "old_file = shutil.move(old_file, destination_folder)\n",
    "new_file = os.path.join(destination_folder, accrue_month_1.strftime(\"IPH-Prelim. %b %Y Reporting Generic Distribution Report.pdf\"))\n",
    "try:\n",
    "  os.rename(old_file, new_file)\n",
    "except FileExistsError:\n",
    "  os.remove(new_file)\n",
    "  os.rename(old_file, new_file)"
   ]
  },
  {
   "cell_type": "code",
   "execution_count": 259,
   "id": "9e7df871-11b4-44dd-a2a0-2ce8b68399cd",
   "metadata": {},
   "outputs": [],
   "source": [
    "# file name with extension\n",
    "file_name = os.path.basename(new_file)\n",
    "\n",
    "# file name without extension\n",
    "file_name = (os.path.splitext(file_name)[0])"
   ]
  },
  {
   "cell_type": "code",
   "execution_count": 260,
   "id": "67fedb9b-6562-4c0e-b644-ffb9ee38ba82",
   "metadata": {},
   "outputs": [],
   "source": [
    "old_file = os.path.join(destination_folder, new_file)\n",
    "new_file = os.path.join(destination_folder, accrue_month_2.strftime(file_name + ' ' + \"(%b %Y Accrual).pdf\"))\n",
    "try:\n",
    "  os.rename(old_file, new_file)\n",
    "except FileExistsError:\n",
    "  os.remove(new_file)\n",
    "  os.rename(old_file, new_file)"
   ]
  },
  {
   "cell_type": "markdown",
   "id": "37577dfa-fda4-47f8-8aba-5a724f296d47",
   "metadata": {},
   "source": [
    "## Creating Email attachment"
   ]
  },
  {
   "cell_type": "code",
   "execution_count": 261,
   "id": "636243a6-b2ac-4c6d-badc-f0dbf796aea3",
   "metadata": {},
   "outputs": [],
   "source": [
    "iph_email_item_1 = new_file"
   ]
  },
  {
   "cell_type": "code",
   "execution_count": 262,
   "id": "cd66d336-b0bc-4cbd-9f7f-35bffda22b6c",
   "metadata": {},
   "outputs": [],
   "source": [
    "browser.close()"
   ]
  },
  {
   "cell_type": "markdown",
   "id": "3fe52c12-e056-456a-88ff-1bf91e83417d",
   "metadata": {},
   "source": [
    "# Emailing the reports"
   ]
  },
  {
   "cell_type": "markdown",
   "id": "8b06961f-326d-464d-b23b-4ad166855f07",
   "metadata": {},
   "source": [
    "## Sending CIT"
   ]
  },
  {
   "cell_type": "markdown",
   "id": "d7706d80-f2c1-444c-ba5f-0f277c336cea",
   "metadata": {},
   "source": [
    "### Constructing Outlook application instance"
   ]
  },
  {
   "cell_type": "code",
   "execution_count": 263,
   "id": "4b6ba8b8-4937-45fc-9e4e-0d76aae4cbef",
   "metadata": {},
   "outputs": [],
   "source": [
    "olApp = win32.Dispatch('Outlook.Application.16')\n",
    "olNS = olApp.GetNameSpace('MAPI')"
   ]
  },
  {
   "cell_type": "markdown",
   "id": "1c1822a4-7094-4726-a1ee-d40db2888d64",
   "metadata": {},
   "source": [
    "### Writing the email"
   ]
  },
  {
   "cell_type": "code",
   "execution_count": 264,
   "id": "1a184f2e-7a03-4bc8-95de-9c4100e526b4",
   "metadata": {},
   "outputs": [],
   "source": [
    "\n",
    "# mailItem = olApp.CreateItem(0)\n",
    "# mailItem.Subject = accrue_month_1.strftime('Test Email: CIT Generic Distribution %b %Y')\n",
    "# mailItem.To = 'lucinda.sydow2@tax.nm.gov; pedro.clavijo@tax.nm.gov'\n",
    "# mailItem.CC = 'sara.grubbs@tax.nm.gov'\n",
    "\n",
    "# mailItem.BodyFormat = 1\n",
    "\n",
    "# mailItem.HTMLBody = accrue_month_1.strftime(\"Dear all, <br><br>\\nPlease find the CIT Generic Distribution Report for %b %Y attached to this email.  <br><br>\\n\\n Sincerely,<br>\\n Asif Rasool  <br><br>\\n\\n Senior Economist <br>\\n Tax Analysis, Research & Statistics <br>\\n Office of the Secretary <br>\\n New Mexico Taxation & Revenue Department <br>\\n Phone: 505 490 0904\")\n",
    "                \n",
    "\n",
    "# # # Attachments\n",
    "# # mailItem.Attachments.Add(os.path.join(r\"C:\\Users\\asifr\\OneDrive - State of New Mexico\\Desktop\\temp\", 'CIT-Prelim. Oct 2023 Reporting Generic Distribution Report (Sep 2023 Accrual).pdf'))\n",
    "# # mailItem.Attachments.Add(cit_email_item_1)\n",
    "# # mailItem.HTMLBody = Here is the <a href='http://www.python.org'>link</a> I need.\"\n",
    "\n",
    "\n",
    "# mailItem.Display()\n",
    "\n",
    "# mailItem.Save()\n",
    "# mailItem.Send()"
   ]
  },
  {
   "cell_type": "markdown",
   "id": "ccec58eb-5884-48f7-a515-7d45503468a7",
   "metadata": {},
   "source": [
    "## Sending all the reports"
   ]
  },
  {
   "cell_type": "markdown",
   "id": "8160cd13-6f77-4bc5-840f-7d6f44c24490",
   "metadata": {},
   "source": [
    "### Writing the email"
   ]
  },
  {
   "cell_type": "code",
   "execution_count": 265,
   "id": "d9076134-f421-49e2-9f91-76c08164e4c2",
   "metadata": {},
   "outputs": [],
   "source": [
    "mailItem = olApp.CreateItem(0)\n",
    "mailItem.Subject = accrue_month_1.strftime('Automatic Email: GenTax reprots & tracker %b %Y')\n",
    "mailItem.To = 'lucinda.sydow2@tax.nm.gov; pedro.clavijo@tax.nm.gov'\n",
    "mailItem.CC = 'sara.grubbs@tax.nm.gov'\n",
    "\n",
    "mailItem.BodyFormat = 1\n",
    "\n",
    "mailItem.HTMLBody = accrue_month_1.strftime(\"Hello :) <br><br> I am Alphie. I have attached the distribution reports and trackers for %b %Y to this email. You will find all the reports <a href='\\\\trdecomsrv\\H\\Alphie'>here:</a> \\\\trdecomsrv\\H\\Alphie. <br><br>If you face any issues or find any errors, please get in touch with Asif Rasool <a href= 'asif.rasool@tax.nm.gov'>(asif.rasool@tax.nm.gov)</a>. He will fix me up. <br><br>Thanks, and have a nice day!<br><br>Alphie 1.01 <br>\")\n",
    "                \n",
    "\n",
    " \n",
    "# # Attachments\n",
    "# mailItem.Attachments.Add(os.path.join(r\"C:\\Users\\asifr\\OneDrive - State of New Mexico\\Desktop\\temp\", 'CIT-Prelim. Oct 2023 Reporting Generic Distribution Report (Sep 2023 Accrual).pdf'))\n",
    "\n",
    "mailItem.Attachments.Add(cit_email_item_1)\n",
    "mailItem.Attachments.Add(ogp_r_email_item_1)\n",
    "mailItem.Attachments.Add(pit_email_item_1)\n",
    "mailItem.Attachments.Add(ptw_o_email_item_1)\n",
    "mailItem.Attachments.Add(ptw_r_email_item_1)\n",
    "mailItem.Attachments.Add(wwt_email_item_1)\n",
    "mailItem.Attachments.Add(fid_email_item_1)\n",
    "mailItem.Attachments.Add(nwt_email_item_1)\n",
    "mailItem.Attachments.Add(ogp_email_item_1)\n",
    "mailItem.Attachments.Add(ogp_o_email_item_1)\n",
    "mailItem.Attachments.Add(can_email_item_1)\n",
    "mailItem.Attachments.Add(grt_email_item_1)\n",
    "mailItem.Attachments.Add(cmp_email_item_1)\n",
    "mailItem.Attachments.Add(isi_email_item_1)\n",
    "mailItem.Attachments.Add(ipp_email_item_1)\n",
    "mailItem.Attachments.Add(ips_email_item_1)\n",
    "mailItem.Attachments.Add(iph_email_item_1)\n",
    "mailItem.Attachments.Add(fuel_reprt_email_item_1)\n",
    "mailItem.Attachments.Add(fuel_reprt_email_item_2)\n",
    "mailItem.Attachments.Add(fuel_reprt_email_item_3)\n",
    "mailItem.Attachments.Add(fuel_reprt_email_item_4)\n",
    "mailItem.Attachments.Add(fuel_reprt_email_item_5)\n",
    "mailItem.Attachments.Add(fuel_reprt_email_item_6)\n",
    "\n",
    "\n",
    "mailItem.Display()\n",
    "\n",
    "# mailItem.Save()\n",
    "# mailItem.Send()"
   ]
  },
  {
   "cell_type": "code",
   "execution_count": null,
   "id": "7fc6bc86-84b8-4788-aef0-9bd45ae5ec1b",
   "metadata": {},
   "outputs": [],
   "source": []
  }
 ],
 "metadata": {
  "kernelspec": {
   "display_name": "Python 3 (ipykernel)",
   "language": "python",
   "name": "python3"
  },
  "language_info": {
   "codemirror_mode": {
    "name": "ipython",
    "version": 3
   },
   "file_extension": ".py",
   "mimetype": "text/x-python",
   "name": "python",
   "nbconvert_exporter": "python",
   "pygments_lexer": "ipython3",
   "version": "3.11.5"
  }
 },
 "nbformat": 4,
 "nbformat_minor": 5
}
