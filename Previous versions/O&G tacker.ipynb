{
 "cells": [
  {
   "cell_type": "code",
   "execution_count": 1,
   "id": "7ed5a1d5-2cef-4e42-8a0f-ac1412904b24",
   "metadata": {},
   "outputs": [
    {
     "name": "stdout",
     "output_type": "stream",
     "text": [
      "R_HOME: C:\\Program Files\\R\\R-4.3.1\n"
     ]
    },
    {
     "name": "stderr",
     "output_type": "stream",
     "text": [
      "C:\\Users\\asifr\\AppData\\Local\\anaconda3\\Lib\\site-packages\\rpy2\\robjects\\packages.py:367: UserWarning: The symbol 'quartz' is not in this R namespace/package.\n",
      "  warnings.warn(\n",
      "C:\\Users\\asifr\\AppData\\Local\\anaconda3\\Lib\\site-packages\\rpy2\\robjects\\lib\\ggplot2.py:70: UserWarning: This was designed againt ggplot2 versions starting with 3.3. but you have 3.4.4\n",
      "  warnings.warn(\n"
     ]
    }
   ],
   "source": [
    "# !pip install selenium\n",
    "# !pip install webdriver_manager\n",
    "# !pip install pypiwin32\n",
    "# !pip install --upgrade holidays\n",
    "# !pip install tabula-py\n",
    "# !pip install jupyter_ai\n",
    "# !pip install rpy2 --quiet\n",
    "\n",
    "\n",
    "\n",
    "\n",
    "\n",
    "import tabula\n",
    "import getpass\n",
    "import time\n",
    "import os \n",
    "import datetime\n",
    "import win32com.client as win32\n",
    "import holidays\n",
    "import glob\n",
    "import datetime as dt\n",
    "import json\n",
    "import shutil\n",
    "import pandas as pd\n",
    "\n",
    "from datetime import datetime, timedelta\n",
    "from win32com.client import Dispatch\n",
    "from selenium import webdriver\n",
    "from selenium.webdriver.common.keys import Keys\n",
    "from selenium.webdriver.support.ui import WebDriverWait\n",
    "from selenium.webdriver.support import expected_conditions as EC\n",
    "from selenium.common.exceptions import TimeoutException\n",
    "from selenium.webdriver.common.by import By\n",
    "from selenium.webdriver.chrome.service import Service as ChromeService\n",
    "from webdriver_manager.chrome import ChromeDriverManager\n",
    "from win32com.shell import shell, shellcon\n",
    "from win32com.client import Dispatch\n",
    "from IPython import get_ipython\n",
    "from IPython.display import Image\n",
    "\n",
    "options = webdriver.ChromeOptions()\n",
    "options.add_argument(\"--headless\")\n",
    "options.add_argument(\"--incognito\")\n",
    "\n",
    "appState = {\n",
    "     \"recentDestinations\": [\n",
    "         {\n",
    "             \"id\": \"Save as PDF\",\n",
    "             \"origin\": \"local\",\n",
    "             \"account\": \"\"\n",
    "         }\n",
    "     ],\n",
    "     \"selectedDestinationId\": \"Save as PDF\",\n",
    "     \"version\": 2\n",
    "}\n",
    "\n",
    "profile = {\n",
    "    'printing.print_preview_sticky_settings.appState': json.dumps(appState),\n",
    "    'savefile.default_directory': '//trdecomsrv/H/Alphie/Temp',\n",
    "    \"download.default_directory\": r'\\\\trdecomsrv\\H\\Alphie\\Temp'\n",
    "}\n",
    "\n",
    "chrome_options = webdriver.ChromeOptions() \n",
    "chrome_options.add_experimental_option('prefs', profile)\n",
    "chrome_options.add_argument('--kiosk-printing')\n",
    "\n",
    "browser = webdriver.Chrome(options=chrome_options)\n",
    "browser.maximize_window()\n",
    "browser.switch_to.window(browser.window_handles[0])\n",
    "browser.delete_all_cookies()\n",
    "\n",
    "\n",
    "#################################\n",
    "######### R libraries ###########\n",
    "\n",
    "os.environ['R_HOME'] = r'C:\\Program Files\\R\\R-4.3.1'\n",
    "r_home = os.environ.get(\"R_HOME\")\n",
    "print('R_HOME:', r_home)\n",
    "\n",
    "import rpy2\n",
    "import rpy2.robjects as ro\n",
    "import rpy2.rinterface as ri\n",
    "from rpy2.robjects import r\n",
    "\n",
    "from rpy2.robjects.packages import importr\n",
    "from rpy2.robjects import pandas2ri\n",
    "from rpy2.robjects.vectors import IntVector, FloatVector\n",
    "import rpy2.ipython.html\n",
    "import rpy2.robjects.lib.ggplot2 as gp\n",
    "from rpy2.ipython.ggplot import image_png\n",
    "import rpy2.rinterface as rinterface\n",
    "\n",
    "pandas2ri.activate()\n",
    "%load_ext rpy2.ipython\n",
    "\n",
    "######################################\n",
    "\n"
   ]
  },
  {
   "cell_type": "markdown",
   "id": "d05b35cd-abd8-4ff3-9f6c-7ba5263bacc4",
   "metadata": {},
   "source": [
    "## Loading R packages"
   ]
  },
  {
   "cell_type": "code",
   "execution_count": 2,
   "id": "6e990aaf-9496-43c2-a7dd-fcbc30628f8e",
   "metadata": {
    "tags": []
   },
   "outputs": [],
   "source": [
    "%%R\n",
    "\n",
    "library(readxl)\n",
    "library(writexl)\n",
    "library(openxlsx)"
   ]
  },
  {
   "cell_type": "markdown",
   "id": "a56e4630-1736-43cd-8e13-7968e37e2f2d",
   "metadata": {},
   "source": [
    "# Generating Oil & Gas tracker"
   ]
  },
  {
   "cell_type": "markdown",
   "id": "a6a88dc1-8e74-44bb-97e5-783bc9096239",
   "metadata": {},
   "source": [
    "## Loading the website"
   ]
  },
  {
   "cell_type": "code",
   "execution_count": 3,
   "id": "ad2077ea-83c7-4a9f-956c-bd64a4e8aaa4",
   "metadata": {},
   "outputs": [
    {
     "data": {
      "text/plain": [
       "<selenium.webdriver.remote.webelement.WebElement (session=\"e8247014b82a4e45a6939cb3df5c27be\", element=\"47688B23DB2956688982B0FF50A2358E_element_4\")>"
      ]
     },
     "execution_count": 3,
     "metadata": {},
     "output_type": "execute_result"
    }
   ],
   "source": [
    "url = 'https://tap.state.nm.us/tap/_/#0'\n",
    "browser.get(url)\n",
    "browser.maximize_window()\n",
    "WebDriverWait(browser, 60).until(EC.presence_of_element_located((By.TAG_NAME, 'body')))"
   ]
  },
  {
   "cell_type": "markdown",
   "id": "42c15ecf-1019-4558-8a74-9ac7e6743850",
   "metadata": {},
   "source": [
    "## Clicking Oil and Gas Severance Reports"
   ]
  },
  {
   "cell_type": "code",
   "execution_count": 4,
   "id": "06679a59-84e1-4327-9714-8ca4e09e9092",
   "metadata": {},
   "outputs": [
    {
     "name": "stdout",
     "output_type": "stream",
     "text": [
      "Page is ready!\n"
     ]
    }
   ],
   "source": [
    "time.sleep(3)\n",
    "Oil_and_Gas_Severance_Reports_el = browser.find_elements(By.XPATH, \"//a\")\n",
    "\n",
    "for a in Oil_and_Gas_Severance_Reports_el:\n",
    "    if a.get_attribute('id') and 'l_Dg-1-17' in a.get_attribute('id'):\n",
    "        a.click();\n",
    "\n",
    "time.sleep(2)\n",
    "\n",
    "delay = 60 # seconds\n",
    "try:\n",
    "    WebDriverWait(browser, delay).until(EC.presence_of_element_located((By.TAG_NAME, 'body')))\n",
    "    print (\"Page is ready!\")\n",
    "except TimeoutException:\n",
    "    print (\"Loading took too much time!\")"
   ]
  },
  {
   "cell_type": "markdown",
   "id": "120a5c33-52de-4b31-86fc-e9938b77ffa1",
   "metadata": {},
   "source": [
    "## Clicking County Vol/Val by Filing Period"
   ]
  },
  {
   "cell_type": "code",
   "execution_count": 5,
   "id": "3528a59c-24d8-4f8c-b0fa-cc2686abde8b",
   "metadata": {},
   "outputs": [
    {
     "name": "stdout",
     "output_type": "stream",
     "text": [
      "Page is ready!\n"
     ]
    }
   ],
   "source": [
    "County_Vol_Val_by_Filing_Period_el = browser.find_elements(By.XPATH, \"//a\")\n",
    "\n",
    "for a in County_Vol_Val_by_Filing_Period_el:\n",
    "    if a.get_attribute('id') and 'l_Dh-1-2' in a.get_attribute('id'):\n",
    "        a.click();\n",
    "\n",
    "time.sleep(2)\n",
    "\n",
    "delay = 60 # seconds\n",
    "try:\n",
    "    WebDriverWait(browser, delay).until(EC.presence_of_element_located((By.TAG_NAME, 'body')))\n",
    "    print (\"Page is ready!\")\n",
    "except TimeoutException:\n",
    "    print (\"Loading took too much time!\")"
   ]
  },
  {
   "cell_type": "markdown",
   "id": "526cf00e-28f3-475a-bd7f-6e2526c4468f",
   "metadata": {},
   "source": [
    "## Defining Filing Period Form"
   ]
  },
  {
   "cell_type": "code",
   "execution_count": 6,
   "id": "9b099b43-d77c-43db-8403-c36fa409fe77",
   "metadata": {},
   "outputs": [
    {
     "name": "stdout",
     "output_type": "stream",
     "text": [
      "01/01/2014\n"
     ]
    }
   ],
   "source": [
    "# Define a specific date\n",
    "Filing_Period_Form = datetime(year=2014, month=1, day=1)\n",
    "\n",
    "# Print the date\n",
    "Filing_Period_Form = Filing_Period_Form.date()\n",
    "\n",
    "# Format the date as a string\n",
    "Filing_Period_Form = Filing_Period_Form.strftime(\"%m/%d/%Y\")\n",
    "\n",
    "# Print the formatted date\n",
    "print(Filing_Period_Form)"
   ]
  },
  {
   "cell_type": "markdown",
   "id": "74acbf45-0701-4b06-a8cf-296ed17b39c6",
   "metadata": {},
   "source": [
    "## Defining Filing Period To"
   ]
  },
  {
   "cell_type": "code",
   "execution_count": 7,
   "id": "42990afc-b2e4-4f5e-a3f2-52e8439bc724",
   "metadata": {},
   "outputs": [
    {
     "name": "stdout",
     "output_type": "stream",
     "text": [
      "12/11/2023\n"
     ]
    }
   ],
   "source": [
    "now = dt.datetime.now()\n",
    "year = now.year\n",
    "\n",
    "ending_month_closing_day = 10\n",
    "ending_month = now.month \n",
    "\n",
    "ending_month_closing = dt.datetime (year, ending_month, ending_month_closing_day)\n",
    "\n",
    "ONE_DAY = dt.timedelta(days=1)\n",
    "HOLIDAYS_US = holidays.US()\n",
    "\n",
    "def next_business_day():\n",
    "    next_day = ending_month_closing + ONE_DAY\n",
    "    while next_day.weekday() in holidays.WEEKEND or next_day in HOLIDAYS_US:\n",
    "        next_day += ONE_DAY\n",
    "    return next_day;\n",
    "\n",
    "End_RA = next_business_day()\n",
    "Filing_Period_To = End_RA.strftime(\"%m/%d/%Y\")\n",
    "print(Filing_Period_To)"
   ]
  },
  {
   "cell_type": "markdown",
   "id": "e25f4855-8b83-49df-9d9d-32caaedff8fd",
   "metadata": {},
   "source": [
    "### Inputing dates"
   ]
  },
  {
   "cell_type": "code",
   "execution_count": 8,
   "id": "044248b4-f9e8-4159-b1d2-57e722001b89",
   "metadata": {},
   "outputs": [],
   "source": [
    "time.sleep(1)\n",
    "Filing_Period_Form_el = browser.find_element(\"id\", \"Dh-5\")\n",
    "Filing_Period_Form_el.send_keys(Filing_Period_Form)\n",
    "Filing_Period_Form_el.send_keys(Keys.ENTER)"
   ]
  },
  {
   "cell_type": "code",
   "execution_count": 9,
   "id": "5b985403-7bbb-4250-9eeb-1f837d5515d9",
   "metadata": {},
   "outputs": [],
   "source": [
    "time.sleep(1)\n",
    "Filing_Period_To_el = browser.find_element(\"id\", \"Dh-6\")\n",
    "Filing_Period_To_el.send_keys(Filing_Period_To)\n",
    "Filing_Period_To_el.send_keys(Keys.ENTER)"
   ]
  },
  {
   "cell_type": "markdown",
   "id": "9ccc8a1f-3628-4af3-91bc-e5a5a94bdb93",
   "metadata": {},
   "source": [
    "## Clicking Generate button"
   ]
  },
  {
   "cell_type": "code",
   "execution_count": 10,
   "id": "9c3b4871-c131-4631-9b6f-d8fbc8b33069",
   "metadata": {},
   "outputs": [
    {
     "name": "stdout",
     "output_type": "stream",
     "text": [
      "Next page is loaded!\n"
     ]
    }
   ],
   "source": [
    "time.sleep(1)\n",
    "Generate_btn_el = browser.find_element(\"id\", \"caption2_Dc-c\")\n",
    "Generate_btn_el.click()\n",
    "\n",
    "# Set the delay in seconds\n",
    "delay = 60\n",
    "\n",
    "# Wait for the next page to be loaded\n",
    "try:\n",
    "    WebDriverWait(browser, delay).until(EC.url_changes(browser.current_url))\n",
    "    print(\"Next page is loaded!\")\n",
    "except TimeoutException:\n",
    "    print(\"Loading the next page took too much time!\")"
   ]
  },
  {
   "cell_type": "markdown",
   "id": "3a737d05-ac3a-425c-bc1c-79dc64f53430",
   "metadata": {},
   "source": [
    "## Clicking the Export button"
   ]
  },
  {
   "cell_type": "code",
   "execution_count": 11,
   "id": "3d4cd059-a656-4292-ab0a-059345edd785",
   "metadata": {},
   "outputs": [
    {
     "name": "stdout",
     "output_type": "stream",
     "text": [
      "Page is ready!\n",
      "Download complete\n"
     ]
    }
   ],
   "source": [
    "delay = 60 # seconds\n",
    "try:\n",
    "    WebDriverWait(browser, delay).until(EC.presence_of_element_located((By.TAG_NAME, 'body')))\n",
    "    print (\"Page is ready!\")\n",
    "    time.sleep(1.5)\n",
    "except TimeoutException:\n",
    "    print (\"Loading took too much time!\")\n",
    "    \n",
    "time.sleep(1.5)\n",
    "Export_to_excel_el = browser.find_element(\"id\", \"l_Dj-j\")\n",
    "Export_to_excel_el.click()\n",
    "\n",
    "try:\n",
    "    wait = WebDriverWait(browser, 60)\n",
    "    wait.until(EC.number_of_windows_to_be(1))\n",
    "    print('Download complete')\n",
    "\n",
    "except TimeoutException:\n",
    "    print(\"oye what happened\")\n",
    "\n"
   ]
  },
  {
   "cell_type": "code",
   "execution_count": 12,
   "id": "f14e2b46-3fad-4c8c-a4ac-bbccb262e2b7",
   "metadata": {},
   "outputs": [
    {
     "data": {
      "text/plain": [
       "'\\\\\\\\trdecomsrv\\\\H\\\\Alphie\\\\Temp\\\\County Vol_Val By Filing Period 202312061634.ods'"
      ]
     },
     "execution_count": 12,
     "metadata": {},
     "output_type": "execute_result"
    }
   ],
   "source": [
    "time.sleep(3)\n",
    "folder_path = r'\\\\trdecomsrv\\H\\Alphie\\Temp'\n",
    "files_path = os.path.join(folder_path, '*')\n",
    "files = sorted(glob.iglob(files_path), key=os.path.getctime, reverse=True) \n",
    "last_file = (files[0]) #latest file \n",
    "last_file\n",
    "# print (files[0],files[1])#latest two files"
   ]
  },
  {
   "cell_type": "code",
   "execution_count": 13,
   "id": "df319637-cf8c-4202-b75f-6ab8c51b096f",
   "metadata": {},
   "outputs": [],
   "source": [
    "# file name with extension\n",
    "file_name = os.path.basename(last_file)\n",
    "\n",
    "# file name without extension\n",
    "file_name = (os.path.splitext(file_name)[0])"
   ]
  },
  {
   "cell_type": "code",
   "execution_count": 14,
   "id": "296bd32b-c9dc-4ffe-a111-e3839e83d109",
   "metadata": {},
   "outputs": [
    {
     "data": {
      "text/plain": [
       "'County Vol_Val By Filing Period 202312061634'"
      ]
     },
     "execution_count": 14,
     "metadata": {},
     "output_type": "execute_result"
    }
   ],
   "source": [
    "file_name"
   ]
  },
  {
   "cell_type": "code",
   "execution_count": 15,
   "id": "8ddc7067-d9c6-417b-8e44-b7b44ec234a8",
   "metadata": {},
   "outputs": [
    {
     "ename": "NameError",
     "evalue": "name 'destination_folder' is not defined",
     "output_type": "error",
     "traceback": [
      "\u001b[1;31m---------------------------------------------------------------------------\u001b[0m",
      "\u001b[1;31mNameError\u001b[0m                                 Traceback (most recent call last)",
      "Cell \u001b[1;32mIn[15], line 2\u001b[0m\n\u001b[0;32m      1\u001b[0m old_file \u001b[38;5;241m=\u001b[39m os\u001b[38;5;241m.\u001b[39mpath\u001b[38;5;241m.\u001b[39mjoin(\u001b[38;5;124mr\u001b[39m\u001b[38;5;124m\"\u001b[39m\u001b[38;5;130;01m\\\\\u001b[39;00m\u001b[38;5;124mtrdecomsrv\u001b[39m\u001b[38;5;124m\\\u001b[39m\u001b[38;5;124mH\u001b[39m\u001b[38;5;124m\\\u001b[39m\u001b[38;5;124mAlphie\u001b[39m\u001b[38;5;124m\\\u001b[39m\u001b[38;5;124mTemp\u001b[39m\u001b[38;5;124m\"\u001b[39m, (file_name \u001b[38;5;241m+\u001b[39m \u001b[38;5;124m\"\u001b[39m\u001b[38;5;124m.xls\u001b[39m\u001b[38;5;124m\"\u001b[39m))\n\u001b[1;32m----> 2\u001b[0m old_file \u001b[38;5;241m=\u001b[39m shutil\u001b[38;5;241m.\u001b[39mmove(old_file, destination_folder)\n\u001b[0;32m      3\u001b[0m new_file \u001b[38;5;241m=\u001b[39m os\u001b[38;5;241m.\u001b[39mpath\u001b[38;5;241m.\u001b[39mjoin(destination_folder, (\u001b[38;5;124m\"\u001b[39m\u001b[38;5;124mCounty Vol_Val By Filing Period\u001b[39m\u001b[38;5;124m\"\u001b[39m \u001b[38;5;241m+\u001b[39m \u001b[38;5;124m\"\u001b[39m\u001b[38;5;124m \u001b[39m\u001b[38;5;124m\"\u001b[39m \u001b[38;5;241m+\u001b[39mFiling_Period_To \u001b[38;5;241m+\u001b[39m \u001b[38;5;124m\"\u001b[39m\u001b[38;5;124m \u001b[39m\u001b[38;5;124m\"\u001b[39m \u001b[38;5;241m+\u001b[39m \u001b[38;5;124m\"\u001b[39m\u001b[38;5;124mCY14-CY23\u001b[39m\u001b[38;5;124m\"\u001b[39m\u001b[38;5;241m+\u001b[39m\u001b[38;5;124m\"\u001b[39m\u001b[38;5;124m.xls\u001b[39m\u001b[38;5;124m\"\u001b[39m))\n\u001b[0;32m      5\u001b[0m \u001b[38;5;28;01mtry\u001b[39;00m:\n",
      "\u001b[1;31mNameError\u001b[0m: name 'destination_folder' is not defined"
     ]
    }
   ],
   "source": [
    "old_file = os.path.join(r\"\\\\trdecomsrv\\H\\Alphie\\Temp\", (file_name + \".xls\"))\n",
    "old_file = shutil.move(old_file, destination_folder)\n",
    "new_file = os.path.join(destination_folder, (\"County Vol_Val By Filing Period\" + \" \" +Filing_Period_To + \" \" + \"CY14-CY23\"+\".xls\"))\n",
    "\n",
    "try:\n",
    "  os.rename(old_file, new_file)\n",
    "except FileExistsError:\n",
    "  os.remove(new_file)\n",
    "  os.rename(old_file, new_file);\n",
    "\n",
    "browser.close()\n",
    "tracker_input_file = new_file\n"
   ]
  },
  {
   "cell_type": "code",
   "execution_count": null,
   "id": "9e23aa67-9023-4914-b083-e5bd0ed84df3",
   "metadata": {},
   "outputs": [],
   "source": [
    "Legacy_ONGARD = pd.DataFrame(pd.read_excel(r'\\\\trdecomsrv\\H\\Oil and Gas\\Data\\GenTax\\CountyVol_Val\\HISTORICAL ONGARD LEGACY DATA.xlsx', sheet_name = 'Sheet1'))\n",
    "TAP = pd.DataFrame(tracker_input_file)"
   ]
  },
  {
   "cell_type": "code",
   "execution_count": null,
   "id": "1af0c4c9-4c73-4ea8-90e4-b66f59b6e11d",
   "metadata": {},
   "outputs": [],
   "source": []
  }
 ],
 "metadata": {
  "kernelspec": {
   "display_name": "Python 3 (ipykernel)",
   "language": "python",
   "name": "python3"
  },
  "language_info": {
   "codemirror_mode": {
    "name": "ipython",
    "version": 3
   },
   "file_extension": ".py",
   "mimetype": "text/x-python",
   "name": "python",
   "nbconvert_exporter": "python",
   "pygments_lexer": "ipython3",
   "version": "3.11.5"
  }
 },
 "nbformat": 4,
 "nbformat_minor": 5
}
